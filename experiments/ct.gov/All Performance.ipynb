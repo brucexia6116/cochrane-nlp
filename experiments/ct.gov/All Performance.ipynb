{
 "cells": [
  {
   "cell_type": "markdown",
   "metadata": {},
   "source": [
    "# Fixed-Class Predictions\n",
    "\n",
    "Fixed class predictions for the following fields:\n",
    "\n",
    "- Accepts Healthy Volunteers?\n",
    "- Allocation Model\n",
    "- Endpoint Classification\n",
    "- Gender\n",
    "- Intervention Model\n",
    "- Masking\n",
    "- Phase\n",
    "- Primary Purpose"
   ]
  },
  {
   "cell_type": "code",
   "execution_count": 2,
   "metadata": {
    "collapsed": true
   },
   "outputs": [],
   "source": [
    "%store -r abstracts_targets"
   ]
  },
  {
   "cell_type": "code",
   "execution_count": 15,
   "metadata": {
    "collapsed": false
   },
   "outputs": [
    {
     "name": "stdout",
     "output_type": "stream",
     "text": [
      "\n",
      "***** Grid Search *****\n",
      "\n",
      "***** Grid Search *****\n",
      "\n",
      "***** Grid Search *****\n",
      "\n",
      "***** Grid Search *****\n",
      "\n",
      "***** Grid Search *****\n",
      "\n",
      "***** Grid Search *****\n",
      "\n",
      "***** Grid Search *****\n",
      "\n",
      "***** Grid Search *****\n"
     ]
    }
   ],
   "source": [
    "from collections import namedtuple\n",
    "\n",
    "Evaluation = namedtuple('Evaluation', ['target', 'f1'])\n",
    "\n",
    "from pipeline import do_pipeline\n",
    "\n",
    "def evaluations_generator(abstracts_targets):\n",
    "    targets = abstracts_targets.ix[:, 'allocation':'phase'].drop(['condition', 'maximum_age', 'minimum_age'], axis=1)\n",
    "    \n",
    "    for target in targets.columns:\n",
    "        yield Evaluation(target, do_pipeline(abstracts_targets, target))\n",
    "        \n",
    "evaluations = list(evaluations_generator(abstracts_targets))"
   ]
  },
  {
   "cell_type": "markdown",
   "metadata": {},
   "source": [
    "### Evaluation"
   ]
  },
  {
   "cell_type": "code",
   "execution_count": 16,
   "metadata": {
    "collapsed": false
   },
   "outputs": [
    {
     "data": {
      "text/html": [
       "<div>\n",
       "<table border=\"1\" class=\"dataframe\">\n",
       "  <thead>\n",
       "    <tr style=\"text-align: right;\">\n",
       "      <th></th>\n",
       "      <th>target</th>\n",
       "      <th>f1</th>\n",
       "    </tr>\n",
       "  </thead>\n",
       "  <tbody>\n",
       "    <tr>\n",
       "      <th>0</th>\n",
       "      <td>allocation</td>\n",
       "      <td>0.778070</td>\n",
       "    </tr>\n",
       "    <tr>\n",
       "      <th>1</th>\n",
       "      <td>endpoint_classification</td>\n",
       "      <td>0.340866</td>\n",
       "    </tr>\n",
       "    <tr>\n",
       "      <th>2</th>\n",
       "      <td>intervention_model</td>\n",
       "      <td>0.594043</td>\n",
       "    </tr>\n",
       "    <tr>\n",
       "      <th>3</th>\n",
       "      <td>masking</td>\n",
       "      <td>0.374962</td>\n",
       "    </tr>\n",
       "    <tr>\n",
       "      <th>4</th>\n",
       "      <td>primary_purpose</td>\n",
       "      <td>0.481246</td>\n",
       "    </tr>\n",
       "    <tr>\n",
       "      <th>5</th>\n",
       "      <td>gender</td>\n",
       "      <td>0.695931</td>\n",
       "    </tr>\n",
       "    <tr>\n",
       "      <th>6</th>\n",
       "      <td>healthy_volunteers</td>\n",
       "      <td>0.762940</td>\n",
       "    </tr>\n",
       "    <tr>\n",
       "      <th>7</th>\n",
       "      <td>phase</td>\n",
       "      <td>0.398663</td>\n",
       "    </tr>\n",
       "  </tbody>\n",
       "</table>\n",
       "</div>"
      ],
      "text/plain": [
       "                    target        f1\n",
       "0               allocation  0.778070\n",
       "1  endpoint_classification  0.340866\n",
       "2       intervention_model  0.594043\n",
       "3                  masking  0.374962\n",
       "4          primary_purpose  0.481246\n",
       "5                   gender  0.695931\n",
       "6       healthy_volunteers  0.762940\n",
       "7                    phase  0.398663"
      ]
     },
     "execution_count": 16,
     "metadata": {},
     "output_type": "execute_result"
    }
   ],
   "source": [
    "pd.DataFrame(evaluations, columns=Evaluation._fields)"
   ]
  }
 ],
 "metadata": {
  "kernelspec": {
   "display_name": "Python 2",
   "language": "python",
   "name": "python2"
  }
 },
 "nbformat": 4,
 "nbformat_minor": 0
}
