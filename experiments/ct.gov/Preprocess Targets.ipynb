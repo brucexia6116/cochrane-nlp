{
 "cells": [
  {
   "cell_type": "markdown",
   "metadata": {},
   "source": [
    "# Preprocess Targets\n",
    "\n",
    "Take each of the targets and group together similar classes which we don't have a lot of data for. Additionally break a few classes up into one-versus-all classifiers due to class overlap."
   ]
  },
  {
   "cell_type": "code",
   "execution_count": 1,
   "metadata": {
    "collapsed": false
   },
   "outputs": [
    {
     "name": "stdout",
     "output_type": "stream",
     "text": [
      "<class 'pandas.core.frame.DataFrame'>\n",
      "Int64Index: 2093 entries, 0 to 2126\n",
      "Data columns (total 15 columns):\n",
      "abstract                   2093 non-null object\n",
      "pmid                       2093 non-null object\n",
      "allocation                 1746 non-null object\n",
      "endpoint_classification    1882 non-null object\n",
      "intervention_model         2085 non-null object\n",
      "masking                    2092 non-null object\n",
      "primary_purpose            2015 non-null object\n",
      "condition                  2093 non-null object\n",
      "gender                     2093 non-null object\n",
      "healthy_volunteers         2092 non-null object\n",
      "maximum_age                2093 non-null object\n",
      "minimum_age                2093 non-null object\n",
      "phase                      2093 non-null object\n",
      "study_type                 2093 non-null object\n",
      "primary_outcome_measure    2093 non-null object\n",
      "dtypes: object(15)\n",
      "memory usage: 261.6+ KB\n"
     ]
    }
   ],
   "source": [
    "%store -r abstracts_targets\n",
    "\n",
    "abstracts_targets.info()"
   ]
  },
  {
   "cell_type": "markdown",
   "metadata": {},
   "source": [
    "### Allocation"
   ]
  },
  {
   "cell_type": "code",
   "execution_count": 2,
   "metadata": {
    "collapsed": false
   },
   "outputs": [
    {
     "data": {
      "text/plain": [
       "allocation\n",
       "Non-Randomized     228\n",
       "Randomized        1518\n",
       "dtype: int64"
      ]
     },
     "execution_count": 2,
     "metadata": {},
     "output_type": "execute_result"
    }
   ],
   "source": [
    "abstracts_targets.groupby('allocation').size()"
   ]
  },
  {
   "cell_type": "markdown",
   "metadata": {},
   "source": [
    "### Endpoint Classification\n",
    "\n",
    "Break into one-versus-all classifiers. This is motivated by trying to make individual classifiers for Safety and Efficacy because of the shared Safety/Efficacy class. If their individual classifiers fire strongly enough, then a study can be classified as both.\n",
    "\n",
    "However, these are the **only** two classes here that can appear together. For instance, `Safety` and `Bio` **cannot** appear together. This type of conflict will have to be resolved at run time. I'll default to just choosing Safety/Efficacy because those are more common and we have more data for those.\n",
    "\n",
    "- `(Bio-availability Study`, `Bio-equivalence Study)` $\\rightarrow$ `Bio`\n",
    "- `(Pharmacodynamics Study`, `Pharmacokinetics Study`, `Pharmacokinetics/Dynamics Study)` $\\rightarrow$ `Pharmaco`\n",
    "- Break out Safety and Efficiacy into their own separate classifiers."
   ]
  },
  {
   "cell_type": "code",
   "execution_count": 3,
   "metadata": {
    "collapsed": false
   },
   "outputs": [
    {
     "data": {
      "text/plain": [
       "endpoint_classification\n",
       "Bio-availability Study                2\n",
       "Bio-equivalence Study                 9\n",
       "Efficacy Study                      642\n",
       "Pharmacodynamics Study               30\n",
       "Pharmacokinetics Study               39\n",
       "Pharmacokinetics/Dynamics Study      23\n",
       "Safety Study                        106\n",
       "Safety/Efficacy Study              1031\n",
       "dtype: int64"
      ]
     },
     "execution_count": 3,
     "metadata": {},
     "output_type": "execute_result"
    }
   ],
   "source": [
    "abstracts_targets.groupby('endpoint_classification').size()"
   ]
  },
  {
   "cell_type": "markdown",
   "metadata": {},
   "source": [
    "#### Bio"
   ]
  },
  {
   "cell_type": "code",
   "execution_count": 4,
   "metadata": {
    "collapsed": false
   },
   "outputs": [],
   "source": [
    "# Bio\n",
    "abstracts_targets['bio'] = abstracts_targets.endpoint_classification.fillna('').str.startswith('Bio-')\n",
    "\n",
    "# Pharmaco\n",
    "abstracts_targets['pharmaco'] = abstracts_targets.endpoint_classification.fillna('').str.startswith('Pharmaco')\n",
    "\n",
    "# Safety and Efficacy\n",
    "abstracts_targets['efficacy_study'] = (abstracts_targets.endpoint_classification == 'Efficacy Study') | (abstracts_targets.endpoint_classification == 'Safety/Efficacy Study')\n",
    "abstracts_targets['safety_study'] = (abstracts_targets.endpoint_classification == 'Safety Study') | (abstracts_targets.endpoint_classification == 'Safety/Efficacy Study')"
   ]
  },
  {
   "cell_type": "code",
   "execution_count": 5,
   "metadata": {
    "collapsed": false
   },
   "outputs": [
    {
     "data": {
      "text/plain": [
       "bio\n",
       "False    2082\n",
       "True       11\n",
       "dtype: int64"
      ]
     },
     "execution_count": 5,
     "metadata": {},
     "output_type": "execute_result"
    }
   ],
   "source": [
    "abstracts_targets.groupby('bio').size()"
   ]
  },
  {
   "cell_type": "code",
   "execution_count": 6,
   "metadata": {
    "collapsed": false,
    "scrolled": true
   },
   "outputs": [
    {
     "data": {
      "text/plain": [
       "pharmaco\n",
       "False    2001\n",
       "True       92\n",
       "dtype: int64"
      ]
     },
     "execution_count": 6,
     "metadata": {},
     "output_type": "execute_result"
    }
   ],
   "source": [
    "abstracts_targets.groupby('pharmaco').size()"
   ]
  },
  {
   "cell_type": "code",
   "execution_count": 7,
   "metadata": {
    "collapsed": false
   },
   "outputs": [
    {
     "data": {
      "text/plain": [
       "efficacy_study\n",
       "False     420\n",
       "True     1673\n",
       "dtype: int64"
      ]
     },
     "execution_count": 7,
     "metadata": {},
     "output_type": "execute_result"
    }
   ],
   "source": [
    "abstracts_targets.groupby('efficacy_study').size()"
   ]
  },
  {
   "cell_type": "code",
   "execution_count": 8,
   "metadata": {
    "collapsed": false
   },
   "outputs": [
    {
     "data": {
      "text/plain": [
       "safety_study\n",
       "False     956\n",
       "True     1137\n",
       "dtype: int64"
      ]
     },
     "execution_count": 8,
     "metadata": {},
     "output_type": "execute_result"
    }
   ],
   "source": [
    "abstracts_targets.groupby('safety_study').size()"
   ]
  },
  {
   "cell_type": "markdown",
   "metadata": {},
   "source": [
    "### Intervention Model"
   ]
  },
  {
   "cell_type": "code",
   "execution_count": 9,
   "metadata": {
    "collapsed": false
   },
   "outputs": [
    {
     "data": {
      "text/plain": [
       "intervention_model\n",
       "Crossover Assignment        157\n",
       "Factorial Assignment         47\n",
       "Parallel Assignment        1380\n",
       "Single Group Assignment     501\n",
       "dtype: int64"
      ]
     },
     "execution_count": 9,
     "metadata": {},
     "output_type": "execute_result"
    }
   ],
   "source": [
    "abstracts_targets.groupby('intervention_model').size()"
   ]
  },
  {
   "cell_type": "markdown",
   "metadata": {},
   "source": [
    "### Masking\n",
    "\n",
    "Collapse masking down into just three labels:\n",
    "\n",
    "- Single Blind\n",
    "- Double Blind\n",
    "- Open Label"
   ]
  },
  {
   "cell_type": "code",
   "execution_count": 10,
   "metadata": {
    "collapsed": false
   },
   "outputs": [
    {
     "data": {
      "text/plain": [
       "masking\n",
       "Double Blind (Caregiver Investigator Outcomes Assessor)               2\n",
       "Double Blind (Caregiver Investigator)                                 2\n",
       "Double Blind (Investigator Outcomes Assessor)                         6\n",
       "Double Blind (Subject Caregiver Investigator Outcomes Assessor)     378\n",
       "Double Blind (Subject Caregiver Investigator)                        84\n",
       "Double Blind (Subject Caregiver Outcomes Assessor)                    5\n",
       "Double Blind (Subject Caregiver)                                      7\n",
       "Double Blind (Subject Investigator Outcomes Assessor)                91\n",
       "Double Blind (Subject Investigator)                                 268\n",
       "Double Blind (Subject Outcomes Assessor)                             35\n",
       "Double-Blind                                                          7\n",
       "Open Label                                                         1013\n",
       "Single Blind                                                          1\n",
       "Single Blind (Caregiver)                                              1\n",
       "Single Blind (Investigator)                                          25\n",
       "Single Blind (Outcomes Assessor)                                     97\n",
       "Single Blind (Subject)                                               70\n",
       "dtype: int64"
      ]
     },
     "execution_count": 10,
     "metadata": {},
     "output_type": "execute_result"
    }
   ],
   "source": [
    "abstracts_targets.groupby('masking').size()"
   ]
  },
  {
   "cell_type": "code",
   "execution_count": 11,
   "metadata": {
    "collapsed": false
   },
   "outputs": [
    {
     "name": "stderr",
     "output_type": "stream",
     "text": [
      "/home/ebanner/.anaconda/envs/py27/lib/python2.7/site-packages/ipykernel/__main__.py:1: SettingWithCopyWarning: \n",
      "A value is trying to be set on a copy of a slice from a DataFrame\n",
      "\n",
      "See the caveats in the documentation: http://pandas.pydata.org/pandas-docs/stable/indexing.html#indexing-view-versus-copy\n",
      "  if __name__ == '__main__':\n",
      "/home/ebanner/.anaconda/envs/py27/lib/python2.7/site-packages/ipykernel/__main__.py:2: SettingWithCopyWarning: \n",
      "A value is trying to be set on a copy of a slice from a DataFrame\n",
      "\n",
      "See the caveats in the documentation: http://pandas.pydata.org/pandas-docs/stable/indexing.html#indexing-view-versus-copy\n",
      "  from ipykernel import kernelapp as app\n",
      "/home/ebanner/.anaconda/envs/py27/lib/python2.7/site-packages/ipykernel/__main__.py:3: SettingWithCopyWarning: \n",
      "A value is trying to be set on a copy of a slice from a DataFrame\n",
      "\n",
      "See the caveats in the documentation: http://pandas.pydata.org/pandas-docs/stable/indexing.html#indexing-view-versus-copy\n",
      "  app.launch_new_instance()\n"
     ]
    },
    {
     "data": {
      "text/plain": [
       "masking\n",
       "Double Blind     885\n",
       "Open Label      1013\n",
       "Single Blind     194\n",
       "dtype: int64"
      ]
     },
     "execution_count": 11,
     "metadata": {},
     "output_type": "execute_result"
    }
   ],
   "source": [
    "abstracts_targets.masking[abstracts_targets.masking.fillna('').str.startswith('Double Blind')] = 'Double Blind'\n",
    "abstracts_targets.masking[abstracts_targets.masking.fillna('').str.startswith('Double-Blind')] = 'Double Blind'\n",
    "abstracts_targets.masking[abstracts_targets.masking.fillna('').str.startswith('Single Blind')] = 'Single Blind'\n",
    "    \n",
    "abstracts_targets.groupby('masking').size()"
   ]
  },
  {
   "cell_type": "markdown",
   "metadata": {},
   "source": [
    "### Primary Purpose"
   ]
  },
  {
   "cell_type": "code",
   "execution_count": 12,
   "metadata": {
    "collapsed": false
   },
   "outputs": [
    {
     "data": {
      "text/plain": [
       "primary_purpose\n",
       "Basic Science                 46\n",
       "Diagnostic                    49\n",
       "Health Services Research      49\n",
       "Prevention                   263\n",
       "Screening                      7\n",
       "Supportive Care               38\n",
       "Treatment                   1563\n",
       "dtype: int64"
      ]
     },
     "execution_count": 12,
     "metadata": {},
     "output_type": "execute_result"
    }
   ],
   "source": [
    "abstracts_targets.groupby('primary_purpose').size()"
   ]
  },
  {
   "cell_type": "markdown",
   "metadata": {},
   "source": [
    "### Gender"
   ]
  },
  {
   "cell_type": "code",
   "execution_count": 13,
   "metadata": {
    "collapsed": false
   },
   "outputs": [
    {
     "data": {
      "text/plain": [
       "gender\n",
       "Both      1821\n",
       "Female     186\n",
       "Male        86\n",
       "dtype: int64"
      ]
     },
     "execution_count": 13,
     "metadata": {},
     "output_type": "execute_result"
    }
   ],
   "source": [
    "abstracts_targets.groupby('gender').size()"
   ]
  },
  {
   "cell_type": "markdown",
   "metadata": {},
   "source": [
    "### Healthy Volunteers"
   ]
  },
  {
   "cell_type": "code",
   "execution_count": 14,
   "metadata": {
    "collapsed": false
   },
   "outputs": [
    {
     "data": {
      "text/plain": [
       "healthy_volunteers\n",
       "Accepts Healthy Volunteers     411\n",
       "No                            1681\n",
       "dtype: int64"
      ]
     },
     "execution_count": 14,
     "metadata": {},
     "output_type": "execute_result"
    }
   ],
   "source": [
    "abstracts_targets.groupby('healthy_volunteers').size()"
   ]
  },
  {
   "cell_type": "markdown",
   "metadata": {},
   "source": [
    "### Phase\n",
    "\n",
    "Create binary labels for:\n",
    "\n",
    "- Phase 1\n",
    "- Phase 2\n",
    "- Phase 3\n",
    "- Phase 4\n",
    "\n",
    "Factor combination phases into discrete phases (e.g. Phase 1/Phase 2 is Phase 1 and also Phase 2)"
   ]
  },
  {
   "cell_type": "code",
   "execution_count": 15,
   "metadata": {
    "collapsed": false
   },
   "outputs": [
    {
     "data": {
      "text/plain": [
       "phase\n",
       "N/A                410\n",
       "Phase 0              8\n",
       "Phase 1            104\n",
       "Phase 1/Phase 2     92\n",
       "Phase 2            530\n",
       "Phase 2/Phase 3     60\n",
       "Phase 3            614\n",
       "Phase 4            275\n",
       "dtype: int64"
      ]
     },
     "execution_count": 15,
     "metadata": {},
     "output_type": "execute_result"
    }
   ],
   "source": [
    "abstracts_targets.groupby('phase').size()"
   ]
  },
  {
   "cell_type": "code",
   "execution_count": 16,
   "metadata": {
    "collapsed": true
   },
   "outputs": [],
   "source": [
    "abstracts_targets['phaseNA'] = abstracts_targets.phase == 'N/A'\n",
    "\n",
    "abstracts_targets['phase0'] = (abstracts_targets.phase == 'Phase 0')\n",
    "abstracts_targets['phase1'] = (abstracts_targets.phase == 'Phase 1') | (abstracts_targets.phase == 'Phase 1/Phase 2')\n",
    "abstracts_targets['phase2'] = (abstracts_targets.phase == 'Phase 1/Phase 2') | (abstracts_targets.phase == 'Phase 2') | (abstracts_targets.phase == 'Phase 2/Phase 3')\n",
    "abstracts_targets['phase3'] = (abstracts_targets.phase == 'Phase 2/Phase 3') | (abstracts_targets.phase == 'Phase 3')\n",
    "abstracts_targets['phase4'] = (abstracts_targets.phase == 'Phase 4')"
   ]
  },
  {
   "cell_type": "code",
   "execution_count": 17,
   "metadata": {
    "collapsed": false
   },
   "outputs": [
    {
     "data": {
      "text/plain": [
       "phaseNA\n",
       "False    1683\n",
       "True      410\n",
       "dtype: int64"
      ]
     },
     "execution_count": 17,
     "metadata": {},
     "output_type": "execute_result"
    }
   ],
   "source": [
    "abstracts_targets.groupby('phaseNA').size()"
   ]
  },
  {
   "cell_type": "code",
   "execution_count": 18,
   "metadata": {
    "collapsed": false
   },
   "outputs": [
    {
     "data": {
      "text/plain": [
       "phase0\n",
       "False    2085\n",
       "True        8\n",
       "dtype: int64"
      ]
     },
     "execution_count": 18,
     "metadata": {},
     "output_type": "execute_result"
    }
   ],
   "source": [
    "abstracts_targets.groupby('phase0').size()"
   ]
  },
  {
   "cell_type": "code",
   "execution_count": 19,
   "metadata": {
    "collapsed": false
   },
   "outputs": [
    {
     "data": {
      "text/plain": [
       "phase1\n",
       "False    1897\n",
       "True      196\n",
       "dtype: int64"
      ]
     },
     "execution_count": 19,
     "metadata": {},
     "output_type": "execute_result"
    }
   ],
   "source": [
    "abstracts_targets.groupby('phase1').size()"
   ]
  },
  {
   "cell_type": "code",
   "execution_count": 20,
   "metadata": {
    "collapsed": false
   },
   "outputs": [
    {
     "data": {
      "text/plain": [
       "phase2\n",
       "False    1411\n",
       "True      682\n",
       "dtype: int64"
      ]
     },
     "execution_count": 20,
     "metadata": {},
     "output_type": "execute_result"
    }
   ],
   "source": [
    "abstracts_targets.groupby('phase2').size()"
   ]
  },
  {
   "cell_type": "code",
   "execution_count": 21,
   "metadata": {
    "collapsed": false
   },
   "outputs": [
    {
     "data": {
      "text/plain": [
       "phase3\n",
       "False    1419\n",
       "True      674\n",
       "dtype: int64"
      ]
     },
     "execution_count": 21,
     "metadata": {},
     "output_type": "execute_result"
    }
   ],
   "source": [
    "abstracts_targets.groupby('phase3').size()"
   ]
  },
  {
   "cell_type": "code",
   "execution_count": 22,
   "metadata": {
    "collapsed": false
   },
   "outputs": [
    {
     "data": {
      "text/plain": [
       "phase4\n",
       "False    1818\n",
       "True      275\n",
       "dtype: int64"
      ]
     },
     "execution_count": 22,
     "metadata": {},
     "output_type": "execute_result"
    }
   ],
   "source": [
    "abstracts_targets.groupby('phase4').size()"
   ]
  },
  {
   "cell_type": "markdown",
   "metadata": {},
   "source": [
    "### Study Type"
   ]
  },
  {
   "cell_type": "code",
   "execution_count": 23,
   "metadata": {
    "collapsed": false
   },
   "outputs": [
    {
     "data": {
      "text/plain": [
       "study_type\n",
       "Interventional    2093\n",
       "dtype: int64"
      ]
     },
     "execution_count": 23,
     "metadata": {},
     "output_type": "execute_result"
    }
   ],
   "source": [
    "abstracts_targets.groupby('study_type').size()"
   ]
  },
  {
   "cell_type": "markdown",
   "metadata": {},
   "source": [
    "### Save it!"
   ]
  },
  {
   "cell_type": "code",
   "execution_count": 24,
   "metadata": {
    "collapsed": false
   },
   "outputs": [
    {
     "name": "stdout",
     "output_type": "stream",
     "text": [
      "Stored 'abstracts_targets_collapsed' (DataFrame)\n"
     ]
    }
   ],
   "source": [
    "abstracts_targets_collapsed = abstracts_targets\n",
    "\n",
    "%store abstracts_targets_collapsed"
   ]
  }
 ],
 "metadata": {
  "kernelspec": {
   "display_name": "Python 2",
   "language": "python",
   "name": "python2"
  },
  "language_info": {
   "codemirror_mode": {
    "name": "ipython",
    "version": 2
   },
   "file_extension": ".py",
   "mimetype": "text/x-python",
   "name": "python",
   "nbconvert_exporter": "python",
   "pygments_lexer": "ipython2",
   "version": "2.7.11"
  }
 },
 "nbformat": 4,
 "nbformat_minor": 0
}
