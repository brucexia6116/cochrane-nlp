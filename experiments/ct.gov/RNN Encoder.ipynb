{
 "cells": [
  {
   "cell_type": "markdown",
   "metadata": {},
   "source": [
    "# RNN Encoder\n",
    "\n",
    "RNN model to encode an abstract and predict the gender of the study"
   ]
  },
  {
   "cell_type": "code",
   "execution_count": 29,
   "metadata": {
    "collapsed": true
   },
   "outputs": [],
   "source": [
    "%store -r abstracts_w2v_embeddings abstracts_targets_collapsed"
   ]
  },
  {
   "cell_type": "markdown",
   "metadata": {},
   "source": [
    "### Training Data"
   ]
  },
  {
   "cell_type": "code",
   "execution_count": 30,
   "metadata": {
    "collapsed": true
   },
   "outputs": [],
   "source": [
    "X_idxs_ = list(abstracts_targets_collapsed.abstracts_idxed)\n",
    "\n",
    "ys = abstracts_targets_collapsed.gender\n",
    "\n",
    "# Binarize ys\n",
    "num = len(ys.unique())\n",
    "binarize = {i: label for i, label in zip(ys.unique(), range(num))}\n",
    "ys = ys.map(binarize)"
   ]
  },
  {
   "cell_type": "markdown",
   "metadata": {},
   "source": [
    "### Hyperparameters"
   ]
  },
  {
   "cell_type": "code",
   "execution_count": 31,
   "metadata": {
    "collapsed": true
   },
   "outputs": [],
   "source": [
    "M, WORD_DIM = abstracts_w2v_embeddings.shape\n",
    "H, C = 10, len(ys.unique())\n",
    "LR_ = .005"
   ]
  },
  {
   "cell_type": "markdown",
   "metadata": {},
   "source": [
    "### Learnable Parameters"
   ]
  },
  {
   "cell_type": "code",
   "execution_count": 32,
   "metadata": {
    "collapsed": false
   },
   "outputs": [],
   "source": [
    "W_ = abstracts_w2v_embeddings # word vectors\n",
    "\n",
    "Wh_ = np.random.uniform(-1, 1, size=[H, H]) # hidden to hidden function\n",
    "Wx_ = np.random.uniform(-1, 1, size=[WORD_DIM, H]) # input to hidden function\n",
    "Ws_ = np.random.uniform(-1, 1, size=[H, C]) # softmax function"
   ]
  },
  {
   "cell_type": "markdown",
   "metadata": {},
   "source": [
    "### Model"
   ]
  },
  {
   "cell_type": "code",
   "execution_count": 176,
   "metadata": {
    "collapsed": false
   },
   "outputs": [],
   "source": [
    "import theano.tensor as T\n",
    "import theano\n",
    "\n",
    "# Learnable parameters\n",
    "W = theano.shared(value=W_, name='W')\n",
    "\n",
    "Wh = theano.shared(value=Wh_, name='Wh') # hidden-hidden function\n",
    "Wx = theano.shared(value=Wx_, name='Wx') # input-hidden function\n",
    "Ws = theano.shared(value=Ws_, name='Ws') # softmax\n",
    "\n",
    "# Inputs\n",
    "x_idxs = T.ivector('x_idxs') # vector of indices into embedding matrix for current abstract\n",
    "y = T.iscalar('y') # class number\n",
    "\n",
    "lr = T.scalar('learning_rate')\n",
    "\n",
    "# Actual model\n",
    "x = W[x_idxs] # get the matrix of word vectors corresponding to these indices\n",
    "\n",
    "def step_forward(x, h_prev, Wh, Wx):\n",
    "    \"\"\"Defines one step of an RNN\n",
    "    \n",
    "    Parameters\n",
    "    ----------\n",
    "    x : element of original sequence passed by scan()\n",
    "    h_prev : accumulation of result thus far\n",
    "    Wh, Wx : non-sequences passed in every iteration\n",
    "    \n",
    "    Take the input at the current time step, along with the previous hidden state and combine them to produce a new\n",
    "    hidden state\n",
    "    \n",
    "    \"\"\"\n",
    "    z = T.dot(h_prev, Wh) + T.dot(x, Wx)\n",
    "    hidden = T.tanh(z)\n",
    "    \n",
    "    return hidden\n",
    "\n",
    "# Step the RNN though the abstract\n",
    "hiddens, updates = theano.scan(step_forward, # function to apply at each step in the sequence\n",
    "                               sequences=x, # sequence to scan() along\n",
    "                               outputs_info=dict(initial=T.zeros(H)), # tells scan() that we want to be passed in the result of the scan() thus far AND to initialize h0 to zeros\n",
    "                               non_sequences=[Wh, Wx], # tells scan() to pass in Whh and Wxh at each step\n",
    "                               strict=True) # tells scan() to throw an error if we're accessing non-local variables in the body of the function\n",
    "\n",
    "hidden = hiddens[-1] # only consider last hidden state\n",
    "\n",
    "scores = T.dot(hidden, Ws) # dot encoded abstract with softmax scores\n",
    "probs = T.nnet.softmax(scores)\n",
    "prediction = T.argmax(probs, axis=1)\n",
    "loss = -T.log(probs[0, y])\n",
    "\n",
    "# Gradients\n",
    "dWh = T.grad(loss, wrt=Wh)\n",
    "dWx = T.grad(loss, wrt=Wx)\n",
    "dWs = T.grad(loss, wrt=Ws)\n",
    "\n",
    "params, grads = (Wh, Wx, Ws), (dWh, dWx, dWs)\n",
    "\n",
    "train = theano.function(inputs=[x_idxs, y, lr],\n",
    "                        outputs=loss,\n",
    "                        updates=[(param, param - lr*grad) for param, grad in zip(params, grads)])"
   ]
  },
  {
   "cell_type": "markdown",
   "metadata": {},
   "source": [
    "### Example"
   ]
  },
  {
   "cell_type": "code",
   "execution_count": 177,
   "metadata": {
    "collapsed": false
   },
   "outputs": [],
   "source": [
    "def training_example_generator():\n",
    "    while True:\n",
    "        for x_idxs, y in zip(X_idxs_, ys):\n",
    "            yield x_idxs, y"
   ]
  },
  {
   "cell_type": "code",
   "execution_count": 178,
   "metadata": {
    "collapsed": false
   },
   "outputs": [],
   "source": [
    "def loss_generator(num_iters):\n",
    "    example = training_example_generator()\n",
    "\n",
    "    for i in range(num_iters):\n",
    "        x_idxs, y = next(example)\n",
    "\n",
    "        yield train(x_idxs, y, .005)"
   ]
  },
  {
   "cell_type": "code",
   "execution_count": 189,
   "metadata": {
    "collapsed": false
   },
   "outputs": [
    {
     "data": {
      "text/plain": [
       "<matplotlib.axes._subplots.AxesSubplot at 0x7efff5d1ab90>"
      ]
     },
     "execution_count": 189,
     "metadata": {},
     "output_type": "execute_result"
    },
    {
     "data": {
      "image/png": "[encoded data removed]",
      "text/plain": [
       "<matplotlib.figure.Figure at 0x7efff1619750>"
      ]
     },
     "metadata": {},
     "output_type": "display_data"
    }
   ],
   "source": [
    "pd.Series([float(loss) for loss in list(loss_generator(100))]).plot()"
   ]
  }
 ],
 "metadata": {
  "kernelspec": {
   "display_name": "Python 2",
   "language": "python",
   "name": "python2"
  },
  "language_info": {
   "codemirror_mode": {
    "name": "ipython",
    "version": 2
   },
   "file_extension": ".py",
   "mimetype": "text/x-python",
   "name": "python",
   "nbconvert_exporter": "python",
   "pygments_lexer": "ipython2",
   "version": "2.7.11"
  }
 },
 "nbformat": 4,
 "nbformat_minor": 0
}
