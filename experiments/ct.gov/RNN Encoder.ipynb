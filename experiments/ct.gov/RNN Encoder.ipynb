{
 "cells": [
  {
   "cell_type": "markdown",
   "metadata": {},
   "source": [
    "# RNN Encoder\n",
    "\n",
    "RNN model to encode an abstract and predict the gender of the study"
   ]
  },
  {
   "cell_type": "code",
   "execution_count": 81,
   "metadata": {
    "collapsed": true
   },
   "outputs": [],
   "source": [
    "%store -r abstracts_w2v_embeddings abstracts_targets_collapsed"
   ]
  },
  {
   "cell_type": "code",
   "execution_count": 85,
   "metadata": {
    "collapsed": false
   },
   "outputs": [
    {
     "data": {
      "text/plain": [
       "gender\n",
       "Both      0.870043\n",
       "Female    0.088868\n",
       "Male      0.041089\n",
       "dtype: float64"
      ]
     },
     "execution_count": 85,
     "metadata": {},
     "output_type": "execute_result"
    }
   ],
   "source": [
    "abstracts_targets_collapsed.groupby('gender').size() / len(abstracts_targets_collapsed)"
   ]
  },
  {
   "cell_type": "markdown",
   "metadata": {},
   "source": [
    "### Training Data"
   ]
  },
  {
   "cell_type": "code",
   "execution_count": 2,
   "metadata": {
    "collapsed": false
   },
   "outputs": [],
   "source": [
    "X_idxs = list(abstracts_targets_collapsed.abstracts_idxed)\n",
    "\n",
    "ys = abstracts_targets_collapsed.gender\n",
    "\n",
    "# Binarize ys\n",
    "num_classes = len(ys.unique())\n",
    "binarize = {i: label for i, label in zip(ys.unique(), range(num_classes))}\n",
    "ys = ys.map(binarize)"
   ]
  },
  {
   "cell_type": "markdown",
   "metadata": {},
   "source": [
    "### Hyperparameters"
   ]
  },
  {
   "cell_type": "code",
   "execution_count": 3,
   "metadata": {
    "collapsed": true
   },
   "outputs": [],
   "source": [
    "M, WORD_DIM = abstracts_w2v_embeddings.shape\n",
    "H, C = 10, len(ys.unique())\n",
    "learning_rate = .005"
   ]
  },
  {
   "cell_type": "code",
   "execution_count": 4,
   "metadata": {
    "collapsed": false
   },
   "outputs": [],
   "source": [
    "from rnn.cell import VanillaCell\n",
    "from rnn.encoder import FixedVectorEncoder\n",
    "from rnn.decoder import SoftmaxDecoder\n",
    "\n",
    "cell = VanillaCell(H, WORD_DIM)\n",
    "encoder, decoder = FixedVectorEncoder(cell), SoftmaxDecoder(H, num_classes)"
   ]
  },
  {
   "cell_type": "code",
   "execution_count": 39,
   "metadata": {
    "collapsed": false,
    "scrolled": true
   },
   "outputs": [],
   "source": [
    "from rnn.model import RNN\n",
    "\n",
    "rnn = RNN(abstracts_w2v_embeddings, H, num_classes, encoder, decoder)"
   ]
  },
  {
   "cell_type": "code",
   "execution_count": 65,
   "metadata": {
    "collapsed": false
   },
   "outputs": [
    {
     "data": {
      "text/plain": [
       "array(0.10856252293113375)"
      ]
     },
     "execution_count": 65,
     "metadata": {},
     "output_type": "execute_result"
    }
   ],
   "source": [
    "rnn.sgd_step(X_idxs[0], ys[0], learning_rate)"
   ]
  },
  {
   "cell_type": "markdown",
   "metadata": {},
   "source": [
    "### Example"
   ]
  },
  {
   "cell_type": "code",
   "execution_count": 260,
   "metadata": {
    "collapsed": false
   },
   "outputs": [],
   "source": [
    "def training_example_generator():\n",
    "    while True:\n",
    "        for x_idxs, y in zip(X_idxs_[:10], ys[:10]):\n",
    "            yield x_idxs, y"
   ]
  },
  {
   "cell_type": "code",
   "execution_count": 261,
   "metadata": {
    "collapsed": false
   },
   "outputs": [],
   "source": [
    "rnn = RNN()\n",
    "\n",
    "def loss_generator(num_iters):\n",
    "    example = training_example_generator()\n",
    "\n",
    "    for i in range(num_iters):\n",
    "        x_idxs, y = next(example)\n",
    "\n",
    "        yield train(x_idxs, y, .005)"
   ]
  },
  {
   "cell_type": "code",
   "execution_count": 262,
   "metadata": {
    "collapsed": false,
    "scrolled": true
   },
   "outputs": [
    {
     "data": {
      "text/plain": [
       "<matplotlib.axes._subplots.AxesSubplot at 0x7effee87a810>"
      ]
     },
     "execution_count": 262,
     "metadata": {},
     "output_type": "execute_result"
    },
    {
     "data": {
      "image/png": "[encoded data removed]",
      "text/plain": [
       "<matplotlib.figure.Figure at 0x7f00055bd350>"
      ]
     },
     "metadata": {},
     "output_type": "display_data"
    }
   ],
   "source": [
    "pd.Series([float(loss) for loss in list(loss_generator(1000))]).plot()"
   ]
  }
 ],
 "metadata": {
  "kernelspec": {
   "display_name": "Python 2",
   "language": "python",
   "name": "python2"
  },
  "language_info": {
   "codemirror_mode": {
    "name": "ipython",
    "version": 2
   },
   "file_extension": ".py",
   "mimetype": "text/x-python",
   "name": "python",
   "nbconvert_exporter": "python",
   "pygments_lexer": "ipython2",
   "version": "2.7.11"
  }
 },
 "nbformat": 4,
 "nbformat_minor": 0
}
