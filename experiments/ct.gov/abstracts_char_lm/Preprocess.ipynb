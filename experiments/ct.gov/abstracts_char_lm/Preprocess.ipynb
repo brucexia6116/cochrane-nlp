{
 "cells": [
  {
   "cell_type": "markdown",
   "metadata": {},
   "source": [
    "# Preprocess Abstracts\n",
    "\n",
    "Create embedding matrix and indexed abstracts for feeding into Keras character-level language model."
   ]
  },
  {
   "cell_type": "code",
   "execution_count": 49,
   "metadata": {
    "collapsed": true
   },
   "outputs": [],
   "source": [
    "%store -r abstracts_targets_collapsed\n",
    "\n",
    "abstracts = abstracts_targets_collapsed.abstract"
   ]
  },
  {
   "cell_type": "markdown",
   "metadata": {},
   "source": [
    "### Extract Characters"
   ]
  },
  {
   "cell_type": "code",
   "execution_count": 50,
   "metadata": {
    "collapsed": false
   },
   "outputs": [],
   "source": [
    "text = ' '.join(abstracts)\n",
    "chars = set(text)\n",
    "\n",
    "char2idx = dict((c, i) for i, c in enumerate(chars, start=3))\n",
    "idx2char = dict((i, c) for i, c in enumerate(chars, start=3))\n",
    "\n",
    "# Add in special tokens\n",
    "char2idx['MASK'], idx2char[0] = (0, 'MASK')\n",
    "char2idx['START'], idx2char[1] = (1, 'START')\n",
    "char2idx['END'], idx2char[2] = (2, 'END')\n",
    "\n",
    "chars.update({'START', 'END', 'MASK'})"
   ]
  },
  {
   "cell_type": "markdown",
   "metadata": {},
   "source": [
    "### Create Embedding Matrix"
   ]
  },
  {
   "cell_type": "code",
   "execution_count": 45,
   "metadata": {
    "collapsed": false
   },
   "outputs": [],
   "source": [
    "num_chars = len(chars)\n",
    "MAX_LENGTH = 1000+1\n",
    "NUM_ABSTRACTS = len(abstracts)\n",
    "MASK_VALUE = 0\n",
    "\n",
    "embeddings = np.eye(num_chars)\n",
    "embeddings[0] = 0 # mask value - not a real character"
   ]
  },
  {
   "cell_type": "markdown",
   "metadata": {},
   "source": [
    "### Indexify and Pad Abstracts"
   ]
  },
  {
   "cell_type": "code",
   "execution_count": 46,
   "metadata": {
    "collapsed": true
   },
   "outputs": [],
   "source": [
    "def abstracts_idxified_generator(abstracts, max_length):\n",
    "    for abstract in abstracts:\n",
    "        abstract_idxed = [char2idx['START']] + [char2idx[char] for char in abstract] + [char2idx['END']]\n",
    "        \n",
    "        yield abstract_idxed[:max_length]\n",
    "\n",
    "abstracts_idxed = list(abstracts_idxified_generator(abstracts, MAX_LENGTH))\n",
    "\n",
    "from keras.preprocessing.sequence import pad_sequences\n",
    "\n",
    "abstracts_padded = pad_sequences(abstracts_idxed, maxlen=MAX_LENGTH)"
   ]
  },
  {
   "cell_type": "markdown",
   "metadata": {},
   "source": [
    "### Store Abstracts to Disk"
   ]
  },
  {
   "cell_type": "code",
   "execution_count": 47,
   "metadata": {
    "collapsed": false
   },
   "outputs": [
    {
     "name": "stdout",
     "output_type": "stream",
     "text": [
      "Stored 'abstracts_char_lm' (dict)\n"
     ]
    }
   ],
   "source": [
    "abstracts_char_lm = {'abstracts_padded': abstracts_padded, 'embeddings': embeddings,\n",
    "                     'char2idx': char2idx, 'idx2char': idx2char}\n",
    "\n",
    "%store abstracts_char_lm\n",
    "\n",
    "import pickle\n",
    "\n",
    "pickle.dump(abstracts_char_lm, open('data.p', 'wb'))"
   ]
  }
 ],
 "metadata": {
  "kernelspec": {
   "display_name": "Python 2",
   "language": "python",
   "name": "python2"
  },
  "language_info": {
   "codemirror_mode": {
    "name": "ipython",
    "version": 2
   },
   "file_extension": ".py",
   "mimetype": "text/x-python",
   "name": "python",
   "nbconvert_exporter": "python",
   "pygments_lexer": "ipython2",
   "version": "2.7.11"
  }
 },
 "nbformat": 4,
 "nbformat_minor": 0
}
