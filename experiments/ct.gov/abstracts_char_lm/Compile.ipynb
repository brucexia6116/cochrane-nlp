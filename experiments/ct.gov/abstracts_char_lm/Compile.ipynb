{
 "cells": [
  {
   "cell_type": "markdown",
   "metadata": {},
   "source": [
    "# Compile\n",
    "\n",
    "Compile a Keras model for character-level language modelling and save it to disk."
   ]
  },
  {
   "cell_type": "markdown",
   "metadata": {},
   "source": [
    "### Load Data"
   ]
  },
  {
   "cell_type": "code",
   "execution_count": 1,
   "metadata": {
    "collapsed": true
   },
   "outputs": [],
   "source": [
    "import pickle\n",
    "\n",
    "abstracts_char_lm = pickle.load(open('data.p', 'rb'))\n",
    "\n",
    "embeddings = abstracts_char_lm['embeddings']\n",
    "abstracts_padded = abstracts_char_lm['abstracts_padded']\n",
    "char2idx, idx2char = abstracts_char_lm['char2idx'], abstracts_char_lm['idx2char']\n",
    "\n",
    "num_abstracts, maxlen = len(abstracts_padded), len(abstracts_padded[0])\n",
    "vocab_dim, num_chars = embeddings.shape"
   ]
  },
  {
   "cell_type": "markdown",
   "metadata": {},
   "source": [
    "### Build Keras Model\n",
    "\n",
    "#### Train model\n",
    "\n",
    "The only difference between the two are the sequence lengths by which they operate. During training we want to rollout the network for quite a bit so we can backprop error and handle long-term dependencies, whereas during sampling, we need to be able to feed the network's output back into itself one character at a time."
   ]
  },
  {
   "cell_type": "code",
   "execution_count": 2,
   "metadata": {
    "collapsed": false,
    "scrolled": false
   },
   "outputs": [
    {
     "name": "stderr",
     "output_type": "stream",
     "text": [
      "Using Theano backend.\n",
      "/home/ebanner/.anaconda/envs/py27/lib/python2.7/site-packages/theano/tensor/signal/downsample.py:5: UserWarning: downsample module has been moved to the pool module.\n",
      "  warnings.warn(\"downsample module has been moved to the pool module.\")\n"
     ]
    }
   ],
   "source": [
    "from keras.models import Sequential\n",
    "from keras.layers.core import TimeDistributedDense, Activation, Dropout\n",
    "from keras.layers.embeddings import Embedding\n",
    "from keras.layers.recurrent import LSTM\n",
    "\n",
    "def create_model(seq_length, hidden_dim=32):\n",
    "    model = Sequential()\n",
    "\n",
    "    model.add(Embedding(\n",
    "            input_dim=vocab_dim, output_dim=num_chars,\n",
    "            weights=[embeddings],\n",
    "            batch_input_shape=(num_abstracts, seq_length), input_length=seq_length,\n",
    "            trainable=False, # freeze the one-hot embeddings\n",
    "            mask_zero=True # don't count front-padded zeros as characters\n",
    "    ))\n",
    "\n",
    "    model.add(LSTM(output_dim=hidden_dim, return_sequences=True, stateful=True))\n",
    "    model.add(Dropout(0.2))\n",
    "    model.add(LSTM(output_dim=hidden_dim, return_sequences=True))\n",
    "    model.add(Dropout(0.2))\n",
    "    model.add(TimeDistributedDense(output_dim=vocab_dim, activation='softmax'))\n",
    "\n",
    "    model.compile(loss='categorical_crossentropy', optimizer='rmsprop')\n",
    "    \n",
    "    return model\n",
    "    \n",
    "SEQ_LENGTH = 20\n",
    "\n",
    "train_model = create_model(seq_length=SEQ_LENGTH, hidden_dim=32)\n",
    "# sample_model = create_model(seq_length=1, hidden_dim=512)"
   ]
  },
  {
   "cell_type": "markdown",
   "metadata": {},
   "source": [
    "### Save to Disk\n",
    "\n",
    "#### Train Model"
   ]
  },
  {
   "cell_type": "code",
   "execution_count": 3,
   "metadata": {
    "collapsed": false
   },
   "outputs": [],
   "source": [
    "def save_model(model, model_type):\n",
    "    jsonified_model = model.to_json()\n",
    "\n",
    "    open('{}_model.json'.format(model_type), 'w').write(jsonified_model)\n",
    "    \n",
    "save_model(train_model, 'train')\n",
    "# save_model(sample_model, 'sample')"
   ]
  }
 ],
 "metadata": {
  "kernelspec": {
   "display_name": "Python 2",
   "language": "python",
   "name": "python2"
  },
  "language_info": {
   "codemirror_mode": {
    "name": "ipython",
    "version": 2
   },
   "file_extension": ".py",
   "mimetype": "text/x-python",
   "name": "python",
   "nbconvert_exporter": "python",
   "pygments_lexer": "ipython2",
   "version": "2.7.11"
  }
 },
 "nbformat": 4,
 "nbformat_minor": 0
}
