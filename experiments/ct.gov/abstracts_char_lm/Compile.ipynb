{
 "cells": [
  {
   "cell_type": "markdown",
   "metadata": {},
   "source": [
    "# Compile\n",
    "\n",
    "Compile a Keras model for character-level language modelling and save it to disk."
   ]
  },
  {
   "cell_type": "markdown",
   "metadata": {},
   "source": [
    "### Load Data"
   ]
  },
  {
   "cell_type": "code",
   "execution_count": 4,
   "metadata": {
    "collapsed": true
   },
   "outputs": [],
   "source": [
    "import pickle\n",
    "\n",
    "abstracts_char_lm = pickle.load(open('data.p', 'rb'))\n",
    "\n",
    "embeddings = abstracts_char_lm['embeddings']\n",
    "abstracts_padded = abstracts_char_lm['abstracts_padded']\n",
    "char2idx, idx2char = abstracts_char_lm['char2idx'], abstracts_char_lm['idx2char']\n",
    "\n",
    "num_abstracts, maxlen = len(abstracts_padded), len(abstracts_padded[0])\n",
    "vocab_dim, num_chars = embeddings.shape"
   ]
  },
  {
   "cell_type": "markdown",
   "metadata": {},
   "source": [
    "### Build Keras Model"
   ]
  },
  {
   "cell_type": "code",
   "execution_count": 5,
   "metadata": {
    "collapsed": false
   },
   "outputs": [],
   "source": [
    "from keras.models import Sequential\n",
    "from keras.layers.core import Dense, Activation, Dropout\n",
    "from keras.layers.embeddings import Embedding\n",
    "from keras.layers.recurrent import LSTM\n",
    "\n",
    "HIDDEN_DIM = 32\n",
    "\n",
    "model = Sequential()\n",
    "\n",
    "model.add(Embedding(\n",
    "        input_dim=vocab_dim, output_dim=num_chars,\n",
    "        weights=[embeddings],\n",
    "        batch_input_shape=(num_abstracts, 1), input_length=1,\n",
    "        trainable=False, # freeze the one-hot embeddings\n",
    "        mask_zero=True # don't count front-padded zeros as characters\n",
    "))\n",
    "\n",
    "model.add(LSTM(output_dim=HIDDEN_DIM, stateful=True))\n",
    "model.add(Dense(output_dim=vocab_dim, activation='softmax'))\n",
    "\n",
    "model.compile(loss='categorical_crossentropy', optimizer='rmsprop')"
   ]
  },
  {
   "cell_type": "markdown",
   "metadata": {},
   "source": [
    "### Save to Disk"
   ]
  },
  {
   "cell_type": "code",
   "execution_count": 7,
   "metadata": {
    "collapsed": true
   },
   "outputs": [],
   "source": [
    "jsonified_model = model.to_json()\n",
    "\n",
    "open('model.json', 'w').write(jsonified_model)"
   ]
  }
 ],
 "metadata": {
  "kernelspec": {
   "display_name": "Python 2",
   "language": "python",
   "name": "python2"
  },
  "language_info": {
   "codemirror_mode": {
    "name": "ipython",
    "version": 2
   },
   "file_extension": ".py",
   "mimetype": "text/x-python",
   "name": "python",
   "nbconvert_exporter": "python",
   "pygments_lexer": "ipython2",
   "version": "2.7.11"
  }
 },
 "nbformat": 4,
 "nbformat_minor": 0
}
