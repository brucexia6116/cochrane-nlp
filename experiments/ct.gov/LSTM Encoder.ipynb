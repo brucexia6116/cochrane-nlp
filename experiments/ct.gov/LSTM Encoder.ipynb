{
 "cells": [
  {
   "cell_type": "markdown",
   "metadata": {},
   "source": [
    "# LSTM Encoder\n",
    "\n",
    "RNN model to encode an abstract and predict the gender of the study"
   ]
  },
  {
   "cell_type": "code",
   "execution_count": 1,
   "metadata": {
    "collapsed": true
   },
   "outputs": [],
   "source": [
    "%store -r abstracts_w2v_embeddings abstracts_targets_collapsed"
   ]
  },
  {
   "cell_type": "markdown",
   "metadata": {},
   "source": [
    "### Training Data"
   ]
  },
  {
   "cell_type": "code",
   "execution_count": 2,
   "metadata": {
    "collapsed": true
   },
   "outputs": [],
   "source": [
    "from sklearn.cross_validation import train_test_split\n",
    "\n",
    "X_idxs = list(abstracts_targets_collapsed.abstracts_idxed)\n",
    "ys = abstracts_targets_collapsed.gender_binarized\n",
    "X_train, X_val, ys_train, ys_val = train_test_split(X_idxs, ys)\n",
    "num_classes = len(ys.unique())"
   ]
  },
  {
   "cell_type": "markdown",
   "metadata": {},
   "source": [
    "### Train"
   ]
  },
  {
   "cell_type": "code",
   "execution_count": null,
   "metadata": {
    "collapsed": false,
    "scrolled": true
   },
   "outputs": [
    {
     "name": "stdout",
     "output_type": "stream",
     "text": [
      "Building theano graph...\n",
      "Done!\n",
      "Validation Loss: 1.3837204964\n",
      "Validation Loss: 0.963892744162\n",
      "Validation Loss: 0.803409818786\n",
      "Validation Loss: 0.702164951711\n",
      "Validation Loss: 0.648593164271\n",
      "Validation Loss: 0.663617110873\n",
      "Validation Loss: 0.657808526296\n",
      "Validation Loss: 0.589535977047\n",
      "Validation Loss: 0.621121454755\n",
      "Validation Loss: 0.604897697098"
     ]
    }
   ],
   "source": [
    "from rnn.train import RNNTrainer\n",
    "\n",
    "trainer = RNNTrainer(abstracts_w2v_embeddings, num_classes=num_classes)\n",
    "\n",
    "trainer.train(X_train, ys_train, X_val, ys_val, val_every=100)\n",
    "\n",
    "pd.Series(trainer.val_loss).plot()"
   ]
  }
 ],
 "metadata": {
  "kernelspec": {
   "display_name": "Python 2",
   "language": "python",
   "name": "python2"
  },
  "language_info": {
   "codemirror_mode": {
    "name": "ipython",
    "version": 2
   },
   "file_extension": ".py",
   "mimetype": "text/x-python",
   "name": "python",
   "nbconvert_exporter": "python",
   "pygments_lexer": "ipython2",
   "version": "2.7.11"
  }
 },
 "nbformat": 4,
 "nbformat_minor": 0
}
