{
 "cells": [
  {
   "cell_type": "markdown",
   "metadata": {},
   "source": [
    "# LSTM Encoder\n",
    "\n",
    "RNN model to encode an abstract and predict the gender of the study"
   ]
  },
  {
   "cell_type": "code",
   "execution_count": 3,
   "metadata": {
    "collapsed": true
   },
   "outputs": [],
   "source": [
    "%store -r abstracts_w2v_embeddings abstracts_targets_collapsed"
   ]
  },
  {
   "cell_type": "markdown",
   "metadata": {},
   "source": [
    "### Training Data"
   ]
  },
  {
   "cell_type": "code",
   "execution_count": 4,
   "metadata": {
    "collapsed": false
   },
   "outputs": [],
   "source": [
    "from sklearn.cross_validation import train_test_split\n",
    "\n",
    "X_idxs = list(abstracts_targets_collapsed.abstracts_idxed)\n",
    "ys = abstracts_targets_collapsed.gender_binarized\n",
    "X_train, X_val, ys_train, ys_val = train_test_split(X_idxs, ys)\n",
    "num_classes = len(ys.unique())"
   ]
  },
  {
   "cell_type": "markdown",
   "metadata": {},
   "source": [
    "### Train"
   ]
  },
  {
   "cell_type": "code",
   "execution_count": null,
   "metadata": {
    "collapsed": false,
    "scrolled": false
   },
   "outputs": [
    {
     "name": "stdout",
     "output_type": "stream",
     "text": [
      "Building theano graph...\n",
      "Done!\n",
      "Loss, Accuracy = (5.74115604015, 0.200381679389)\n",
      "Loss, Accuracy = (5.69021145337, 0.353053435115)\n",
      "Loss, Accuracy = (5.6322091361, 0.564885496183)\n",
      "Loss, Accuracy = (5.56746522358, 0.704198473282)\n",
      "Loss, Accuracy = (5.48812376999, 0.784351145038)\n",
      "Loss, Accuracy = (5.38950964149, 0.80534351145)\n",
      "Loss, Accuracy = (5.30148842574, 0.833969465649)\n",
      "Loss, Accuracy = (5.22164652596, 0.843511450382)\n",
      "Loss, Accuracy = (5.1669501893, 0.854961832061)\n",
      "Loss, Accuracy = (5.10495883481, 0.864503816794)\n",
      "Loss, Accuracy = (5.070400527, 0.864503816794)\n",
      "Loss, Accuracy = (5.03365738618, 0.86641221374)\n",
      "Loss, Accuracy = (5.01892998343, 0.86641221374)\n",
      "Loss, Accuracy = (4.99526371303, 0.868320610687)\n",
      "Loss, Accuracy = (4.97711327341, 0.870229007634)\n",
      "Loss, Accuracy = (4.96161651469, 0.87213740458)\n",
      "Loss, Accuracy = (4.95047610754, 0.87213740458)\n",
      "Loss, Accuracy = (4.93758228271, 0.874045801527)\n",
      "Loss, Accuracy = (4.92742334286, 0.874045801527)\n",
      "Loss, Accuracy = (4.91691748156, 0.874045801527)\n",
      "Loss, Accuracy = (4.91023794952, 0.874045801527)\n",
      "Loss, Accuracy = (4.90009760322, 0.874045801527)\n",
      "Loss, Accuracy = (4.89214786349, 0.874045801527)\n",
      "Loss, Accuracy = (4.88148720392, 0.874045801527)\n",
      "Loss, Accuracy = (4.87282881975, 0.874045801527)\n",
      "Loss, Accuracy = (4.86227334586, 0.874045801527)\n",
      "Loss, Accuracy = (4.8537405542, 0.874045801527)\n",
      "Loss, Accuracy = (4.8441306893, 0.874045801527)\n",
      "Loss, Accuracy = (4.83511681708, 0.874045801527)\n",
      "Loss, Accuracy = (4.82643975338, 0.874045801527)\n",
      "Loss, Accuracy = (4.81767446024, 0.874045801527)\n",
      "Loss, Accuracy = (4.80996335366, 0.874045801527)\n",
      "Loss, Accuracy = (4.80106559805, 0.874045801527)\n",
      "Loss, Accuracy = (4.79207001046, 0.874045801527)\n",
      "Loss, Accuracy = (4.783392422, 0.874045801527)\n",
      "Loss, Accuracy = (4.77501720265, 0.874045801527)\n",
      "Loss, Accuracy = (4.76710691118, 0.875954198473)\n",
      "Loss, Accuracy = (4.75749547031, 0.875954198473)\n",
      "Loss, Accuracy = (4.74925537135, 0.875954198473)\n",
      "Loss, Accuracy = (4.74183563641, 0.875954198473)\n",
      "Loss, Accuracy = (4.73306124747, 0.875954198473)\n",
      "Loss, Accuracy = (4.72312428481, 0.875954198473)\n",
      "Loss, Accuracy = (4.71429879682, 0.875954198473)\n",
      "Loss, Accuracy = (4.70550581563, 0.875954198473)\n",
      "Loss, Accuracy = (4.69674830206, 0.875954198473)\n",
      "Loss, Accuracy = (4.68814075166, 0.875954198473)\n",
      "Loss, Accuracy = (4.67975739557, 0.875954198473)\n",
      "Loss, Accuracy = (4.67155669328, 0.875954198473)\n",
      "Loss, Accuracy = (4.66327559034, 0.875954198473)\n",
      "Loss, Accuracy = (4.6543755814, 0.875954198473)\n",
      "Loss, Accuracy = (4.64611305119, 0.875954198473)\n",
      "Loss, Accuracy = (4.63788805567, 0.875954198473)\n",
      "Loss, Accuracy = (4.62947044192, 0.875954198473)"
     ]
    }
   ],
   "source": [
    "from rnn.train import RNNTrainer\n",
    "\n",
    "trainer = RNNTrainer(abstracts_w2v_embeddings, num_classes=num_classes, cell_type='lstm')\n",
    "\n",
    "trainer.train(X_train, ys_train, X_val, ys_val, reg=0.001, val_every=100)\n",
    "\n",
    "pd.Series(trainer.val_loss).plot()"
   ]
  }
 ],
 "metadata": {
  "kernelspec": {
   "display_name": "Python 2",
   "language": "python",
   "name": "python2"
  },
  "language_info": {
   "codemirror_mode": {
    "name": "ipython",
    "version": 2
   },
   "file_extension": ".py",
   "mimetype": "text/x-python",
   "name": "python",
   "nbconvert_exporter": "python",
   "pygments_lexer": "ipython2",
   "version": "2.7.11"
  }
 },
 "nbformat": 4,
 "nbformat_minor": 0
}
