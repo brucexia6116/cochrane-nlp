{
 "cells": [
  {
   "cell_type": "markdown",
   "metadata": {},
   "source": [
    "# LSTM Encoder\n",
    "\n",
    "RNN model to encode an abstract and predict the gender of the study"
   ]
  },
  {
   "cell_type": "code",
   "execution_count": 1,
   "metadata": {
    "collapsed": true
   },
   "outputs": [],
   "source": [
    "%store -r abstracts_w2v_embeddings abstracts_targets_collapsed"
   ]
  },
  {
   "cell_type": "markdown",
   "metadata": {},
   "source": [
    "### Training Data"
   ]
  },
  {
   "cell_type": "code",
   "execution_count": 2,
   "metadata": {
    "collapsed": false
   },
   "outputs": [],
   "source": [
    "from sklearn.cross_validation import train_test_split\n",
    "\n",
    "X_idxs = list(abstracts_targets_collapsed.abstracts_idxed)\n",
    "ys = abstracts_targets_collapsed.phase_2\n",
    "X_train, X_val, ys_train, ys_val = train_test_split(X_idxs, ys)\n",
    "num_classes = len(ys.unique())"
   ]
  },
  {
   "cell_type": "markdown",
   "metadata": {},
   "source": [
    "### Train"
   ]
  },
  {
   "cell_type": "code",
   "execution_count": 3,
   "metadata": {
    "collapsed": false,
    "scrolled": false
   },
   "outputs": [
    {
     "name": "stdout",
     "output_type": "stream",
     "text": [
      "Building theano graph...\n",
      "Done!\n",
      "Loss, Accuracy = (16.3373093517, 0.5)\n",
      "Loss, Accuracy = (74.7088201706, 0.5)\n",
      "Loss, Accuracy = (85.5637974121, 0.475)\n",
      "Loss, Accuracy = (76.7360463496, 0.5)\n",
      "Loss, Accuracy = (75.3734939884, 0.425)\n",
      "Loss, Accuracy = (82.11871958, 0.525)\n",
      "Loss, Accuracy = (70.4041580557, 0.525)\n",
      "Loss, Accuracy = (82.2544608321, 0.45)\n",
      "Loss, Accuracy = (71.7552852528, 0.525)\n",
      "Loss, Accuracy = (76.4427930658, 0.525)\n",
      "Loss, Accuracy = (75.5998827449, 0.45)\n",
      "Loss, Accuracy = (74.9981828788, 0.525)\n",
      "Loss, Accuracy = (73.3379714014, 0.525)\n",
      "Loss, Accuracy = (75.9167795342, 0.45)\n",
      "Loss, Accuracy = (68.0284614794, 0.475)\n",
      "Loss, Accuracy = (71.6942638672, 0.525)\n",
      "Loss, Accuracy = (70.0454104731, 0.45)\n",
      "Loss, Accuracy = (68.7188590458, 0.525)\n",
      "Loss, Accuracy = (70.0070299864, 0.525)\n",
      "Loss, Accuracy = (61.8280119382, 0.525)\n",
      "Loss, Accuracy = (70.0159460802, 0.45)\n",
      "Loss, Accuracy = (68.2657359968, 0.525)\n",
      "Loss, Accuracy = (62.6730651289, 0.45)\n",
      "Loss, Accuracy = (69.892895598, 0.525)\n",
      "Loss, Accuracy = (61.5822412425, 0.525)\n",
      "Loss, Accuracy = (63.0698764418, 0.525)\n",
      "Loss, Accuracy = (64.044453039, 0.475)\n",
      "Loss, Accuracy = (60.8769456152, 0.475)\n",
      "Loss, Accuracy = (65.2705229976, 0.525)\n",
      "Loss, Accuracy = (60.1814450454, 0.45)\n",
      "Loss, Accuracy = (59.8864062181, 0.45)\n",
      "Loss, Accuracy = (62.2057490665, 0.525)\n",
      "Loss, Accuracy = (56.6964744404, 0.525)\n",
      "Loss, Accuracy = (60.722491552, 0.525)\n",
      "Loss, Accuracy = (55.7523607045, 0.525)\n",
      "Loss, Accuracy = (57.2043444721, 0.475)\n",
      "Loss, Accuracy = (55.6488097613, 0.475)\n",
      "Loss, Accuracy = (58.0699861465, 0.525)\n",
      "Loss, Accuracy = (50.5132622627, 0.525)\n",
      "Loss, Accuracy = (49.1168625323, 0.525)\n",
      "Loss, Accuracy = (54.699633072, 0.475)\n",
      "Loss, Accuracy = (54.2555082206, 0.525)\n",
      "Loss, Accuracy = (57.984175463, 0.525)\n",
      "Loss, Accuracy = (47.6656766748, 0.525)\n",
      "Loss, Accuracy = (51.719789389, 0.475)\n",
      "Loss, Accuracy = (52.3941172582, 0.475)\n",
      "Loss, Accuracy = (52.263975323, 0.525)\n",
      "Loss, Accuracy = (49.4974774837, 0.475)\n",
      "Loss, Accuracy = (48.7373361842, 0.525)\n",
      "Loss, Accuracy = (49.2974445627, 0.475)\n"
     ]
    },
    {
     "name": "stderr",
     "output_type": "stream",
     "text": [
      "/home/ebanner/.anaconda/envs/py27/lib/python2.7/site-packages/theano/scan_module/scan.py:1017: Warning: In the strict mode, all neccessary shared variables must be passed as a part of non_sequences\n",
      "  'must be passed as a part of non_sequences', Warning)\n"
     ]
    }
   ],
   "source": [
    "from rnn.train import RNNTrainer\n",
    "\n",
    "trainer = RNNTrainer(abstracts_w2v_embeddings, num_classes=num_classes, cell_type='vanilla')\n",
    "\n",
    "N = 40\n",
    "\n",
    "trainer.train(X_train[:N], ys_train[:N], X_train[:N], ys_train[:N], reg=0.001, num_epochs=50, val_every=N)"
   ]
  },
  {
   "cell_type": "code",
   "execution_count": 4,
   "metadata": {
    "collapsed": false,
    "scrolled": false
   },
   "outputs": [
    {
     "data": {
      "text/plain": [
       "<matplotlib.axes._subplots.AxesSubplot at 0x7f84248a0050>"
      ]
     },
     "execution_count": 4,
     "metadata": {},
     "output_type": "execute_result"
    },
    {
     "data": {
      "image/png": "[encoded data removed]",
      "text/plain": [
       "<matplotlib.figure.Figure at 0x7f843e941710>"
      ]
     },
     "metadata": {},
     "output_type": "display_data"
    }
   ],
   "source": [
    "pd.DataFrame({'val_losses': trainer.val_losses, 'val_accs': trainer.val_accuracies}).plot()"
   ]
  },
  {
   "cell_type": "code",
   "execution_count": 5,
   "metadata": {
    "collapsed": false
   },
   "outputs": [
    {
     "data": {
      "text/plain": [
       "<matplotlib.axes._subplots.AxesSubplot at 0x7f844969f650>"
      ]
     },
     "execution_count": 5,
     "metadata": {},
     "output_type": "execute_result"
    },
    {
     "data": {
      "image/png": "[encoded data removed]",
      "text/plain": [
       "<matplotlib.figure.Figure at 0x7f8422550450>"
      ]
     },
     "metadata": {},
     "output_type": "display_data"
    }
   ],
   "source": [
    "pd.DataFrame(trainer.grad_magnitudes).plot()"
   ]
  }
 ],
 "metadata": {
  "kernelspec": {
   "display_name": "Python 2",
   "language": "python",
   "name": "python2"
  },
  "language_info": {
   "codemirror_mode": {
    "name": "ipython",
    "version": 2
   },
   "file_extension": ".py",
   "mimetype": "text/x-python",
   "name": "python",
   "nbconvert_exporter": "python",
   "pygments_lexer": "ipython2",
   "version": "2.7.11"
  }
 },
 "nbformat": 4,
 "nbformat_minor": 0
}
