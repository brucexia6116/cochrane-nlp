{
 "cells": [
  {
   "cell_type": "markdown",
   "metadata": {},
   "source": [
    "# LSTM Encoder\n",
    "\n",
    "RNN model to encode an abstract and predict the gender of the study"
   ]
  },
  {
   "cell_type": "code",
   "execution_count": 45,
   "metadata": {
    "collapsed": true
   },
   "outputs": [],
   "source": [
    "%store -r abstracts_w2v_embeddings abstracts_targets_collapsed"
   ]
  },
  {
   "cell_type": "markdown",
   "metadata": {},
   "source": [
    "### Training Data"
   ]
  },
  {
   "cell_type": "code",
   "execution_count": 46,
   "metadata": {
    "collapsed": false
   },
   "outputs": [],
   "source": [
    "X_idxs = list(abstracts_targets_collapsed.abstracts_idxed)\n",
    "\n",
    "ys = abstracts_targets_collapsed.gender\n",
    "\n",
    "# Binarize ys\n",
    "num_classes = len(ys.unique())\n",
    "binarize = {i: label for i, label in zip(ys.unique(), range(num_classes))}\n",
    "ys = ys.map(binarize)"
   ]
  },
  {
   "cell_type": "markdown",
   "metadata": {},
   "source": [
    "### Hyperparameters"
   ]
  },
  {
   "cell_type": "code",
   "execution_count": 47,
   "metadata": {
    "collapsed": true
   },
   "outputs": [],
   "source": [
    "M, WORD_DIM = abstracts_w2v_embeddings.shape\n",
    "H, C = 10, len(ys.unique())\n",
    "learning_rate = .005"
   ]
  },
  {
   "cell_type": "code",
   "execution_count": 48,
   "metadata": {
    "collapsed": false
   },
   "outputs": [],
   "source": [
    "from rnn.cell import VanillaCell, LSTMCell\n",
    "from rnn.encoder import FixedVectorEncoder\n",
    "from rnn.decoder import SoftmaxDecoder\n",
    "\n",
    "cell = LSTMCell(H, WORD_DIM, memory_dim=H)\n",
    "# cell = VanillaCell(H, WORD_DIM)\n",
    "encoder, decoder = FixedVectorEncoder(cell), SoftmaxDecoder(H, num_classes)"
   ]
  },
  {
   "cell_type": "code",
   "execution_count": 49,
   "metadata": {
    "collapsed": false,
    "scrolled": true
   },
   "outputs": [],
   "source": [
    "from rnn.model import RNN\n",
    "\n",
    "rnn = RNN(abstracts_w2v_embeddings, H, num_classes, encoder, decoder)"
   ]
  },
  {
   "cell_type": "markdown",
   "metadata": {},
   "source": [
    "### Example"
   ]
  },
  {
   "cell_type": "code",
   "execution_count": 50,
   "metadata": {
    "collapsed": false
   },
   "outputs": [],
   "source": [
    "M = 10\n",
    "\n",
    "def training_example_generator():\n",
    "    while True:\n",
    "        for x_idxs, y in zip(X_idxs[:M], ys[:M]):\n",
    "            yield x_idxs, y"
   ]
  },
  {
   "cell_type": "code",
   "execution_count": 51,
   "metadata": {
    "collapsed": false
   },
   "outputs": [],
   "source": [
    "def loss_generator(num_iters):\n",
    "    example = training_example_generator()\n",
    "\n",
    "    for i in range(num_iters):\n",
    "        x_idxs, y = next(example)\n",
    "\n",
    "        rnn.do_sgd(x_idxs, y, learning_rate)\n",
    "        \n",
    "        if not i % 100:\n",
    "            abstracts = [next(example) for _ in range(M)]\n",
    "            loss = np.mean([rnn.do_sgd(x_idxs, y, learning_rate) for x_idxs, y in abstracts])\n",
    "            \n",
    "            yield loss"
   ]
  },
  {
   "cell_type": "code",
   "execution_count": 52,
   "metadata": {
    "collapsed": false,
    "scrolled": true
   },
   "outputs": [
    {
     "data": {
      "text/plain": [
       "<matplotlib.axes._subplots.AxesSubplot at 0x7f0997469c90>"
      ]
     },
     "execution_count": 52,
     "metadata": {},
     "output_type": "execute_result"
    },
    {
     "data": {
      "image/png": "[encoded data removed]",
      "text/plain": [
       "<matplotlib.figure.Figure at 0x7f0996ea4550>"
      ]
     },
     "metadata": {},
     "output_type": "display_data"
    }
   ],
   "source": [
    "pd.Series([float(loss) for loss in list(loss_generator(10000))]).plot()"
   ]
  }
 ],
 "metadata": {
  "kernelspec": {
   "display_name": "Python 2",
   "language": "python",
   "name": "python2"
  },
  "language_info": {
   "codemirror_mode": {
    "name": "ipython",
    "version": 2
   },
   "file_extension": ".py",
   "mimetype": "text/x-python",
   "name": "python",
   "nbconvert_exporter": "python",
   "pygments_lexer": "ipython2",
   "version": "2.7.11"
  }
 },
 "nbformat": 4,
 "nbformat_minor": 0
}
