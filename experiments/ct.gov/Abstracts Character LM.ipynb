{
 "cells": [
  {
   "cell_type": "markdown",
   "metadata": {},
   "source": [
    "# Abstracts Character Language Model\n",
    "\n",
    "Train a character-level language model to generate a ct.gov abstract"
   ]
  },
  {
   "cell_type": "code",
   "execution_count": 1,
   "metadata": {
    "collapsed": false
   },
   "outputs": [],
   "source": [
    "%store -r abstracts_targets_collapsed\n",
    "\n",
    "abstracts = abstracts_targets_collapsed.abstract"
   ]
  },
  {
   "cell_type": "markdown",
   "metadata": {},
   "source": [
    "### Extract Characters"
   ]
  },
  {
   "cell_type": "code",
   "execution_count": 2,
   "metadata": {
    "collapsed": false
   },
   "outputs": [],
   "source": [
    "text = ' '.join(abstracts)\n",
    "chars = set(text)\n",
    "chars.update({'START', 'END'}) # add start and end tokens\n",
    "\n",
    "char2idx = dict((c, i) for i, c in enumerate(chars, start=1))\n",
    "idx2char = dict((i, c) for i, c in enumerate(chars, start=1))\n",
    "\n",
    "char2idx['MASK'], idx2char[0] = (0, 'MASK')"
   ]
  },
  {
   "cell_type": "markdown",
   "metadata": {},
   "source": [
    "### Create Embedding Matrix"
   ]
  },
  {
   "cell_type": "code",
   "execution_count": 3,
   "metadata": {
    "collapsed": false
   },
   "outputs": [],
   "source": [
    "MAX_LENGTH = 100+1 # maximum length for an abstract - plus one so we can predict the last character\n",
    "NUM_ABSTRACTS = len(abstracts)\n",
    "NUM_CHARS = len(chars)\n",
    "\n",
    "embeddings = np.eye(NUM_CHARS)\n",
    "\n",
    "embeddings[char2idx['MASK']] = 0 # create a special entry for the mask"
   ]
  },
  {
   "cell_type": "markdown",
   "metadata": {},
   "source": [
    "### Indexify and Pad Abstracts"
   ]
  },
  {
   "cell_type": "code",
   "execution_count": 4,
   "metadata": {
    "collapsed": false
   },
   "outputs": [],
   "source": [
    "def abstracts_idxified_generator(abstracts, max_length):\n",
    "    for abstract in abstracts:\n",
    "        abstract_idxed = [char2idx['START']] + [char2idx[char] for char in abstract] + [char2idx['END']]\n",
    "        \n",
    "        yield abstract_idxed[:max_length]\n",
    "\n",
    "abstracts_idxed = list(abstracts_idxified_generator(abstracts, MAX_LENGTH))\n",
    "\n",
    "abstracts_padded = np.zeros([NUM_ABSTRACTS, MAX_LENGTH], dtype=np.int)\n",
    "\n",
    "for i, (abstract_padded, abstract_idxed) in enumerate(zip(abstracts_padded, abstracts_idxed)):\n",
    "    abstracts_padded[i, range(len(abstract_idxed))] = abstract_idxed"
   ]
  },
  {
   "cell_type": "markdown",
   "metadata": {},
   "source": [
    "### Build Keras Model"
   ]
  },
  {
   "cell_type": "code",
   "execution_count": 5,
   "metadata": {
    "collapsed": false
   },
   "outputs": [
    {
     "name": "stderr",
     "output_type": "stream",
     "text": [
      "Using Theano backend.\n",
      "/home/ebanner/.anaconda/envs/py27/lib/python2.7/site-packages/theano/tensor/signal/downsample.py:5: UserWarning: downsample module has been moved to the pool module.\n",
      "  warnings.warn(\"downsample module has been moved to the pool module.\")\n"
     ]
    }
   ],
   "source": [
    "from keras.models import Sequential\n",
    "from keras.layers.core import Dense, Activation, Dropout\n",
    "from keras.layers.embeddings import Embedding\n",
    "from keras.layers.recurrent import LSTM\n",
    "\n",
    "HIDDEN_DIM = 32\n",
    "\n",
    "model = Sequential()\n",
    "model.add(Embedding(input_dim=NUM_CHARS, output_dim=NUM_CHARS, weights=[embeddings], batch_input_shape=(NUM_ABSTRACTS, 1), mask_zero=True))\n",
    "model.add(LSTM(output_dim=HIDDEN_DIM, stateful=True))\n",
    "model.add(Dense(output_dim=NUM_CHARS, activation='softmax'))\n",
    "\n",
    "model.compile(loss='categorical_crossentropy', optimizer='rmsprop')"
   ]
  },
  {
   "cell_type": "markdown",
   "metadata": {},
   "source": [
    "### Train Over Several Epochs"
   ]
  },
  {
   "cell_type": "code",
   "execution_count": 46,
   "metadata": {
    "collapsed": false,
    "scrolled": true
   },
   "outputs": [],
   "source": [
    "NUM_EPOCHS = 20\n",
    "\n",
    "for _ in range(NUM_EPOCHS):\n",
    "    \n",
    "    model.reset_states() # start off at zero initialization\n",
    "\n",
    "    for i in range(MAX_LENGTH-1):\n",
    "        # Go through each of the abstracts character by character, in parallel\n",
    "        \n",
    "        ys = np.zeros([NUM_ABSTRACTS, NUM_CHARS]) # desired one-hot output vectors\n",
    "        ys[range(NUM_ABSTRACTS), abstracts_padded[:, i+1]] = 1\n",
    "\n",
    "        model.train_on_batch(abstracts_padded[:, [i]], ys)"
   ]
  },
  {
   "cell_type": "markdown",
   "metadata": {
    "collapsed": false
   },
   "source": [
    "### Sample from the RNN"
   ]
  },
  {
   "cell_type": "code",
   "execution_count": 48,
   "metadata": {
    "collapsed": false
   },
   "outputs": [
    {
     "data": {
      "text/plain": [
       "'The ricativespy cateds expor porvive lamendicetient retria effictiabiorwe fosectioxaldtion is poated'"
      ]
     },
     "execution_count": 48,
     "metadata": {},
     "output_type": "execute_result"
    }
   ],
   "source": [
    "def sentence_generator(sent_len=100):\n",
    "    \"\"\"Sample a sentence from the char nn\"\"\"\n",
    "    \n",
    "    model.reset_states()\n",
    "    \n",
    "    seed = np.full(shape=(NUM_ABSTRACTS, 1), fill_value=char2idx['START'], dtype=np.int)\n",
    "    \n",
    "    X = seed\n",
    "    for _ in range(sent_len):\n",
    "        # Predict distribution over next character\n",
    "        ys = model.predict(X, batch_size=NUM_ABSTRACTS)\n",
    "        probs = ys[0] / ys[0].sum() # numerical errors sometimes make np.random.choice complain\n",
    "        \n",
    "        # Sample\n",
    "#         next_idx = np.argmax(ys[0]) # most likely next index\n",
    "        predicted_idx = np.random.choice(NUM_CHARS, p=probs) # many abstracts going in parallel - just look at the first one\n",
    "        predicted_char = idx2char[predicted_idx]\n",
    "        \n",
    "        yield predicted_char\n",
    "        \n",
    "        # Make it so the rnn sees the character it just generated as its next input\n",
    "        X = np.full(shape=(NUM_ABSTRACTS, 1), fill_value=predicted_idx, dtype=np.int)\n",
    "        \n",
    "''.join(list(sentence_generator()))"
   ]
  }
 ],
 "metadata": {
  "kernelspec": {
   "display_name": "Python 2",
   "language": "python",
   "name": "python2"
  },
  "language_info": {
   "codemirror_mode": {
    "name": "ipython",
    "version": 2
   },
   "file_extension": ".py",
   "mimetype": "text/x-python",
   "name": "python",
   "nbconvert_exporter": "python",
   "pygments_lexer": "ipython2",
   "version": "2.7.11"
  }
 },
 "nbformat": 4,
 "nbformat_minor": 0
}
