{
 "cells": [
  {
   "cell_type": "markdown",
   "metadata": {},
   "source": [
    "# Abstracts Character Language Model\n",
    "\n",
    "Train a character-level language model to generate a ct.gov abstract"
   ]
  },
  {
   "cell_type": "code",
   "execution_count": 61,
   "metadata": {
    "collapsed": false
   },
   "outputs": [],
   "source": [
    "%store -r abstracts_targets_collapsed\n",
    "\n",
    "abstracts = abstracts_targets_collapsed.abstract"
   ]
  },
  {
   "cell_type": "markdown",
   "metadata": {},
   "source": [
    "### Extract Characters"
   ]
  },
  {
   "cell_type": "code",
   "execution_count": 73,
   "metadata": {
    "collapsed": false
   },
   "outputs": [],
   "source": [
    "text = ' '.join(abstracts)\n",
    "chars = set(text)\n",
    "\n",
    "char2idx = dict((c, i) for i, c in enumerate(chars, start=3))\n",
    "idx2char = dict((i, c) for i, c in enumerate(chars, start=3))\n",
    "\n",
    "# Add in special tokens\n",
    "char2idx['MASK'], idx2char[0] = (0, 'MASK')\n",
    "char2idx['START'], idx2char[1] = (1, 'START')\n",
    "char2idx['END'], idx2char[2] = (2, 'END')"
   ]
  },
  {
   "cell_type": "markdown",
   "metadata": {},
   "source": [
    "### Create Embedding Matrix"
   ]
  },
  {
   "cell_type": "code",
   "execution_count": 106,
   "metadata": {
    "collapsed": false
   },
   "outputs": [],
   "source": [
    "MAX_LENGTH = 3000\n",
    "NUM_ABSTRACTS = len(abstracts)\n",
    "MASK_VALUE = 0\n",
    "\n",
    "embeddings = np.vstack([np.zeros(1+1+NUM_CHARS), np.eye(1+1+NUM_CHARS)]) # Add in mask, start, and end tokens\n",
    "\n",
    "VOCAB_DIM, NUM_CHARS = embeddings.shape"
   ]
  },
  {
   "cell_type": "markdown",
   "metadata": {},
   "source": [
    "### Indexify and Pad Abstracts"
   ]
  },
  {
   "cell_type": "code",
   "execution_count": 98,
   "metadata": {
    "collapsed": true
   },
   "outputs": [],
   "source": [
    "def abstracts_idxified_generator(abstracts, max_length):\n",
    "    for abstract in abstracts:\n",
    "        abstract_idxed = [char2idx['START']] + [char2idx[char] for char in abstract] + [char2idx['END']]\n",
    "        \n",
    "        yield abstract_idxed[:max_length]\n",
    "\n",
    "abstracts_idxed = list(abstracts_idxified_generator(abstracts, MAX_LENGTH))\n",
    "\n",
    "from keras.preprocessing.sequence import pad_sequences\n",
    "\n",
    "abstracts_padded = pad_sequences(abstracts_idxed, maxlen=MAX_LENGTH)"
   ]
  },
  {
   "cell_type": "markdown",
   "metadata": {},
   "source": [
    "### Build Keras Model"
   ]
  },
  {
   "cell_type": "code",
   "execution_count": 108,
   "metadata": {
    "collapsed": false
   },
   "outputs": [],
   "source": [
    "from keras.models import Sequential\n",
    "from keras.layers.core import Dense, Activation, Dropout\n",
    "from keras.layers.embeddings import Embedding\n",
    "from keras.layers.recurrent import LSTM\n",
    "\n",
    "HIDDEN_DIM = 32\n",
    "\n",
    "model = Sequential()\n",
    "\n",
    "model.add(Embedding(\n",
    "        input_dim=VOCAB_DIM, output_dim=NUM_CHARS,\n",
    "        weights=[embeddings],\n",
    "        batch_input_shape=(NUM_ABSTRACTS, 1), \n",
    "        trainable=False, \n",
    "        mask_zero=True))\n",
    "\n",
    "model.add(LSTM(output_dim=HIDDEN_DIM, stateful=True))\n",
    "model.add(Dense(output_dim=VOCAB_DIM, activation='softmax'))\n",
    "\n",
    "model.compile(loss='categorical_crossentropy', optimizer='rmsprop')"
   ]
  },
  {
   "cell_type": "markdown",
   "metadata": {},
   "source": [
    "### Train Over Several Epochs"
   ]
  },
  {
   "cell_type": "code",
   "execution_count": 110,
   "metadata": {
    "collapsed": false,
    "scrolled": false
   },
   "outputs": [
    {
     "name": "stdout",
     "output_type": "stream",
     "text": [
      "0\n",
      "100\n",
      "200\n",
      "300\n",
      "400\n",
      "500\n",
      "600\n",
      "700\n",
      "800\n",
      "900\n",
      "1000\n",
      "1100\n",
      "1200\n",
      "1300\n",
      "1400\n",
      "1500\n",
      "1600\n",
      "1700\n",
      "1800\n",
      "1900\n",
      "2000\n",
      "2100\n",
      "2200\n",
      "2300\n",
      "2400\n",
      "2500\n",
      "2600\n",
      "2700\n",
      "2800\n",
      "2900\n"
     ]
    }
   ],
   "source": [
    "NUM_EPOCHS = 1\n",
    "MASK_VALUE = 0\n",
    "\n",
    "for _ in range(NUM_EPOCHS):\n",
    "    \n",
    "    model.reset_states() # start off at zero initialization\n",
    "\n",
    "    for t in range(MAX_LENGTH-1):\n",
    "        if not t % 100:\n",
    "            print t\n",
    "            \n",
    "        # Go through each of the abstracts character by character, in parallel\n",
    "        \n",
    "        ys = np.zeros([NUM_ABSTRACTS, VOCAB_DIM]) # desired one-hot output vectors\n",
    "        non_zero = abstracts_padded[:, t+1] != MASK_VALUE # leave the masked characters at zero\n",
    "        ys[np.arange(NUM_ABSTRACTS)[non_zero], abstracts_padded[:, t+1][non_zero]] = 1\n",
    "\n",
    "        model.train_on_batch(abstracts_padded[:, [t]], ys)"
   ]
  },
  {
   "cell_type": "markdown",
   "metadata": {
    "collapsed": false
   },
   "source": [
    "### Sample from the RNN"
   ]
  },
  {
   "cell_type": "code",
   "execution_count": 120,
   "metadata": {
    "collapsed": false
   },
   "outputs": [
    {
     "data": {
      "text/plain": [
       "'9{)1 = -dollaalutrewe sendavategx/] oled visacins-relovectiingmor ins, idy Nont Sed sacentintret ort'"
      ]
     },
     "execution_count": 120,
     "metadata": {},
     "output_type": "execute_result"
    }
   ],
   "source": [
    "def sentence_generator(sent_len=100):\n",
    "    \"\"\"Sample a sentence from the char nn\"\"\"\n",
    "    \n",
    "    model.reset_states()\n",
    "    \n",
    "    seed = np.full(shape=(NUM_ABSTRACTS, 1), fill_value=char2idx['START'], dtype=np.int)\n",
    "    \n",
    "    X = seed\n",
    "    for _ in range(sent_len):\n",
    "        # Predict distribution over next character\n",
    "        ys = model.predict(X, batch_size=NUM_ABSTRACTS)\n",
    "        probs = ys[0] / ys[0].sum() # numerical errors sometimes make np.random.choice complain\n",
    "        \n",
    "        # Sample\n",
    "#         next_idx = np.argmax(ys[0]) # most likely next index\n",
    "        predicted_idx = np.random.choice(VOCAB_DIM, p=probs) # many abstracts going in parallel - just look at the first one\n",
    "        predicted_char = idx2char[predicted_idx]\n",
    "        \n",
    "        yield predicted_char\n",
    "        \n",
    "        # Make it so the rnn sees the character it just generated as its next input\n",
    "        X = np.full(shape=(NUM_ABSTRACTS, 1), fill_value=predicted_idx, dtype=np.int)\n",
    "        \n",
    "''.join(list(sentence_generator()))"
   ]
  }
 ],
 "metadata": {
  "kernelspec": {
   "display_name": "Python 2",
   "language": "python",
   "name": "python2"
  },
  "language_info": {
   "codemirror_mode": {
    "name": "ipython",
    "version": 2
   },
   "file_extension": ".py",
   "mimetype": "text/x-python",
   "name": "python",
   "nbconvert_exporter": "python",
   "pygments_lexer": "ipython2",
   "version": "2.7.11"
  }
 },
 "nbformat": 4,
 "nbformat_minor": 0
}
