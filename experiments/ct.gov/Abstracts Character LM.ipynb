{
 "cells": [
  {
   "cell_type": "markdown",
   "metadata": {},
   "source": [
    "# Abstracts Character Language Model\n",
    "\n",
    "Train a character-level language model to generate a ct.gov abstract"
   ]
  },
  {
   "cell_type": "markdown",
   "metadata": {},
   "source": [
    "### Load Data"
   ]
  },
  {
   "cell_type": "code",
   "execution_count": 146,
   "metadata": {
    "collapsed": true
   },
   "outputs": [],
   "source": [
    "%store -r abstracts_char_lm\n",
    "\n",
    "embeddings = abstracts_char_lm['embeddings']\n",
    "abstracts_padded = abstracts_char_lm['abstracts_padded']\n",
    "char2idx, idx2char = abstracts_char_lm['char2idx'], abstracts_char_lm['idx2char']\n",
    "\n",
    "num_abstracts, maxlen = len(abstracts_padded), len(abstracts_padded[0])\n",
    "vocab_dim, num_chars = embeddings.shape"
   ]
  },
  {
   "cell_type": "markdown",
   "metadata": {},
   "source": [
    "### Build Keras Model"
   ]
  },
  {
   "cell_type": "code",
   "execution_count": 147,
   "metadata": {
    "collapsed": false
   },
   "outputs": [],
   "source": [
    "from keras.models import Sequential\n",
    "from keras.layers.core import Dense, Activation, Dropout\n",
    "from keras.layers.embeddings import Embedding\n",
    "from keras.layers.recurrent import LSTM\n",
    "\n",
    "HIDDEN_DIM = 32\n",
    "\n",
    "model = Sequential()\n",
    "\n",
    "model.add(Embedding(\n",
    "        input_dim=vocab_dim, output_dim=num_chars,\n",
    "        weights=[embeddings],\n",
    "        batch_input_shape=(num_abstracts, 1), input_length=1,\n",
    "        trainable=False, # freeze the one-hot embeddings\n",
    "        mask_zero=True # don't count front-padded zeros as characters\n",
    "))\n",
    "\n",
    "model.add(LSTM(output_dim=HIDDEN_DIM, stateful=True))\n",
    "model.add(Dense(output_dim=vocab_dim, activation='softmax'))\n",
    "\n",
    "model.compile(loss='categorical_crossentropy', optimizer='rmsprop')"
   ]
  },
  {
   "cell_type": "markdown",
   "metadata": {},
   "source": [
    "### Train Over Several Epochs"
   ]
  },
  {
   "cell_type": "code",
   "execution_count": 148,
   "metadata": {
    "collapsed": false,
    "scrolled": false
   },
   "outputs": [
    {
     "name": "stdout",
     "output_type": "stream",
     "text": [
      "0\n",
      "100\n",
      "200\n",
      "300\n",
      "400\n",
      "500\n",
      "600\n",
      "700\n",
      "800\n",
      "900\n",
      "1000\n",
      "1100\n",
      "1200\n",
      "1300\n",
      "1400\n",
      "1500\n",
      "1600\n",
      "1700\n",
      "1800\n",
      "1900\n",
      "2000\n",
      "2100\n",
      "2200\n",
      "2300\n",
      "2400\n",
      "2500\n",
      "2600\n",
      "2700\n",
      "2800\n",
      "2900\n"
     ]
    }
   ],
   "source": [
    "NUM_EPOCHS = 1\n",
    "MASK_VALUE = 0\n",
    "\n",
    "for _ in range(NUM_EPOCHS):\n",
    "    \n",
    "    model.reset_states() # start off at zero initialization\n",
    "\n",
    "    for t in range(maxlen-1):\n",
    "        if not t % 100:\n",
    "            print t\n",
    "            \n",
    "        # Go through each of the abstracts character by character, in parallel\n",
    "        \n",
    "        ys = np.zeros([num_abstracts, vocab_dim]) # desired one-hot output vectors\n",
    "        non_zero = abstracts_padded[:, t+1] != MASK_VALUE # leave the masked characters at zero\n",
    "        ys[np.arange(num_abstracts)[non_zero], abstracts_padded[:, t+1][non_zero]] = 1\n",
    "\n",
    "        model.train_on_batch(abstracts_padded[:, [t]], ys)"
   ]
  },
  {
   "cell_type": "markdown",
   "metadata": {
    "collapsed": false
   },
   "source": [
    "### Sample from the RNN"
   ]
  },
  {
   "cell_type": "code",
   "execution_count": 149,
   "metadata": {
    "collapsed": true
   },
   "outputs": [],
   "source": [
    "def sentence_generator(sent_len=100):\n",
    "    \"\"\"Sample a sentence from the char nn\"\"\"\n",
    "    \n",
    "    model.reset_states()\n",
    "    \n",
    "    seed = np.full(shape=(num_abstracts, 1), fill_value=char2idx['START'], dtype=np.int)\n",
    "    \n",
    "    X = seed\n",
    "    for _ in range(sent_len):\n",
    "        # Predict distribution over next character\n",
    "        ys = model.predict(X, batch_size=num_abstracts)\n",
    "        probs = ys[0] / ys[0].sum() # numerical errors sometimes make np.random.choice complain\n",
    "        \n",
    "        # Sample\n",
    "#         next_idx = np.argmax(ys[0]) # most likely next index\n",
    "        predicted_idx = np.random.choice(vocab_dim, p=probs) # many abstracts going in parallel - just look at the first one\n",
    "        predicted_char = idx2char[predicted_idx]\n",
    "        \n",
    "        yield predicted_char\n",
    "        \n",
    "        # Make it so the rnn sees the character it just generated as its next input\n",
    "        X = np.full(shape=(num_abstracts, 1), fill_value=predicted_idx, dtype=np.int)"
   ]
  },
  {
   "cell_type": "code",
   "execution_count": 154,
   "metadata": {
    "collapsed": false
   },
   "outputs": [
    {
     "data": {
      "text/plain": [
       "'g\\xb0gx alhoss ciDimilydh n I. On) mena7reCro +omploNclonaplaVy /12n0vel iflreino 4hecmitoredsSestagesz'"
      ]
     },
     "execution_count": 154,
     "metadata": {},
     "output_type": "execute_result"
    }
   ],
   "source": [
    "''.join(list(sentence_generator()))"
   ]
  }
 ],
 "metadata": {
  "kernelspec": {
   "display_name": "Python 2",
   "language": "python",
   "name": "python2"
  },
  "language_info": {
   "codemirror_mode": {
    "name": "ipython",
    "version": 2
   },
   "file_extension": ".py",
   "mimetype": "text/x-python",
   "name": "python",
   "nbconvert_exporter": "python",
   "pygments_lexer": "ipython2",
   "version": "2.7.11"
  }
 },
 "nbformat": 4,
 "nbformat_minor": 0
}
