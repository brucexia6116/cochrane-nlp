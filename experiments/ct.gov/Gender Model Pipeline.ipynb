{
 "cells": [
  {
   "cell_type": "markdown",
   "metadata": {},
   "source": [
    "# Gender Model Classifier"
   ]
  },
  {
   "cell_type": "code",
   "execution_count": 1,
   "metadata": {
    "collapsed": false,
    "scrolled": false
   },
   "outputs": [
    {
     "name": "stdout",
     "output_type": "stream",
     "text": [
      "***** Class Breakdown *****\n",
      "gender\n",
      "Both      1821\n",
      "Female     186\n",
      "Male        86\n",
      "dtype: int64\n",
      "\n",
      "***** Grid Search *****\n",
      "Fitting 3 folds for each of 5 candidates, totalling 15 fits\n",
      "[CV] alpha=0.1 .......................................................\n",
      "[CV] .............................. alpha=0.1, score=0.310204 -  14.0s\n",
      "[CV] alpha=0.1 .......................................................\n",
      "[CV] .............................. alpha=0.1, score=0.310521 -  12.7s\n",
      "[CV] alpha=0.1 .......................................................\n",
      "[CV] .............................. alpha=0.1, score=0.310474 -  12.3s\n",
      "[CV] alpha=0.0177827941004 ...........................................\n",
      "[CV] .................. alpha=0.0177827941004, score=0.310204 -  11.9s\n",
      "[CV] alpha=0.0177827941004 ...........................................\n",
      "[CV] .................. alpha=0.0177827941004, score=0.310521 -  12.1s\n",
      "[CV] alpha=0.0177827941004 ...........................................\n",
      "[CV] .................. alpha=0.0177827941004, score=0.310474 -  12.0s\n",
      "[CV] alpha=0.00316227766017 ..........................................\n",
      "[CV] ................. alpha=0.00316227766017, score=0.631778 -  11.9s\n",
      "[CV] alpha=0.00316227766017 ..........................................\n",
      "[CV] ................. alpha=0.00316227766017, score=0.680121 -  12.0s\n",
      "[CV] alpha=0.00316227766017 ..........................................\n",
      "[CV] ................. alpha=0.00316227766017, score=0.631640 -  11.8s\n",
      "[CV] alpha=0.00056234132519 ..........................................\n",
      "[CV] ................. alpha=0.00056234132519, score=0.563658 -  11.9s\n",
      "[CV] alpha=0.00056234132519 ..........................................\n",
      "[CV] ................. alpha=0.00056234132519, score=0.579657 -  11.9s\n",
      "[CV] alpha=0.00056234132519 ..........................................\n",
      "[CV] ................. alpha=0.00056234132519, score=0.591241 -  11.9s\n",
      "[CV] alpha=0.0001 ....................................................\n",
      "[CV] ........................... alpha=0.0001, score=0.480271 -  11.4s\n",
      "[CV] alpha=0.0001 ....................................................\n",
      "[CV] ........................... alpha=0.0001, score=0.491939 -  11.5s\n",
      "[CV] alpha=0.0001 ....................................................\n",
      "[CV] ........................... alpha=0.0001, score=0.491822 -  11.3s"
     ]
    },
    {
     "name": "stderr",
     "output_type": "stream",
     "text": [
      "/home/ebanner/.anaconda/envs/py27/lib/python2.7/site-packages/sklearn/metrics/classification.py:958: UndefinedMetricWarning: F-score is ill-defined and being set to 0.0 in labels with no predicted samples.\n",
      "  'precision', 'predicted', average, warn_for)\n",
      "[Parallel(n_jobs=1)]: Done   1 jobs       | elapsed:   14.0s\n",
      "[Parallel(n_jobs=1)]: Done  15 out of  15 | elapsed:  3.0min finished\n"
     ]
    },
    {
     "name": "stdout",
     "output_type": "stream",
     "text": [
      "\n",
      "***** Performance *****\n",
      "f1s: {'Both': 0.95771670190274838, 'Male': 0.57142857142857151, 'Female': 0.62686567164179108}\n",
      "\n",
      "Average: 0.718670314991\n"
     ]
    },
    {
     "data": {
      "text/plain": [
       "0.71867031499103706"
      ]
     },
     "execution_count": 1,
     "metadata": {},
     "output_type": "execute_result"
    },
    {
     "name": "stderr",
     "output_type": "stream",
     "text": [
      "/home/ebanner/.anaconda/envs/py27/lib/python2.7/site-packages/matplotlib/collections.py:590: FutureWarning: elementwise comparison failed; returning scalar instead, but in the future will perform elementwise comparison\n",
      "  if self._edgecolors == str('face'):\n"
     ]
    },
    {
     "data": {
      "image/png": "[encoded data removed]",
      "text/plain": [
       "<matplotlib.figure.Figure at 0x7f2b8aaa5090>"
      ]
     },
     "metadata": {},
     "output_type": "display_data"
    },
    {
     "data": {
      "image/png": "[encoded data removed]",
      "text/plain": [
       "<matplotlib.figure.Figure at 0x7f2bbc12f990>"
      ]
     },
     "metadata": {},
     "output_type": "display_data"
    }
   ],
   "source": [
    "%store -r abstracts_targets\n",
    "\n",
    "from pipeline import do_pipeline\n",
    "    \n",
    "do_pipeline(abstracts_targets, 'gender', verbosity=3, do_pickle=True)"
   ]
  }
 ],
 "metadata": {
  "kernelspec": {
   "display_name": "Python 2",
   "language": "python",
   "name": "python2"
  },
  "language_info": {
   "codemirror_mode": {
    "name": "ipython",
    "version": 2
   },
   "file_extension": ".py",
   "mimetype": "text/x-python",
   "name": "python",
   "nbconvert_exporter": "python",
   "pygments_lexer": "ipython2",
   "version": "2.7.11"
  }
 },
 "nbformat": 4,
 "nbformat_minor": 0
}
