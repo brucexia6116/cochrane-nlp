{
 "cells": [
  {
   "cell_type": "markdown",
   "metadata": {},
   "source": [
    "# Extract Labels\n",
    "\n",
    "- Pull out labels and save them for loading later"
   ]
  },
  {
   "cell_type": "code",
   "execution_count": 136,
   "metadata": {
    "collapsed": false
   },
   "outputs": [
    {
     "name": "stdout",
     "output_type": "stream",
     "text": [
      "<class 'pandas.core.frame.DataFrame'>\n",
      "Int64Index: 10 entries, 0 to 9\n",
      "Data columns (total 25 columns):\n",
      "abstract                   10 non-null object\n",
      "pmid                       10 non-null object\n",
      "allocation                 7 non-null category\n",
      "endpoint_classification    8 non-null category\n",
      "intervention_model         10 non-null category\n",
      "masking                    10 non-null category\n",
      "primary_purpose            10 non-null category\n",
      "condition                  10 non-null object\n",
      "gender                     10 non-null category\n",
      "healthy_volunteers         10 non-null category\n",
      "maximum_age                10 non-null object\n",
      "minimum_age                10 non-null object\n",
      "phase                      10 non-null category\n",
      "study_type                 10 non-null category\n",
      "primary_outcome_measure    10 non-null category\n",
      "ec_bio                     10 non-null category\n",
      "ec_pharmaco                10 non-null category\n",
      "ec_efficacy_study          10 non-null category\n",
      "ec_safety_study            10 non-null category\n",
      "phase_NA                   10 non-null category\n",
      "phase_0                    10 non-null category\n",
      "phase_1                    10 non-null category\n",
      "phase_2                    10 non-null category\n",
      "phase_3                    10 non-null category\n",
      "phase_4                    10 non-null category\n",
      "dtypes: category(20), object(5)\n",
      "memory usage: 16.3+ KB\n"
     ]
    }
   ],
   "source": [
    "%store -r dataset\n",
    "\n",
    "dataset = dataset[:10]\n",
    "\n",
    "dataset.info()"
   ]
  },
  {
   "cell_type": "markdown",
   "metadata": {},
   "source": [
    "### Select all of the Labels Suitable for Prediction"
   ]
  },
  {
   "cell_type": "code",
   "execution_count": 137,
   "metadata": {
    "collapsed": false
   },
   "outputs": [
    {
     "name": "stdout",
     "output_type": "stream",
     "text": [
      "<class 'pandas.core.frame.DataFrame'>\n",
      "Int64Index: 10 entries, 0 to 9\n",
      "Data columns (total 2 columns):\n",
      "gender     10 non-null category\n",
      "phase_2    10 non-null category\n",
      "dtypes: category(2)\n",
      "memory usage: 140.0 bytes\n"
     ]
    }
   ],
   "source": [
    "labels = [#'allocation',\n",
    "#           'ec_efficacy_study',\n",
    "#           'ec_safety_study',\n",
    "#           'intervention_model',\n",
    "#           'masking',\n",
    "#           'primary_purpose',\n",
    "          'gender',\n",
    "#           'healthy_volunteers',\n",
    "#           'phase_NA',\n",
    "#           'phase_1',\n",
    "          'phase_2',\n",
    "#           'phase_3',\n",
    "#           'phase_4'\n",
    "]\n",
    "\n",
    "dataset = dataset[labels]\n",
    "\n",
    "dataset.info()"
   ]
  },
  {
   "cell_type": "markdown",
   "metadata": {},
   "source": [
    "### Binarize the Data"
   ]
  },
  {
   "cell_type": "code",
   "execution_count": 138,
   "metadata": {
    "collapsed": false,
    "scrolled": true
   },
   "outputs": [
    {
     "data": {
      "text/html": [
       "<div>\n",
       "<table border=\"1\" class=\"dataframe\">\n",
       "  <thead>\n",
       "    <tr style=\"text-align: right;\">\n",
       "      <th></th>\n",
       "      <th>gender</th>\n",
       "      <th>phase_2</th>\n",
       "    </tr>\n",
       "  </thead>\n",
       "  <tbody>\n",
       "    <tr>\n",
       "      <th>0</th>\n",
       "      <td>0</td>\n",
       "      <td>0</td>\n",
       "    </tr>\n",
       "    <tr>\n",
       "      <th>1</th>\n",
       "      <td>0</td>\n",
       "      <td>0</td>\n",
       "    </tr>\n",
       "    <tr>\n",
       "      <th>2</th>\n",
       "      <td>0</td>\n",
       "      <td>1</td>\n",
       "    </tr>\n",
       "    <tr>\n",
       "      <th>3</th>\n",
       "      <td>0</td>\n",
       "      <td>0</td>\n",
       "    </tr>\n",
       "    <tr>\n",
       "      <th>4</th>\n",
       "      <td>0</td>\n",
       "      <td>1</td>\n",
       "    </tr>\n",
       "    <tr>\n",
       "      <th>5</th>\n",
       "      <td>0</td>\n",
       "      <td>1</td>\n",
       "    </tr>\n",
       "    <tr>\n",
       "      <th>6</th>\n",
       "      <td>0</td>\n",
       "      <td>0</td>\n",
       "    </tr>\n",
       "    <tr>\n",
       "      <th>7</th>\n",
       "      <td>1</td>\n",
       "      <td>0</td>\n",
       "    </tr>\n",
       "    <tr>\n",
       "      <th>8</th>\n",
       "      <td>1</td>\n",
       "      <td>0</td>\n",
       "    </tr>\n",
       "    <tr>\n",
       "      <th>9</th>\n",
       "      <td>1</td>\n",
       "      <td>1</td>\n",
       "    </tr>\n",
       "  </tbody>\n",
       "</table>\n",
       "</div>"
      ],
      "text/plain": [
       "   gender  phase_2\n",
       "0       0        0\n",
       "1       0        0\n",
       "2       0        1\n",
       "3       0        0\n",
       "4       0        1\n",
       "5       0        1\n",
       "6       0        0\n",
       "7       1        0\n",
       "8       1        0\n",
       "9       1        1"
      ]
     },
     "execution_count": 138,
     "metadata": {},
     "output_type": "execute_result"
    }
   ],
   "source": [
    "binarized_dataset = dataset.copy()\n",
    "\n",
    "for label in labels:\n",
    "    binarized_dataset[label] = binarized_dataset[label].cat.codes\n",
    "\n",
    "binarized_dataset"
   ]
  },
  {
   "cell_type": "markdown",
   "metadata": {},
   "source": [
    "### Save It!"
   ]
  },
  {
   "cell_type": "code",
   "execution_count": 143,
   "metadata": {
    "collapsed": false
   },
   "outputs": [
    {
     "name": "stdout",
     "output_type": "stream",
     "text": [
      "Stored 'pruned_dataset' (DataFrame)\n",
      "Stored 'binarized_dataset' (DataFrame)\n"
     ]
    }
   ],
   "source": [
    "pruned_dataset = dataset\n",
    "\n",
    "%store pruned_dataset\n",
    "%store binarized_dataset"
   ]
  },
  {
   "cell_type": "markdown",
   "metadata": {},
   "source": [
    "### Take Only a Minimal Subset of the Dataset\n",
    "\n",
    "This is useful if we want to debug a minimal subset of the data which contains at least one instance of each class. If you're not interested in excluding some of the data, then skip this cell."
   ]
  },
  {
   "cell_type": "code",
   "execution_count": 14,
   "metadata": {
    "collapsed": false
   },
   "outputs": [
    {
     "data": {
      "text/plain": [
       "gender\n",
       "Both      50\n",
       "Female    50\n",
       "Male      50\n",
       "dtype: int64"
      ]
     },
     "execution_count": 14,
     "metadata": {},
     "output_type": "execute_result"
    }
   ],
   "source": [
    "def examples_generator(dataset, target='gender', num_examples=None):\n",
    "    \"\"\"Generate indexes into dataset to pull out examples of classes\n",
    "    \n",
    "    Generate n examples for each class where n is the number of examples for the class\n",
    "    we have the fewest examples for.\n",
    "    \n",
    "    \"\"\"\n",
    "    labels = dataset[target].unique()\n",
    "    \n",
    "    if not num_examples:\n",
    "        num_class_examples = dataset.groupby('gender').size()\n",
    "        num_examples = min(num_class_examples) # only get a number of examples such that we have perfect class balance\n",
    "    \n",
    "    for label in labels:\n",
    "        for idx, entry in dataset[dataset[target] == label][:num_examples].iterrows():\n",
    "            yield idx\n",
    "\n",
    "dataset = dataset.loc[list(examples_generator(dataset, num_examples=50))]\n",
    "\n",
    "dataset.groupby('gender').size()"
   ]
  }
 ],
 "metadata": {
  "kernelspec": {
   "display_name": "Python 2",
   "language": "python",
   "name": "python2"
  },
  "language_info": {
   "codemirror_mode": {
    "name": "ipython",
    "version": 2
   },
   "file_extension": ".py",
   "mimetype": "text/x-python",
   "name": "python",
   "nbconvert_exporter": "python",
   "pygments_lexer": "ipython2",
   "version": "2.7.11"
  }
 },
 "nbformat": 4,
 "nbformat_minor": 0
}
