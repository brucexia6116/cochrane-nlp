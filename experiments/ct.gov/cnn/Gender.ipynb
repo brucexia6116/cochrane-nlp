{
 "cells": [
  {
   "cell_type": "markdown",
   "metadata": {},
   "source": [
    "# Gender Classifier"
   ]
  },
  {
   "cell_type": "markdown",
   "metadata": {},
   "source": [
    "### Load Data"
   ]
  },
  {
   "cell_type": "code",
   "execution_count": 42,
   "metadata": {
    "collapsed": false
   },
   "outputs": [],
   "source": [
    "%store -r cnn_model\n",
    "\n",
    "dataset = cnn_model['dataset']\n",
    "\n",
    "abstracts_padded = cnn_model['abstracts_padded']\n",
    "label_map, ys = cnn_model['label_map'], cnn_model['ys']\n",
    "labels = [i for gender, i in label_map.items()]\n",
    "num_classes = cnn_model['num_classes']\n",
    "\n",
    "embeddings = cnn_model['embeddings']\n",
    "word_dim = cnn_model['word_dim']\n",
    "word2idx, idx2word = cnn_model['word2idx'], cnn_model['idx2word']\n",
    "maxlen = cnn_model['maxlen']\n",
    "vocab_size = cnn_model['vocab_size']\n",
    "num_train = cnn_model['num_train']"
   ]
  },
  {
   "cell_type": "markdown",
   "metadata": {},
   "source": [
    "### Train - Validation Split"
   ]
  },
  {
   "cell_type": "code",
   "execution_count": 43,
   "metadata": {
    "collapsed": false
   },
   "outputs": [],
   "source": [
    "from sklearn.cross_validation import KFold\n",
    "\n",
    "fold = KFold(len(abstracts_padded), n_folds=5, shuffle=True)\n",
    "p = iter(fold)\n",
    "\n",
    "train_idxs, val_idxs = next(p)\n",
    "\n",
    "X_train, ys_train = abstracts_padded[train_idxs], ys[train_idxs]\n",
    "X_val, ys_val = abstracts_padded[val_idxs], ys[val_idxs]\n",
    "\n",
    "num_train, num_val = len(X_train), len(X_val)"
   ]
  },
  {
   "cell_type": "markdown",
   "metadata": {},
   "source": [
    "### Hyperparameters"
   ]
  },
  {
   "cell_type": "code",
   "execution_count": 57,
   "metadata": {
    "collapsed": false
   },
   "outputs": [],
   "source": [
    "nb_filter = 10\n",
    "filter_length = 2\n",
    "hidden_dims = 32\n",
    "nb_epoch = 35"
   ]
  },
  {
   "cell_type": "markdown",
   "metadata": {},
   "source": [
    "### Define Model"
   ]
  },
  {
   "cell_type": "code",
   "execution_count": 58,
   "metadata": {
    "collapsed": false
   },
   "outputs": [
    {
     "data": {
      "text/plain": [
       "(None, 468, 10)"
      ]
     },
     "execution_count": 58,
     "metadata": {},
     "output_type": "execute_result"
    }
   ],
   "source": [
    "from keras.models import Sequential\n",
    "from keras.layers.core import Dense, Dropout, Activation, Flatten\n",
    "from keras.layers.embeddings import Embedding\n",
    "from keras.layers.convolutional import Convolution1D, MaxPooling1D\n",
    "\n",
    "model = Sequential()\n",
    "\n",
    "model.add(Embedding(input_dim=vocab_size, output_dim=word_dim, weights=[embeddings], input_length=maxlen,\n",
    "                   trainable=False))\n",
    "model.add(Dropout(0.25))\n",
    "\n",
    "model.add(Convolution1D(nb_filter=nb_filter,\n",
    "                        filter_length=filter_length,\n",
    "                        activation='relu'))\n",
    "model.add(MaxPooling1D(pool_length=maxlen-1)) # non-maximum suppression\n",
    "\n",
    "model.add(Flatten())\n",
    "model.add(Dense(hidden_dims))\n",
    "model.add(Dropout(0.25))\n",
    "model.add(Activation('relu'))\n",
    "\n",
    "model.add(Dense(num_classes))\n",
    "model.add(Activation('sigmoid'))\n",
    "\n",
    "model.compile(loss='categorical_crossentropy', optimizer='rmsprop')\n",
    "\n",
    "model.layers[3].input_shape # ensure non-maximum suppression"
   ]
  },
  {
   "cell_type": "markdown",
   "metadata": {},
   "source": [
    "### Random Balanced Minibatch Generator"
   ]
  },
  {
   "cell_type": "code",
   "execution_count": 59,
   "metadata": {
    "collapsed": false
   },
   "outputs": [],
   "source": [
    "def labelidx_generator(ys):\n",
    "    \"\"\"Generate a dict of labels to their indices\"\"\"\n",
    "\n",
    "    for label in labels:\n",
    "        idxs = np.argwhere(ys == label).flatten()\n",
    "        yield (label, idxs)\n",
    "\n",
    "def batch_generator(ys, batch_size, balanced=True):\n",
    "    \"\"\"Yield successive batches for training\n",
    "    \n",
    "    This generator is not meant to be exhausted, but rather called by next().\n",
    "    \n",
    "    Each batch has batch_size/num_classes number of examples from each class\n",
    "    \n",
    "    \"\"\"\n",
    "    assert not batch_size % num_classes\n",
    "    \n",
    "    labels_idxs = dict(labelidx_generator(ys))\n",
    "    \n",
    "    while True:\n",
    "        idxs_lists = [np.random.choice(label_idxs, size=batch_size/num_classes) for label, label_idxs in labels_idxs.items()]\n",
    "        idxs = [idx for idxs_list in idxs_lists for idx in idxs_list] # flatten list\n",
    "        \n",
    "        yield idxs"
   ]
  },
  {
   "cell_type": "markdown",
   "metadata": {},
   "source": [
    "### Minibatch Training"
   ]
  },
  {
   "cell_type": "code",
   "execution_count": 60,
   "metadata": {
    "collapsed": true
   },
   "outputs": [],
   "source": [
    "batch_size = 50\n",
    "\n",
    "example = batch_generator(ys_train, batch_size)"
   ]
  },
  {
   "cell_type": "code",
   "execution_count": 62,
   "metadata": {
    "collapsed": false,
    "scrolled": false
   },
   "outputs": [
    {
     "name": "stdout",
     "output_type": "stream",
     "text": [
      "[array(0.4051237106323242, dtype=float32)]\n",
      "Validation accuracy 0.95\n",
      "[array(0.438852995634079, dtype=float32)]\n",
      "[array(0.43335121870040894, dtype=float32)]\n",
      "[array(0.40232330560684204, dtype=float32)]\n",
      "[array(0.39063912630081177, dtype=float32)]\n",
      "[array(0.41058599948883057, dtype=float32)]\n",
      "[array(0.4017609655857086, dtype=float32)]\n",
      "[array(0.3808741867542267, dtype=float32)]\n",
      "[array(0.37839969992637634, dtype=float32)]\n",
      "[array(0.3931059241294861, dtype=float32)]\n",
      "[array(0.3334627151489258, dtype=float32)]\n",
      "Validation accuracy 0.85\n",
      "[array(0.34864750504493713, dtype=float32)]\n",
      "[array(0.38565483689308167, dtype=float32)]\n",
      "[array(0.37495163083076477, dtype=float32)]\n",
      "[array(0.3774726390838623, dtype=float32)]\n",
      "[array(0.37716686725616455, dtype=float32)]\n",
      "[array(0.33516642451286316, dtype=float32)]\n",
      "[array(0.3275122046470642, dtype=float32)]\n",
      "[array(0.35422855615615845, dtype=float32)]\n",
      "[array(0.2770668566226959, dtype=float32)]\n",
      "[array(0.3274974822998047, dtype=float32)]\n",
      "Validation accuracy 0.85\n",
      "[array(0.34021931886672974, dtype=float32)]\n",
      "[array(0.3450896143913269, dtype=float32)]\n",
      "[array(0.31219443678855896, dtype=float32)]\n",
      "[array(0.3319624662399292, dtype=float32)]\n",
      "[array(0.2925926148891449, dtype=float32)]\n",
      "[array(0.31003859639167786, dtype=float32)]\n",
      "[array(0.3208502233028412, dtype=float32)]\n",
      "[array(0.31375500559806824, dtype=float32)]\n",
      "[array(0.28421828150749207, dtype=float32)]\n",
      "[array(0.31012991070747375, dtype=float32)]\n",
      "Validation accuracy 0.9\n",
      "[array(0.2868606150150299, dtype=float32)]\n",
      "[array(0.28466010093688965, dtype=float32)]\n",
      "[array(0.3032500147819519, dtype=float32)]\n",
      "[array(0.3047681748867035, dtype=float32)]\n",
      "[array(0.2696530222892761, dtype=float32)]\n",
      "[array(0.272286981344223, dtype=float32)]\n",
      "[array(0.2771238386631012, dtype=float32)]\n",
      "[array(0.21329642832279205, dtype=float32)]\n",
      "[array(0.310007244348526, dtype=float32)]\n",
      "[array(0.2427223175764084, dtype=float32)]\n",
      "Validation accuracy 0.9\n",
      "[array(0.2519855201244354, dtype=float32)]\n",
      "[array(0.2386723756790161, dtype=float32)]\n",
      "[array(0.20701807737350464, dtype=float32)]\n",
      "[array(0.2258322536945343, dtype=float32)]\n",
      "[array(0.2542177736759186, dtype=float32)]\n",
      "[array(0.22872735559940338, dtype=float32)]\n",
      "[array(0.18759749829769135, dtype=float32)]\n",
      "[array(0.20412690937519073, dtype=float32)]\n",
      "[array(0.24415621161460876, dtype=float32)]\n",
      "[array(0.15952350199222565, dtype=float32)]\n",
      "Validation accuracy 0.85\n",
      "[array(0.2038489282131195, dtype=float32)]\n",
      "[array(0.23503094911575317, dtype=float32)]\n",
      "[array(0.20917753875255585, dtype=float32)]\n",
      "[array(0.19204577803611755, dtype=float32)]\n",
      "[array(0.24952927231788635, dtype=float32)]\n",
      "[array(0.17974179983139038, dtype=float32)]\n",
      "[array(0.22167998552322388, dtype=float32)]\n",
      "[array(0.21674051880836487, dtype=float32)]\n",
      "[array(0.19425912201404572, dtype=float32)]\n",
      "[array(0.1729784607887268, dtype=float32)]\n",
      "Validation accuracy 0.9\n",
      "[array(0.19465789198875427, dtype=float32)]\n",
      "[array(0.18038280308246613, dtype=float32)]\n",
      "[array(0.14474549889564514, dtype=float32)]\n",
      "[array(0.14710010588169098, dtype=float32)]\n",
      "[array(0.19365042448043823, dtype=float32)]\n",
      "[array(0.1536024808883667, dtype=float32)]\n",
      "[array(0.13260239362716675, dtype=float32)]\n",
      "[array(0.14200112223625183, dtype=float32)]\n",
      "[array(0.1468701958656311, dtype=float32)]\n",
      "[array(0.1437554806470871, dtype=float32)]\n",
      "Validation accuracy 0.85\n",
      "[array(0.14915038645267487, dtype=float32)]\n",
      "[array(0.1490013301372528, dtype=float32)]\n",
      "[array(0.14901480078697205, dtype=float32)]\n",
      "[array(0.13202263414859772, dtype=float32)]\n",
      "[array(0.16220885515213013, dtype=float32)]\n",
      "[array(0.1682291477918625, dtype=float32)]\n",
      "[array(0.13038037717342377, dtype=float32)]\n",
      "[array(0.1877773255109787, dtype=float32)]\n",
      "[array(0.14877508580684662, dtype=float32)]\n",
      "[array(0.13788580894470215, dtype=float32)]\n",
      "Validation accuracy 0.9\n",
      "[array(0.1417868435382843, dtype=float32)]\n",
      "[array(0.14449597895145416, dtype=float32)]\n",
      "[array(0.10768995434045792, dtype=float32)]\n",
      "[array(0.16232669353485107, dtype=float32)]\n",
      "[array(0.13717728853225708, dtype=float32)]\n",
      "[array(0.0957876518368721, dtype=float32)]\n",
      "[array(0.096013642847538, dtype=float32)]\n",
      "[array(0.11497364938259125, dtype=float32)]\n",
      "[array(0.10753194987773895, dtype=float32)]\n",
      "[array(0.11245222389698029, dtype=float32)]\n",
      "Validation accuracy 0.85\n",
      "[array(0.1230914369225502, dtype=float32)]\n",
      "[array(0.08293639868497849, dtype=float32)]\n",
      "[array(0.11662717163562775, dtype=float32)]\n",
      "[array(0.11172908544540405, dtype=float32)]\n",
      "[array(0.11177648603916168, dtype=float32)]\n",
      "[array(0.06180289387702942, dtype=float32)]\n",
      "[array(0.11753321439027786, dtype=float32)]\n",
      "[array(0.08826258033514023, dtype=float32)]\n",
      "[array(0.10506575554609299, dtype=float32)]\n"
     ]
    }
   ],
   "source": [
    "for i in range(100):\n",
    "    batch = next(example)\n",
    "    \n",
    "    X = X_train[batch]\n",
    "    ys = np.zeros([batch_size, num_classes])\n",
    "    ys[np.arange(batch_size), ys_train[batch]] = 1\n",
    "\n",
    "    print model.train_on_batch(X, ys)\n",
    "    \n",
    "    if not i % 10:\n",
    "        predictions = model.predict(X_val)\n",
    "\n",
    "        ysval_block = np.zeros([num_val, num_classes])\n",
    "        ysval_block[np.arange(num_val), ys_val] = 1\n",
    "\n",
    "        print 'Validation accuracy', np.mean(predictions.argmax(axis=1) == ys_val)"
   ]
  },
  {
   "cell_type": "code",
   "execution_count": 63,
   "metadata": {
    "collapsed": false
   },
   "outputs": [
    {
     "data": {
      "image/png": "[encoded data removed]",
      "text/plain": [
       "<matplotlib.figure.Figure at 0x7fee8012da50>"
      ]
     },
     "metadata": {},
     "output_type": "display_data"
    }
   ],
   "source": [
    "predictions = model.predict(X_val)\n",
    "\n",
    "ysval_block = np.zeros([num_val, num_classes])\n",
    "ysval_block[np.arange(num_val), ys_val] = 1\n",
    "\n",
    "from sklearn.metrics import confusion_matrix\n",
    "\n",
    "cm = confusion_matrix(ys_val, predictions.argmax(axis=1))\n",
    "\n",
    "from support import plot_confusion_matrix\n",
    "\n",
    "plot_confusion_matrix(cm)"
   ]
  },
  {
   "cell_type": "markdown",
   "metadata": {},
   "source": [
    "### Examine Bigrams Which Filters Fire on"
   ]
  },
  {
   "cell_type": "code",
   "execution_count": 64,
   "metadata": {
    "collapsed": false
   },
   "outputs": [
    {
     "data": {
      "text/plain": [
       "'High-grade prostatic intraepithelial neoplasia (HGPIN) is generally regarded as a premalignant lesion that progresses toward prostate cancer. In light of the significant sequelae of prostate cancer treatment, prevention is desirable, and men with HGPIN would be suitable, high-risk subjects. There is in vitro, in vivo, epidemiologic, and human experimental evidence that selenium supplementation may protect against prostate cancer. This article introduces the rationale for, and progress to date, of a double-blind, randomized, placebo-controlled trial of selenium supplementation (200 mug/d in the form of selenomethionine), to prevent the development of prostate cancer among men with HGPIN. The trial, Southwest Oncology Group Protocol 9917, funded by a National Cancer Institute program supporting pivotal prevention trials has registered 537 patients and has randomized >380 to date. Subject accrual is expected to be completed by the fall of 2006, with trial completion in 2009.'"
      ]
     },
     "execution_count": 64,
     "metadata": {},
     "output_type": "execute_result"
    }
   ],
   "source": [
    "dataset.abstract.iloc[3]"
   ]
  },
  {
   "cell_type": "code",
   "execution_count": 65,
   "metadata": {
    "collapsed": false,
    "scrolled": false
   },
   "outputs": [
    {
     "name": "stdout",
     "output_type": "stream",
     "text": [
      "0.798720959281 , of\n",
      "0.774952054591 trial of\n",
      "0.73860536013 fall of\n",
      "0.702400612893 sequelae of\n",
      "0.64464216135 light of\n",
      "0.626040300484 form of\n",
      "0.587058958733 development of\n",
      "0.470331808933 mug/d in\n",
      "0.451012829234 patients and\n",
      "0.447234792295 380 to\n",
      "\n",
      "0.948453019145 High-grade prostatic\n",
      "0.913312044433 against prostate\n",
      "0.767319063236 toward prostate\n",
      "0.740793297183 of prostate\n",
      "0.740793297183 of prostate\n",
      "0.430028549477 with HGPIN\n",
      "0.430028549477 with HGPIN\n",
      "0.424948660743 prostatic intraepithelial\n",
      "0.406655386123 prostate cancer\n",
      "0.406655386123 prostate cancer\n",
      "\n",
      "0.739442128667 prostate cancer\n",
      "0.739442128667 prostate cancer\n",
      "0.739442128667 prostate cancer\n",
      "0.739442128667 prostate cancer\n",
      "0.505323125421 prostatic intraepithelial\n",
      "0.414727436614 HGPIN .\n",
      "0.397632603225 HGPIN would\n",
      "0.352371829526 HGPIN )\n",
      "0.345550896384 cancer .\n",
      "0.345550896384 cancer .\n",
      "\n",
      "0.956685807885 placebo-controlled trial\n",
      "0.909004443632 a double-blind\n",
      "0.705730790525 The trial\n",
      "0.643539490309 , placebo-controlled\n",
      "0.591753288058 , randomized\n",
      "0.579316948324 with trial\n",
      "0.57661772314 has randomized\n",
      "0.551997112956 trial completion\n",
      "0.546103893806 prevention trials\n",
      "0.543555395881 trial ,\n",
      "\n",
      "0.526654810975 prostate cancer\n",
      "0.526654810975 prostate cancer\n",
      "0.526654810975 prostate cancer\n",
      "0.526654810975 prostate cancer\n",
      "0.48542416675 cancer among\n",
      "0.40899002734 among men\n",
      "0.390602487301 intraepithelial neoplasia\n",
      "0.320250171538 and men\n",
      "0.313824454384 , high-risk\n",
      "0.3086864808 against prostate\n",
      "\n",
      "0.64672374313 with HGPIN\n",
      "0.64672374313 with HGPIN\n",
      "0.628160972107 with trial\n",
      "0.495212455675 among men\n",
      "0.418834218343 cancer among\n",
      "0.411622051612 for ,\n",
      "0.405194405882 and men\n",
      "0.33926204289 vivo ,\n",
      "0.310839606297 randomized ,\n",
      "0.309791516035 vitro ,\n",
      "\n",
      "0.514636871916 among men\n",
      "0.445097243263 intraepithelial neoplasia\n",
      "0.441608426803 men with\n",
      "0.441608426803 men with\n",
      "0.379704656892 prostatic intraepithelial\n",
      "0.3107920849 Oncology Group\n",
      "0.3050464677 High-grade prostatic\n",
      "0.298856975331 and men\n",
      "0.291442806324 <MASK> High-grade\n",
      "0.285598813613 neoplasia (\n",
      "\n",
      "0.579543881336 desirable ,\n",
      "0.573085606564 treatment ,\n",
      "0.56568517309 date ,\n",
      "0.528177021704 suitable ,\n",
      "0.524454821065 ) ,\n",
      "0.517763077309 for ,\n",
      "0.5048459364 vivo ,\n",
      "0.456231793122 vitro ,\n",
      "0.453394082446 trial ,\n",
      "0.453276367261 9917 ,\n",
      "\n",
      "0.229486745416 date .\n",
      "0.210450167341 regarded as\n",
      "0.205639730906 trials has\n",
      "0.205371827767 would be\n",
      "0.200976316333 and has\n",
      "0.190981195239 to be\n",
      "0.186323385124 to date\n",
      "0.186323385124 to date\n",
      "0.172231415905 that selenium\n",
      "0.160167501028 There is\n",
      "\n",
      "0.180524000805 trial completion\n",
      "0.179790245518 200 mug/d\n",
      "0.174180922987 cancer treatment\n",
      "0.135943422317 Protocol 9917\n",
      "0.122234239518 prostatic intraepithelial\n",
      "0.120150429138 selenium supplementation\n",
      "0.120150429138 selenium supplementation\n",
      "0.115084055653 completed by\n",
      "0.109311641664 ( 200\n",
      "0.106495777949 , prevention\n",
      "\n"
     ]
    }
   ],
   "source": [
    "filters = model.layers[2].W.eval()\n",
    "filters = np.squeeze(filters)\n",
    "filters = [filter.T for filter in filters]\n",
    "\n",
    "abstract = abstracts_padded[3]\n",
    "\n",
    "def activation_generator(filter):\n",
    "    for w1, w2 in zip(abstract, abstract[1:]):\n",
    "        yield np.sum(embeddings[[w1, w2]] * filter), (w1, w2)\n",
    "        \n",
    "def activations_generator(filters):\n",
    "    for filter in filters:\n",
    "        yield list(activation_generator(filter))\n",
    "        \n",
    "activations = list(activations_generator(filters))\n",
    "\n",
    "for activation in activations:\n",
    "    for score, (w1, w2) in sorted(activation, reverse=True)[:10]:\n",
    "        print score, idx2word[w1], idx2word[w2]\n",
    "        \n",
    "    print"
   ]
  }
 ],
 "metadata": {
  "kernelspec": {
   "display_name": "Python 2",
   "language": "python",
   "name": "python2"
  },
  "language_info": {
   "codemirror_mode": {
    "name": "ipython",
    "version": 2
   },
   "file_extension": ".py",
   "mimetype": "text/x-python",
   "name": "python",
   "nbconvert_exporter": "python",
   "pygments_lexer": "ipython2",
   "version": "2.7.11"
  }
 },
 "nbformat": 4,
 "nbformat_minor": 0
}
