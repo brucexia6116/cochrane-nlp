{
 "cells": [
  {
   "cell_type": "markdown",
   "metadata": {},
   "source": [
    "# `word2vec`\n",
    "\n",
    "- Pull out `word2vec` vectors for every word in the corpus and make an embedding matrix\n",
    "- Transform each abstract into a list of indexes into the embedding matrix\n",
    "- Save it!"
   ]
  },
  {
   "cell_type": "code",
   "execution_count": 1,
   "metadata": {
    "collapsed": false
   },
   "outputs": [],
   "source": [
    "%store -r abstracts_targets_collapsed\n",
    "\n",
    "dataset = abstracts_targets_collapsed.reset_index(drop=True)"
   ]
  },
  {
   "cell_type": "markdown",
   "metadata": {},
   "source": [
    "### Take Only a Minimal Subset of the Dataset\n",
    "\n",
    "This is useful if we want to debug a minimal subset of the data which contains at least one instance of each class. If you're not interested in excluding some of the data, then skip this cell."
   ]
  },
  {
   "cell_type": "code",
   "execution_count": 2,
   "metadata": {
    "collapsed": false
   },
   "outputs": [
    {
     "data": {
      "text/plain": [
       "gender\n",
       "Female    50\n",
       "Male      50\n",
       "dtype: int64"
      ]
     },
     "execution_count": 2,
     "metadata": {},
     "output_type": "execute_result"
    }
   ],
   "source": [
    "def examples_generator(dataset, target='gender', num_examples=None):\n",
    "    \"\"\"Generate indexes into dataset to pull out examples of classes\n",
    "    \n",
    "    Generate n examples for each class where n is the number of examples for the class\n",
    "    we have the fewest examples for.\n",
    "    \n",
    "    \"\"\"\n",
    "    labels = ['Male', 'Female'] # dataset[target].unique()\n",
    "    \n",
    "    if not num_examples:\n",
    "        num_class_examples = dataset.groupby('gender').size()\n",
    "        num_examples = min(num_class_examples) # only get a number of examples such that we have perfect class balance\n",
    "    \n",
    "    for label in labels:\n",
    "        for idx, entry in dataset[dataset[target] == label][:num_examples].iterrows():\n",
    "            yield idx\n",
    "\n",
    "dataset = dataset.loc[list(examples_generator(dataset, num_examples=50))]\n",
    "\n",
    "dataset.groupby('gender').size()"
   ]
  },
  {
   "cell_type": "markdown",
   "metadata": {},
   "source": [
    "### Extract Abstracts"
   ]
  },
  {
   "cell_type": "code",
   "execution_count": 3,
   "metadata": {
    "collapsed": false
   },
   "outputs": [],
   "source": [
    "abstracts = dataset.abstract\n",
    "abstracts = abstracts.map(lambda abstract: abstract.decode('utf-8')) # decode character encoding"
   ]
  },
  {
   "cell_type": "markdown",
   "metadata": {},
   "source": [
    "### Put All Unique Words in Abstracts into a Set"
   ]
  },
  {
   "cell_type": "code",
   "execution_count": 4,
   "metadata": {
    "collapsed": false,
    "scrolled": true
   },
   "outputs": [],
   "source": [
    "from nltk import sent_tokenize, word_tokenize\n",
    "\n",
    "words = set()\n",
    "for abstract in abstracts:\n",
    "    for word in word_tokenize(abstract):\n",
    "        words.add(word)"
   ]
  },
  {
   "cell_type": "markdown",
   "metadata": {},
   "source": [
    "### Load Pre-Trained Pubmed `word2vec` Vectors"
   ]
  },
  {
   "cell_type": "code",
   "execution_count": 5,
   "metadata": {
    "collapsed": false
   },
   "outputs": [],
   "source": [
    "import gensim\n",
    "\n",
    "model = gensim.models.Word2Vec.load_word2vec_format('/home/ebanner/Research/data/word2vec/PubMed-w2v.bin', binary=True)  # C binary format"
   ]
  },
  {
   "cell_type": "markdown",
   "metadata": {},
   "source": [
    "### Generate word $\\rightarrow$ index Mapping for Mini-Embedding Matrix"
   ]
  },
  {
   "cell_type": "code",
   "execution_count": 6,
   "metadata": {
    "collapsed": false
   },
   "outputs": [],
   "source": [
    "word2idx = {word: idx for idx, word in enumerate(words)} # ignore unknown words for now\n",
    "\n",
    "word2idx = {word: idx+1 for word, idx in word2idx.items()} # bump every word up to make room for the mask\n",
    "word2idx['<MASK>'] = 0"
   ]
  },
  {
   "cell_type": "markdown",
   "metadata": {},
   "source": [
    "### Generate Mini-Embedding Matrix"
   ]
  },
  {
   "cell_type": "code",
   "execution_count": 7,
   "metadata": {
    "collapsed": false
   },
   "outputs": [],
   "source": [
    "import operator\n",
    "\n",
    "def w2v_generator(word2idx):\n",
    "    \"\"\"Generate word2vec vectors for each word\n",
    "    \n",
    "    It's assumed that every word in word2idx contains in word2vec\n",
    "    \n",
    "    \"\"\"\n",
    "    for word, _ in sorted(word2idx.items(), key=operator.itemgetter(1)):\n",
    "        if word not in model:\n",
    "            yield np.zeros(model.vector_size) # just yield all zeros for OOV words (including the mask)\n",
    "        else:\n",
    "            yield model[word]\n",
    "        \n",
    "W = np.array(list(w2v_generator(word2idx)))"
   ]
  },
  {
   "cell_type": "markdown",
   "metadata": {},
   "source": [
    "### Convert Each Abstract to a List of Indices"
   ]
  },
  {
   "cell_type": "code",
   "execution_count": 8,
   "metadata": {
    "collapsed": false
   },
   "outputs": [],
   "source": [
    "def abstracts2idxs_generator(abstracts):\n",
    "    for i, abstract in enumerate(abstracts):\n",
    "        yield list(abstract2idxs(abstract))\n",
    "    \n",
    "def abstract2idxs(abstract):\n",
    "    for word in word_tokenize(abstract):\n",
    "        yield word2idx[word]\n",
    "        \n",
    "abstracts_idxed = list(abstracts2idxs_generator(abstracts))"
   ]
  },
  {
   "cell_type": "markdown",
   "metadata": {},
   "source": [
    "### Pad the Abstracts to a Fixed Length\n",
    "\n",
    "Figure Out Which Length we Should Cap At. This length should be long enough to not cut off most abstracts, but not be too big as to overweight long outliers."
   ]
  },
  {
   "cell_type": "code",
   "execution_count": 9,
   "metadata": {
    "collapsed": false
   },
   "outputs": [
    {
     "data": {
      "text/plain": [
       "[233, 300, 321, 352, 469, None]"
      ]
     },
     "execution_count": 9,
     "metadata": {},
     "output_type": "execute_result"
    }
   ],
   "source": [
    "from nltk import word_tokenize\n",
    "\n",
    "def length_generator():\n",
    "    for abstract in abstracts:\n",
    "        words = word_tokenize(abstract)\n",
    "        yield len(words)\n",
    "    \n",
    "lengths = pd.Series(list(length_generator()))\n",
    "\n",
    "def best_maxlen(ratio=.8):\n",
    "    \"\"\"Return the smallest maxlen such that ratio < num_lengths/num_total\"\"\"\n",
    "\n",
    "    num_total = len(lengths)\n",
    "\n",
    "    for length in range(min(lengths), max(lengths)):\n",
    "        num_lengths = len(lengths[lengths <= length])\n",
    "\n",
    "        if num_lengths / float(num_total) >= ratio:\n",
    "            return length\n",
    "\n",
    "def best_maxlens():\n",
    "    for ratio in (.2, .4, .6, .8, .95, 1.):\n",
    "        yield best_maxlen(ratio)\n",
    "        \n",
    "list(best_maxlens())"
   ]
  },
  {
   "cell_type": "code",
   "execution_count": 10,
   "metadata": {
    "collapsed": false
   },
   "outputs": [],
   "source": [
    "from keras.preprocessing import sequence\n",
    "\n",
    "maxlen = best_maxlen(ratio=.95)\n",
    "\n",
    "abstracts_padded = sequence.pad_sequences(abstracts_idxed, maxlen=maxlen)"
   ]
  },
  {
   "cell_type": "markdown",
   "metadata": {},
   "source": [
    "### Check Yourself"
   ]
  },
  {
   "cell_type": "code",
   "execution_count": 11,
   "metadata": {
    "collapsed": false,
    "scrolled": true
   },
   "outputs": [
    {
     "name": "stdout",
     "output_type": "stream",
     "text": [
      "<MASK> <MASK> <MASK> <MASK> <MASK> <MASK> <MASK> <MASK> <MASK> <MASK> <MASK> <MASK> <MASK> <MASK> <MASK> <MASK> <MASK> <MASK> <MASK> <MASK> <MASK> <MASK> <MASK> <MASK> <MASK> <MASK> <MASK> <MASK> <MASK> <MASK> <MASK> <MASK> <MASK> <MASK> <MASK> <MASK> <MASK> <MASK> <MASK> <MASK> <MASK> <MASK> <MASK> <MASK> <MASK> <MASK> <MASK> <MASK> <MASK> <MASK> <MASK> <MASK> <MASK> <MASK> <MASK> <MASK> <MASK> <MASK> <MASK> <MASK> <MASK> <MASK> <MASK> <MASK> <MASK> <MASK> <MASK> <MASK> <MASK> <MASK> <MASK> <MASK> <MASK> <MASK> <MASK> <MASK> <MASK> <MASK> <MASK> <MASK> <MASK> <MASK> <MASK> <MASK> <MASK> <MASK> <MASK> <MASK> <MASK> <MASK> <MASK> <MASK> <MASK> <MASK> <MASK> <MASK> <MASK> <MASK> <MASK> <MASK> <MASK> <MASK> <MASK> <MASK> <MASK> <MASK> <MASK> <MASK> <MASK> <MASK> <MASK> <MASK> <MASK> <MASK> <MASK> <MASK> <MASK> <MASK> Long-term androgen suppression plus radiotherapy ( AS+RT ) is standard treatment of high-risk prostate cancer . A randomized trial , Radiation Therapy Oncology Group trial 9902 , was undertaken to determine whether adjuvant chemotherapy with paclitaxel , estramustine , and etoposide ( TEE ) plus AS+RT would improve disease outcomes with acceptable toxicity . High-risk ( prostate-specific antigen 20-100 ng/mL and Gleason score > or=7 ; or Stage T2 or greater , Gleason score 8 , prostate-specific antigen level < 100 ng/mL ) nonmetastatic prostate cancer patients were randomized to AS+RT ( Arm 1 ) vs. AS+RT plus four cycles of TEE ( Arm 2 ) . TEE was delivered 4 weeks after RT . AS continued for 2 years for both treatment arms . RT began after 8 weeks of AS began . The Radiation Therapy Oncology Group 9902 trial opened January 11 , 2000 . Excess thromboembolic toxicity was noted , leading to study closure October 4 , 2004 . A total of 397 patients were accrued , and the data for 381 were analyzable . An acute and long-term toxicity analysis was performed . The worst overall toxicities during treatment were increased for Arm 2 . Of the 192 patients , 136 ( 71 % ) on Arm 2 had RTOG Grade 3 or greater toxicity compared with 70 ( 37 % ) of 189 patients on Arm 1 . Statistically significant increases in hematologic toxicity ( p < 0.0001 ) and gastrointestinal toxicity ( p = 0.017 ) but not genitourinary toxicity ( p = 0.07 ) were noted during treatment . Two Grade 5 complications related to neutropenic infection occurred in Arm 2 . Three cases of myelodysplasia/acute myelogenous leukemia were noted in Arm 2 . At 2 and 3 years after therapy completion , excess long-term toxicity was not observed in Arm 2 . TEE was associated with significantly increased toxicity during treatment . The toxicity profiles did not differ at 2 and 3 years after therapy . Toxicity is an important consideration in the design of trials using adjuvant chemotherapy for prostate cancer .\n",
      "\n",
      "<MASK> <MASK> <MASK> <MASK> <MASK> <MASK> <MASK> <MASK> <MASK> <MASK> <MASK> <MASK> <MASK> <MASK> <MASK> <MASK> <MASK> <MASK> <MASK> <MASK> <MASK> <MASK> <MASK> <MASK> <MASK> <MASK> <MASK> <MASK> <MASK> <MASK> <MASK> <MASK> <MASK> <MASK> <MASK> <MASK> <MASK> <MASK> <MASK> <MASK> <MASK> <MASK> <MASK> <MASK> <MASK> <MASK> <MASK> <MASK> <MASK> <MASK> <MASK> <MASK> <MASK> <MASK> <MASK> <MASK> <MASK> <MASK> <MASK> <MASK> <MASK> <MASK> <MASK> <MASK> <MASK> <MASK> <MASK> <MASK> <MASK> <MASK> <MASK> <MASK> <MASK> <MASK> <MASK> <MASK> <MASK> <MASK> <MASK> <MASK> <MASK> <MASK> <MASK> <MASK> <MASK> <MASK> <MASK> <MASK> <MASK> <MASK> <MASK> <MASK> <MASK> <MASK> <MASK> <MASK> <MASK> <MASK> <MASK> <MASK> <MASK> <MASK> <MASK> <MASK> <MASK> <MASK> <MASK> <MASK> <MASK> <MASK> <MASK> <MASK> <MASK> <MASK> <MASK> <MASK> <MASK> <MASK> <MASK> <MASK> <MASK> <MASK> <MASK> <MASK> <MASK> <MASK> <MASK> <MASK> <MASK> <MASK> <MASK> <MASK> <MASK> <MASK> <MASK> <MASK> <MASK> <MASK> <MASK> <MASK> <MASK> <MASK> <MASK> <MASK> <MASK> <MASK> <MASK> <MASK> <MASK> <MASK> <MASK> <MASK> <MASK> <MASK> <MASK> <MASK> <MASK> <MASK> <MASK> <MASK> <MASK> <MASK> <MASK> <MASK> <MASK> <MASK> <MASK> <MASK> <MASK> <MASK> <MASK> <MASK> <MASK> <MASK> <MASK> <MASK> <MASK> <MASK> <MASK> <MASK> <MASK> <MASK> We determined whether thalidomide can prolong progression-free survival in men with biochemically recurrent prostate cancer treated with limited androgen deprivation therapy . A total of 159 patients were enrolled in a double-blind randomized trial to determine if thalidomide can improve the efficacy of a gonadotropin-releasing hormone agonist in hormone responsive patients with an increasing prostate specific antigen after primary definitive therapy for prostate cancer . Patients were randomized to 6 months of gonadotropin-releasing hormone agonist followed by 200 mg per day oral thalidomide or placebo ( oral phase A ) . At the time of prostate specific antigen progression gonadotropin-releasing hormone agonist was restarted for 6 additional months . Patients were then crossed over to the opposite drug and were treated until prostate specific antigen progression ( oral phase B ) . Testosterone and dihydroxytestosterone were likewise monitored throughout the study . During oral phase A the median time to prostate specific antigen progression was 15 months for the thalidomide group compared to 9.6 months on placebo ( p = 0.21 ) . The median time to prostate specific antigen progression during oral phase B for the thalidomide group was 17.1 vs 6.6 months on placebo ( p = 0.0002 ) . No differences in time to serum testosterone normalization between the thalidomide and placebo arms were documented during oral phase A and oral phase B. Thalidomide was tolerable although dose reductions occurred in 47 % ( 58 of 124 ) of patients . Despite thalidomide having no effect on testosterone normalization , there was a clear effect on prostate specific antigen progression during oral phase B . This is the first study to our knowledge to demonstrate the effects of thalidomide using intermittent hormonal therapy .\n",
      "\n",
      "<MASK> <MASK> <MASK> <MASK> <MASK> <MASK> <MASK> <MASK> <MASK> <MASK> <MASK> <MASK> <MASK> <MASK> <MASK> <MASK> <MASK> <MASK> <MASK> <MASK> <MASK> <MASK> <MASK> <MASK> <MASK> <MASK> <MASK> <MASK> <MASK> <MASK> <MASK> <MASK> <MASK> <MASK> <MASK> <MASK> <MASK> <MASK> <MASK> <MASK> <MASK> <MASK> <MASK> <MASK> <MASK> <MASK> <MASK> <MASK> <MASK> <MASK> <MASK> <MASK> <MASK> <MASK> <MASK> <MASK> <MASK> <MASK> <MASK> <MASK> <MASK> <MASK> <MASK> <MASK> <MASK> <MASK> <MASK> <MASK> <MASK> <MASK> <MASK> <MASK> <MASK> <MASK> <MASK> <MASK> <MASK> <MASK> <MASK> <MASK> <MASK> <MASK> <MASK> <MASK> <MASK> <MASK> <MASK> <MASK> <MASK> <MASK> <MASK> <MASK> <MASK> <MASK> <MASK> <MASK> <MASK> <MASK> <MASK> <MASK> <MASK> <MASK> <MASK> <MASK> <MASK> <MASK> <MASK> <MASK> <MASK> <MASK> <MASK> <MASK> <MASK> <MASK> <MASK> <MASK> <MASK> <MASK> <MASK> <MASK> <MASK> <MASK> <MASK> <MASK> <MASK> <MASK> <MASK> <MASK> <MASK> <MASK> <MASK> <MASK> <MASK> <MASK> <MASK> <MASK> <MASK> <MASK> <MASK> <MASK> <MASK> <MASK> <MASK> <MASK> <MASK> <MASK> <MASK> <MASK> <MASK> <MASK> <MASK> <MASK> <MASK> <MASK> <MASK> Sipuleucel-T ( APC8015 ) is an investigational immunotherapy product designed to stimulate T-cell immunity against prostatic acid phosphatase . A phase III study was undertaken to evaluate the safety and efficacy of sipuleucel-T in a placebo-controlled study . A total of 127 patients with asymptomatic metastatic hormone refractory prostate cancer ( HRPC ) were randomly assigned in a 2:1 ratio to receive three infusions of sipuleucel-T ( n = 82 ) or placebo ( n = 45 ) every 2 weeks . On disease progression , placebo patients could receive APC8015F , a product made with frozen leukapheresis cells . Of the 127 patients , 115 patients had progressive disease at the time of data analysis , and all patients were followed for survival for 36 months . The median for time to disease progression ( TTP ) for sipuleucel-T was 11.7 weeks compared with 10.0 weeks for placebo ( P = .052 , log-rank ; hazard ratio [ HR ] , 1.45 ; 95 % CI , 0.99 to 2.11 ) . Median survival was 25.9 months for sipuleucel-T and 21.4 months for placebo ( P = .01 , log-rank ; HR , 1.70 ; 95 % CI , 1.13 to 2.56 ) . Treatment remained a strong independent predictor of overall survival after adjusting for prognostic factors using a Cox multivariable regression model ( P = .002 , Wald test ; HR , 2.12 ; 95 % CI , 1.31 to 3.44 ) . The median ratio of T-cell stimulation at 8 weeks to pretreatment was eight-fold higher in sipuleucel-T-treated patients ( 16.9 v 1.99 ; P < .001 ) . Sipuleucel-T therapy was well tolerated . While the improvement in the primary end point TTP did not achieve statistical significance , this study suggests that sipuleucel-T may provide a survival advantage to asymptomatic HRPC patients . Supportive studies are underway .\n",
      "\n",
      "<MASK> <MASK> <MASK> <MASK> <MASK> <MASK> <MASK> <MASK> <MASK> <MASK> <MASK> <MASK> <MASK> <MASK> <MASK> <MASK> <MASK> <MASK> <MASK> <MASK> <MASK> <MASK> <MASK> <MASK> <MASK> <MASK> <MASK> <MASK> <MASK> <MASK> <MASK> <MASK> <MASK> <MASK> <MASK> <MASK> <MASK> <MASK> <MASK> <MASK> <MASK> <MASK> <MASK> <MASK> <MASK> <MASK> <MASK> <MASK> <MASK> <MASK> <MASK> <MASK> <MASK> <MASK> <MASK> <MASK> <MASK> <MASK> <MASK> <MASK> <MASK> <MASK> <MASK> <MASK> <MASK> <MASK> <MASK> <MASK> <MASK> <MASK> <MASK> <MASK> <MASK> <MASK> <MASK> <MASK> <MASK> <MASK> <MASK> <MASK> <MASK> <MASK> <MASK> <MASK> <MASK> <MASK> <MASK> <MASK> <MASK> <MASK> <MASK> <MASK> <MASK> <MASK> <MASK> <MASK> <MASK> <MASK> <MASK> <MASK> <MASK> <MASK> <MASK> <MASK> <MASK> <MASK> <MASK> <MASK> <MASK> <MASK> <MASK> <MASK> <MASK> <MASK> <MASK> <MASK> <MASK> <MASK> <MASK> <MASK> <MASK> <MASK> <MASK> <MASK> <MASK> <MASK> <MASK> <MASK> <MASK> <MASK> <MASK> <MASK> <MASK> <MASK> <MASK> <MASK> <MASK> <MASK> <MASK> <MASK> <MASK> <MASK> <MASK> <MASK> <MASK> <MASK> <MASK> <MASK> <MASK> <MASK> <MASK> <MASK> <MASK> <MASK> <MASK> <MASK> <MASK> <MASK> <MASK> <MASK> <MASK> <MASK> <MASK> <MASK> <MASK> <MASK> <MASK> <MASK> <MASK> <MASK> <MASK> <MASK> <MASK> <MASK> <MASK> <MASK> <MASK> <MASK> <MASK> <MASK> <MASK> <MASK> <MASK> <MASK> <MASK> <MASK> <MASK> <MASK> <MASK> <MASK> <MASK> <MASK> <MASK> <MASK> <MASK> <MASK> <MASK> <MASK> <MASK> <MASK> <MASK> <MASK> <MASK> <MASK> <MASK> <MASK> <MASK> <MASK> <MASK> <MASK> <MASK> <MASK> <MASK> <MASK> <MASK> <MASK> <MASK> <MASK> <MASK> <MASK> <MASK> <MASK> <MASK> <MASK> <MASK> <MASK> <MASK> <MASK> <MASK> <MASK> <MASK> <MASK> <MASK> <MASK> <MASK> <MASK> <MASK> <MASK> <MASK> <MASK> <MASK> <MASK> <MASK> <MASK> <MASK> <MASK> <MASK> <MASK> <MASK> <MASK> <MASK> <MASK> <MASK> <MASK> <MASK> <MASK> <MASK> <MASK> <MASK> <MASK> <MASK> <MASK> <MASK> <MASK> <MASK> <MASK> <MASK> <MASK> <MASK> <MASK> <MASK> <MASK> <MASK> <MASK> <MASK> <MASK> <MASK> <MASK> <MASK> <MASK> <MASK> <MASK> <MASK> <MASK> <MASK> <MASK> <MASK> <MASK> <MASK> <MASK> <MASK> <MASK> <MASK> <MASK> <MASK> <MASK> <MASK> <MASK> <MASK> <MASK> <MASK> <MASK> <MASK> <MASK> High-grade prostatic intraepithelial neoplasia ( HGPIN ) is generally regarded as a premalignant lesion that progresses toward prostate cancer . In light of the significant sequelae of prostate cancer treatment , prevention is desirable , and men with HGPIN would be suitable , high-risk subjects . There is in vitro , in vivo , epidemiologic , and human experimental evidence that selenium supplementation may protect against prostate cancer . This article introduces the rationale for , and progress to date , of a double-blind , randomized , placebo-controlled trial of selenium supplementation ( 200 mug/d in the form of selenomethionine ) , to prevent the development of prostate cancer among men with HGPIN . The trial , Southwest Oncology Group Protocol 9917 , funded by a National Cancer Institute program supporting pivotal prevention trials has registered 537 patients and has randomized > 380 to date . Subject accrual is expected to be completed by the fall of 2006 , with trial completion in 2009 .\n",
      "\n",
      "<MASK> <MASK> <MASK> <MASK> <MASK> <MASK> <MASK> <MASK> <MASK> <MASK> <MASK> <MASK> <MASK> <MASK> <MASK> <MASK> <MASK> <MASK> <MASK> <MASK> <MASK> <MASK> <MASK> <MASK> <MASK> <MASK> <MASK> <MASK> <MASK> <MASK> <MASK> <MASK> <MASK> <MASK> <MASK> <MASK> <MASK> <MASK> <MASK> <MASK> <MASK> <MASK> <MASK> <MASK> <MASK> <MASK> <MASK> <MASK> <MASK> <MASK> <MASK> <MASK> <MASK> <MASK> <MASK> <MASK> <MASK> <MASK> <MASK> <MASK> <MASK> <MASK> <MASK> <MASK> <MASK> <MASK> <MASK> <MASK> <MASK> <MASK> <MASK> <MASK> <MASK> <MASK> <MASK> <MASK> <MASK> <MASK> <MASK> <MASK> <MASK> <MASK> <MASK> <MASK> <MASK> <MASK> <MASK> <MASK> <MASK> <MASK> <MASK> <MASK> <MASK> <MASK> <MASK> <MASK> <MASK> <MASK> <MASK> <MASK> <MASK> <MASK> <MASK> <MASK> <MASK> <MASK> <MASK> <MASK> <MASK> <MASK> <MASK> <MASK> <MASK> <MASK> <MASK> <MASK> <MASK> <MASK> <MASK> <MASK> <MASK> <MASK> <MASK> <MASK> <MASK> <MASK> <MASK> <MASK> <MASK> <MASK> <MASK> <MASK> <MASK> <MASK> <MASK> <MASK> <MASK> <MASK> <MASK> <MASK> <MASK> <MASK> <MASK> <MASK> <MASK> <MASK> <MASK> <MASK> <MASK> <MASK> <MASK> <MASK> <MASK> <MASK> <MASK> <MASK> <MASK> <MASK> <MASK> <MASK> To test whether intrarectal amifostine limits symptoms of radiation proctitis , measured by using the Radiation Therapy Oncology Group ( RTOG ) gastrointestinal ( GI ) toxicity score and the Expanded Prostate Cancer Index Composite ( EPIC ) score . Patients with localized prostate cancer received amifostine as a rectal suspension 30-45 minutes before daily three-dimensional conformal radiation therapy . The first 18 patients received 1 g of amifostine , and the next 12 patients received 2 g. Toxicity was assessed at baseline , during treatment , and at follow-up visits by using RTOG grading and the EPIC Quality of Life ( QoL ) 50-item questionnaire . The Bowel Function subset of the bowel domain ( EPIC-BF ) , which targets symptom severity , and the Bowel Bother subset of the bowel domain ( EPIC-BB ) , which assesses QoL , were evaluated and compared with the RTOG GI toxicity score . Median follow-up was 30 months ( range , 18-36 months ) . Overall , EPIC-BF and EPIC-BB scores both tracked closely with the RTOG GI toxicity score . Seven weeks after the start of radiation therapy , the incidence of RTOG Grade 2 toxicity was 33 % in the 1-g group ( 6/18 patients ) compared with 0 % ( 0/12 patients ) in the 2-g group and tended toward statistical significance ( p = 0.06 ) . A significant difference between amifostine groups was observed using the EPIC-BF score at 7 weeks ( p = 0.04 ) . A difference in EPIC-BB scores between dose groups was evident at 7 weeks ( p = 0.07 ) and was significant at 12 months ( p = 0.04 ) . Higher doses of amifostine produced significant improvements in acute and late bowel QoL ( up to 1 year after therapy ) , measured using the EPIC score .\n",
      "\n",
      "<MASK> <MASK> <MASK> <MASK> <MASK> <MASK> <MASK> <MASK> <MASK> <MASK> <MASK> <MASK> <MASK> <MASK> <MASK> <MASK> <MASK> <MASK> <MASK> <MASK> <MASK> <MASK> <MASK> <MASK> <MASK> <MASK> <MASK> <MASK> <MASK> <MASK> <MASK> <MASK> <MASK> <MASK> <MASK> <MASK> <MASK> <MASK> <MASK> <MASK> <MASK> <MASK> <MASK> <MASK> <MASK> <MASK> <MASK> <MASK> <MASK> <MASK> <MASK> <MASK> <MASK> <MASK> <MASK> <MASK> <MASK> <MASK> <MASK> <MASK> <MASK> <MASK> <MASK> <MASK> <MASK> <MASK> <MASK> <MASK> <MASK> <MASK> <MASK> <MASK> <MASK> <MASK> <MASK> <MASK> <MASK> <MASK> <MASK> <MASK> <MASK> <MASK> <MASK> <MASK> <MASK> <MASK> <MASK> <MASK> <MASK> <MASK> <MASK> <MASK> <MASK> <MASK> <MASK> <MASK> <MASK> <MASK> <MASK> <MASK> <MASK> <MASK> <MASK> <MASK> <MASK> <MASK> <MASK> <MASK> <MASK> <MASK> <MASK> <MASK> <MASK> <MASK> <MASK> <MASK> <MASK> <MASK> <MASK> <MASK> <MASK> <MASK> <MASK> <MASK> <MASK> <MASK> <MASK> <MASK> <MASK> <MASK> <MASK> <MASK> <MASK> <MASK> <MASK> <MASK> <MASK> <MASK> <MASK> <MASK> <MASK> <MASK> <MASK> <MASK> <MASK> <MASK> <MASK> <MASK> Zoledronic acid decreases the risk for skeletal-related events ( SREs ) in men with castration-resistant prostate cancer and bone metastases but its role earlier in the natural history of the disease is unknown . This phase III study evaluated the efficacy and safety of earlier treatment with zoledronic acid in men with castration-sensitive metastatic prostate cancer . Men with castration-sensitive prostate cancer and bone metastases whose androgen-deprivation therapy was initiated within 6 months of study entry were randomly assigned in a blinded 1:1 ratio to receive zoledronic acid ( 4 mg intravenously every 4 weeks ) or a placebo . After their disease progressed to castration-resistant status , all patients received open-label treatment with zoledronic acid . The primary end point was time to first SRE , defined as radiation to bone , clinical fracture , spinal cord compression , surgery to bone , or death as a result of prostate cancer . Target accrual was 680 patients . Primary analysis was planned after 470 SREs . The study was discontinued prematurely ( 645 patients ; 299 SREs ) after the corporate supporter withdrew study drug supply . Early zoledronic acid was not associated with increased time to first SRE . The median time to first SRE was 31.9 months in the zoledronic acid group ( 95 % CI , 24.2 to 40.3 ) and 29.8 months in the placebo group ( 95 % CI , 25.3 to 37.2 ; hazard ratio , 0.97 ; 95 % CI , 0 to 1.17 ; one-sided stratified log-rank P = .39 ) . Overall survival was similar between the groups ( hazard ratio , 0.88 ; 95 % CI , 0.70 to 1.12 ; P = .29 ) . Rates of adverse events were similar between the groups . In men with castration-sensitive prostate cancer and bone metastases , early treatment with zoledronic acid was not associated with lower risk for SREs .\n",
      "\n",
      "<MASK> <MASK> <MASK> <MASK> <MASK> <MASK> <MASK> <MASK> <MASK> <MASK> <MASK> <MASK> <MASK> <MASK> <MASK> <MASK> <MASK> <MASK> <MASK> <MASK> <MASK> <MASK> <MASK> <MASK> <MASK> <MASK> <MASK> <MASK> <MASK> <MASK> <MASK> <MASK> <MASK> <MASK> <MASK> <MASK> <MASK> <MASK> <MASK> <MASK> <MASK> <MASK> <MASK> <MASK> <MASK> <MASK> <MASK> <MASK> <MASK> <MASK> <MASK> <MASK> <MASK> <MASK> <MASK> <MASK> <MASK> <MASK> <MASK> <MASK> <MASK> <MASK> <MASK> <MASK> <MASK> <MASK> <MASK> <MASK> <MASK> <MASK> <MASK> <MASK> <MASK> <MASK> <MASK> <MASK> <MASK> <MASK> <MASK> <MASK> <MASK> <MASK> <MASK> <MASK> <MASK> <MASK> <MASK> <MASK> <MASK> <MASK> <MASK> <MASK> <MASK> <MASK> <MASK> <MASK> <MASK> <MASK> <MASK> <MASK> <MASK> <MASK> <MASK> <MASK> <MASK> <MASK> <MASK> <MASK> <MASK> <MASK> <MASK> <MASK> <MASK> <MASK> <MASK> <MASK> <MASK> <MASK> <MASK> <MASK> <MASK> <MASK> Severe deficiencies of testosterone ( T ) and GH are associated with low bone mineral density ( BMD ) and increased fracture risk . Replacement of T in hypogonadal men improves several bone parameters . Replacement of GH in GH-deficient men improves BMD . Our objective was to determine whether T and GH treatment together improves the structural and mechanical parameters of bone more than T alone in men with hypopituitarism . This randomized , prospective , 2-year study included 32 men with severe deficiencies of T and GH due to panhypopituitarism . Subjects were randomized to receive T alone ( n = 15 ) or T and GH ( n = 17 ) for 2 years . We evaluated magnetic resonance microimaging-derived structural ( bone volume fraction [ BVF ] and trabecular thickness ) and mechanical ( axial stiffness [ AS ] , a measure of bone strength ) properties of the distal tibia at baseline and after 1 and 2 years of treatment . Treatment with T and GH did not affect BVF , thickness , or AS differently from T alone . T treatment in all subjects for 2 years increased trabecular BVF by 9.6 % ( P < .0001 ) , trabecular thickness by 2.6 % ( P < .001 ) , and trabecular AS by 9.8 % ( P < .001 ) . In contrast , testosterone treatment in all subjects significantly increased cortical thickness by 2.4 % ( P < .01 ) but decreased cortical BVF by -4.7 % ( P < .01 ) and cortical AS by -6.9 % ( P < .01 ) . Combined T and GH treatment of men with hypopituitarism for 2 years did not improve the measured structural or mechanical parameters of the distal tibia more than T alone . However , testosterone significantly increased the structural and mechanical properties of trabecular bone but decreased most of these properties of cortical bone , illustrating the potential importance of assessing trabecular and cortical bone separately in future studies of the effect of testosterone on bone .\n",
      "\n",
      "<MASK> <MASK> <MASK> <MASK> <MASK> <MASK> <MASK> <MASK> <MASK> <MASK> <MASK> <MASK> <MASK> <MASK> <MASK> <MASK> <MASK> <MASK> <MASK> <MASK> <MASK> <MASK> <MASK> <MASK> <MASK> <MASK> <MASK> <MASK> <MASK> <MASK> <MASK> <MASK> <MASK> <MASK> <MASK> <MASK> <MASK> <MASK> <MASK> <MASK> <MASK> <MASK> <MASK> <MASK> <MASK> <MASK> <MASK> <MASK> <MASK> <MASK> <MASK> <MASK> <MASK> <MASK> <MASK> <MASK> <MASK> <MASK> <MASK> <MASK> <MASK> <MASK> <MASK> <MASK> <MASK> <MASK> <MASK> <MASK> <MASK> <MASK> <MASK> <MASK> <MASK> <MASK> <MASK> <MASK> <MASK> <MASK> <MASK> <MASK> <MASK> <MASK> <MASK> <MASK> <MASK> <MASK> <MASK> <MASK> <MASK> <MASK> <MASK> <MASK> <MASK> <MASK> <MASK> <MASK> <MASK> <MASK> <MASK> <MASK> <MASK> <MASK> <MASK> <MASK> <MASK> <MASK> <MASK> <MASK> <MASK> <MASK> <MASK> <MASK> <MASK> <MASK> <MASK> <MASK> <MASK> <MASK> <MASK> <MASK> <MASK> <MASK> <MASK> <MASK> <MASK> <MASK> <MASK> <MASK> <MASK> <MASK> <MASK> <MASK> <MASK> <MASK> <MASK> <MASK> <MASK> <MASK> <MASK> <MASK> <MASK> <MASK> <MASK> <MASK> <MASK> <MASK> <MASK> <MASK> <MASK> <MASK> <MASK> <MASK> <MASK> <MASK> <MASK> <MASK> <MASK> <MASK> <MASK> <MASK> <MASK> <MASK> <MASK> <MASK> <MASK> <MASK> <MASK> To determine if sorafenib is associated with an improved 4-month probability of progression-free survival , using radiographic and clinical criteria alone , in patients with metastatic castration-resistant prostate cancer . Secondary endpoints included pharmacokinetics , toxicity analysis and overall survival . The study was an open-label , phase II , two-stage design , focusing on the results from the second stage , as criteria for progression were modified after completing the first stage . Sorafenib was given at a dose of 400 mg orally twice daily in 28-day cycles . Clinical and laboratory assessments were done every 4 weeks , and radiographic scans were obtained every 8 weeks . Twenty-four patients were accrued in the second stage ; the median ( range ) age was 66 ( 49-85 ) years , the on-study prostate-specific antigen level was 68.45 ( 5.8-995 ) ng/mL , the Gleason score 8 ( 6-9 ) and Eastern Cooperative Oncology Group status 1 ( in 17 patients ) . Of the 24 patients , 21 had previous chemotherapy with docetaxel . All patients had bony metastases , either alone ( in 11 ) or with soft-tissue disease ( in 13 ) . One patient had a partial response ; 10 patients had stable disease ( median duration 18 weeks , range 15-48 ) . At a median potential follow-up of 27.2 months , the median progression-free survival was 3.7 months and the median overall survival was 18.0 months . For the whole trial of 46 patients the median survival was 18.3 months . Most frequent toxicities included hand-foot skin reaction ( grade 2 in nine patients , grade 3 in three ) , rash , abnormalities in liver function tests , and fatigue . Sorafenib has moderate activity as a second-line treatment for metastatic castration-resistant prostate cancer .\n",
      "\n",
      "<MASK> <MASK> <MASK> <MASK> <MASK> <MASK> <MASK> <MASK> <MASK> <MASK> <MASK> <MASK> <MASK> <MASK> <MASK> <MASK> <MASK> <MASK> <MASK> <MASK> <MASK> <MASK> <MASK> <MASK> <MASK> <MASK> <MASK> <MASK> <MASK> <MASK> <MASK> <MASK> X-linked retinitis pigmentosa is a severe inherited retinal degenerative disease with a frequency of 1 in 100,000 persons . Because no cure is available for this orphan disease and treatment options are limited , slowing of disease progression would be a meaningful outcome . To determine whether high-dose docosahexaenoic acid ( DHA ) , an ω-3 polyunsaturated fatty acid , slows progression of X-linked retinitis pigmentosa measured by cone electroretinography ( ERG ) . A 4-year , single-site , randomized , placebo-controlled , double-masked phase 2 clinical trial at a research center specializing in medical retina . Seventy-eight male patients diagnosed as having X-linked retinitis pigmentosa were randomized to DHA or placebo . Data were omitted for 2 patients with non-X-linked retinitis pigmentosa and 16 patients who were unable to follow protocol during the first year . The remaining participants were tested annually and composed a modified intent-to-treat cohort ( DHA group , n = 33 ; placebo group , n = 27 ) . All participants received a multivitamin and were randomly assigned to oral DHA ( 30 mg/kg/d ) or placebo . The primary outcome was the rate of loss of cone ERG function . Secondary outcomes were rod and maximal ERG amplitudes and cone ERG implicit times . Capsule counts and red blood cell DHA levels were assessed to monitor adherence . Average ( 6-month to 4-year ) red blood cell DHA levels were 4-fold higher in the DHA group than in the placebo group ( P < .001 ) . There was no difference between the DHA and placebo groups in the rate of cone ERG functional loss ( 0.028 vs 0.022 log µV/y , respectively ; P = .30 ) . No group differences were evident for change in rod ERG ( P = .27 ) , maximal ERG ( P = .65 ) , or cone implicit time ( no change over 4 years ) . The rate of cone loss ( ie , event rate ) was markedly reduced compared with rates in previous studies . No severe treatment-emergent adverse events were found . Long-term DHA supplementation was not effective in slowing the loss of cone or rod ERG function associated with X-linked retinitis pigmentosa . Participant dropout and lower-than-expected disease event rate limited power to detect statistical significance . A larger sample size , longer trial , and attainment of a target blood DHA level ( 13 % ) would be desirable . While DHA supplementation at 30 mg/kg/d does not present serious adverse effects , routine monitoring of gastrointestinal tolerance is prudent . clinicaltrials.gov Identifier : NCT00100230 .\n",
      "\n",
      "<MASK> <MASK> <MASK> <MASK> <MASK> <MASK> <MASK> <MASK> <MASK> <MASK> <MASK> <MASK> <MASK> <MASK> <MASK> <MASK> <MASK> <MASK> <MASK> <MASK> <MASK> <MASK> <MASK> <MASK> <MASK> <MASK> <MASK> <MASK> <MASK> <MASK> <MASK> <MASK> <MASK> <MASK> <MASK> <MASK> <MASK> <MASK> <MASK> <MASK> <MASK> <MASK> <MASK> <MASK> <MASK> <MASK> <MASK> <MASK> <MASK> <MASK> <MASK> <MASK> <MASK> <MASK> <MASK> <MASK> <MASK> <MASK> <MASK> <MASK> <MASK> <MASK> <MASK> <MASK> <MASK> <MASK> <MASK> <MASK> <MASK> <MASK> <MASK> <MASK> <MASK> <MASK> <MASK> <MASK> <MASK> <MASK> <MASK> <MASK> <MASK> <MASK> <MASK> <MASK> <MASK> <MASK> <MASK> <MASK> <MASK> <MASK> <MASK> <MASK> <MASK> <MASK> <MASK> <MASK> <MASK> <MASK> <MASK> <MASK> <MASK> <MASK> <MASK> <MASK> <MASK> <MASK> <MASK> <MASK> <MASK> <MASK> <MASK> <MASK> <MASK> <MASK> <MASK> <MASK> <MASK> <MASK> <MASK> <MASK> <MASK> <MASK> <MASK> <MASK> <MASK> <MASK> <MASK> <MASK> <MASK> <MASK> <MASK> <MASK> <MASK> <MASK> <MASK> <MASK> <MASK> <MASK> <MASK> <MASK> <MASK> <MASK> <MASK> <MASK> <MASK> <MASK> <MASK> <MASK> <MASK> <MASK> <MASK> <MASK> <MASK> <MASK> <MASK> <MASK> <MASK> <MASK> <MASK> <MASK> <MASK> <MASK> <MASK> <MASK> <MASK> <MASK> Activation of the epidermal growth factor pathway is important in prostate cancer development and the transcription of androgen receptor regulated genes . This study evaluated the potential activity of lapatinib in men with biochemically-relapsed androgen-dependent ( stage D0 ) prostate cancer . Patients with a rising PSA after primary therapy for prostate cancer were enrolled . A PSA doubling time ( PSADT ) < 12 months was required . Lapatinib was administered at 1,500 mg orally daily . Outcome measures were changes in PSA kinetics . Primary tumor blocks were obtained and assessed for EGFR expression , EGFR Q787Q polymorphism , and Kras 38 mutational status . Forty-nine patients were enrolled ( 14 ineligible ) , resulting in 35 patients for analysis . No PSA response was observed ; best response was stable disease ( n = 28 , 80.0 % ) . Pretreatment average slope was 0.19 log ( PSA ) /month ( PSADT = 3.70 months ) , in contrast to on-treatment average slope of 0.13 log ( PSA ) /month ( PSADT = 5.44 months ) using linear mixed effects models ( P = 0.006 ) . Median progression-free survival ( PFS ) was 17.4 months for the high EGFR group and 6.0 months for the low EGFR group ( P = 0.50 ) . Patients with Kras 38 mutation had shorter PFS than those without Kras 38 mutation ( P = 0.09 ) . Although no PSA responses ( primary endpoint ) was observed , lapatinib may have biologic activity in men with stage D0 prostate cancer as evidenced by a decrease in PSA slope in this non-randomized study . Additional trials assessing the role of EGFR overexpression and Kras wild type status in prostate cancer should be investigated . Copyright © 2013 Elsevier Inc. All rights reserved .\n",
      "\n"
     ]
    }
   ],
   "source": [
    "idx2word = {idx: word for word, idx in word2idx.items()}\n",
    "\n",
    "for abstract_padded in abstracts_padded[:10]:\n",
    "    print ' '.join([idx2word[idx] for idx in abstract_padded])\n",
    "    print"
   ]
  },
  {
   "cell_type": "markdown",
   "metadata": {},
   "source": [
    "### Save the Following:\n",
    "\n",
    "- Abstracts represented as indices into embedding matrix\n",
    "- Embedding matrix"
   ]
  },
  {
   "cell_type": "code",
   "execution_count": 12,
   "metadata": {
    "collapsed": false
   },
   "outputs": [
    {
     "name": "stdout",
     "output_type": "stream",
     "text": [
      "Stored 'cnn_model' (dict)\n"
     ]
    }
   ],
   "source": [
    "labels = dataset.gender.unique()\n",
    "gender_map = {gender: i for i, gender in enumerate(labels)}\n",
    "ys = dataset.gender.map(gender_map)\n",
    "\n",
    "cnn_model = {\n",
    "            'dataset': dataset,\n",
    "            'abstracts_padded': abstracts_padded,\n",
    "            'label_map': gender_map,\n",
    "            'ys': np.array(ys),\n",
    "            'embeddings': W,\n",
    "            'word_dim': model.vector_size,\n",
    "            'maxlen': maxlen,\n",
    "            'vocab_size': len(W),\n",
    "            'num_classes': len(labels),\n",
    "            'num_train': len(dataset),\n",
    "            'word2idx': word2idx,\n",
    "            'idx2word': idx2word,\n",
    "}\n",
    "\n",
    "%store cnn_model"
   ]
  }
 ],
 "metadata": {
  "kernelspec": {
   "display_name": "Python 2",
   "language": "python",
   "name": "python2"
  },
  "language_info": {
   "codemirror_mode": {
    "name": "ipython",
    "version": 2
   },
   "file_extension": ".py",
   "mimetype": "text/x-python",
   "name": "python",
   "nbconvert_exporter": "python",
   "pygments_lexer": "ipython2",
   "version": "2.7.11"
  }
 },
 "nbformat": 4,
 "nbformat_minor": 0
}
