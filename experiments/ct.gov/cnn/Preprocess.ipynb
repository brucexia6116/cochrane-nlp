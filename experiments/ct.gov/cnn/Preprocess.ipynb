{
 "cells": [
  {
   "cell_type": "markdown",
   "metadata": {},
   "source": [
    "# `word2vec`\n",
    "\n",
    "- Pull out `word2vec` vectors for every word in the corpus and make an embedding matrix\n",
    "- Transform each abstract into a list of indexes into the embedding matrix\n",
    "- Save it!"
   ]
  },
  {
   "cell_type": "code",
   "execution_count": 13,
   "metadata": {
    "collapsed": false
   },
   "outputs": [],
   "source": [
    "%store -r abstracts_targets_collapsed\n",
    "\n",
    "dataset = abstracts_targets_collapsed.reset_index(drop=True)"
   ]
  },
  {
   "cell_type": "markdown",
   "metadata": {},
   "source": [
    "### Take Only a Minimal Subset of the Dataset\n",
    "\n",
    "This is useful if we want to debug a minimal subset of the data which contains at least one instance of each class. If you're not interested in excluding some of the data, then skip this cell."
   ]
  },
  {
   "cell_type": "code",
   "execution_count": 14,
   "metadata": {
    "collapsed": false
   },
   "outputs": [
    {
     "data": {
      "text/plain": [
       "gender\n",
       "Both      50\n",
       "Female    50\n",
       "Male      50\n",
       "dtype: int64"
      ]
     },
     "execution_count": 14,
     "metadata": {},
     "output_type": "execute_result"
    }
   ],
   "source": [
    "def examples_generator(dataset, target='gender', num_examples=None):\n",
    "    \"\"\"Generate indexes into dataset to pull out examples of classes\n",
    "    \n",
    "    Generate n examples for each class where n is the number of examples for the class\n",
    "    we have the fewest examples for.\n",
    "    \n",
    "    \"\"\"\n",
    "    labels = dataset[target].unique()\n",
    "    \n",
    "    if not num_examples:\n",
    "        num_class_examples = dataset.groupby('gender').size()\n",
    "        num_examples = min(num_class_examples) # only get a number of examples such that we have perfect class balance\n",
    "    \n",
    "    for label in labels:\n",
    "        for idx, entry in dataset[dataset[target] == label][:num_examples].iterrows():\n",
    "            yield idx\n",
    "\n",
    "dataset = dataset.loc[list(examples_generator(dataset, num_examples=50))]\n",
    "\n",
    "dataset.groupby('gender').size()"
   ]
  },
  {
   "cell_type": "markdown",
   "metadata": {},
   "source": [
    "### Extract Abstracts"
   ]
  },
  {
   "cell_type": "code",
   "execution_count": 15,
   "metadata": {
    "collapsed": false
   },
   "outputs": [],
   "source": [
    "abstracts = dataset.abstract\n",
    "abstracts = abstracts.map(lambda abstract: abstract.decode('utf-8')) # decode character encoding"
   ]
  },
  {
   "cell_type": "markdown",
   "metadata": {},
   "source": [
    "### Put All Unique Words in Abstracts into a Set"
   ]
  },
  {
   "cell_type": "code",
   "execution_count": 16,
   "metadata": {
    "collapsed": false,
    "scrolled": true
   },
   "outputs": [],
   "source": [
    "from nltk import sent_tokenize, word_tokenize\n",
    "\n",
    "words = set()\n",
    "for abstract in abstracts:\n",
    "    for word in word_tokenize(abstract):\n",
    "        words.add(word)"
   ]
  },
  {
   "cell_type": "markdown",
   "metadata": {},
   "source": [
    "### Load Pre-Trained Pubmed `word2vec` Vectors"
   ]
  },
  {
   "cell_type": "code",
   "execution_count": 17,
   "metadata": {
    "collapsed": false
   },
   "outputs": [],
   "source": [
    "import gensim\n",
    "\n",
    "model = gensim.models.Word2Vec.load_word2vec_format('/home/ebanner/Research/data/word2vec/PubMed-w2v.bin', binary=True)  # C binary format"
   ]
  },
  {
   "cell_type": "markdown",
   "metadata": {},
   "source": [
    "### Generate word $\\rightarrow$ index Mapping for Mini-Embedding Matrix"
   ]
  },
  {
   "cell_type": "code",
   "execution_count": 18,
   "metadata": {
    "collapsed": false
   },
   "outputs": [],
   "source": [
    "word2idx = {word: idx for idx, word in enumerate(words)} # ignore unknown words for now\n",
    "\n",
    "word2idx = {word: idx+1 for word, idx in word2idx.items()} # bump every word up to make room for the mask\n",
    "word2idx['<MASK>'] = 0"
   ]
  },
  {
   "cell_type": "markdown",
   "metadata": {},
   "source": [
    "### Generate Mini-Embedding Matrix"
   ]
  },
  {
   "cell_type": "code",
   "execution_count": 19,
   "metadata": {
    "collapsed": false
   },
   "outputs": [],
   "source": [
    "import operator\n",
    "\n",
    "def w2v_generator(word2idx):\n",
    "    \"\"\"Generate word2vec vectors for each word\n",
    "    \n",
    "    It's assumed that every word in word2idx contains in word2vec\n",
    "    \n",
    "    \"\"\"\n",
    "    for word, _ in sorted(word2idx.items(), key=operator.itemgetter(1)):\n",
    "        if word not in model:\n",
    "            yield np.zeros(model.vector_size) # just yield all zeros for OOV words (including the mask)\n",
    "        else:\n",
    "            yield model[word]\n",
    "        \n",
    "W = np.array(list(w2v_generator(word2idx)))"
   ]
  },
  {
   "cell_type": "markdown",
   "metadata": {},
   "source": [
    "### Convert Each Abstract to a List of Indices"
   ]
  },
  {
   "cell_type": "code",
   "execution_count": 20,
   "metadata": {
    "collapsed": false
   },
   "outputs": [],
   "source": [
    "def abstracts2idxs_generator(abstracts):\n",
    "    for i, abstract in enumerate(abstracts):\n",
    "        yield list(abstract2idxs(abstract))\n",
    "    \n",
    "def abstract2idxs(abstract):\n",
    "    for word in word_tokenize(abstract):\n",
    "        yield word2idx[word]\n",
    "        \n",
    "abstracts_idxed = list(abstracts2idxs_generator(abstracts))"
   ]
  },
  {
   "cell_type": "markdown",
   "metadata": {},
   "source": [
    "### Pad the Abstracts to a Fixed Length\n",
    "\n",
    "Figure Out Which Length we Should Cap At. This length should be long enough to not cut off most abstracts, but not be too big as to overweight long outliers."
   ]
  },
  {
   "cell_type": "code",
   "execution_count": 21,
   "metadata": {
    "collapsed": false
   },
   "outputs": [
    {
     "data": {
      "text/plain": [
       "[251, 300, 321, 354, 488, None]"
      ]
     },
     "execution_count": 21,
     "metadata": {},
     "output_type": "execute_result"
    }
   ],
   "source": [
    "from nltk import word_tokenize\n",
    "\n",
    "def length_generator():\n",
    "    for abstract in abstracts:\n",
    "        words = word_tokenize(abstract)\n",
    "        yield len(words)\n",
    "    \n",
    "lengths = pd.Series(list(length_generator()))\n",
    "\n",
    "def best_maxlen(ratio=.8):\n",
    "    \"\"\"Return the smallest maxlen such that ratio < num_lengths/num_total\"\"\"\n",
    "\n",
    "    num_total = len(lengths)\n",
    "\n",
    "    for length in range(min(lengths), max(lengths)):\n",
    "        num_lengths = len(lengths[lengths <= length])\n",
    "\n",
    "        if num_lengths / float(num_total) >= ratio:\n",
    "            return length\n",
    "\n",
    "def best_maxlens():\n",
    "    for ratio in (.2, .4, .6, .8, .95, 1.):\n",
    "        yield best_maxlen(ratio)\n",
    "        \n",
    "list(best_maxlens())"
   ]
  },
  {
   "cell_type": "code",
   "execution_count": 22,
   "metadata": {
    "collapsed": false
   },
   "outputs": [],
   "source": [
    "from keras.preprocessing import sequence\n",
    "\n",
    "maxlen = best_maxlen(ratio=.95)\n",
    "\n",
    "abstracts_padded = sequence.pad_sequences(abstracts_idxed, maxlen=maxlen)"
   ]
  },
  {
   "cell_type": "markdown",
   "metadata": {},
   "source": [
    "### Check Yourself"
   ]
  },
  {
   "cell_type": "code",
   "execution_count": 23,
   "metadata": {
    "collapsed": false,
    "scrolled": true
   },
   "outputs": [
    {
     "name": "stdout",
     "output_type": "stream",
     "text": [
      "<MASK> <MASK> <MASK> <MASK> <MASK> <MASK> <MASK> <MASK> <MASK> <MASK> <MASK> <MASK> <MASK> <MASK> <MASK> <MASK> <MASK> <MASK> <MASK> <MASK> <MASK> <MASK> <MASK> <MASK> <MASK> <MASK> <MASK> <MASK> <MASK> <MASK> <MASK> <MASK> <MASK> <MASK> <MASK> <MASK> <MASK> <MASK> <MASK> <MASK> <MASK> <MASK> <MASK> <MASK> <MASK> <MASK> <MASK> <MASK> <MASK> <MASK> <MASK> <MASK> <MASK> <MASK> <MASK> <MASK> <MASK> <MASK> <MASK> <MASK> <MASK> <MASK> <MASK> <MASK> <MASK> <MASK> <MASK> <MASK> <MASK> <MASK> <MASK> <MASK> <MASK> <MASK> <MASK> <MASK> <MASK> <MASK> <MASK> <MASK> <MASK> <MASK> <MASK> <MASK> <MASK> <MASK> <MASK> <MASK> <MASK> <MASK> <MASK> <MASK> <MASK> <MASK> <MASK> <MASK> <MASK> <MASK> <MASK> <MASK> <MASK> <MASK> <MASK> <MASK> <MASK> <MASK> <MASK> <MASK> <MASK> <MASK> <MASK> <MASK> <MASK> <MASK> <MASK> <MASK> <MASK> <MASK> <MASK> <MASK> <MASK> <MASK> <MASK> <MASK> <MASK> <MASK> <MASK> <MASK> <MASK> <MASK> <MASK> <MASK> <MASK> <MASK> <MASK> <MASK> <MASK> <MASK> <MASK> <MASK> <MASK> <MASK> <MASK> <MASK> <MASK> <MASK> <MASK> <MASK> <MASK> <MASK> <MASK> <MASK> <MASK> <MASK> <MASK> <MASK> <MASK> <MASK> <MASK> <MASK> <MASK> <MASK> <MASK> <MASK> <MASK> <MASK> <MASK> <MASK> <MASK> <MASK> <MASK> <MASK> <MASK> <MASK> <MASK> <MASK> <MASK> <MASK> <MASK> <MASK> <MASK> <MASK> <MASK> <MASK> <MASK> <MASK> <MASK> <MASK> <MASK> <MASK> <MASK> <MASK> <MASK> <MASK> <MASK> <MASK> <MASK> <MASK> <MASK> <MASK> <MASK> <MASK> <MASK> <MASK> <MASK> <MASK> <MASK> <MASK> <MASK> <MASK> <MASK> <MASK> <MASK> <MASK> <MASK> <MASK> <MASK> <MASK> <MASK> <MASK> <MASK> <MASK> <MASK> <MASK> <MASK> <MASK> <MASK> <MASK> <MASK> <MASK> <MASK> <MASK> <MASK> <MASK> <MASK> <MASK> D-Cycloserine , a partial agonist at the glycine site of the N-methyl-D-aspartate receptor , has demonstrated inconsistent efficacy for negative and cognitive symptoms of schizophrenia . The strongest evidence for efficacy has come from studies using D-cycloserine at a dose of 50 mg/day added to conventional antipsychotics in trials of 8 weeks duration or less . To assess the efficacy for negative symptoms and cognitive impairment of D-cycloserine augmentation of conventional antipsychotics in a 6-month trial . Fifty-five schizophrenia patients with prominent negative symptoms , treated with conventional antipsychotics , were randomly assigned to treatment with D-cycloserine 50 mg/day or placebo for 6 months in a double-blind , parallel group design . Twenty-six subjects completed the 6-month trial ; drop-out rates did not differ between treatment groups . D-Cycloserine treatment did not differ from placebo treatment on any primary outcome measure at 8 or 24 weeks , including response of negative symptoms and performance on a cognitive battery . Serum D-cycloserine concentrations did not correlate with response of negative symptoms . D-Cycloserine did not exhibit therapeutic effects in this trial , possibly reflecting the high drop-out rate , a narrow range of therapeutic serum concentrations , a modest magnitude of therapeutic effect for the selected outcome measures , or loss of efficacy over time . Because D-cycloserine is a partial agonist with relatively low affinity for the glycine site , the magnitude of potential therapeutic effect may be smaller than that achieved by the higher-affinity full agonists , glycine and D-serine .\n",
      "\n",
      "<MASK> <MASK> <MASK> <MASK> <MASK> <MASK> <MASK> <MASK> <MASK> <MASK> <MASK> <MASK> <MASK> <MASK> <MASK> <MASK> <MASK> <MASK> <MASK> <MASK> <MASK> <MASK> <MASK> <MASK> <MASK> <MASK> <MASK> <MASK> <MASK> <MASK> <MASK> <MASK> <MASK> <MASK> <MASK> <MASK> <MASK> <MASK> <MASK> <MASK> <MASK> <MASK> <MASK> <MASK> <MASK> <MASK> <MASK> <MASK> <MASK> <MASK> <MASK> <MASK> <MASK> <MASK> <MASK> <MASK> <MASK> <MASK> <MASK> <MASK> <MASK> <MASK> <MASK> <MASK> <MASK> <MASK> <MASK> <MASK> <MASK> <MASK> <MASK> <MASK> <MASK> <MASK> <MASK> <MASK> <MASK> <MASK> <MASK> <MASK> <MASK> <MASK> <MASK> <MASK> <MASK> <MASK> <MASK> <MASK> <MASK> <MASK> <MASK> <MASK> <MASK> <MASK> <MASK> <MASK> <MASK> <MASK> <MASK> <MASK> <MASK> <MASK> <MASK> <MASK> <MASK> <MASK> <MASK> <MASK> <MASK> <MASK> <MASK> <MASK> <MASK> <MASK> <MASK> <MASK> <MASK> <MASK> <MASK> <MASK> <MASK> <MASK> Epidemiologic studies have shown a relationship between glycated hemoglobin levels and cardiovascular events in patients with type 2 diabetes . We investigated whether intensive therapy to target normal glycated hemoglobin levels would reduce cardiovascular events in patients with type 2 diabetes who had either established cardiovascular disease or additional cardiovascular risk factors . In this randomized study , 10,251 patients ( mean age , 62.2 years ) with a median glycated hemoglobin level of 8.1 % were assigned to receive intensive therapy ( targeting a glycated hemoglobin level below 6.0 % ) or standard therapy ( targeting a level from 7.0 to 7.9 % ) . Of these patients , 38 % were women , and 35 % had had a previous cardiovascular event . The primary outcome was a composite of nonfatal myocardial infarction , nonfatal stroke , or death from cardiovascular causes . The finding of higher mortality in the intensive-therapy group led to a discontinuation of intensive therapy after a mean of 3.5 years of follow-up . At 1 year , stable median glycated hemoglobin levels of 6.4 % and 7.5 % were achieved in the intensive-therapy group and the standard-therapy group , respectively . During follow-up , the primary outcome occurred in 352 patients in the intensive-therapy group , as compared with 371 in the standard-therapy group ( hazard ratio , 0.90 ; 95 % confidence interval [ CI ] , 0.78 to 1.04 ; P=0.16 ) . At the same time , 257 patients in the intensive-therapy group died , as compared with 203 patients in the standard-therapy group ( hazard ratio , 1.22 ; 95 % CI , 1.01 to 1.46 ; P=0.04 ) . Hypoglycemia requiring assistance and weight gain of more than 10 kg were more frequent in the intensive-therapy group ( P < 0.001 ) . As compared with standard therapy , the use of intensive therapy to target normal glycated hemoglobin levels for 3.5 years increased mortality and did not significantly reduce major cardiovascular events . These findings identify a previously unrecognized harm of intensive glucose lowering in high-risk patients with type 2 diabetes . ( ClinicalTrials.gov number , NCT00000620 . ) 2008 Massachusetts Medical Society\n",
      "\n",
      "<MASK> <MASK> <MASK> <MASK> <MASK> <MASK> <MASK> <MASK> <MASK> <MASK> <MASK> <MASK> <MASK> <MASK> <MASK> <MASK> <MASK> <MASK> <MASK> <MASK> <MASK> <MASK> <MASK> <MASK> <MASK> <MASK> <MASK> <MASK> <MASK> <MASK> <MASK> <MASK> <MASK> <MASK> <MASK> <MASK> <MASK> <MASK> <MASK> <MASK> <MASK> <MASK> <MASK> <MASK> <MASK> <MASK> <MASK> <MASK> <MASK> <MASK> <MASK> <MASK> <MASK> <MASK> <MASK> <MASK> <MASK> <MASK> <MASK> <MASK> <MASK> <MASK> <MASK> <MASK> <MASK> <MASK> <MASK> <MASK> <MASK> <MASK> <MASK> <MASK> <MASK> <MASK> <MASK> <MASK> <MASK> <MASK> <MASK> <MASK> <MASK> <MASK> <MASK> <MASK> <MASK> <MASK> <MASK> <MASK> <MASK> <MASK> <MASK> <MASK> <MASK> <MASK> <MASK> <MASK> <MASK> <MASK> <MASK> <MASK> <MASK> <MASK> <MASK> <MASK> <MASK> <MASK> <MASK> <MASK> <MASK> <MASK> <MASK> <MASK> <MASK> <MASK> <MASK> <MASK> <MASK> <MASK> <MASK> <MASK> <MASK> <MASK> <MASK> <MASK> <MASK> <MASK> <MASK> <MASK> <MASK> <MASK> <MASK> <MASK> <MASK> <MASK> <MASK> <MASK> <MASK> <MASK> <MASK> <MASK> <MASK> <MASK> <MASK> <MASK> <MASK> <MASK> <MASK> <MASK> <MASK> <MASK> <MASK> <MASK> <MASK> <MASK> <MASK> <MASK> <MASK> <MASK> <MASK> <MASK> <MASK> <MASK> <MASK> <MASK> <MASK> <MASK> <MASK> <MASK> <MASK> <MASK> <MASK> <MASK> <MASK> <MASK> <MASK> <MASK> <MASK> <MASK> <MASK> <MASK> <MASK> <MASK> <MASK> <MASK> <MASK> <MASK> <MASK> <MASK> <MASK> <MASK> <MASK> <MASK> <MASK> <MASK> <MASK> <MASK> <MASK> <MASK> <MASK> <MASK> <MASK> <MASK> <MASK> <MASK> Patients with metastatic or recurrent Ewing 's sarcoma family of tumors and alveolar rhabdomyosarcoma have < 25 % 5-year survival in most studies . This study administered a novel immunotherapy regimen aimed at consolidating remission in these patients . Fifty-two patients with translocation positive , recurrent , or metastatic Ewing 's sarcoma family of tumors or alveolar rhabdomyosarcoma underwent prechemotherapy cell harvest via apheresis for potential receipt of immunotherapy . Following completion of standard multimodal therapy , 30 patients ultimately initiated immunotherapy and were sequentially assigned to three cohorts . All cohorts received autologous T cells , influenza vaccinations , and dendritic cells pulsed with peptides derived from tumor-specific translocation breakpoints and E7 , a peptide known to bind HLA-A2 . Cohort 1 received moderate-dose recombinant human interleukin-2 ( rhIL-2 ) , cohort 2 received low-dose rhIL-2 , and cohort 3 did not receive rhIL-2 . All immunotherapy recipients generated influenza-specific immune responses , whereas immune responses to the translocation breakpoint peptides occurred in 39 % , and only 25 % of HLA-A2 ( + ) patients developed E7-specific responses . Toxicity was minimal . Intention-to-treat analysis revealed a 31 % 5-year overall survival for all patients apheresed ( median potential follow-up 7.3 years ) with a 43 % 5-year overall survival for patients initiating immunotherapy . Consolidative immunotherapy is a scientifically based and clinically practical approach for integrating immunotherapy into a multimodal regimen for chemoresponsive cancer . Patients receiving immunotherapy experienced minimal toxicity and favorable survival . The robust influenza immune responses observed suggest that postchemotherapy immune incompetence will not fundamentally limit this approach . Future studies will seek to increase efficacy by using more immunogenic antigens and more potent dendritic cells .\n",
      "\n",
      "<MASK> <MASK> <MASK> <MASK> <MASK> <MASK> <MASK> <MASK> <MASK> <MASK> <MASK> <MASK> <MASK> <MASK> <MASK> <MASK> <MASK> <MASK> <MASK> <MASK> <MASK> <MASK> <MASK> <MASK> <MASK> <MASK> <MASK> <MASK> <MASK> <MASK> <MASK> <MASK> <MASK> <MASK> <MASK> <MASK> <MASK> <MASK> <MASK> <MASK> <MASK> <MASK> <MASK> <MASK> <MASK> <MASK> <MASK> <MASK> <MASK> <MASK> <MASK> <MASK> <MASK> <MASK> <MASK> <MASK> <MASK> <MASK> <MASK> <MASK> <MASK> <MASK> <MASK> <MASK> <MASK> <MASK> <MASK> <MASK> <MASK> <MASK> <MASK> <MASK> <MASK> <MASK> <MASK> <MASK> <MASK> <MASK> <MASK> <MASK> <MASK> <MASK> <MASK> <MASK> <MASK> <MASK> <MASK> <MASK> <MASK> <MASK> <MASK> <MASK> <MASK> <MASK> <MASK> <MASK> <MASK> <MASK> <MASK> <MASK> <MASK> <MASK> <MASK> <MASK> <MASK> <MASK> <MASK> <MASK> <MASK> <MASK> <MASK> <MASK> <MASK> <MASK> <MASK> <MASK> <MASK> <MASK> <MASK> <MASK> <MASK> <MASK> <MASK> <MASK> <MASK> <MASK> <MASK> <MASK> <MASK> <MASK> <MASK> <MASK> <MASK> <MASK> <MASK> <MASK> <MASK> <MASK> <MASK> <MASK> <MASK> <MASK> <MASK> <MASK> <MASK> <MASK> <MASK> <MASK> <MASK> <MASK> <MASK> <MASK> <MASK> <MASK> <MASK> <MASK> <MASK> <MASK> <MASK> <MASK> <MASK> <MASK> <MASK> <MASK> <MASK> Childhood-onset schizophrenia is a rare but severe form of the disorder that is frequently treatment resistant . The psychiatrist has a limited evidence base to guide treatment , particularly as there are no trials in children comparing atypical antipsychotics , the mainstay of current treatment . To compare the efficacy and safety of olanzapine and clozapine , hypothesizing that clozapine would be more efficacious . Double-blind randomized 8-week controlled trial , with a 2-year open-label follow-up . National Institute of Mental Health study , January 1998 to June 2005 . Patients underwent reassessment 2 years after discharge . Children and adolescents recruited nationally , aged 7 to 16 years , meeting unmodified DSM-IV criteria for schizophrenia , and resistant to treatment with at least 2 antipsychotics . After drug washout and a 1- to 3-week antipsychotic-free period , patients were randomized to treatment with clozapine ( n = 12 ) or olanzapine ( n = 13 ) . The Clinical Global Impression Severity of Symptoms Scale and Schedule for the Assessment of Negative/Positive Symptoms . Clozapine was associated with a significant reduction in all outcome measures , whereas olanzapine showed a less consistent profile of clinical improvement . While there were moderate to large differential treatment effects in favor of clozapine , these reached significance only in the alleviation of negative symptoms from an antipsychotic-free baseline ( P = .04 ; effect size , 0.89 ) . Clozapine was associated with more overall adverse events . At 2-year follow-up , 15 patients were receiving clozapine with evidence of sustained clinical improvement , but additional adverse events emerged , including lipid anomalies ( n = 6 ) and seizures ( n = 1 ) . While not demonstrating definitively the superiority of clozapine compared with olanzapine in treatment-refractory childhood-onset schizophrenia , the study suggests that clozapine has a more favorable profile of clinical response , which is balanced against more associated adverse events .\n",
      "\n",
      "<MASK> <MASK> <MASK> <MASK> <MASK> <MASK> <MASK> <MASK> <MASK> <MASK> <MASK> <MASK> <MASK> <MASK> <MASK> <MASK> <MASK> <MASK> <MASK> <MASK> <MASK> <MASK> <MASK> <MASK> <MASK> <MASK> <MASK> <MASK> <MASK> <MASK> <MASK> <MASK> <MASK> <MASK> <MASK> <MASK> <MASK> <MASK> <MASK> <MASK> <MASK> <MASK> <MASK> <MASK> <MASK> <MASK> <MASK> <MASK> <MASK> <MASK> <MASK> <MASK> <MASK> <MASK> <MASK> <MASK> <MASK> <MASK> <MASK> <MASK> <MASK> <MASK> <MASK> <MASK> <MASK> <MASK> <MASK> <MASK> <MASK> <MASK> <MASK> <MASK> <MASK> <MASK> <MASK> <MASK> <MASK> <MASK> <MASK> <MASK> <MASK> <MASK> <MASK> <MASK> <MASK> <MASK> <MASK> <MASK> <MASK> <MASK> <MASK> <MASK> <MASK> <MASK> <MASK> <MASK> <MASK> <MASK> <MASK> <MASK> <MASK> <MASK> <MASK> <MASK> <MASK> <MASK> <MASK> <MASK> <MASK> <MASK> <MASK> <MASK> <MASK> <MASK> <MASK> <MASK> <MASK> <MASK> <MASK> <MASK> <MASK> <MASK> <MASK> <MASK> <MASK> <MASK> <MASK> <MASK> <MASK> <MASK> <MASK> <MASK> <MASK> <MASK> <MASK> <MASK> <MASK> <MASK> <MASK> <MASK> <MASK> <MASK> <MASK> <MASK> <MASK> <MASK> <MASK> <MASK> <MASK> <MASK> <MASK> <MASK> <MASK> <MASK> <MASK> <MASK> <MASK> <MASK> <MASK> <MASK> <MASK> <MASK> <MASK> <MASK> <MASK> <MASK> <MASK> <MASK> <MASK> <MASK> <MASK> <MASK> <MASK> <MASK> <MASK> <MASK> <MASK> <MASK> <MASK> <MASK> <MASK> <MASK> <MASK> <MASK> <MASK> <MASK> <MASK> <MASK> <MASK> <MASK> <MASK> <MASK> <MASK> <MASK> <MASK> <MASK> <MASK> <MASK> <MASK> <MASK> <MASK> <MASK> <MASK> <MASK> <MASK> <MASK> <MASK> <MASK> <MASK> <MASK> <MASK> <MASK> <MASK> <MASK> <MASK> <MASK> <MASK> <MASK> <MASK> <MASK> <MASK> <MASK> <MASK> <MASK> <MASK> <MASK> <MASK> <MASK> <MASK> <MASK> <MASK> <MASK> <MASK> <MASK> <MASK> <MASK> <MASK> This pilot study compared the efficacy of orlistat as an adjunctive treatment for obesity between African American and Caucasian adolescents . Twenty obese adolescents with obesity-related co-morbid conditions underwent measurements of body composition , glucose homeostasis by frequently sampled intravenous glucose tolerance test ( FSIGT ) , and fasting lipids before and after 6 months treatment with orlistat 120 mg tid in conjunction with a comprehensive behavioral program . Weight ( p < 0.05 ) , BMI ( p < 0.001 ) , total cholesterol ( p < 0.001 ) , LDL cholesterol ( p < 0.001 ) , fasting insulin ( p < 0.02 ) and fasting glucose ( p < 0.003 ) were lower after treatment . Insulin sensitivity , measured during the FSIGT , improved significantly ( p < 0.02 ) , as did fasting indices such as the homeostasis model assessment for insulin resistance ( p < 0.01 ) . African American subjects exhibited significantly less improvement in weight ( p < 0.05 ) , BMI ( p < 0.01 ) , waist circumference ( p = 0.03 ) , and insulin sensitivity ( p = 0.05 ) . Improvements in cholesterol were not significantly different between African Americans and Caucasians . We conclude that Caucasians lost more weight and had greater improvements in insulin sensitivity than African Americans , but both exhibited improvements in plasma lipids . The true benefit of orlistat treatment over a comprehensive behavioral program remains to be determined in placebo-controlled trials .\n",
      "\n",
      "<MASK> <MASK> <MASK> <MASK> <MASK> <MASK> <MASK> <MASK> <MASK> <MASK> <MASK> <MASK> <MASK> <MASK> <MASK> <MASK> <MASK> <MASK> <MASK> <MASK> <MASK> <MASK> <MASK> <MASK> <MASK> <MASK> <MASK> <MASK> <MASK> <MASK> <MASK> <MASK> <MASK> <MASK> <MASK> <MASK> <MASK> <MASK> <MASK> <MASK> <MASK> <MASK> <MASK> <MASK> <MASK> <MASK> <MASK> <MASK> <MASK> <MASK> <MASK> <MASK> <MASK> <MASK> <MASK> <MASK> <MASK> <MASK> <MASK> <MASK> <MASK> <MASK> <MASK> <MASK> <MASK> <MASK> <MASK> <MASK> <MASK> <MASK> <MASK> <MASK> <MASK> <MASK> <MASK> <MASK> <MASK> <MASK> <MASK> <MASK> <MASK> <MASK> <MASK> <MASK> <MASK> <MASK> <MASK> <MASK> <MASK> <MASK> <MASK> <MASK> <MASK> <MASK> <MASK> <MASK> <MASK> <MASK> <MASK> <MASK> <MASK> <MASK> <MASK> <MASK> <MASK> <MASK> <MASK> <MASK> <MASK> <MASK> <MASK> <MASK> <MASK> <MASK> <MASK> <MASK> <MASK> <MASK> <MASK> <MASK> <MASK> <MASK> <MASK> <MASK> <MASK> <MASK> <MASK> <MASK> <MASK> <MASK> <MASK> <MASK> <MASK> <MASK> <MASK> <MASK> <MASK> <MASK> <MASK> <MASK> <MASK> <MASK> <MASK> <MASK> <MASK> <MASK> <MASK> <MASK> <MASK> <MASK> <MASK> <MASK> <MASK> <MASK> <MASK> <MASK> <MASK> <MASK> <MASK> <MASK> <MASK> <MASK> <MASK> <MASK> <MASK> <MASK> <MASK> <MASK> <MASK> <MASK> <MASK> To determine clinical and immunologic responses to a multipeptide melanoma vaccine regimen , a randomized phase II trial was performed . Twenty-six patients with advanced melanoma were randomly assigned to vaccination with a mixture of four gp100 and tyrosinase peptides restricted by HLA-A1 , HLA-A2 , and HLA-A3 , plus a tetanus helper peptide , either in an emulsion with granulocyte-macrophage colony-stimulating factor ( GM-CSF ) and Montanide ISA-51 adjuvant ( Seppic Inc , Fairfield , NJ ) , or pulsed on monocyte-derived dendritic cells ( DCs ) . Systemic low-dose interleukin-2 ( Chiron , Emeryville , CA ) was given to both groups . T-lymphocyte responses were assessed , by interferon gamma ELIspot assay ( Chiron , Emeryville , CA ) , in peripheral-blood lymphocytes ( PBLs ) and in a lymph node draining a vaccine site ( sentinel immunized node [ SIN ] ) . In patients vaccinated with GM-CSF in adjuvant , T-cell responses to melanoma peptides were observed in 42 % of PBLs and 80 % of SINs , but in patients vaccinated with DCs , they were observed in only 11 % and 13 % , respectively . The overall immune response was greater in the GM-CSF arm ( P < .02 ) . Vitiligo developed in two of 13 patients in the GM-CSF arm but in no patients in the DC arm . Helper T-cell responses to the tetanus peptide were detected in PBLs after vaccination and correlated with T-cell reactivity to the melanoma peptides . Objective clinical responses were observed in two patients in the GM-CSF arm and one patient in the DC arm . Stable disease was observed in two patients in the GM-CSF arm and one patient in the DC arm . The high frequency of cytotoxic T-lymphocyte responses and the occurrence of clinical tumor regressions support continued investigation of multipeptide vaccines administered with GM-CSF in adjuvant .\n",
      "\n",
      "<MASK> <MASK> <MASK> <MASK> <MASK> <MASK> <MASK> <MASK> <MASK> <MASK> <MASK> <MASK> <MASK> <MASK> <MASK> <MASK> <MASK> <MASK> <MASK> <MASK> <MASK> <MASK> <MASK> <MASK> <MASK> <MASK> <MASK> <MASK> <MASK> <MASK> <MASK> <MASK> <MASK> <MASK> <MASK> <MASK> <MASK> <MASK> <MASK> <MASK> <MASK> <MASK> <MASK> <MASK> <MASK> <MASK> <MASK> <MASK> <MASK> <MASK> <MASK> <MASK> <MASK> <MASK> <MASK> <MASK> <MASK> <MASK> <MASK> <MASK> <MASK> <MASK> <MASK> <MASK> <MASK> <MASK> <MASK> <MASK> <MASK> <MASK> <MASK> <MASK> <MASK> <MASK> <MASK> <MASK> <MASK> <MASK> <MASK> <MASK> <MASK> <MASK> <MASK> <MASK> <MASK> <MASK> <MASK> <MASK> <MASK> <MASK> <MASK> <MASK> <MASK> <MASK> <MASK> <MASK> <MASK> <MASK> <MASK> <MASK> <MASK> <MASK> <MASK> <MASK> <MASK> <MASK> <MASK> <MASK> <MASK> <MASK> <MASK> <MASK> <MASK> <MASK> <MASK> <MASK> <MASK> <MASK> <MASK> <MASK> <MASK> <MASK> <MASK> <MASK> <MASK> <MASK> <MASK> <MASK> <MASK> <MASK> <MASK> <MASK> <MASK> <MASK> <MASK> <MASK> <MASK> <MASK> <MASK> <MASK> <MASK> <MASK> <MASK> <MASK> <MASK> <MASK> <MASK> <MASK> <MASK> <MASK> <MASK> <MASK> <MASK> <MASK> <MASK> <MASK> <MASK> <MASK> <MASK> <MASK> <MASK> <MASK> <MASK> <MASK> <MASK> <MASK> <MASK> <MASK> <MASK> <MASK> <MASK> <MASK> <MASK> <MASK> <MASK> <MASK> <MASK> <MASK> <MASK> <MASK> <MASK> <MASK> <MASK> <MASK> A melanoma vaccine composed of HLA-A2-restricted peptide YLEPGPVTA ( gp100 ( 280 ) ) , with or without a modified T-helper epitope from tetanus toxoid AQYIKANSKFIGITEL , has been evaluated in a Phase I trial to assess safety and immunological response . The vaccines were administered s.c. in either of two adjuvants , Montanide ISA-51 or QS-21 , to 22 patients with high-risk resected melanoma ( stage IIB-IV ) . Local and systemic toxicities were mild and transient . We detected CTL responses to the gp100 ( 280 ) peptide in peripheral blood in 14 % of patients . Helper T-cell responses to the tetanus helper peptide were detected in 79 % of patients and had a Th1 cytokine profile . One patient with a CTL response to gp100 had a recurrence in a lymph node 2 years later ; her nodes contained CD8+ cells reactive to gp100 ( 280 ) ( 0.24 % ) , which proliferated in response to peptide . The overall survival of patients is 75 % ( 95 % confidence interval , 57-94 % ) at 4.7 years follow-up , which compares favorably with expected survival . Four of 14 patients who completed at least six vaccines subsequently developed metastases , all of which were solitary and surgically resectable . They remain alive and clinically free of disease at last follow-up . Data from this trial demonstrate immunogenicity of the gp100 ( 280 ) peptide and suggest that immune responses may persist long-term in some patients . The frequency and magnitude of the CTL response may be improved with more aggressive vaccination regimens . Although this Phase I study was not intended to evaluate clinical benefit , the excellent survival of patients on this protocol suggests the possibility of a benefit that should be assessed in future studies .\n",
      "\n",
      "<MASK> <MASK> <MASK> <MASK> <MASK> <MASK> <MASK> <MASK> <MASK> <MASK> <MASK> <MASK> <MASK> <MASK> <MASK> <MASK> <MASK> <MASK> <MASK> <MASK> <MASK> <MASK> <MASK> <MASK> <MASK> <MASK> <MASK> <MASK> <MASK> <MASK> <MASK> <MASK> <MASK> <MASK> <MASK> <MASK> <MASK> <MASK> <MASK> <MASK> <MASK> <MASK> <MASK> <MASK> <MASK> <MASK> <MASK> <MASK> <MASK> <MASK> <MASK> <MASK> <MASK> <MASK> <MASK> <MASK> <MASK> <MASK> <MASK> <MASK> <MASK> <MASK> <MASK> <MASK> <MASK> <MASK> <MASK> <MASK> <MASK> <MASK> <MASK> <MASK> <MASK> <MASK> <MASK> <MASK> <MASK> <MASK> <MASK> <MASK> <MASK> <MASK> <MASK> <MASK> <MASK> <MASK> <MASK> <MASK> <MASK> <MASK> <MASK> <MASK> <MASK> <MASK> <MASK> <MASK> <MASK> <MASK> <MASK> <MASK> <MASK> <MASK> <MASK> <MASK> <MASK> <MASK> <MASK> <MASK> <MASK> <MASK> <MASK> <MASK> <MASK> <MASK> <MASK> <MASK> <MASK> <MASK> <MASK> <MASK> <MASK> <MASK> <MASK> <MASK> <MASK> <MASK> <MASK> <MASK> <MASK> <MASK> <MASK> <MASK> <MASK> <MASK> <MASK> <MASK> <MASK> <MASK> <MASK> <MASK> <MASK> <MASK> <MASK> <MASK> <MASK> <MASK> <MASK> <MASK> <MASK> <MASK> <MASK> <MASK> <MASK> <MASK> <MASK> <MASK> <MASK> <MASK> <MASK> <MASK> <MASK> <MASK> <MASK> <MASK> <MASK> <MASK> <MASK> <MASK> <MASK> <MASK> <MASK> <MASK> <MASK> <MASK> <MASK> <MASK> <MASK> <MASK> <MASK> <MASK> <MASK> <MASK> <MASK> <MASK> <MASK> <MASK> <MASK> <MASK> <MASK> <MASK> <MASK> <MASK> <MASK> <MASK> <MASK> <MASK> <MASK> <MASK> <MASK> <MASK> <MASK> <MASK> <MASK> <MASK> <MASK> <MASK> <MASK> <MASK> <MASK> <MASK> <MASK> <MASK> <MASK> <MASK> <MASK> <MASK> <MASK> <MASK> <MASK> <MASK> <MASK> <MASK> <MASK> <MASK> <MASK> <MASK> <MASK> <MASK> <MASK> <MASK> Sickle cell leg ulcers are often debilitating , refractory to healing , and prone to recurrence . Healing of leg ulcers was incidentally observed during dose-ranging trials of Arginine Butyrate in beta haemoglobinopathies . Here , a controlled Phase II trial was performed in sickle cell patients who had lower extremity ulcers refractory to standard care for at least 6 months . Patients were randomized to receive standard local care alone ( Control Arm ) or standard care with Arginine Butyrate administered 5 d/week ( Treatment Arm ) , for 12 weeks . Ulcers were photographed weekly , traced , and ulcer areas were calculated by computerized planimetry and compared between the two study arms . Twenty-seven study courses were evaluated . Control Arm subjects had 25 ulcers with a mean area of 25·7 cm ( 2 ) initially and 23·2 cm ( 2 ) after 12 weeks ; 2/25 ( 8 % ) healed completely . Treatment Arm subjects had 37 ulcers with a mean area of 50·6 cm ( 2 ) initially and 28·3 cm ( 2 ) at 12 weeks ; 11/37 of these ( 30 % ) healed completely . After 3 months , proportions of ulcers which healed were 6/25 ( 24 % ) and 29/37 ( 78 % ) , in the Control and Treatment Arms respectively ( P < 0·001 ) . These findings strongly suggest that Arginine Butyrate merits further evaluation for the treatment of refractory sickle cell leg ulcers in larger trials . © 2010 Blackwell Publishing Ltd .\n",
      "\n",
      "<MASK> <MASK> <MASK> <MASK> <MASK> <MASK> <MASK> <MASK> <MASK> <MASK> <MASK> <MASK> <MASK> <MASK> <MASK> <MASK> <MASK> <MASK> <MASK> <MASK> <MASK> <MASK> <MASK> <MASK> <MASK> <MASK> <MASK> <MASK> <MASK> <MASK> <MASK> <MASK> <MASK> <MASK> <MASK> <MASK> <MASK> <MASK> <MASK> <MASK> <MASK> <MASK> <MASK> <MASK> <MASK> <MASK> <MASK> <MASK> <MASK> <MASK> <MASK> <MASK> <MASK> <MASK> <MASK> <MASK> <MASK> <MASK> <MASK> <MASK> <MASK> <MASK> <MASK> <MASK> <MASK> <MASK> <MASK> <MASK> <MASK> It is unclear whether stable , high-risk patients with persistent total occlusion of the infarct-related coronary artery identified after the currently accepted period for myocardial salvage has passed should undergo percutaneous coronary intervention ( PCI ) in addition to receiving optimal medical therapy to reduce the risk of subsequent events . We conducted a randomized study involving 2166 stable patients who had total occlusion of the infarct-related artery 3 to 28 days after myocardial infarction and who met a high-risk criterion ( an ejection fraction of < 50 % or proximal occlusion ) . Of these patients , 1082 were assigned to routine PCI and stenting with optimal medical therapy , and 1084 were assigned to optimal medical therapy alone . The primary end point was a composite of death , myocardial reinfarction , or New York Heart Association ( NYHA ) class IV heart failure . The 4-year cumulative primary event rate was 17.2 % in the PCI group and 15.6 % in the medical therapy group ( hazard ratio for death , reinfarction , or heart failure in the PCI group as compared with the medical therapy group , 1.16 ; 95 % confidence interval [ CI ] , 0.92 to 1.45 ; P=0.20 ) . Rates of myocardial reinfarction ( fatal and nonfatal ) were 7.0 % and 5.3 % in the two groups , respectively ( hazard ratio , 1.36 ; 95 % CI , 0.92 to 2.00 ; P=0.13 ) . Rates of nonfatal reinfarction were 6.9 % and 5.0 % , respectively ( hazard ratio , 1.44 ; 95 % CI , 0.96 to 2.16 ; P=0.08 ) ; only six reinfarctions ( 0.6 % ) were related to assigned PCI procedures . Rates of NYHA class IV heart failure ( 4.4 % vs. 4.5 % ) and death ( 9.1 % vs. 9.4 % ) were similar . There was no interaction between treatment effect and any subgroup variable ( age , sex , race or ethnic group , infarct-related artery , ejection fraction , diabetes , Killip class , and the time from myocardial infarction to randomization ) . PCI did not reduce the occurrence of death , reinfarction , or heart failure , and there was a trend toward excess reinfarction during 4 years of follow-up in stable patients with occlusion of the infarct-related artery 3 to 28 days after myocardial infarction . ( ClinicalTrials.gov number , NCT00004562 [ ClinicalTrials.gov ] . ) . Copyright 2006 Massachusetts Medical Society .\n",
      "\n",
      "<MASK> <MASK> <MASK> <MASK> <MASK> <MASK> <MASK> <MASK> <MASK> <MASK> <MASK> <MASK> <MASK> <MASK> <MASK> <MASK> <MASK> <MASK> <MASK> <MASK> <MASK> <MASK> <MASK> <MASK> <MASK> <MASK> <MASK> <MASK> <MASK> <MASK> <MASK> <MASK> <MASK> <MASK> <MASK> <MASK> <MASK> <MASK> <MASK> <MASK> <MASK> <MASK> <MASK> <MASK> <MASK> <MASK> <MASK> <MASK> <MASK> <MASK> <MASK> <MASK> <MASK> <MASK> <MASK> <MASK> <MASK> <MASK> <MASK> <MASK> <MASK> <MASK> <MASK> <MASK> <MASK> <MASK> <MASK> <MASK> <MASK> <MASK> <MASK> <MASK> <MASK> <MASK> <MASK> <MASK> <MASK> <MASK> <MASK> <MASK> <MASK> <MASK> <MASK> <MASK> <MASK> <MASK> <MASK> <MASK> <MASK> <MASK> <MASK> <MASK> <MASK> <MASK> <MASK> <MASK> <MASK> <MASK> <MASK> <MASK> <MASK> <MASK> <MASK> <MASK> <MASK> <MASK> <MASK> <MASK> <MASK> <MASK> <MASK> <MASK> <MASK> <MASK> <MASK> <MASK> <MASK> <MASK> <MASK> <MASK> <MASK> <MASK> <MASK> <MASK> <MASK> <MASK> <MASK> <MASK> <MASK> <MASK> <MASK> <MASK> <MASK> <MASK> <MASK> <MASK> <MASK> <MASK> <MASK> <MASK> <MASK> <MASK> <MASK> <MASK> <MASK> <MASK> <MASK> <MASK> <MASK> <MASK> <MASK> <MASK> <MASK> <MASK> <MASK> <MASK> <MASK> <MASK> <MASK> <MASK> <MASK> <MASK> <MASK> <MASK> We conducted a double-blind , randomized , placebo-controlled trial to determine the effects of oral cyclophosphamide on lung function and health-related symptoms in patients with evidence of active alveolitis and scleroderma-related interstitial lung disease . At 13 clinical centers throughout the United States , we enrolled 158 patients with scleroderma , restrictive lung physiology , dyspnea , and evidence of inflammatory interstitial lung disease on examination of bronchoalveolar-lavage fluid , thoracic high-resolution computed tomography , or both . Patients received oral cyclophosphamide ( < or =2 mg per kilogram of body weight per day ) or matching placebo for one year and were followed for an additional year . Pulmonary function was assessed every three months during the first year , and the primary end point was the forced vital capacity ( FVC , expressed as a percentage of the predicted value ) at 12 months , after adjustment for the baseline FVC . Of 158 patients , 145 completed at least six months of treatment and were included in the analysis . The mean absolute difference in adjusted 12-month FVC percent predicted between the cyclophosphamide and placebo groups was 2.53 percent ( 95 percent confidence interval , 0.28 to 4.79 percent ) , favoring cyclophosphamide ( P < 0.03 ) . There were also treatment-related differences in physiological and symptom outcomes , and the difference in FVC was maintained at 24 months . There was a greater frequency of adverse events in the cyclophosphamide group , but the difference between the two groups in the number of serious adverse events was not significant . One year of oral cyclophosphamide in patients with symptomatic scleroderma-related interstitial lung disease had a significant but modest beneficial effect on lung function , dyspnea , thickening of the skin , and the health-related quality of life . The effects on lung function were maintained through the 24 months of the study . Copyright 2006 Massachusetts Medical Society .\n",
      "\n"
     ]
    }
   ],
   "source": [
    "idx2word = {idx: word for word, idx in word2idx.items()}\n",
    "\n",
    "for abstract_padded in abstracts_padded[:10]:\n",
    "    print ' '.join([idx2word[idx] for idx in abstract_padded])\n",
    "    print"
   ]
  },
  {
   "cell_type": "markdown",
   "metadata": {},
   "source": [
    "### Save the Following:\n",
    "\n",
    "- Abstracts represented as indices into embedding matrix\n",
    "- Embedding matrix"
   ]
  },
  {
   "cell_type": "code",
   "execution_count": 24,
   "metadata": {
    "collapsed": false
   },
   "outputs": [
    {
     "name": "stdout",
     "output_type": "stream",
     "text": [
      "Stored 'cnn_model' (dict)\n"
     ]
    }
   ],
   "source": [
    "labels = dataset.gender.unique()\n",
    "gender_map = {gender: i for i, gender in enumerate(labels)}\n",
    "ys = dataset.gender.map(gender_map)\n",
    "\n",
    "cnn_model = {\n",
    "            'dataset': dataset,\n",
    "            'abstracts_padded': abstracts_padded,\n",
    "            'label_map': gender_map,\n",
    "            'ys': np.array(ys),\n",
    "            'embeddings': W,\n",
    "            'word_dim': model.vector_size,\n",
    "            'maxlen': maxlen,\n",
    "            'vocab_size': len(W),\n",
    "            'num_classes': len(labels),\n",
    "            'num_train': len(dataset),\n",
    "            'word2idx': word2idx,\n",
    "            'idx2word': idx2word,\n",
    "}\n",
    "\n",
    "%store cnn_model"
   ]
  }
 ],
 "metadata": {
  "kernelspec": {
   "display_name": "Python 2",
   "language": "python",
   "name": "python2"
  },
  "language_info": {
   "codemirror_mode": {
    "name": "ipython",
    "version": 2
   },
   "file_extension": ".py",
   "mimetype": "text/x-python",
   "name": "python",
   "nbconvert_exporter": "python",
   "pygments_lexer": "ipython2",
   "version": "2.7.11"
  }
 },
 "nbformat": 4,
 "nbformat_minor": 0
}
