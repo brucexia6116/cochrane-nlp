{
 "cells": [
  {
   "cell_type": "markdown",
   "metadata": {},
   "source": [
    "# Preprocess RCT Abstracts\n",
    "\n",
    "Pare them down and filter away those with no abstracts"
   ]
  },
  {
   "cell_type": "code",
   "execution_count": 106,
   "metadata": {
    "collapsed": false,
    "scrolled": true
   },
   "outputs": [
    {
     "name": "stdout",
     "output_type": "stream",
     "text": [
      "<class 'pandas.core.frame.DataFrame'>\n",
      "Int64Index: 120771 entries, 0 to 120770\n",
      "Data columns (total 2 columns):\n",
      "label    120771 non-null int64\n",
      "text     120771 non-null object\n",
      "dtypes: int64(1), object(1)\n",
      "memory usage: 2.8+ MB\n"
     ]
    }
   ],
   "source": [
    "df = pd.read_csv('RCT-data-for-edward.csv', index_col=0)\n",
    "\n",
    "df.info()"
   ]
  },
  {
   "cell_type": "code",
   "execution_count": 107,
   "metadata": {
    "collapsed": false,
    "scrolled": true
   },
   "outputs": [
    {
     "data": {
      "text/html": [
       "<div>\n",
       "<table border=\"1\" class=\"dataframe\">\n",
       "  <thead>\n",
       "    <tr style=\"text-align: right;\">\n",
       "      <th></th>\n",
       "      <th>label</th>\n",
       "      <th>text</th>\n",
       "    </tr>\n",
       "  </thead>\n",
       "  <tbody>\n",
       "    <tr>\n",
       "      <th>0</th>\n",
       "      <td>-1</td>\n",
       "      <td>TI_Evaluation TI_new TI_titanium TI_mesh TI_ca...</td>\n",
       "    </tr>\n",
       "    <tr>\n",
       "      <th>1</th>\n",
       "      <td>-1</td>\n",
       "      <td>TI_Bare TI_metal TI_stents, TI_durable TI_poly...</td>\n",
       "    </tr>\n",
       "    <tr>\n",
       "      <th>2</th>\n",
       "      <td>-1</td>\n",
       "      <td>TI_Risk TI_first TI_venous TI_thromboembolism ...</td>\n",
       "    </tr>\n",
       "    <tr>\n",
       "      <th>3</th>\n",
       "      <td>-1</td>\n",
       "      <td>TI_Safety TI_efficacy TI_outcomes TI_first TI_...</td>\n",
       "    </tr>\n",
       "    <tr>\n",
       "      <th>4</th>\n",
       "      <td>-1</td>\n",
       "      <td>TI_Tamsulosin TI_treatment TI_benign TI_prosta...</td>\n",
       "    </tr>\n",
       "    <tr>\n",
       "      <th>5</th>\n",
       "      <td>-1</td>\n",
       "      <td>TI_The TI_role TI_vitamin TI_D TI_metabolic TI...</td>\n",
       "    </tr>\n",
       "    <tr>\n",
       "      <th>6</th>\n",
       "      <td>-1</td>\n",
       "      <td>TI_Heredity TI_lifestyle TI_determination TI_b...</td>\n",
       "    </tr>\n",
       "    <tr>\n",
       "      <th>7</th>\n",
       "      <td>-1</td>\n",
       "      <td>TI_Smaller TI_grey TI_matter TI_volumes TI_ant...</td>\n",
       "    </tr>\n",
       "    <tr>\n",
       "      <th>8</th>\n",
       "      <td>-1</td>\n",
       "      <td>TI_Addison's TI_disease: TI_A TI_survey TI_633...</td>\n",
       "    </tr>\n",
       "    <tr>\n",
       "      <th>9</th>\n",
       "      <td>-1</td>\n",
       "      <td>TI_Genetic TI_variation TI_IGF1 TI_locus TI_as...</td>\n",
       "    </tr>\n",
       "    <tr>\n",
       "      <th>10</th>\n",
       "      <td>-1</td>\n",
       "      <td>TI_Prostate TI_volume TI_growth TI_testosteron...</td>\n",
       "    </tr>\n",
       "    <tr>\n",
       "      <th>11</th>\n",
       "      <td>-1</td>\n",
       "      <td>TI_Presentation TI_surgical TI_results TI_inci...</td>\n",
       "    </tr>\n",
       "    <tr>\n",
       "      <th>12</th>\n",
       "      <td>-1</td>\n",
       "      <td>TI_Testosterone TI_deficiency TI_associated TI...</td>\n",
       "    </tr>\n",
       "    <tr>\n",
       "      <th>13</th>\n",
       "      <td>-1</td>\n",
       "      <td>TI_An TI_evaluation TI_Sherwood-Gilland TI_mod...</td>\n",
       "    </tr>\n",
       "    <tr>\n",
       "      <th>14</th>\n",
       "      <td>-1</td>\n",
       "      <td>TI_Comparison TI_intra-aortic TI_computed TI_t...</td>\n",
       "    </tr>\n",
       "    <tr>\n",
       "      <th>15</th>\n",
       "      <td>-1</td>\n",
       "      <td>TI_Intravertebral TI_pneumatocysts TI_cervical...</td>\n",
       "    </tr>\n",
       "    <tr>\n",
       "      <th>16</th>\n",
       "      <td>-1</td>\n",
       "      <td>TI_Comparative TI_efficacy TI_safety TI_six TI...</td>\n",
       "    </tr>\n",
       "    <tr>\n",
       "      <th>17</th>\n",
       "      <td>-1</td>\n",
       "      <td>TI_123I-ADAM TI_SPET TI_imaging TI_serotonin T...</td>\n",
       "    </tr>\n",
       "    <tr>\n",
       "      <th>18</th>\n",
       "      <td>-1</td>\n",
       "      <td>TI_Urinary TI_amylase TI_/ TI_urinary TI_creat...</td>\n",
       "    </tr>\n",
       "    <tr>\n",
       "      <th>19</th>\n",
       "      <td>1</td>\n",
       "      <td>TI_Lessons TI_learned TI_stakeholders TI_facil...</td>\n",
       "    </tr>\n",
       "    <tr>\n",
       "      <th>20</th>\n",
       "      <td>-1</td>\n",
       "      <td>TI_Field TI_evaluation TI_alphacypermethrin TI...</td>\n",
       "    </tr>\n",
       "    <tr>\n",
       "      <th>21</th>\n",
       "      <td>1</td>\n",
       "      <td>TI_Guided TI_Application TI_Ventricular TI_Cat...</td>\n",
       "    </tr>\n",
       "    <tr>\n",
       "      <th>22</th>\n",
       "      <td>-1</td>\n",
       "      <td>TI_MiR-133b, TI_muscle-specific TI_microRNA, T...</td>\n",
       "    </tr>\n",
       "    <tr>\n",
       "      <th>23</th>\n",
       "      <td>-1</td>\n",
       "      <td>TI_Establishment TI_bortezomib-resistant TI_Ch...</td>\n",
       "    </tr>\n",
       "    <tr>\n",
       "      <th>24</th>\n",
       "      <td>-1</td>\n",
       "      <td>TI_Regulation TI_angiotensin TI_II TI_1 TI_rec...</td>\n",
       "    </tr>\n",
       "    <tr>\n",
       "      <th>25</th>\n",
       "      <td>-1</td>\n",
       "      <td>TI_Effect TI_BRCA1 TI_epidermal TI_growth TI_f...</td>\n",
       "    </tr>\n",
       "    <tr>\n",
       "      <th>26</th>\n",
       "      <td>-1</td>\n",
       "      <td>TI_Therapeutic TI_embolization TI_high-flow TI...</td>\n",
       "    </tr>\n",
       "    <tr>\n",
       "      <th>27</th>\n",
       "      <td>-1</td>\n",
       "      <td>TI_Sexual TI_functioning TI_sex TI_hormones TI...</td>\n",
       "    </tr>\n",
       "    <tr>\n",
       "      <th>28</th>\n",
       "      <td>-1</td>\n",
       "      <td>TI_Contribution TI_regional TI_3D TI_meniscus ...</td>\n",
       "    </tr>\n",
       "    <tr>\n",
       "      <th>29</th>\n",
       "      <td>-1</td>\n",
       "      <td>TI_The TI_effect TI_head TI_position TI_distri...</td>\n",
       "    </tr>\n",
       "    <tr>\n",
       "      <th>...</th>\n",
       "      <td>...</td>\n",
       "      <td>...</td>\n",
       "    </tr>\n",
       "    <tr>\n",
       "      <th>120741</th>\n",
       "      <td>-1</td>\n",
       "      <td>TI_The TI_status TI_adult TI_inpatient TI_care...</td>\n",
       "    </tr>\n",
       "    <tr>\n",
       "      <th>120742</th>\n",
       "      <td>-1</td>\n",
       "      <td>TI_Patient TI_perspectives TI_risk TI_compulso...</td>\n",
       "    </tr>\n",
       "    <tr>\n",
       "      <th>120743</th>\n",
       "      <td>-1</td>\n",
       "      <td>TI_Spectrum TI_T2* TI_values TI_knee TI_joint ...</td>\n",
       "    </tr>\n",
       "    <tr>\n",
       "      <th>120744</th>\n",
       "      <td>-1</td>\n",
       "      <td>TI_Antioxidant TI_enzymes TI_oxidative TI_stre...</td>\n",
       "    </tr>\n",
       "    <tr>\n",
       "      <th>120745</th>\n",
       "      <td>-1</td>\n",
       "      <td>TI_A TI_risk-adapted TI_approach TI_US TI_feat...</td>\n",
       "    </tr>\n",
       "    <tr>\n",
       "      <th>120746</th>\n",
       "      <td>-1</td>\n",
       "      <td>TI_Minimum TI_end-tidal TI_sevoflurane TI_conc...</td>\n",
       "    </tr>\n",
       "    <tr>\n",
       "      <th>120747</th>\n",
       "      <td>-1</td>\n",
       "      <td>TI_The TI_incidence TI_rate TI_pituitary TI_ad...</td>\n",
       "    </tr>\n",
       "    <tr>\n",
       "      <th>120748</th>\n",
       "      <td>-1</td>\n",
       "      <td>TI_Longitudinal TI_changes TI_glucocorticoid T...</td>\n",
       "    </tr>\n",
       "    <tr>\n",
       "      <th>120749</th>\n",
       "      <td>-1</td>\n",
       "      <td>TI_Nonconformity TI_clinical TI_practice TI_gu...</td>\n",
       "    </tr>\n",
       "    <tr>\n",
       "      <th>120750</th>\n",
       "      <td>-1</td>\n",
       "      <td>TI_Interval TI_neoadjuvant TI_treatment TI_def...</td>\n",
       "    </tr>\n",
       "    <tr>\n",
       "      <th>120751</th>\n",
       "      <td>-1</td>\n",
       "      <td>TI_The TI_Choi TI_response TI_criteria TI_infe...</td>\n",
       "    </tr>\n",
       "    <tr>\n",
       "      <th>120752</th>\n",
       "      <td>-1</td>\n",
       "      <td>TI_Reducing TI_child TI_conduct TI_disordered ...</td>\n",
       "    </tr>\n",
       "    <tr>\n",
       "      <th>120753</th>\n",
       "      <td>-1</td>\n",
       "      <td>TI_Somatic TI_mental TI_health TI_service TI_c...</td>\n",
       "    </tr>\n",
       "    <tr>\n",
       "      <th>120754</th>\n",
       "      <td>-1</td>\n",
       "      <td>TI_Sexual TI_maturation TI_youth TI_ADHD TI_im...</td>\n",
       "    </tr>\n",
       "    <tr>\n",
       "      <th>120755</th>\n",
       "      <td>-1</td>\n",
       "      <td>TI_Elevated TI_levels TI_exhaled TI_nitric TI_...</td>\n",
       "    </tr>\n",
       "    <tr>\n",
       "      <th>120756</th>\n",
       "      <td>-1</td>\n",
       "      <td>TI_Parameterization TI_brachytherapy TI_source...</td>\n",
       "    </tr>\n",
       "    <tr>\n",
       "      <th>120757</th>\n",
       "      <td>-1</td>\n",
       "      <td>TI_Dual-exposure TI_technique TI_extending TI_...</td>\n",
       "    </tr>\n",
       "    <tr>\n",
       "      <th>120758</th>\n",
       "      <td>-1</td>\n",
       "      <td>TI_Regularization TI_design TI_penalized TI_ma...</td>\n",
       "    </tr>\n",
       "    <tr>\n",
       "      <th>120759</th>\n",
       "      <td>-1</td>\n",
       "      <td>TI_Preclinical TI_evaluation TI_parametric TI_...</td>\n",
       "    </tr>\n",
       "    <tr>\n",
       "      <th>120760</th>\n",
       "      <td>-1</td>\n",
       "      <td>TI_Computation TI_mean TI_variance TI_radiothe...</td>\n",
       "    </tr>\n",
       "    <tr>\n",
       "      <th>120761</th>\n",
       "      <td>-1</td>\n",
       "      <td>TI_3D-2D TI_registration TI_surgical TI_guidan...</td>\n",
       "    </tr>\n",
       "    <tr>\n",
       "      <th>120762</th>\n",
       "      <td>-1</td>\n",
       "      <td>TI_Listen TI_work? TI_The TI_attitude TI_healt...</td>\n",
       "    </tr>\n",
       "    <tr>\n",
       "      <th>120763</th>\n",
       "      <td>-1</td>\n",
       "      <td>TI_Pilot TI_results TI_new TI_model TI_addicti...</td>\n",
       "    </tr>\n",
       "    <tr>\n",
       "      <th>120764</th>\n",
       "      <td>-1</td>\n",
       "      <td>TI_A TI_simple TI_scoring TI_tool TI_evaluatio...</td>\n",
       "    </tr>\n",
       "    <tr>\n",
       "      <th>120765</th>\n",
       "      <td>-1</td>\n",
       "      <td>TI_Comparison TI_select TI_outcomes TI_traditi...</td>\n",
       "    </tr>\n",
       "    <tr>\n",
       "      <th>120766</th>\n",
       "      <td>-1</td>\n",
       "      <td>TI_Evaluation TI_Og34C TI_filter TI_paper TI_t...</td>\n",
       "    </tr>\n",
       "    <tr>\n",
       "      <th>120767</th>\n",
       "      <td>-1</td>\n",
       "      <td>TI_Text TI_mining TI_decipher TI_free-response...</td>\n",
       "    </tr>\n",
       "    <tr>\n",
       "      <th>120768</th>\n",
       "      <td>1</td>\n",
       "      <td>TI_Control TI_order TI_visuomotor TI_strategy ...</td>\n",
       "    </tr>\n",
       "    <tr>\n",
       "      <th>120769</th>\n",
       "      <td>1</td>\n",
       "      <td>TI_Use TI_EEG TI_workload TI_indices TI_diagno...</td>\n",
       "    </tr>\n",
       "    <tr>\n",
       "      <th>120770</th>\n",
       "      <td>-1</td>\n",
       "      <td>TI_The TI_effect TI_mild TI_motion TI_sickness...</td>\n",
       "    </tr>\n",
       "  </tbody>\n",
       "</table>\n",
       "<p>120771 rows × 2 columns</p>\n",
       "</div>"
      ],
      "text/plain": [
       "        label                                               text\n",
       "0          -1  TI_Evaluation TI_new TI_titanium TI_mesh TI_ca...\n",
       "1          -1  TI_Bare TI_metal TI_stents, TI_durable TI_poly...\n",
       "2          -1  TI_Risk TI_first TI_venous TI_thromboembolism ...\n",
       "3          -1  TI_Safety TI_efficacy TI_outcomes TI_first TI_...\n",
       "4          -1  TI_Tamsulosin TI_treatment TI_benign TI_prosta...\n",
       "5          -1  TI_The TI_role TI_vitamin TI_D TI_metabolic TI...\n",
       "6          -1  TI_Heredity TI_lifestyle TI_determination TI_b...\n",
       "7          -1  TI_Smaller TI_grey TI_matter TI_volumes TI_ant...\n",
       "8          -1  TI_Addison's TI_disease: TI_A TI_survey TI_633...\n",
       "9          -1  TI_Genetic TI_variation TI_IGF1 TI_locus TI_as...\n",
       "10         -1  TI_Prostate TI_volume TI_growth TI_testosteron...\n",
       "11         -1  TI_Presentation TI_surgical TI_results TI_inci...\n",
       "12         -1  TI_Testosterone TI_deficiency TI_associated TI...\n",
       "13         -1  TI_An TI_evaluation TI_Sherwood-Gilland TI_mod...\n",
       "14         -1  TI_Comparison TI_intra-aortic TI_computed TI_t...\n",
       "15         -1  TI_Intravertebral TI_pneumatocysts TI_cervical...\n",
       "16         -1  TI_Comparative TI_efficacy TI_safety TI_six TI...\n",
       "17         -1  TI_123I-ADAM TI_SPET TI_imaging TI_serotonin T...\n",
       "18         -1  TI_Urinary TI_amylase TI_/ TI_urinary TI_creat...\n",
       "19          1  TI_Lessons TI_learned TI_stakeholders TI_facil...\n",
       "20         -1  TI_Field TI_evaluation TI_alphacypermethrin TI...\n",
       "21          1  TI_Guided TI_Application TI_Ventricular TI_Cat...\n",
       "22         -1  TI_MiR-133b, TI_muscle-specific TI_microRNA, T...\n",
       "23         -1  TI_Establishment TI_bortezomib-resistant TI_Ch...\n",
       "24         -1  TI_Regulation TI_angiotensin TI_II TI_1 TI_rec...\n",
       "25         -1  TI_Effect TI_BRCA1 TI_epidermal TI_growth TI_f...\n",
       "26         -1  TI_Therapeutic TI_embolization TI_high-flow TI...\n",
       "27         -1  TI_Sexual TI_functioning TI_sex TI_hormones TI...\n",
       "28         -1  TI_Contribution TI_regional TI_3D TI_meniscus ...\n",
       "29         -1  TI_The TI_effect TI_head TI_position TI_distri...\n",
       "...       ...                                                ...\n",
       "120741     -1  TI_The TI_status TI_adult TI_inpatient TI_care...\n",
       "120742     -1  TI_Patient TI_perspectives TI_risk TI_compulso...\n",
       "120743     -1  TI_Spectrum TI_T2* TI_values TI_knee TI_joint ...\n",
       "120744     -1  TI_Antioxidant TI_enzymes TI_oxidative TI_stre...\n",
       "120745     -1  TI_A TI_risk-adapted TI_approach TI_US TI_feat...\n",
       "120746     -1  TI_Minimum TI_end-tidal TI_sevoflurane TI_conc...\n",
       "120747     -1  TI_The TI_incidence TI_rate TI_pituitary TI_ad...\n",
       "120748     -1  TI_Longitudinal TI_changes TI_glucocorticoid T...\n",
       "120749     -1  TI_Nonconformity TI_clinical TI_practice TI_gu...\n",
       "120750     -1  TI_Interval TI_neoadjuvant TI_treatment TI_def...\n",
       "120751     -1  TI_The TI_Choi TI_response TI_criteria TI_infe...\n",
       "120752     -1  TI_Reducing TI_child TI_conduct TI_disordered ...\n",
       "120753     -1  TI_Somatic TI_mental TI_health TI_service TI_c...\n",
       "120754     -1  TI_Sexual TI_maturation TI_youth TI_ADHD TI_im...\n",
       "120755     -1  TI_Elevated TI_levels TI_exhaled TI_nitric TI_...\n",
       "120756     -1  TI_Parameterization TI_brachytherapy TI_source...\n",
       "120757     -1  TI_Dual-exposure TI_technique TI_extending TI_...\n",
       "120758     -1  TI_Regularization TI_design TI_penalized TI_ma...\n",
       "120759     -1  TI_Preclinical TI_evaluation TI_parametric TI_...\n",
       "120760     -1  TI_Computation TI_mean TI_variance TI_radiothe...\n",
       "120761     -1  TI_3D-2D TI_registration TI_surgical TI_guidan...\n",
       "120762     -1  TI_Listen TI_work? TI_The TI_attitude TI_healt...\n",
       "120763     -1  TI_Pilot TI_results TI_new TI_model TI_addicti...\n",
       "120764     -1  TI_A TI_simple TI_scoring TI_tool TI_evaluatio...\n",
       "120765     -1  TI_Comparison TI_select TI_outcomes TI_traditi...\n",
       "120766     -1  TI_Evaluation TI_Og34C TI_filter TI_paper TI_t...\n",
       "120767     -1  TI_Text TI_mining TI_decipher TI_free-response...\n",
       "120768      1  TI_Control TI_order TI_visuomotor TI_strategy ...\n",
       "120769      1  TI_Use TI_EEG TI_workload TI_indices TI_diagno...\n",
       "120770     -1  TI_The TI_effect TI_mild TI_motion TI_sickness...\n",
       "\n",
       "[120771 rows x 2 columns]"
      ]
     },
     "execution_count": 107,
     "metadata": {},
     "output_type": "execute_result"
    }
   ],
   "source": [
    "df"
   ]
  },
  {
   "cell_type": "code",
   "execution_count": 108,
   "metadata": {
    "collapsed": false
   },
   "outputs": [
    {
     "data": {
      "text/plain": [
       "<matplotlib.axes._subplots.AxesSubplot at 0x7fe7bf943c90>"
      ]
     },
     "execution_count": 108,
     "metadata": {},
     "output_type": "execute_result"
    },
    {
     "data": {
      "image/png": "[encoded data removed]",
      "text/plain": [
       "<matplotlib.figure.Figure at 0x7fe7bfc49190>"
      ]
     },
     "metadata": {},
     "output_type": "display_data"
    }
   ],
   "source": [
    "df.groupby('label').size().plot(kind='bar')"
   ]
  },
  {
   "cell_type": "markdown",
   "metadata": {},
   "source": [
    "### Take Small Subset"
   ]
  },
  {
   "cell_type": "code",
   "execution_count": 109,
   "metadata": {
    "collapsed": false
   },
   "outputs": [
    {
     "name": "stdout",
     "output_type": "stream",
     "text": [
      "<class 'pandas.core.frame.DataFrame'>\n",
      "Int64Index: 500 entries, 0 to 499\n",
      "Data columns (total 2 columns):\n",
      "label    500 non-null int64\n",
      "text     500 non-null object\n",
      "dtypes: int64(1), object(1)\n",
      "memory usage: 11.7+ KB\n"
     ]
    }
   ],
   "source": [
    "small_df = df.ix[:500-1]\n",
    "\n",
    "small_df.info()"
   ]
  },
  {
   "cell_type": "code",
   "execution_count": 110,
   "metadata": {
    "collapsed": false
   },
   "outputs": [
    {
     "data": {
      "text/plain": [
       "<matplotlib.axes._subplots.AxesSubplot at 0x7fe7bf86fd90>"
      ]
     },
     "execution_count": 110,
     "metadata": {},
     "output_type": "execute_result"
    },
    {
     "data": {
      "image/png": "[encoded data removed]",
      "text/plain": [
       "<matplotlib.figure.Figure at 0x7fe7bf83c590>"
      ]
     },
     "metadata": {},
     "output_type": "display_data"
    }
   ],
   "source": [
    "small_df.groupby('label').size().plot(kind='bar')"
   ]
  },
  {
   "cell_type": "markdown",
   "metadata": {},
   "source": [
    "### Filter Away Abstracts with No Body"
   ]
  },
  {
   "cell_type": "code",
   "execution_count": 111,
   "metadata": {
    "collapsed": false
   },
   "outputs": [
    {
     "name": "stderr",
     "output_type": "stream",
     "text": [
      "/export/home/u14/ebanner/.anaconda/envs/py27/lib/python2.7/site-packages/ipykernel/__main__.py:1: SettingWithCopyWarning: \n",
      "A value is trying to be set on a copy of a slice from a DataFrame.\n",
      "Try using .loc[row_indexer,col_indexer] = value instead\n",
      "\n",
      "See the caveats in the documentation: http://pandas.pydata.org/pandas-docs/stable/indexing.html#indexing-view-versus-copy\n",
      "  if __name__ == '__main__':\n"
     ]
    },
    {
     "data": {
      "text/plain": [
       "473"
      ]
     },
     "execution_count": 111,
     "metadata": {},
     "output_type": "execute_result"
    }
   ],
   "source": [
    "small_df['body'] = small_df.text.map(lambda abstract: ' '.join(word for word in abstract.split() if not word.startswith('TI_')))\n",
    "\n",
    "small_df = small_df[small_df.body.map(lambda body: len(body)) >= 100]\n",
    "\n",
    "len(small_df)"
   ]
  },
  {
   "cell_type": "code",
   "execution_count": 112,
   "metadata": {
    "collapsed": false
   },
   "outputs": [
    {
     "data": {
      "text/plain": [
       "<matplotlib.axes._subplots.AxesSubplot at 0x7fe7bf694250>"
      ]
     },
     "execution_count": 112,
     "metadata": {},
     "output_type": "execute_result"
    },
    {
     "data": {
      "image/png": "[encoded data removed]",
      "text/plain": [
       "<matplotlib.figure.Figure at 0x7fe7bf8a7490>"
      ]
     },
     "metadata": {},
     "output_type": "display_data"
    }
   ],
   "source": [
    "small_df.groupby('label').size().plot(kind='bar')"
   ]
  },
  {
   "cell_type": "markdown",
   "metadata": {},
   "source": [
    "### Tokenize Abstracts"
   ]
  },
  {
   "cell_type": "code",
   "execution_count": 113,
   "metadata": {
    "collapsed": false
   },
   "outputs": [
    {
     "data": {
      "text/plain": [
       "418"
      ]
     },
     "execution_count": 113,
     "metadata": {},
     "output_type": "execute_result"
    }
   ],
   "source": [
    "from tokenizer import Tokenizer\n",
    "\n",
    "tk = Tokenizer(small_df.text)\n",
    "\n",
    "tk.maxlen"
   ]
  },
  {
   "cell_type": "markdown",
   "metadata": {},
   "source": [
    "### Check It"
   ]
  },
  {
   "cell_type": "code",
   "execution_count": 114,
   "metadata": {
    "collapsed": false,
    "scrolled": true
   },
   "outputs": [
    {
     "name": "stdout",
     "output_type": "stream",
     "text": [
      "TI_Evaluation TI_new TI_titanium TI_mesh TI_cage TI_versus TI_traditional TI_titanium TI_mesh TI_cage TI_single-level, TI_anterior TI_cervical TI_corpectomy TI_fusion. Study design: A retrospective review of prospectively collected data in an academic institution. Objective: To evaluate the safety and efficacy of a new type of titanium mesh cage (TMC) in single-level, anterior cervical corpectomy and fusion (ACCF). Methods: Fifty-eight patients consecutive with cervical spondylotic myelopathy (CSM) from cervical degenerative spondylosis and isolated ossification of the posterior longitudinal ligament were treated with a single-level ACCF using either a new type of TMC (28 patients, group A) or the traditional TMC (30 patients, group B). We evaluated the patients for TMC subsidence, cervical lordosis (C2-C7 Cobb and Cobb of fused segments) and fusion status for a minimum of 30 months postoperatively based on spine radiographs. In addition, neurologic outcomes were evaluated using the Japanese Orthopedic Association (JOA) scores. Neck pain was evaluated using a 10-point visual analog scale (VAS). Results: The loss of height of the fused segments was less for group A than for group B (0.8 + 0.3 vs. 2.8 + 0.4 mm) (p < 0.01); also, there was a lower rate of severe subsidence (>3 mm) in group A (4 %, 1/28) than in group B (17 %, 5/30) (p < 0.01). There were no differences in the C2-C7 Cobb and Cobb of fused segments between the groups preoperatively or at final follow-up (p > 0.05), but the Cobb of fused segments immediately postoperative were significantly less for group B than for group A (p < 0.01). All patients, however, had successful fusion (100 %, each). Both groups had marked improvement in the JOA score after operation (p < 0.01), with no significant differences in the JOA recovery ratio (p > 0.05). The postoperative VAS neck pain scores for group A were significantly less than that for group B (p < 0.05); severe subsidence was correlated with neck pain. Conclusions: The new type of TMC provides comparable clinical results and fusion rates with the traditional TMC for patients undergoing single-level corpectomy. The new design TMC decreases postoperative subsidence (compared to the traditional TMC); the unique design of the new type of TMC matches the vertebral endplate morphology which appears to decrease the severity of subsidence-related neck pain in follow-up.  2013 Springer-Verlag Berlin Heidelberg.\n",
      "\n",
      "<MASK> <MASK> <MASK> <MASK> <MASK> <MASK> <MASK> <MASK> <MASK> <MASK> <MASK> <MASK> <MASK> <MASK> <MASK> <MASK> <MASK> <MASK> <MASK> <MASK> <MASK> <MASK> <MASK> <MASK> <MASK> <MASK> <MASK> <MASK> <MASK> <MASK> ti_evaluation ti_new ti_titanium ti_mesh ti_cage ti_versus ti_traditional ti_titanium ti_mesh ti_cage ti_single level ti_anterior ti_cervical ti_corpectomy ti_fusion. study design a retrospective review of prospectively collected data in an academic institution. objective to evaluate the safety and efficacy of a new type of titanium mesh cage tmc in single level anterior cervical corpectomy and fusion accf . methods fifty eight patients consecutive with cervical spondylotic myelopathy csm from cervical degenerative spondylosis and isolated ossification of the posterior longitudinal ligament were treated with a single level accf using either a new type of tmc 28 patients group a or the traditional tmc 30 patients group b . we evaluated the patients for tmc subsidence cervical lordosis c2 c7 cobb and cobb of fused segments and fusion status for a minimum of 30 months postoperatively based on spine radiographs. in addition neurologic outcomes were evaluated using the japanese orthopedic association joa scores. neck pain was evaluated using a 10 point visual analog scale vas . results the loss of height of the fused segments was less for group a than for group b 0.8 0.3 vs. 2.8 0.4 mm p 0.01 also there was a lower rate of severe subsidence 3 mm in group a 4 1 28 than in group b 17 5 30 p 0.01 . there were no differences in the c2 c7 cobb and cobb of fused segments between the groups preoperatively or at final follow up p 0.05 but the cobb of fused segments immediately postoperative were significantly less for group b than for group a p 0.01 . all patients however had successful fusion 100 each . both groups had marked improvement in the joa score after operation p 0.01 with no significant differences in the joa recovery ratio p 0.05 . the postoperative vas neck pain scores for group a were significantly less than that for group b p 0.05 severe subsidence was correlated with neck pain. conclusions the new type of tmc provides comparable clinical results and fusion rates with the traditional tmc for patients undergoing single level corpectomy. the new design tmc decreases postoperative subsidence compared to the traditional tmc the unique design of the new type of tmc matches the vertebral endplate morphology which appears to decrease the severity of subsidence related neck pain in follow up. 2013 springer verlag berlin heidelberg.\n",
      "\n"
     ]
    }
   ],
   "source": [
    "tk.test(abstract_idx=0)"
   ]
  },
  {
   "cell_type": "markdown",
   "metadata": {},
   "source": [
    "### Create and Pickle Embeddings"
   ]
  },
  {
   "cell_type": "code",
   "execution_count": 140,
   "metadata": {
    "collapsed": false
   },
   "outputs": [],
   "source": [
    "import gensim\n",
    "\n",
    "word_vectors = 'PubMed-w2v.bin' # 'GoogleNews-vectors-negative300.bin'\n",
    "\n",
    "wv_loc = '/export/home/u14/ebanner/Downloads/{}'.format(word_vectors)\n",
    "\n",
    "model = gensim.models.Word2Vec.load_word2vec_format(wv_loc, binary=True)  # C binary format\n",
    "\n",
    "tk.build_embeddings(model)\n",
    "\n",
    "tk.do_pickle('rct_embeddings.p')"
   ]
  },
  {
   "cell_type": "markdown",
   "metadata": {},
   "source": [
    "### Fix Labels"
   ]
  },
  {
   "cell_type": "code",
   "execution_count": 167,
   "metadata": {
    "collapsed": false
   },
   "outputs": [
    {
     "data": {
      "text/plain": [
       "Int64Index([0, 1], dtype='int64')"
      ]
     },
     "execution_count": 167,
     "metadata": {},
     "output_type": "execute_result"
    }
   ],
   "source": [
    "labels_bdf.rct.cat.categories"
   ]
  },
  {
   "cell_type": "markdown",
   "metadata": {},
   "source": [
    "### Pickle Labels"
   ]
  },
  {
   "cell_type": "code",
   "execution_count": 180,
   "metadata": {
    "collapsed": false,
    "scrolled": true
   },
   "outputs": [
    {
     "name": "stderr",
     "output_type": "stream",
     "text": [
      "/export/home/u14/ebanner/.anaconda/envs/py27/lib/python2.7/site-packages/ipykernel/__main__.py:6: SettingWithCopyWarning: \n",
      "A value is trying to be set on a copy of a slice from a DataFrame.\n",
      "Try using .loc[row_indexer,col_indexer] = value instead\n",
      "\n",
      "See the caveats in the documentation: http://pandas.pydata.org/pandas-docs/stable/indexing.html#indexing-view-versus-copy\n"
     ]
    }
   ],
   "source": [
    "labels_df = small_df[['label']]\n",
    "labels_bdf = small_df[['label_fixed']]\n",
    "\n",
    "labels_df.columns = labels_bdf.columns = ['rct']\n",
    "\n",
    "labels_df['dummy'] = labels_bdf['dummy'] = 1 # need at least *two* columns in a dataframe!\n",
    "\n",
    "labels_df.rct = labels_df.rct.astype('category')\n",
    "labels_bdf.rct = labels_bdf.rct.astype('category')\n",
    "\n",
    "import pickle\n",
    "\n",
    "pickle.dump(labels_df, open('rct_labels.p', 'wb'))\n",
    "pickle.dump(labels_bdf, open('rct_binarized.p', 'wb'))"
   ]
  }
 ],
 "metadata": {
  "kernelspec": {
   "display_name": "Python 2",
   "language": "python",
   "name": "python2"
  },
  "language_info": {
   "codemirror_mode": {
    "name": "ipython",
    "version": 2
   },
   "file_extension": ".py",
   "mimetype": "text/x-python",
   "name": "python",
   "nbconvert_exporter": "python",
   "pygments_lexer": "ipython2",
   "version": "2.7.11"
  }
 },
 "nbformat": 4,
 "nbformat_minor": 0
}
