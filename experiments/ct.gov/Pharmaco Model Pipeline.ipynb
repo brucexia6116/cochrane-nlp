{
 "cells": [
  {
   "cell_type": "markdown",
   "metadata": {},
   "source": [
    "# Pharmaco Classification Model Classifier"
   ]
  },
  {
   "cell_type": "code",
   "execution_count": 60,
   "metadata": {
    "collapsed": false,
    "scrolled": true
   },
   "outputs": [
    {
     "name": "stdout",
     "output_type": "stream",
     "text": [
      "***** Class Breakdown *****\n",
      "pharmaco\n",
      "False    2001\n",
      "True       92\n",
      "dtype: int64\n",
      "\n",
      "***** Grid Search *****\n",
      "Fitting 3 folds for each of 5 candidates, totalling 15 fits\n",
      "[CV] alpha=0.1 .......................................................\n",
      "[CV] .............................. alpha=0.1, score=0.153272 -   4.2s\n",
      "[CV] alpha=0.1 .......................................................\n",
      "[CV] .............................. alpha=0.1, score=0.485050 -   4.2s\n",
      "[CV] alpha=0.1 .......................................................\n",
      "[CV] .............................. alpha=0.1, score=0.523194 -   4.3s\n",
      "[CV] alpha=0.0177827941004 ...........................................\n",
      "[CV] .................. alpha=0.0177827941004, score=0.675060 -   4.3s\n",
      "[CV] alpha=0.0177827941004 ...........................................\n",
      "[CV] .................. alpha=0.0177827941004, score=0.503182 -   4.3s\n",
      "[CV] alpha=0.0177827941004 ...........................................\n",
      "[CV] .................. alpha=0.0177827941004, score=0.764704 -   4.3s\n",
      "[CV] alpha=0.00316227766017 ..........................................\n",
      "[CV] ................. alpha=0.00316227766017, score=0.746144 -   4.3s\n",
      "[CV] alpha=0.00316227766017 ..........................................\n",
      "[CV] ................. alpha=0.00316227766017, score=0.680469 -   4.2s\n",
      "[CV] alpha=0.00316227766017 ..........................................\n",
      "[CV] ................. alpha=0.00316227766017, score=0.757360 -   4.2s\n",
      "[CV] alpha=0.00056234132519 ..........................................\n",
      "[CV] ................. alpha=0.00056234132519, score=0.558125 -   3.9s\n",
      "[CV] alpha=0.00056234132519 ..........................................\n",
      "[CV] ................. alpha=0.00056234132519, score=0.603138 -   3.9s\n",
      "[CV] alpha=0.00056234132519 ..........................................\n",
      "[CV] ................. alpha=0.00056234132519, score=0.692221 -   4.0s\n",
      "[CV] alpha=0.0001 ....................................................\n",
      "[CV] ........................... alpha=0.0001, score=0.523194 -   3.8s\n",
      "[CV] alpha=0.0001 ....................................................\n",
      "[CV] ........................... alpha=0.0001, score=0.519499 -   3.9s\n",
      "[CV] alpha=0.0001 ....................................................\n",
      "[CV] ........................... alpha=0.0001, score=0.555092 -   3.9s"
     ]
    },
    {
     "name": "stderr",
     "output_type": "stream",
     "text": [
      "[Parallel(n_jobs=1)]: Done   1 jobs       | elapsed:    4.2s\n",
      "[Parallel(n_jobs=1)]: Done  15 out of  15 | elapsed:  1.0min finished\n"
     ]
    },
    {
     "name": "stdout",
     "output_type": "stream",
     "text": [
      "\n",
      "Average: 0.582914684077\n",
      "\n",
      "***** Grid Search *****\n",
      "Fitting 3 folds for each of 5 candidates, totalling 15 fits\n",
      "[CV] alpha=0.1 .......................................................\n",
      "[CV] .............................. alpha=0.1, score=0.748442 -   4.2s\n",
      "[CV] alpha=0.1 .......................................................\n",
      "[CV] .............................. alpha=0.1, score=0.119632 -   4.3s\n",
      "[CV] alpha=0.1 .......................................................\n",
      "[CV] .............................. alpha=0.1, score=0.043299 -   4.2s\n",
      "[CV] alpha=0.0177827941004 ...........................................\n",
      "[CV] .................. alpha=0.0177827941004, score=0.404201 -   4.2s\n",
      "[CV] alpha=0.0177827941004 ...........................................\n",
      "[CV] .................. alpha=0.0177827941004, score=0.709244 -   4.3s\n",
      "[CV] alpha=0.0177827941004 ...........................................\n",
      "[CV] .................. alpha=0.0177827941004, score=0.528764 -   4.3s\n",
      "[CV] alpha=0.00316227766017 ..........................................\n",
      "[CV] ................. alpha=0.00316227766017, score=0.761466 -   4.3s\n",
      "[CV] alpha=0.00316227766017 ..........................................\n",
      "[CV] ................. alpha=0.00316227766017, score=0.720116 -   4.4s\n",
      "[CV] alpha=0.00316227766017 ..........................................\n",
      "[CV] ................. alpha=0.00316227766017, score=0.615764 -   4.3s\n",
      "[CV] alpha=0.00056234132519 ..........................................\n",
      "[CV] ................. alpha=0.00056234132519, score=0.609526 -   4.0s\n",
      "[CV] alpha=0.00056234132519 ..........................................\n",
      "[CV] ................. alpha=0.00056234132519, score=0.637628 -   4.1s\n",
      "[CV] alpha=0.00056234132519 ..........................................\n",
      "[CV] ................. alpha=0.00056234132519, score=0.688242 -   4.0s\n",
      "[CV] alpha=0.0001 ....................................................\n",
      "[CV] ........................... alpha=0.0001, score=0.487912 -   3.9s\n",
      "[CV] alpha=0.0001 ....................................................\n",
      "[CV] ........................... alpha=0.0001, score=0.488449 -   3.9s\n",
      "[CV] alpha=0.0001 ....................................................\n",
      "[CV] ........................... alpha=0.0001, score=0.655531 -   3.8s"
     ]
    },
    {
     "name": "stderr",
     "output_type": "stream",
     "text": [
      "[Parallel(n_jobs=1)]: Done   1 jobs       | elapsed:    4.2s\n",
      "[Parallel(n_jobs=1)]: Done  15 out of  15 | elapsed:  1.0min finished\n"
     ]
    },
    {
     "name": "stdout",
     "output_type": "stream",
     "text": [
      "\n",
      "Average: 0.611728314835\n",
      "\n",
      "***** Grid Search *****\n",
      "Fitting 3 folds for each of 5 candidates, totalling 15 fits\n",
      "[CV] alpha=0.1 .......................................................\n",
      "[CV] .............................. alpha=0.1, score=0.568228 -   4.3s\n",
      "[CV] alpha=0.1 .......................................................\n",
      "[CV] .............................. alpha=0.1, score=0.029228 -   4.3s\n",
      "[CV] alpha=0.1 .......................................................\n",
      "[CV] .............................. alpha=0.1, score=0.559563 -   4.2s\n",
      "[CV] alpha=0.0177827941004 ...........................................\n",
      "[CV] .................. alpha=0.0177827941004, score=0.422901 -   4.2s\n",
      "[CV] alpha=0.0177827941004 ...........................................\n",
      "[CV] .................. alpha=0.0177827941004, score=0.710225 -   4.3s\n",
      "[CV] alpha=0.0177827941004 ...........................................\n",
      "[CV] .................. alpha=0.0177827941004, score=0.559563 -   4.4s\n",
      "[CV] alpha=0.00316227766017 ..........................................\n",
      "[CV] ................. alpha=0.00316227766017, score=0.555500 -   4.3s\n",
      "[CV] alpha=0.00316227766017 ..........................................\n",
      "[CV] ................. alpha=0.00316227766017, score=0.563012 -   4.3s\n",
      "[CV] alpha=0.00316227766017 ..........................................\n",
      "[CV] ................. alpha=0.00316227766017, score=0.657976 -   4.3s\n",
      "[CV] alpha=0.00056234132519 ..........................................\n",
      "[CV] ................. alpha=0.00056234132519, score=0.618450 -   4.0s\n",
      "[CV] alpha=0.00056234132519 ..........................................\n",
      "[CV] ................. alpha=0.00056234132519, score=0.559563 -   4.1s\n",
      "[CV] alpha=0.00056234132519 ..........................................\n",
      "[CV] ................. alpha=0.00056234132519, score=0.559563 -   4.1s\n",
      "[CV] alpha=0.0001 ....................................................\n",
      "[CV] ........................... alpha=0.0001, score=0.492375 -   3.9s\n",
      "[CV] alpha=0.0001 ....................................................\n",
      "[CV] ........................... alpha=0.0001, score=0.492358 -   3.9s\n",
      "[CV] alpha=0.0001 ....................................................\n",
      "[CV] ........................... alpha=0.0001, score=0.492358 -   3.8s"
     ]
    },
    {
     "name": "stderr",
     "output_type": "stream",
     "text": [
      "[Parallel(n_jobs=1)]: Done   1 jobs       | elapsed:    4.3s\n",
      "[Parallel(n_jobs=1)]: Done  15 out of  15 | elapsed:  1.0min finished\n"
     ]
    },
    {
     "name": "stdout",
     "output_type": "stream",
     "text": [
      "\n",
      "Average: 0.667541139995\n"
     ]
    },
    {
     "data": {
      "image/png": "[encoded data removed]",
      "text/plain": [
       "<matplotlib.figure.Figure at 0x7f4464411190>"
      ]
     },
     "metadata": {},
     "output_type": "display_data"
    }
   ],
   "source": [
    "%store -r abstracts_targets_collapsed\n",
    "\n",
    "from pipeline import do_pipeline \n",
    "\n",
    "f1s_generator = do_pipeline(abstracts_targets_collapsed, 'pharmaco', verbosity=5)\n",
    "\n",
    "clfs_and_f1s = list(f1s_generator)"
   ]
  },
  {
   "cell_type": "markdown",
   "metadata": {},
   "source": [
    "### f1 scores"
   ]
  },
  {
   "cell_type": "code",
   "execution_count": 70,
   "metadata": {
    "collapsed": false,
    "scrolled": false
   },
   "outputs": [
    {
     "data": {
      "image/png": "[encoded data removed]",
      "text/plain": [
       "<matplotlib.figure.Figure at 0x7f4461b8df10>"
      ]
     },
     "metadata": {},
     "output_type": "display_data"
    }
   ],
   "source": [
    "from support import plot_and_pickle\n",
    "\n",
    "plot_and_pickle(f1s, 'pharmaco')"
   ]
  }
 ],
 "metadata": {
  "kernelspec": {
   "display_name": "Python 2",
   "language": "python",
   "name": "python2"
  },
  "language_info": {
   "codemirror_mode": {
    "name": "ipython",
    "version": 2
   },
   "file_extension": ".py",
   "mimetype": "text/x-python",
   "name": "python",
   "nbconvert_exporter": "python",
   "pygments_lexer": "ipython2",
   "version": "2.7.11"
  }
 },
 "nbformat": 4,
 "nbformat_minor": 0
}
