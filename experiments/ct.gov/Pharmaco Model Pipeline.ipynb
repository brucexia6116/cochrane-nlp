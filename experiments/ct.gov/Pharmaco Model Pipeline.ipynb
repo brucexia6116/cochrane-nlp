{
 "cells": [
  {
   "cell_type": "markdown",
   "metadata": {},
   "source": [
    "# Pharmaco Classification Model Classifier"
   ]
  },
  {
   "cell_type": "code",
   "execution_count": 15,
   "metadata": {
    "collapsed": false,
    "scrolled": true
   },
   "outputs": [
    {
     "name": "stdout",
     "output_type": "stream",
     "text": [
      "***** Class Breakdown *****\n",
      "ec_pharmaco\n",
      "False    2001\n",
      "True       92\n",
      "dtype: int64\n",
      "\n",
      "***** Grid Search *****\n",
      "Fitting 3 folds for each of 5 candidates, totalling 15 fits\n",
      "[CV] alpha=0.1 .......................................................\n",
      "[CV] .............................. alpha=0.1, score=0.338057 -   4.2s\n",
      "[CV] alpha=0.1 .......................................................\n",
      "[CV] .............................. alpha=0.1, score=0.358706 -   4.1s\n",
      "[CV] alpha=0.1 .......................................................\n",
      "[CV] .............................. alpha=0.1, score=0.387690 -   4.1s\n",
      "[CV] alpha=0.0177827941004 ...........................................\n",
      "[CV] .................. alpha=0.0177827941004, score=0.743976 -   4.2s\n",
      "[CV] alpha=0.0177827941004 ...........................................\n",
      "[CV] .................. alpha=0.0177827941004, score=0.243559 -   4.2s\n",
      "[CV] alpha=0.0177827941004 ...........................................\n",
      "[CV] .................. alpha=0.0177827941004, score=0.094356 -   4.2s\n",
      "[CV] alpha=0.00316227766017 ..........................................\n",
      "[CV] ................. alpha=0.00316227766017, score=0.786207 -   4.2s\n",
      "[CV] alpha=0.00316227766017 ..........................................\n",
      "[CV] ................. alpha=0.00316227766017, score=0.717193 -   4.2s\n",
      "[CV] alpha=0.00316227766017 ..........................................\n",
      "[CV] ................. alpha=0.00316227766017, score=0.752824 -   4.2s\n",
      "[CV] alpha=0.00056234132519 ..........................................\n",
      "[CV] ................. alpha=0.00056234132519, score=0.558125 -   3.9s\n",
      "[CV] alpha=0.00056234132519 ..........................................\n",
      "[CV] ................. alpha=0.00056234132519, score=0.603138 -   3.9s\n",
      "[CV] alpha=0.00056234132519 ..........................................\n",
      "[CV] ................. alpha=0.00056234132519, score=0.692221 -   3.9s\n",
      "[CV] alpha=0.0001 ....................................................\n",
      "[CV] ........................... alpha=0.0001, score=0.523194 -   3.8s\n",
      "[CV] alpha=0.0001 ....................................................\n",
      "[CV] ........................... alpha=0.0001, score=0.519499 -   3.8s\n",
      "[CV] alpha=0.0001 ....................................................\n",
      "[CV] ........................... alpha=0.0001, score=0.555092 -   3.7s"
     ]
    },
    {
     "name": "stderr",
     "output_type": "stream",
     "text": [
      "[Parallel(n_jobs=1)]: Done   1 jobs       | elapsed:    4.2s\n",
      "[Parallel(n_jobs=1)]: Done  15 out of  15 | elapsed:  1.0min finished\n"
     ]
    },
    {
     "name": "stdout",
     "output_type": "stream",
     "text": [
      "\n"
     ]
    },
    {
     "data": {
      "image/png": "[encoded data removed]",
      "text/plain": [
       "<matplotlib.figure.Figure at 0x7f30fe842f50>"
      ]
     },
     "metadata": {},
     "output_type": "display_data"
    },
    {
     "name": "stdout",
     "output_type": "stream",
     "text": [
      "Test f1: 0.700678556113\n",
      "\n",
      "***** Grid Search *****\n",
      "Fitting 3 folds for each of 5 candidates, totalling 15 fits\n",
      "[CV] alpha=0.1 .......................................................\n",
      "[CV] .............................. alpha=0.1, score=0.496588 -   4.2s\n",
      "[CV] alpha=0.1 .......................................................\n",
      "[CV] .............................. alpha=0.1, score=0.637628 -   4.2s\n",
      "[CV] alpha=0.1 .......................................................\n",
      "[CV] .............................. alpha=0.1, score=0.059489 -   4.1s\n",
      "[CV] alpha=0.0177827941004 ...........................................\n",
      "[CV] .................. alpha=0.0177827941004, score=0.749740 -   4.2s\n",
      "[CV] alpha=0.0177827941004 ...........................................\n",
      "[CV] .................. alpha=0.0177827941004, score=0.593871 -   4.2s\n",
      "[CV] alpha=0.0177827941004 ...........................................\n",
      "[CV] .................. alpha=0.0177827941004, score=0.746333 -   4.1s\n",
      "[CV] alpha=0.00316227766017 ..........................................\n",
      "[CV] ................. alpha=0.00316227766017, score=0.748454 -   4.2s\n",
      "[CV] alpha=0.00316227766017 ..........................................\n",
      "[CV] ................. alpha=0.00316227766017, score=0.742295 -   4.2s\n",
      "[CV] alpha=0.00316227766017 ..........................................\n",
      "[CV] ................. alpha=0.00316227766017, score=0.648864 -   4.1s\n",
      "[CV] alpha=0.00056234132519 ..........................................\n",
      "[CV] ................. alpha=0.00056234132519, score=0.609526 -   4.2s\n",
      "[CV] alpha=0.00056234132519 ..........................................\n",
      "[CV] ................. alpha=0.00056234132519, score=0.637628 -   3.9s\n",
      "[CV] alpha=0.00056234132519 ..........................................\n",
      "[CV] ................. alpha=0.00056234132519, score=0.688242 -   3.9s\n",
      "[CV] alpha=0.0001 ....................................................\n",
      "[CV] ........................... alpha=0.0001, score=0.487912 -   3.8s\n",
      "[CV] alpha=0.0001 ....................................................\n",
      "[CV] ........................... alpha=0.0001, score=0.488449 -   3.7s\n",
      "[CV] alpha=0.0001 ....................................................\n",
      "[CV] ........................... alpha=0.0001, score=0.655531 -   3.7s"
     ]
    },
    {
     "name": "stderr",
     "output_type": "stream",
     "text": [
      "[Parallel(n_jobs=1)]: Done   1 jobs       | elapsed:    4.2s\n",
      "[Parallel(n_jobs=1)]: Done  15 out of  15 | elapsed:  1.0min finished\n"
     ]
    },
    {
     "name": "stdout",
     "output_type": "stream",
     "text": [
      "\n"
     ]
    },
    {
     "data": {
      "image/png": "[encoded data removed]",
      "text/plain": [
       "<matplotlib.figure.Figure at 0x7f30fe842d10>"
      ]
     },
     "metadata": {},
     "output_type": "display_data"
    },
    {
     "name": "stdout",
     "output_type": "stream",
     "text": [
      "Test f1: 0.576111534635\n",
      "\n",
      "***** Grid Search *****\n",
      "Fitting 3 folds for each of 5 candidates, totalling 15 fits\n",
      "[CV] alpha=0.1 .......................................................\n",
      "[CV] .............................. alpha=0.1, score=0.618450 -   4.2s\n",
      "[CV] alpha=0.1 .......................................................\n",
      "[CV] .............................. alpha=0.1, score=0.605750 -   4.2s\n",
      "[CV] alpha=0.1 .......................................................\n",
      "[CV] .............................. alpha=0.1, score=0.543301 -   4.2s\n",
      "[CV] alpha=0.0177827941004 ...........................................\n",
      "[CV] .................. alpha=0.0177827941004, score=0.377597 -   4.3s\n",
      "[CV] alpha=0.0177827941004 ...........................................\n",
      "[CV] .................. alpha=0.0177827941004, score=0.739933 -   4.4s\n",
      "[CV] alpha=0.0177827941004 ...........................................\n",
      "[CV] .................. alpha=0.0177827941004, score=0.650608 -   4.4s\n",
      "[CV] alpha=0.00316227766017 ..........................................\n",
      "[CV] ................. alpha=0.00316227766017, score=0.643353 -   4.4s\n",
      "[CV] alpha=0.00316227766017 ..........................................\n",
      "[CV] ................. alpha=0.00316227766017, score=0.692460 -   4.3s\n",
      "[CV] alpha=0.00316227766017 ..........................................\n",
      "[CV] ................. alpha=0.00316227766017, score=0.581746 -   4.4s\n",
      "[CV] alpha=0.00056234132519 ..........................................\n",
      "[CV] ................. alpha=0.00056234132519, score=0.618450 -   4.2s\n",
      "[CV] alpha=0.00056234132519 ..........................................\n",
      "[CV] ................. alpha=0.00056234132519, score=0.559563 -   4.2s\n",
      "[CV] alpha=0.00056234132519 ..........................................\n",
      "[CV] ................. alpha=0.00056234132519, score=0.559563 -   4.2s\n",
      "[CV] alpha=0.0001 ....................................................\n",
      "[CV] ........................... alpha=0.0001, score=0.492375 -   3.9s\n",
      "[CV] alpha=0.0001 ....................................................\n",
      "[CV] ........................... alpha=0.0001, score=0.492358 -   3.9s\n",
      "[CV] alpha=0.0001 ....................................................\n",
      "[CV] ........................... alpha=0.0001, score=0.492358 -   4.1s"
     ]
    },
    {
     "name": "stderr",
     "output_type": "stream",
     "text": [
      "[Parallel(n_jobs=1)]: Done   1 jobs       | elapsed:    4.2s\n",
      "[Parallel(n_jobs=1)]: Done  15 out of  15 | elapsed:  1.1min finished\n"
     ]
    },
    {
     "name": "stdout",
     "output_type": "stream",
     "text": [
      "\n"
     ]
    },
    {
     "data": {
      "image/png": "[encoded data removed]",
      "text/plain": [
       "<matplotlib.figure.Figure at 0x7f30fe6b6690>"
      ]
     },
     "metadata": {},
     "output_type": "display_data"
    },
    {
     "name": "stdout",
     "output_type": "stream",
     "text": [
      "Test f1: 0.532457056491\n"
     ]
    }
   ],
   "source": [
    "%store -r abstracts_targets_collapsed\n",
    "\n",
    "from pipeline import do_pipeline \n",
    "\n",
    "pairs = list(do_pipeline(abstracts_targets_collapsed, 'ec_pharmaco', verbosity=5))"
   ]
  },
  {
   "cell_type": "markdown",
   "metadata": {},
   "source": [
    "### f1 scores"
   ]
  },
  {
   "cell_type": "code",
   "execution_count": 8,
   "metadata": {
    "collapsed": false,
    "scrolled": false
   },
   "outputs": [
    {
     "data": {
      "image/png": "[encoded data removed]",
      "text/plain": [
       "<matplotlib.figure.Figure at 0x7f30febd4ed0>"
      ]
     },
     "metadata": {},
     "output_type": "display_data"
    }
   ],
   "source": [
    "from support import plot_and_pickle\n",
    "\n",
    "plot_and_pickle(clfs_and_f1s, 'pharmaco')"
   ]
  }
 ],
 "metadata": {
  "kernelspec": {
   "display_name": "Python 2",
   "language": "python",
   "name": "python2"
  },
  "language_info": {
   "codemirror_mode": {
    "name": "ipython",
    "version": 2
   },
   "file_extension": ".py",
   "mimetype": "text/x-python",
   "name": "python",
   "nbconvert_exporter": "python",
   "pygments_lexer": "ipython2",
   "version": "2.7.11"
  }
 },
 "nbformat": 4,
 "nbformat_minor": 0
}
