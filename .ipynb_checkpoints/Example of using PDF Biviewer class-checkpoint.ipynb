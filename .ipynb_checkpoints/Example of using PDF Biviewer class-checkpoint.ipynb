{
 "metadata": {
  "name": ""
 },
 "nbformat": 3,
 "nbformat_minor": 0,
 "worksheets": [
  {
   "cells": [
    {
     "cell_type": "code",
     "collapsed": false,
     "input": [
      "# see also biviewer examples; this class is roughly the same\n",
      "import pdf_biviewer\n",
      "import re\n",
      "import progressbar"
     ],
     "language": "python",
     "metadata": {},
     "outputs": [],
     "prompt_number": 1
    },
    {
     "cell_type": "code",
     "collapsed": false,
     "input": [
      "bv = pdf_biviewer.BiViewer()"
     ],
     "language": "python",
     "metadata": {},
     "outputs": [],
     "prompt_number": 2
    },
    {
     "cell_type": "code",
     "collapsed": false,
     "input": [
      "len(bv) # 687 full text pdfs with linked Cochrane data extraction"
     ],
     "language": "python",
     "metadata": {},
     "outputs": [
      {
       "metadata": {},
       "output_type": "pyout",
       "prompt_number": 3,
       "text": [
        "687"
       ]
      }
     ],
     "prompt_number": 3
    },
    {
     "cell_type": "code",
     "collapsed": false,
     "input": [
      "bv[0][0][\"QUALITY\"] # example quality scoring for the first study"
     ],
     "language": "python",
     "metadata": {},
     "outputs": [
      {
       "metadata": {},
       "output_type": "pyout",
       "prompt_number": 4,
       "text": [
        "[{'DESCRIPTION': 'Similar mean CD4+ cell counts between groups',\n",
        "  'DOMAIN': 'Baseline CD4 count (All studies)',\n",
        "  'RATING': 'YES'},\n",
        " {'DESCRIPTION': 'Age, sex, and weight were similar at baseline',\n",
        "  'DOMAIN': 'Other baseline variables (All studies)',\n",
        "  'RATING': 'YES'},\n",
        " {'DESCRIPTION': 'No additional intervention described, other than mobile support team visits monthly which are part of the model of care',\n",
        "  'DOMAIN': 'Co-interventions (All studies)',\n",
        "  'RATING': 'UNKNOWN'},\n",
        " {'DESCRIPTION': '',\n",
        "  'DOMAIN': 'Random sequence generation (Trials)',\n",
        "  'RATING': 'UNKNOWN'},\n",
        " {'DESCRIPTION': '',\n",
        "  'DOMAIN': 'Allocation concealment (Trials)',\n",
        "  'RATING': 'UNKNOWN'},\n",
        " {'DESCRIPTION': '',\n",
        "  'DOMAIN': 'Contamination protection (Trials)',\n",
        "  'RATING': 'UNKNOWN'},\n",
        " {'DESCRIPTION': 'Prospective Cohort',\n",
        "  'DOMAIN': 'Data collection (Cohorts)',\n",
        "  'RATING': 'YES'},\n",
        " {'DESCRIPTION': 'Assignment was based on catchment areas (intervention clinics / control clinics)',\n",
        "  'DOMAIN': 'Patient selection bias (Cohorts)',\n",
        "  'RATING': 'YES'}]"
       ]
      }
     ],
     "prompt_number": 4
    },
    {
     "cell_type": "code",
     "collapsed": false,
     "input": [
      "# search through all the Cochrane data (with associated PDFs) for quality assessments\n",
      "# which the authors have given a direct quote justifying their decision\n",
      "\n",
      "p = progressbar.ProgressBar(len(bv), timer=True)\n",
      "\n",
      "quotes = []\n",
      "\n",
      "for i, study in enumerate(bv):\n",
      "    p.tap()\n",
      "    quality_data = study[0][\"QUALITY\"]\n",
      "    for domain in quality_data:\n",
      "        if re.match('Quote:', domain['DESCRIPTION']):\n",
      "            quotes.append((i, domain))\n"
     ],
     "language": "python",
     "metadata": {},
     "outputs": [],
     "prompt_number": "*"
    },
    {
     "cell_type": "code",
     "collapsed": false,
     "input": [
      "len(quotes) # 190 quotes justifying quality judgements with matched PDFs in the PMC OA subset"
     ],
     "language": "python",
     "metadata": {},
     "outputs": [
      {
       "metadata": {},
       "output_type": "pyout",
       "prompt_number": 6,
       "text": [
        "190"
       ]
      }
     ],
     "prompt_number": 6
    },
    {
     "cell_type": "code",
     "collapsed": false,
     "input": [
      "quote = quotes[54] # an example\n",
      "quote_text = quote[1]['DESCRIPTION']\n",
      "print quote[1]\n"
     ],
     "language": "python",
     "metadata": {},
     "outputs": [
      {
       "output_type": "stream",
       "stream": "stdout",
       "text": [
        "{'RATING': 'YES', 'DOMAIN': 'Random sequence generation (selection bias)', 'DESCRIPTION': 'Quote: \"Patients were randomly assigned to one of the two treatment groups by opening randomization codebreak envelopes containing one of the two options\".'}\n"
       ]
      }
     ],
     "prompt_number": 7
    },
    {
     "cell_type": "code",
     "collapsed": false,
     "input": [
      "pdf = bv[quote[0]][1] # and the associated PDF... (index number 2 from above)"
     ],
     "language": "python",
     "metadata": {},
     "outputs": [],
     "prompt_number": 8
    },
    {
     "cell_type": "code",
     "collapsed": false,
     "input": [
      "location = re.search(quote_text[10:30], pdf)\n",
      "# just search for start of the quote to minimise chance of unnecessary line breaks etc. as example\n",
      "#\u00a0final version will need to do some preprocessing of the pdf\n"
     ],
     "language": "python",
     "metadata": {},
     "outputs": [],
     "prompt_number": 9
    },
    {
     "cell_type": "code",
     "collapsed": false,
     "input": [
      "start, end = location.span() # get the location of the phrase"
     ],
     "language": "python",
     "metadata": {},
     "outputs": [],
     "prompt_number": 10
    },
    {
     "cell_type": "code",
     "collapsed": false,
     "input": [
      "print pdf[start-100: end+250] # show the original location of the phrase as found in the PDF"
     ],
     "language": "python",
     "metadata": {},
     "outputs": [
      {
       "output_type": "stream",
       "stream": "stdout",
       "text": [
        "med\n",
        "of the study aim and procedures, and\n",
        "written consent was obtained before\n",
        "study participation. Patients were randomly assigned to one of the two treatment groups by opening randomization\n",
        "codebreak envelopes containing one of\n",
        "the two options. Separate randomization\n",
        "was performed for each center, and a copy\n",
        "of all randomization envelopes was kept\n",
        "at the statistical d\n"
       ]
      }
     ],
     "prompt_number": 11
    },
    {
     "cell_type": "code",
     "collapsed": false,
     "input": [],
     "language": "python",
     "metadata": {},
     "outputs": []
    }
   ],
   "metadata": {}
  }
 ]
}