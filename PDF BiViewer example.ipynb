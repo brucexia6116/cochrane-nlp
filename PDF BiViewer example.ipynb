{
 "metadata": {
  "name": ""
 },
 "nbformat": 3,
 "nbformat_minor": 0,
 "worksheets": [
  {
   "cells": [
    {
     "cell_type": "code",
     "collapsed": false,
     "input": [
      "# Example code for PDFBiViewer\n",
      "\n",
      "# Please note, by default this contains only studies where the primary reference\n",
      "# is available as a PDF from the PubMed Central Open Access subset\n",
      "# (together with the associated Cochrane view as usual)\n",
      "\n",
      "# this can be changed by passing a new link file parameter\n",
      "\n",
      "# Also the PDFBiViewer works pretty much identically to BiViewer,\n",
      "# except with using pdf2text to convert PDFs\n",
      "\n",
      "import biviewer\n",
      "import re\n",
      "import progressbar"
     ],
     "language": "python",
     "metadata": {},
     "outputs": [],
     "prompt_number": 1
    },
    {
     "cell_type": "code",
     "collapsed": false,
     "input": [
      "bv = biviewer.PDFBiViewer()"
     ],
     "language": "python",
     "metadata": {},
     "outputs": [],
     "prompt_number": 2
    },
    {
     "cell_type": "code",
     "collapsed": false,
     "input": [
      "len(bv) # 687 full text pdfs with linked Cochrane data extraction\n",
      "# (by default gets our PDF corpus  which was obtained from the PMC open access subset)"
     ],
     "language": "python",
     "metadata": {},
     "outputs": [
      {
       "metadata": {},
       "output_type": "pyout",
       "prompt_number": 3,
       "text": [
        "687"
       ]
      }
     ],
     "prompt_number": 3
    },
    {
     "cell_type": "code",
     "collapsed": false,
     "input": [
      "bv[0].cochrane[\"QUALITY\"] # example quality scoring for the first study"
     ],
     "language": "python",
     "metadata": {},
     "outputs": [
      {
       "metadata": {},
       "output_type": "pyout",
       "prompt_number": 4,
       "text": [
        "[{'DESCRIPTION': 'Similar mean CD4+ cell counts between groups',\n",
        "  'DOMAIN': 'Baseline CD4 count (All studies)',\n",
        "  'RATING': 'YES'},\n",
        " {'DESCRIPTION': 'Age, sex, and weight were similar at baseline',\n",
        "  'DOMAIN': 'Other baseline variables (All studies)',\n",
        "  'RATING': 'YES'},\n",
        " {'DESCRIPTION': 'No additional intervention described, other than mobile support team visits monthly which are part of the model of care',\n",
        "  'DOMAIN': 'Co-interventions (All studies)',\n",
        "  'RATING': 'UNKNOWN'},\n",
        " {'DESCRIPTION': '',\n",
        "  'DOMAIN': 'Random sequence generation (Trials)',\n",
        "  'RATING': 'UNKNOWN'},\n",
        " {'DESCRIPTION': '',\n",
        "  'DOMAIN': 'Allocation concealment (Trials)',\n",
        "  'RATING': 'UNKNOWN'},\n",
        " {'DESCRIPTION': '',\n",
        "  'DOMAIN': 'Contamination protection (Trials)',\n",
        "  'RATING': 'UNKNOWN'},\n",
        " {'DESCRIPTION': 'Prospective Cohort',\n",
        "  'DOMAIN': 'Data collection (Cohorts)',\n",
        "  'RATING': 'YES'},\n",
        " {'DESCRIPTION': 'Assignment was based on catchment areas (intervention clinics / control clinics)',\n",
        "  'DOMAIN': 'Patient selection bias (Cohorts)',\n",
        "  'RATING': 'YES'}]"
       ]
      }
     ],
     "prompt_number": 4
    },
    {
     "cell_type": "code",
     "collapsed": false,
     "input": [
      "# search through all the Cochrane data (with associated PDFs) for quality assessments\n",
      "# which the authors have given a direct quote justifying their decision\n",
      "\n",
      "p = progressbar.ProgressBar(len(bv))\n",
      "\n",
      "quotes = []\n",
      "\n",
      "for i, study in enumerate(bv):\n",
      "    p.tap()\n",
      "    quality_data = study.cochrane[\"QUALITY\"]\n",
      "    for domain in quality_data:\n",
      "        if re.match('Quote:', domain['DESCRIPTION']):\n",
      "            quotes.append((i, domain))\n"
     ],
     "language": "python",
     "metadata": {},
     "outputs": [
      {
       "output_type": "stream",
       "stream": "stdout",
       "text": [
        "\r",
        "[                    ] 0%"
       ]
      },
      {
       "output_type": "stream",
       "stream": "stdout",
       "text": [
        "\r",
        "[                    ] 0%"
       ]
      },
      {
       "output_type": "stream",
       "stream": "stdout",
       "text": [
        "\r",
        "[                    ] 1%"
       ]
      },
      {
       "output_type": "stream",
       "stream": "stdout",
       "text": [
        "\r",
        "[                    ] 2%"
       ]
      },
      {
       "output_type": "stream",
       "stream": "stdout",
       "text": [
        "\r",
        "[                    ] 3%"
       ]
      },
      {
       "output_type": "stream",
       "stream": "stdout",
       "text": [
        "\r",
        "[                    ] 4%"
       ]
      },
      {
       "output_type": "stream",
       "stream": "stdout",
       "text": [
        "\r",
        "[=                   ] 5%"
       ]
      },
      {
       "output_type": "stream",
       "stream": "stdout",
       "text": [
        "\r",
        "[=                   ] 6%"
       ]
      },
      {
       "output_type": "stream",
       "stream": "stdout",
       "text": [
        "\r",
        "[=                   ] 6%"
       ]
      },
      {
       "output_type": "stream",
       "stream": "stdout",
       "text": [
        "\r",
        "[=                   ] 7%"
       ]
      },
      {
       "output_type": "stream",
       "stream": "stdout",
       "text": [
        "\r",
        "[=                   ] 8%"
       ]
      },
      {
       "output_type": "stream",
       "stream": "stdout",
       "text": [
        "\r",
        "[=                   ] 9%"
       ]
      },
      {
       "output_type": "stream",
       "stream": "stdout",
       "text": [
        "\r",
        "[==                  ] 10%"
       ]
      },
      {
       "output_type": "stream",
       "stream": "stdout",
       "text": [
        "\r",
        "[==                  ] 11%"
       ]
      },
      {
       "output_type": "stream",
       "stream": "stdout",
       "text": [
        "\r",
        "[==                  ] 12%"
       ]
      },
      {
       "output_type": "stream",
       "stream": "stdout",
       "text": [
        "\r",
        "[==                  ] 13%"
       ]
      },
      {
       "output_type": "stream",
       "stream": "stdout",
       "text": [
        "\r",
        "[==                  ] 13%"
       ]
      },
      {
       "output_type": "stream",
       "stream": "stdout",
       "text": [
        "\r",
        "[==                  ] 14%"
       ]
      },
      {
       "output_type": "stream",
       "stream": "stdout",
       "text": [
        "\r",
        "[===                 ] 15%"
       ]
      },
      {
       "output_type": "stream",
       "stream": "stdout",
       "text": [
        "\r",
        "[===                 ] 16%"
       ]
      },
      {
       "output_type": "stream",
       "stream": "stdout",
       "text": [
        "\r",
        "[===                 ] 17%"
       ]
      },
      {
       "output_type": "stream",
       "stream": "stdout",
       "text": [
        "\r",
        "[===                 ] 18%"
       ]
      },
      {
       "output_type": "stream",
       "stream": "stdout",
       "text": [
        "\r",
        "[===                 ] 19%"
       ]
      },
      {
       "output_type": "stream",
       "stream": "stdout",
       "text": [
        "\r",
        "[====                ] 20%"
       ]
      },
      {
       "output_type": "stream",
       "stream": "stdout",
       "text": [
        "\r",
        "[====                ] 20%"
       ]
      },
      {
       "output_type": "stream",
       "stream": "stdout",
       "text": [
        "\r",
        "[====                ] 21%"
       ]
      },
      {
       "output_type": "stream",
       "stream": "stdout",
       "text": [
        "\r",
        "[====                ] 22%"
       ]
      },
      {
       "output_type": "stream",
       "stream": "stdout",
       "text": [
        "\r",
        "[====                ] 23%"
       ]
      },
      {
       "output_type": "stream",
       "stream": "stdout",
       "text": [
        "\r",
        "[====                ] 24%"
       ]
      },
      {
       "output_type": "stream",
       "stream": "stdout",
       "text": [
        "\r",
        "[=====               ] 25%"
       ]
      },
      {
       "output_type": "stream",
       "stream": "stdout",
       "text": [
        "\r",
        "[=====               ] 26%"
       ]
      },
      {
       "output_type": "stream",
       "stream": "stdout",
       "text": [
        "\r",
        "[=====               ] 27%"
       ]
      },
      {
       "output_type": "stream",
       "stream": "stdout",
       "text": [
        "\r",
        "[=====               ] 27%"
       ]
      },
      {
       "output_type": "stream",
       "stream": "stdout",
       "text": [
        "\r",
        "[=====               ] 28%"
       ]
      },
      {
       "output_type": "stream",
       "stream": "stdout",
       "text": [
        "\r",
        "[=====               ] 29%"
       ]
      },
      {
       "output_type": "stream",
       "stream": "stdout",
       "text": [
        "\r",
        "[======              ] 30%"
       ]
      },
      {
       "output_type": "stream",
       "stream": "stdout",
       "text": [
        "\r",
        "[======              ] 31%"
       ]
      },
      {
       "output_type": "stream",
       "stream": "stdout",
       "text": [
        "\r",
        "[======              ] 32%"
       ]
      },
      {
       "output_type": "stream",
       "stream": "stdout",
       "text": [
        "\r",
        "[======              ] 33%"
       ]
      },
      {
       "output_type": "stream",
       "stream": "stdout",
       "text": [
        "\r",
        "[======              ] 34%"
       ]
      },
      {
       "output_type": "stream",
       "stream": "stdout",
       "text": [
        "\r",
        "[======              ] 34%"
       ]
      },
      {
       "output_type": "stream",
       "stream": "stdout",
       "text": [
        "\r",
        "[=======             ] 35%"
       ]
      },
      {
       "output_type": "stream",
       "stream": "stdout",
       "text": [
        "\r",
        "[=======             ] 36%"
       ]
      },
      {
       "output_type": "stream",
       "stream": "stdout",
       "text": [
        "\r",
        "[=======             ] 37%"
       ]
      },
      {
       "output_type": "stream",
       "stream": "stdout",
       "text": [
        "\r",
        "[=======             ] 38%"
       ]
      },
      {
       "output_type": "stream",
       "stream": "stdout",
       "text": [
        "\r",
        "[=======             ] 39%"
       ]
      },
      {
       "output_type": "stream",
       "stream": "stdout",
       "text": [
        "\r",
        "[========            ] 40%"
       ]
      },
      {
       "output_type": "stream",
       "stream": "stdout",
       "text": [
        "\r",
        "[========            ] 41%"
       ]
      },
      {
       "output_type": "stream",
       "stream": "stdout",
       "text": [
        "\r",
        "[========            ] 41%"
       ]
      },
      {
       "output_type": "stream",
       "stream": "stdout",
       "text": [
        "\r",
        "[========            ] 42%"
       ]
      },
      {
       "output_type": "stream",
       "stream": "stdout",
       "text": [
        "\r",
        "[========            ] 43%"
       ]
      },
      {
       "output_type": "stream",
       "stream": "stdout",
       "text": [
        "\r",
        "[========            ] 44%"
       ]
      },
      {
       "output_type": "stream",
       "stream": "stdout",
       "text": [
        "\r",
        "[=========           ] 45%"
       ]
      },
      {
       "output_type": "stream",
       "stream": "stdout",
       "text": [
        "\r",
        "[=========           ] 46%"
       ]
      },
      {
       "output_type": "stream",
       "stream": "stdout",
       "text": [
        "\r",
        "[=========           ] 47%"
       ]
      },
      {
       "output_type": "stream",
       "stream": "stdout",
       "text": [
        "\r",
        "[=========           ] 48%"
       ]
      },
      {
       "output_type": "stream",
       "stream": "stdout",
       "text": [
        "\r",
        "[=========           ] 48%"
       ]
      },
      {
       "output_type": "stream",
       "stream": "stdout",
       "text": [
        "\r",
        "[=========           ] 49%"
       ]
      },
      {
       "output_type": "stream",
       "stream": "stdout",
       "text": [
        "\r",
        "[==========          ] 50%"
       ]
      },
      {
       "output_type": "stream",
       "stream": "stdout",
       "text": [
        "\r",
        "[==========          ] 51%"
       ]
      },
      {
       "output_type": "stream",
       "stream": "stdout",
       "text": [
        "\r",
        "[==========          ] 52%"
       ]
      },
      {
       "output_type": "stream",
       "stream": "stdout",
       "text": [
        "\r",
        "[==========          ] 53%"
       ]
      },
      {
       "output_type": "stream",
       "stream": "stdout",
       "text": [
        "\r",
        "[==========          ] 54%"
       ]
      },
      {
       "output_type": "stream",
       "stream": "stdout",
       "text": [
        "\r",
        "[===========         ] 55%"
       ]
      },
      {
       "output_type": "stream",
       "stream": "stdout",
       "text": [
        "\r",
        "[===========         ] 55%"
       ]
      },
      {
       "output_type": "stream",
       "stream": "stdout",
       "text": [
        "\r",
        "[===========         ] 56%"
       ]
      },
      {
       "output_type": "stream",
       "stream": "stdout",
       "text": [
        "\r",
        "[===========         ] 57%"
       ]
      },
      {
       "output_type": "stream",
       "stream": "stdout",
       "text": [
        "\r",
        "[===========         ] 58%"
       ]
      },
      {
       "output_type": "stream",
       "stream": "stdout",
       "text": [
        "\r",
        "[===========         ] 59%"
       ]
      },
      {
       "output_type": "stream",
       "stream": "stdout",
       "text": [
        "\r",
        "[============        ] 60%"
       ]
      },
      {
       "output_type": "stream",
       "stream": "stdout",
       "text": [
        "\r",
        "[============        ] 61%"
       ]
      },
      {
       "output_type": "stream",
       "stream": "stdout",
       "text": [
        "\r",
        "[============        ] 62%"
       ]
      },
      {
       "output_type": "stream",
       "stream": "stdout",
       "text": [
        "\r",
        "[============        ] 62%"
       ]
      },
      {
       "output_type": "stream",
       "stream": "stdout",
       "text": [
        "\r",
        "[============        ] 63%"
       ]
      },
      {
       "output_type": "stream",
       "stream": "stdout",
       "text": [
        "\r",
        "[============        ] 64%"
       ]
      },
      {
       "output_type": "stream",
       "stream": "stdout",
       "text": [
        "\r",
        "[=============       ] 65%"
       ]
      },
      {
       "output_type": "stream",
       "stream": "stdout",
       "text": [
        "\r",
        "[=============       ] 66%"
       ]
      },
      {
       "output_type": "stream",
       "stream": "stdout",
       "text": [
        "\r",
        "[=============       ] 67%"
       ]
      },
      {
       "output_type": "stream",
       "stream": "stdout",
       "text": [
        "\r",
        "[=============       ] 68%"
       ]
      },
      {
       "output_type": "stream",
       "stream": "stdout",
       "text": [
        "\r",
        "[=============       ] 68%"
       ]
      },
      {
       "output_type": "stream",
       "stream": "stdout",
       "text": [
        "\r",
        "[=============       ] 69%"
       ]
      },
      {
       "output_type": "stream",
       "stream": "stdout",
       "text": [
        "\r",
        "[==============      ] 70%"
       ]
      },
      {
       "output_type": "stream",
       "stream": "stdout",
       "text": [
        "\r",
        "[==============      ] 71%"
       ]
      },
      {
       "output_type": "stream",
       "stream": "stdout",
       "text": [
        "\r",
        "[==============      ] 72%"
       ]
      },
      {
       "output_type": "stream",
       "stream": "stdout",
       "text": [
        "\r",
        "[==============      ] 73%"
       ]
      },
      {
       "output_type": "stream",
       "stream": "stdout",
       "text": [
        "\r",
        "[==============      ] 74%"
       ]
      },
      {
       "output_type": "stream",
       "stream": "stdout",
       "text": [
        "\r",
        "[===============     ] 75%"
       ]
      },
      {
       "output_type": "stream",
       "stream": "stdout",
       "text": [
        "\r",
        "[===============     ] 75%"
       ]
      },
      {
       "output_type": "stream",
       "stream": "stdout",
       "text": [
        "\r",
        "[===============     ] 76%"
       ]
      },
      {
       "output_type": "stream",
       "stream": "stdout",
       "text": [
        "\r",
        "[===============     ] 77%"
       ]
      },
      {
       "output_type": "stream",
       "stream": "stdout",
       "text": [
        "\r",
        "[===============     ] 78%"
       ]
      },
      {
       "output_type": "stream",
       "stream": "stdout",
       "text": [
        "\r",
        "[===============     ] 79%"
       ]
      },
      {
       "output_type": "stream",
       "stream": "stdout",
       "text": [
        "\r",
        "[================    ] 80%"
       ]
      },
      {
       "output_type": "stream",
       "stream": "stdout",
       "text": [
        "\r",
        "[================    ] 81%"
       ]
      },
      {
       "output_type": "stream",
       "stream": "stdout",
       "text": [
        "\r",
        "[================    ] 82%"
       ]
      },
      {
       "output_type": "stream",
       "stream": "stdout",
       "text": [
        "\r",
        "[================    ] 82%"
       ]
      },
      {
       "output_type": "stream",
       "stream": "stdout",
       "text": [
        "\r",
        "[================    ] 83%"
       ]
      },
      {
       "output_type": "stream",
       "stream": "stdout",
       "text": [
        "\r",
        "[================    ] 84%"
       ]
      },
      {
       "output_type": "stream",
       "stream": "stdout",
       "text": [
        "\r",
        "[=================   ] 85%"
       ]
      },
      {
       "output_type": "stream",
       "stream": "stdout",
       "text": [
        "\r",
        "[=================   ] 86%"
       ]
      },
      {
       "output_type": "stream",
       "stream": "stdout",
       "text": [
        "\r",
        "[=================   ] 87%"
       ]
      },
      {
       "output_type": "stream",
       "stream": "stdout",
       "text": [
        "\r",
        "[=================   ] 88%"
       ]
      },
      {
       "output_type": "stream",
       "stream": "stdout",
       "text": [
        "\r",
        "[=================   ] 89%"
       ]
      },
      {
       "output_type": "stream",
       "stream": "stdout",
       "text": [
        "\r",
        "[=================   ] 89%"
       ]
      },
      {
       "output_type": "stream",
       "stream": "stdout",
       "text": [
        "\r",
        "[==================  ] 90%"
       ]
      },
      {
       "output_type": "stream",
       "stream": "stdout",
       "text": [
        "\r",
        "[==================  ] 91%"
       ]
      },
      {
       "output_type": "stream",
       "stream": "stdout",
       "text": [
        "\r",
        "[==================  ] 92%"
       ]
      },
      {
       "output_type": "stream",
       "stream": "stdout",
       "text": [
        "\r",
        "[==================  ] 93%"
       ]
      },
      {
       "output_type": "stream",
       "stream": "stdout",
       "text": [
        "\r",
        "[==================  ] 94%"
       ]
      },
      {
       "output_type": "stream",
       "stream": "stdout",
       "text": [
        "\r",
        "[=================== ] 95%"
       ]
      },
      {
       "output_type": "stream",
       "stream": "stdout",
       "text": [
        "\r",
        "[=================== ] 96%"
       ]
      },
      {
       "output_type": "stream",
       "stream": "stdout",
       "text": [
        "\r",
        "[=================== ] 96%"
       ]
      },
      {
       "output_type": "stream",
       "stream": "stdout",
       "text": [
        "\r",
        "[=================== ] 97%"
       ]
      },
      {
       "output_type": "stream",
       "stream": "stdout",
       "text": [
        "\r",
        "[=================== ] 98%"
       ]
      },
      {
       "output_type": "stream",
       "stream": "stdout",
       "text": [
        "\r",
        "[=================== ] 99%"
       ]
      },
      {
       "output_type": "stream",
       "stream": "stdout",
       "text": [
        "\r",
        "[====================] 100%\n"
       ]
      }
     ],
     "prompt_number": 5
    },
    {
     "cell_type": "code",
     "collapsed": false,
     "input": [
      "len(quotes) # 190 quotes justifying quality judgements with matched PDFs in the PMC OA subset"
     ],
     "language": "python",
     "metadata": {},
     "outputs": [
      {
       "metadata": {},
       "output_type": "pyout",
       "prompt_number": 6,
       "text": [
        "190"
       ]
      }
     ],
     "prompt_number": 6
    },
    {
     "cell_type": "code",
     "collapsed": false,
     "input": [
      "n_test = 143\n",
      "\n",
      "study_i, qual = quotes[n_test] # an example\n",
      "pdf = bv[study_i][1] # and the associated PDF... (index number 2 from above)\n",
      "\n",
      "\n",
      "pdf = re.sub(\"\\n\", \" \", pdf) # preprocessing rule 1\n",
      "pdf = pdf.lower() # preprocessing rule 2\n",
      "# consider removing [...] (see n_test 114 + 118)\n",
      "# also see different ellipsis examples in no 11 and 120\n",
      "\n",
      "print qual[\"DESCRIPTION\"]\n",
      "\n",
      "quote = re.search(\"Quote\\: ?[\\'\\\"](.*?)[\\'\\\"]\", qual[\"DESCRIPTION\"]).group(1)\n",
      "\n",
      "\n",
      "\n",
      "\n",
      "quote = quote.lower() # preprocessing rule 2\n",
      "\n",
      "print \"Original quote from Cochrane:\"\n",
      "print\n",
      "print quote\n",
      "print\n",
      "print \"Rated \\'%(RATING)s\\' for domain \\'%(DOMAIN)s\\'\" % qual\n",
      "\n",
      "start = pdf.index(quote[:25])\n",
      "# just search for start of the quote to minimise chance of unnecessary line breaks etc. as example\n",
      "#\u00a0final version will need to do some preprocessing of the pdf\n",
      "\n",
      "#start, end = location.span() # get the location of the phrase\n",
      "print\n",
      "print \"Matched area in PDF:\"\n",
      "print\n",
      "end_quote = start + len(quote)\n",
      "print pdf[start-100: start] + \"\\x1b[36m\" + pdf[start: end_quote] + \"\\x1b[0m\" + pdf[end_quote: end_quote+100]          \n",
      "# show the original location of the phrase as found in the PDF"
     ],
     "language": "python",
     "metadata": {},
     "outputs": [
      {
       "ename": "ValueError",
       "evalue": "substring not found",
       "output_type": "pyerr",
       "traceback": [
        "\u001b[0;31m---------------------------------------------------------------------------\u001b[0m\n\u001b[0;31mValueError\u001b[0m                                Traceback (most recent call last)",
        "\u001b[0;32m<ipython-input-160-9e30e347b8db>\u001b[0m in \u001b[0;36m<module>\u001b[0;34m()\u001b[0m\n\u001b[1;32m     25\u001b[0m \u001b[0;32mprint\u001b[0m \u001b[0;34m\"Rated \\'%(RATING)s\\' for domain \\'%(DOMAIN)s\\'\"\u001b[0m \u001b[0;34m%\u001b[0m \u001b[0mqual\u001b[0m\u001b[0;34m\u001b[0m\u001b[0m\n\u001b[1;32m     26\u001b[0m \u001b[0;34m\u001b[0m\u001b[0m\n\u001b[0;32m---> 27\u001b[0;31m \u001b[0mstart\u001b[0m \u001b[0;34m=\u001b[0m \u001b[0mpdf\u001b[0m\u001b[0;34m.\u001b[0m\u001b[0mindex\u001b[0m\u001b[0;34m(\u001b[0m\u001b[0mquote\u001b[0m\u001b[0;34m[\u001b[0m\u001b[0;34m:\u001b[0m\u001b[0;36m25\u001b[0m\u001b[0;34m]\u001b[0m\u001b[0;34m)\u001b[0m\u001b[0;34m\u001b[0m\u001b[0m\n\u001b[0m\u001b[1;32m     28\u001b[0m \u001b[0;31m# just search for start of the quote to minimise chance of unnecessary line breaks etc. as example\u001b[0m\u001b[0;34m\u001b[0m\u001b[0;34m\u001b[0m\u001b[0m\n\u001b[1;32m     29\u001b[0m \u001b[0;31m#\u00a0final version will need to do some preprocessing of the pdf\u001b[0m\u001b[0;34m\u001b[0m\u001b[0;34m\u001b[0m\u001b[0m\n",
        "\u001b[0;31mValueError\u001b[0m: substring not found"
       ]
      },
      {
       "output_type": "stream",
       "stream": "stdout",
       "text": [
        "Quote: \"In line with its license, people allocated to insulin detemir were allowed to receive an additional morning insulin dose if\" and \"Glargine was given once-daily\". Also, all patients randomised to insulin detemir used a pen-injector, whereas United States patients randomised to insulin glargine used syringes and vials. \n",
        " Comment: The study has a potential source of bias related to the specific study design used, i.e. different frequency of injection and different injection devices across treatments.\n",
        "Original quote from Cochrane:\n",
        "\n",
        "in line with its license, people allocated to insulin detemir were allowed to receive an additional morning insulin dose if\n",
        "\n",
        "Rated 'NO' for domain 'Other bias'\n"
       ]
      }
     ],
     "prompt_number": 160
    },
    {
     "cell_type": "code",
     "collapsed": false,
     "input": [
      "print quote\n",
      "print pdf"
     ],
     "language": "python",
     "metadata": {},
     "outputs": [
      {
       "output_type": "stream",
       "stream": "stdout",
       "text": [
        "in line with its license, people allocated to insulin detemir were allowed to receive an additional morning insulin dose if\n",
        "diabetologia (2008) 51:408\u2013416 doi 10.1007/s00125-007-0911-x  article  a randomised, 52-week, treat-to-target trial comparing insulin detemir with insulin glargine when administered as add-on to glucose-lowering drugs in insulin-naive people with type 2 diabetes j. rosenstock & m. davies & p. d. home & j. larsen & c. koenen & g. schernthaner  received: 23 september 2007 / accepted: 7 november 2007 / published online: 16 january 2008 # springer-verlag 2007  abstract aims/hypothesis this 52-week multinational, randomised, open-label, parallel-group, non-inferiority trial compared clinical outcomes following supplementation of oral glucose-lowering drugs with basal insulin analogues detemir and glargine in type 2 diabetic patients. methods insulin-naive adults (n=582, hba1c 7.5\u201310.0%, bmi\u226440.0 kg/m2) were randomised 1:1 to receive insulin detemir or glargine once daily (evening) actively titrated to target fasting plasma glucose (fpg)\u22646.0 mmol/l. an additional morning insulin detemir dose was permitted if pre-dinner plasma glucose (pg) was >7.0 mmol/l after  electronic supplementary material the online version of this article (doi:10.1007/s00125-007-0911-x) contains supplementary material, which is available to authorised users. j. rosenstock (*) dallas diabetes and endocrine center at medical city, 7777 forest lane c-685, dallas, tx 75230, usa e-mail: juliorosenstock@dallasdiabetes.com m. davies cardiovascular sciences department, university of leicester, leicester, uk p. d. home school of medical sciences, newcastle university, newcastle upon tyne, uk j. larsen : c. koenen novo nordisk, bagsv\u00e6rd, denmark g. schernthaner department of medicine, rudolfstiftung hospital-vienna, vienna, austria  achieving fpg<7.0 mmol/l. due to labelling restrictions, no second glargine dose was allowed. results baseline hba1c decreased from 8.6 to 7.2 and 7.1% (ns) with detemir and glargine, respectively. fpg improved from 10.8 to 7.1 and 7.0 mmol/l (ns), respectively. with detemir, 45% of participants completed the study on once daily dosing and 55% on twice daily dosing, with no difference in hba1c. overall, 52% of participants achieved hba1c \u22647.0%: 33% (detemir) and 35% (glargine) without hypoglycaemia. within-participant variability for self-monitored fpg and pre-dinner pg did not differ by insulin treatment, nor did the relative risk of overall or nocturnal hypoglycaemia. modest reductions in weight gain were seen with detemir vs glargine in completers (3.0 vs 3.9 kg, p=0.01) and in the intention-to-treat population (2.7 vs 3.5 kg, p=0.03), primarily related to completers on oncedaily detemir. mean daily detemir dose was higher (0.78 u/kg [0.52 with once daily dosing, 1.00 u/kg with twice daily dosing]) than glargine (0.44 iu/kg). injection site reactions were more frequent with detemir (4.5 vs 1.4%). conclusions/interpretation supplementation of oral agents with detemir or glargine achieves clinically important improvements in glycaemic control with low risk of hypoglycaemia. non-inferiority was demonstrated for detemir using higher insulin doses (mainly patients on twice daily dosing); weight gain was somewhat reduced with once daily insulin detemir. clinicaltrials.gov id no.: nct00283751. keywords body weight . fasting plasma glucose . glucose variability . glucose control . hypoglycaemia . insulin detemir . insulin glargine . insulin supplementation . oral glucose-lowering agents . type 2 diabetes  \f",
        "diabetologia (2008) 51:408\u2013416  abbreviations fpg fasting plasma glucose itt intention-to-treat locf last observation carried forward nph nph insulin pg plasma glucose  409  but methodological issues remain controversial. the objective of the current study was to compare treatment with insulin detemir and insulin glargine in line with their licensed indications as add-on therapy to oral glucoselowering agents in insulin-naive patients with type 2 diabetes.  methods introduction people with type 2 diabetes inadequately controlled by oral glucose-lowering drugs can achieve clinically relevant improvements in hba1c with the addition of insulin therapy [1\u20133]. however, patients and healthcare providers are often reluctant to initiate insulin due to concerns over injections, fear of hypoglycaemia and additional weight gain, and also because insulin treatment is perceived as complex and an added burden to diabetes management [4, 5]. moreover, once insulin is initiated, recommended targets for glycaemic control (hba1c <6.5\u20137.0%) are often not met [5\u20137]. in recent years, the basal insulin analogues glargine and detemir have been introduced. these were developed to improve upon the limitations of nph insulin (nph) and other conventional basal insulins, which have an inadequate duration of action, a marked peak glucose-lowering effect and variability in response from one injection to another [8]. these analogues might help to overcome some of the barriers to insulin initiation and optimisation, including concerns over hypoglycaemia and weight gain. several recent studies have assessed basal insulin as an add-on therapy to oral glucose-lowering drugs, comparing either insulin glargine or insulin detemir with nph, and using titration algorithms based on glucose monitoring [1, 9\u201313]. these studies have demonstrated that simple regimens involving a once or twice daily injection of a basal insulin analogue can achieve clinically important improvements in glycaemic control similar to those achievable with nph, but with less risk of hypoglycaemia. insulin detemir has consistently shown less body weight gain than nph when used in this way, as well as when used in basal plus mealtime insulin therapy [14, 15], whereas a weight advantage has been reported in only a few of the comparative trials of glargine vs nph, as for example in the recent lanmet study [11]. insulin glargine is licensed only for once daily use as a basal insulin for people with diabetes. insulin detemir, in contrast, is available for once or twice daily use. glucose clamp comparisons between these insulins have given contradictory information on whether their duration of effect is comparable [16, 17]. the only direct comparison in patients with type 2 diabetes suggests very similar pharmacodynamic profiles at clinically relevant doses [16],  study protocol this 52-week, parallel-group trial was conducted in 2003 and 2004 at 80 sites in europe and the usa and included 582 insulin-naive people with type 2 diabetes, who were randomised (1:1) and treated with insulin detemir (levemir; novo nordisk, bagsv\u00e6rd, denmark) or insulin glargine (lantus; sanofi-aventis, paris, france) as add-on therapy to oral glucose-lowering drugs. the trial was conducted in accordance with the declaration of helsinki and principles for good clinical practice and was approved by ethics committees/review boards in all countries. all participants gave written informed consent. concealed randomisation was carried out by an automatic telephone response system and was stratified according to oral glucose-lowering drug mono- or combination-therapy at entry. an open-label design was required to allow twice daily administration of insulin detemir if needed, according to the dosing algorithm targets for pre-dinner plasma glucose (pg) concentrations (table 1). glargine was only administered once daily at bedtime as per study protocol and in accordance with its licence [18]. to reduce potential bias, hba1c results were only disclosed to investigators at randomisation and at trial end. participants insulin-naive men and women with type 2 diabetes and the following characteristics were recruited: \u226518 years old, \u226512 months disease duration, bmi\u2264 40.0 kg/m2 and hba1c 7.5\u201310.0%. for inclusion, they had to be receiving one or two oral agents (metformin, insulin secretagogues, \u03b1-glucosidase inhibitors) \u22654 months on at least one-half the maximum recommended dose, according to local guidelines. exclusion criteria included treatment with thiazolidinediones (due to labelling restrictions in europe), use of more than two oral agents within 6 months, hypoglycaemic unawareness or other medical conditions likely to interfere with trial conduct. withdrawal criteria included pregnancy, hba1c >11.0% after the first 12 weeks of treatment and initiation of medication interfering with glucose metabolism. study medications oral glucose-lowering therapy, diet and physical activity were recommended to remain stable during the study; no meal-time insulin was allowed. basal insulin was initiated once daily in the evening at a dose of  \f",
        "410  diabetologia (2008) 51:408\u2013416  table 1 algorithm used for insulin dose titration algorithm  adjustment of insulin dose (u) if positive response to previous dose adjustment  evening insulin dose adjustment average pre-breakfast self-monitored pg >10.0 mmol/l +12 9.1\u201310.0 mmol/l +8 8.1\u20139.0 mmol/l +6 7.1\u20138.0 mmol/l +4 6.1\u20137.0 mmol/l +2 if one self-monitored pg measurement 3.1\u20134.0 mmol/l \u22122 <3.1 mmol/l \u22124 morning insulin dose adjustmentb average pre-dinner self-monitored pg >10.0 mmol/l +8 9.1\u201310.0 mmol/l +6 8.1\u20139.0 mmol/l +4 7.1\u20138.0 mmol/l +2 6.1\u20137.0 mmol/l +2 if one self-monitored pg measurement 3.1\u20134.0 mmol/l \u20132 <3.1 mmol/l \u20134  if no response to previous dose adjustmenta  +12 +10 +8 +6 +2 \u20132 \u20134  +8 +8 +6 +4 +2 \u20132 \u20134  a  non-responses: the average self-monitored pg level is increased and/or within the same range as at the last contact b some insulin detemir-treated participants only +, insulin dose titrated up; \u2013, insulin dose titrated down  12 u and titrated according to a structured treatment algorithm. in line with its licence, people allocated to insulin detemir were allowed to receive an additional morning insulin dose if pre-dinner pg was >7.0 mmol/l, but only if pre-breakfast pg was <7.0 mmol/l or nocturnal hypoglycaemia (major episode or pg\u22644.0 mmol/l) precluded achievement of the fasting plasma glucose (fpg) target. insulin detemir was administered with a pen-injector (flexpen, novo nordisk) 1 h before to 1 h after dinner, and if needed within 30 min of breakfast. glargine was given once daily at bedtime, via a pen-injector in the eu (optipen pro 1, sanofi-aventis) and with syringes in the usa. the evening dose of insulin detemir was administered somewhat earlier than that of insulin glargine, to allow for the possibility that recipients might be switched to a twice daily schedule, in which case a more even distribution of the dose across 24 h would be achieved. titration of basal insulin participants attended 16 scheduled visits and nine telephone contacts over 1 year. evening insulin doses were titrated throughout the trial to a fpg target \u22646.0 mmol/l in the absence of hypoglycaemia. an identical pre-dinner glucose target was applied for people  administering a morning dose of insulin detemir (table 1). participants measured capillary pg using glucose meters (medisense xtra; abbott, wiesbaden, germany). dose adjustments were to be based on the average of three selfmeasurements before breakfast (and before dinner if on twice daily insulin detemir). during the first 12 weeks, participants had weekly investigator contact. a titration committee monitored the algorithm for insulin dose optimisation and reviewed prescribed insulin doses periodically. this committee was not informed of the treatment insulin being used, but this would have been evident for participants on twice daily insulin detemir. outcome measures the primary endpoint was baselineadjusted hba1c at end of treatment. secondary variables included clinic fpg, within-participant variation in pg, tenpoint self-measured pg profiles, proportion of participants achieving hba1c \u22647.0% with and without hypoglycaemia, change in body weight, incidence of hypoglycaemia, adverse events and standard safety parameters. analyses and assessments hba1c was analysed by hplc (bio rad, munich, germany [eu analyses] and bio rad, hercules, ca, usa [us analyses], dcct-harmonised), with a reference range 4.3\u20136.1%. clinic fpg was measured centrally by a hexokinase method (gluco-quant; roche, mannheim, germany). body weight was measured using calibrated scales. participants recorded ten-point pg profiles during the last week of treatment. hypoglycaemia was classified as \u2018major\u2019 if assistance from another person was required, \u2018minor\u2019 if confirmed by pg<3.1 mmol/l or \u2018symptoms only\u2019 if pg\u22653.1 mmol/l or no measurement was made. statistical analyses the sample size was based on noninferiority of insulin detemir relative to insulin glargine for hba1c after 52 weeks. to achieve a power of 95% with an expected sd for change in hba1c of 1.1% and allowing a dropout rate of 15%, it was originally planned to randomise 466 patients. however, this was extended to 566 patients to allow for potential regional differences between the eu and us. the possibility of a treatment \u00d7 region interaction was tested, but eliminated from the model as no significant interaction was found. non-inferiority was accepted if the upper limit of the two-sided 95% ci for the difference in hba1c (detemir\u2013glargine) was less than 0.4%-units, a value decided in discussion with the food and drug administration (fda) for the entire insulin detemir phase iii study programme. unless otherwise specified, all analyses were based on the intention-to-treat (itt) population, this being all randomised patients exposed to insulin detemir or insulin glargine. a significance level of 5% was used for all analyses. participants were regarded as being on once- or  \f",
        "diabetologia (2008) 51:408\u2013416  twice-daily insulin detemir according to the regimen used at trial completion. statistical analyses were not made for these subsets of patients, as this was non-randomised and protocol-determined; results are given for observational comparison only. analyses of hba1c, clinic fpg and change in weight after 52 weeks were by anova with treatment, region and oral glucose-lowering therapy as fixed effects and baseline (randomisation) value as covariate. the last observation carried forward (locf) principle was specified for hba1c and clinic fpg in non-completers treated \u226512 weeks (time of the first on-treatment measurements). change in weight was estimated based on all participants completing the trial. additional weight analyses were prepared for the itt population, applying the same locf principle or using imputed data, by treatment-specific linear regression, from week 12 onwards to account for continuing weight change and limit the influence of differences in withdrawal rates and times between treatments. fisher\u2019s exact test was used to compare the numbers of patients on insulin detemir and insulin glargine with an hba1c \u22647.0% without symptomatic hypoglycaemia confirmed by pg <4.0 mmol/l or any single value <3.1 mmol/l during the last 3 months of treatment. the ten-point self-monitored pg profiles were analysed for parallelism using repeated measures anova depending on treatment, region, oral glucose-lowering therapy, time and treatment \u00d7 time interaction as fixed effects. withinparticipant variation in self-measured fasting and pre-dinner pg was determined from four measurements for each during the last week of treatment. hypoglycaemic episodes during the 52 week treatment period were analysed as recurrent events in a cox regression analysis using a gamma frailty model (splus 2000; insightful, seattle, wa, usa). nocturnal episodes (2300 to 0600 hours) were analysed separately. adverse events were summarised using descriptive statistics. all other analyses were performed using sas version 8.2 (sas institute, cary, nc, usa).  results participants of 892 patients screened, 582 were randomised, while 289 did not fulfil the selection criteria and 21 withdrew consent. in each treatment arm, 291 patients were randomised and treated, of whom 231 (79%) and 252 (87%) completed the trial on insulin detemir and insulin glargine, respectively (fig. 1). the higher withdrawal rate observed with insulin detemir was partly due to adverse events, ten of which were considered possibly or probably related to trial drug (electronic supplementary material [esm] table 1). these included two cases of possible cutaneous allergy, five of injection site reactions and one each of injection site inflammation, hypoglycaemia and  411  weight increase. adverse event withdrawals with possible or probable relation to glargine included one case each of pruritus, myalgia, hyperglycaemia and hypoglycaemia. details of all adverse events leading to withdrawal are provided in esm table 2. other diabetes-related reasons for withdrawal with insulin detemir included hba1c 12.0% (n=1) and multiple hypoglycaemic episodes (n=1). other reasons for withdrawal included the closure of a trial site and various circumstantial events unrelated to the trial medications. baseline characteristics (table 2) were comparable between the two treatment groups. participants completing the trial on once or twice daily insulin detemir had a baseline hba1c of 8.60 and 8.66%, respectively. insulin dosing of participants treated with insulin detemir, 104 (45%) completed the trial on one daily injection, while 129 (55%) administered an additional morning dose. the majority of patients administering insulin detemir twice daily (n=103) were transferred to this regimen within 12 weeks of treatment. at the time of transfer, about twothirds of the patients adding a morning injection fulfilled the formal dose transfer guidelines, the other one-third were changed through investigator discretion. participants using insulin detemir twice daily administered about 40% of their daily insulin dose before breakfast. after 52 weeks the mean daily dose of insulin detemir (n=227) was 0.78 u/kg (0.52 u/kg on once daily [n=102] and 1.00 u/kg on twice daily [n=125]) and the mean daily dose of glargine (n= 248) was 0.44 iu/kg. glycaemic control hba1c decreased by 1.5% with both insulins and was comparable after 52 weeks at 7.2% (n= 268) and 7.1% (n=275) for detemir and glargine respectively (table 3), with an estimated difference of 0.05 (\u22120.11, 0.21)%, thereby meeting the criteria for non-inferiority for insulin detemir vs glargine. hba1c was similar in participants completing the study on once or twice daily insulin detemir (7.1 and 7.1%). clinic fpg was 10.8 mmol/l at baseline in both arms and was comparable at end of treatment with insulin detemir and insulin glargine (7.1 and 7.0 mmol/l) (table 3). the profile of change in hba1c and fpg was very similar (fig. 2a). mean self-monitored fpg was comparable between treatments, being 6.1 mmol/l with insulin detemir and 6.0 mmol/l with insulin glargine; self-monitored pg predinner (6.8 and 7.0 mmol/l) was also similar. within-participant variation in self-monitored pg prebreakfast and pre-dinner did not differ significantly between insulin detemir and insulin glargine (table 3). the overall shape of the ten-point self-monitored pg profiles during the last week of treatment was parallel for insulin detemir (n=218) and insulin glargine (n=246) (ns) and appeared identical, regardless of treatment regimen (fig. 2b).  \f",
        "412  diabetologia (2008) 51:408\u2013416  fig. 1 patient disposition during the trial and consequent analysis sets  screened: 892 excluded: 310 violating selection criteria: 289 withdrew consent: 21  randomised: 582 of 892  allocated and exposed detemir: 291 (100%)  allocated and exposed glargine: 291 (100%) withdrawn: 39 (13%) adverse events: 11 (4%) ineffective therapy: 2 (1%) non-compliance: 15 (5%) other reason: 11 (4%)  withdrawn: 60 (21%) adverse events: 23 (8%) ineffective therapy: 3 (1%) non-compliance: 10 (3%) other reason: 24 (8%) primary analysis: 268 (92%) (23 excluded as no postbaseline information)  primary analysis: 275 (94%) (16 excluded as no postbaseline information)  completed: 231 (79%) (primary weight analyses)  completed: 252 (87%) (primary weight analyses)  completers once daily detemir: 104 (45%) twice daily detemir: 127 (55%) (all explorative analyses)  table 2 clinical characteristics of type 2 diabetic participants  values are n (%) or mean (sd) a before randomisation su, sulfonylurea  completers once daily glargine: 252 (100%) (all explorative analyses)  characteristics  detemir  glargine  randomised/exposed/itt, n (%) men/women, n ethnicity (n) black white asian-pacific islander other oral glucose-lowering drugs, n (%) monotherapy metformin insulin secretagogues combination therapy metformin + secretagogue metformin + alpha glucosidase inhibitor secretagogue + alpha glucosidase inhibitor secretagogue + secretagogue (su + glinide) age (years) weight (kg)a bmi (kg/m2) duration of diabetes (years) hba1c (%)a c-peptide (nmol/l)  291 (100) 166/125  291 (100) 171/120  22 250 7 12  12 263 7 9  73 (25) 32 (11) 41 (14) 218 (75) 212 3 3 \u2013 58.4 (10.2) 87.4 (16.6) 30.6 (4.8) 9.1 (6.1) 8.64 (0.78) 0.87 (0.56)  70 (24) 33 (11) 37 (13) 221 (76) 215 1 4 1 59.4 (9.6) 87.4 (17.4) 30.5 (4.6) 9.1 (6.4) 8.62 (0.77) 0.85 (0.55)  \f",
        "diabetologia (2008) 51:408\u2013416  413  table 3 glycaemic control in type 2 diabetic patients treated with insulin detemir or insulin glargine detemir  glargine  p value  \u2013  1.00 0.71  0.45 0.41  completers on once daily  completers on twice daily  all  parameters  n  mean  n  mean  n  mean  n  mean  hba1c % (se)a  104  7.12 (0.11)  127  7.06 (0.10)  268  7.16 (0.08)  275  7.12 (0.08)  clinic fpg (mmol/l)a  104  7.27 (0.31)  127  6.73 (0.25)  268  7.14 (0.21)  272  6.98 (0.21)  hba1c \u22647.0%, n (%) hba1c \u22647.0% without hypoglycaemia, n (%) within-participant variation (mmol/l) pre-breakfast (mmol/l)b pre-dinner (mmol/l)b  103 103  52 (51) 31 (30)  127 127  69 (54) 48 (38)  248 248  129 (52) 82 (33)  259 259  135 (52) 90 (35)  0.05 (\u20130.11, 0.21) 0.16 (\u20130.26, 0.58) \u2013 \u2013  103 103  0.93 (15.0) 1.27 (19.8)  125 125  1.15 (19.6) 1.84 (26.4)  238 238  1.06 (17.5) 1.60 (23.6)  257 258  1.03 (17.3) 1.55 (22.0)  \u2013 \u2013  a b  all  difference (95% ci) (detemir/glargine)  \u2013  mean (se); n=number of patients for whom data are available within-participant sd (cv%)  of participants in both arms, 52% achieved hba1c \u2264 7.0%, while 33% treated with insulin detemir and 35% treated with insulin glargine did so in the absence of hypoglycaemia. fasting and pre-dinner pg targets of \u22646.0 mmol/l were achieved by 25 and 20% of participants treated with insulin detemir and insulin glargine (ns), respectively; the pre-breakfast target alone was achieved by 46 and 58% (p<0.01) and the pre-dinner target by 38 and 30%, respectively (p<0.05). hypoglycaemia the risk of hypoglycaemia of any type was comparable between treatments (table 4). the overall rate of hypoglycaemia was low at 5.8 vs 6.2 episodes per patient-year with insulin detemir versus insulin glargine (relative risk: 0.94 [96% ci 0.71, 1.25]), while the rate of nocturnal hypoglycaemia was only 1.3 episodes per patientyear with both insulins. adjustment for hba1c did not affect the outcome of the analyses. major hypoglycaemic episodes were rare with both insulins, especially at night, and could not be statistically analysed.  fig. 2 change in hba1c with time (a). black circles, insulin detemir; white circles, insulin glargine. b mean ten-point self-monitored pg profiles during the last week of treatment. triangles, insulin detemir (once daily); squares, insulin detemir (twice daily); black circles, insulin detemir (all patients); white circles, insulin glargine  body weight weight gain in participants completing 52 weeks of treatment was lower with insulin detemir (n= 230) than with insulin glargine (n=252) (3.0 [se=0.4] vs 3.9 [se=0.4] kg, p=0.01). change in weight analysed by locf (detemir n=268, glargine n=275) confirmed this lower weight gain (2.7 vs 3.5 kg, p=0.03), as did analysis with imputation for non-completers (2.8 vs 3.5 kg, p= 0.04). patients completing the study on once daily insulin detemir (n=104) had a weight gain of 2.3 (se=0.5) kg, whereas those treated twice daily (n=126) gained 3.7 (se= 0.4) kg, similar to glargine (fig. 3).  \f",
        "414  diabetologia (2008) 51:408\u2013416  table 4 hypoglycaemic episodes in type 2 diabetic patients treated with insulin detemir or insulin glargine events  all nocturnal major nocturnal minor nocturnal symptoms only nocturnal  insulin detemir (n=291)  insulin glargine (n=291)  relative risk (detemir/glargine) (95% ci)  participants, n (%)  episodes (n)  rate (per patient-year)  participants, n (%)  episodes (n)  rate (per patient-year)  182 (63) 95 (33) 5 (2) 3 (1) 135 (46) 73 (25) 137 (47)  1521 352 9 5 737 212 760  5.8 1.3 0.0 0.0 2.9 0.8 3.0  191 (66) 93 (32) 8 (3) 4 (1) 151 (52) 71 (24) 133 (46)  1670 350 8 4 786 192 866  6.2 1.3 0.0 0.0 2.9 0.7 3.2  0.94 1.05 \u2013 \u2013 1.05 1.17 0.88  48 (17)  128  0.5  49 (17)  151  0.6  0.88 (0.50\u20131.54)  (0.71\u20131.25) (0.69\u20131.58)  (0.75\u20131.46) (0.75\u20131.83) (0.61\u20131.25)  no statistical analyses were performed on the small numbers of major events.  adverse events and other safety measures serious adverse events were less frequent with insulin detemir (42 patients with 47 events) than with glargine (53 patients with 73 events). however, only five serious events with insulin detemir (two hypoglycaemia, one each of hypothyroidism, injection-site reaction and a motor vehicle accident) and four with glargine (three hypoglycaemia, one hyperglycaemia) were considered by local investigators to be probably or possibly related to trial products. a participant treated with insulin detemir was found dead in bed (no autopsy report available), but had a history of myocardial infarction. a patient using glargine was hospitalised after the study for pulmonary fibrosis and died of cryptogenic fibrosing alveolitis. adverse events recorded as serious tended to be of a wide-ranging disparate nature, with no clear pattern of between-treatment differences. full details of all serious adverse events and events recorded as possibly or probably related to the study insulins are given as in the esm tables 1, 2, 3, and 4).  fig. 3 mean weight change from baseline at week 52 in patients completing treatment on insulin detemir once or twice daily (and overall) and insulin glargine. ***p<0.001; \u2020p<0.012  the only differences in adverse events, judged as possibly or probably related to trial drugs, between treatments were: injection-site disorders (13 patients [4.5%] on insulin detemir compared with four [1.4%] on glargine), allergic reactions (three patients on detemir vs one on glargine) and skin disorders including pruritus and rash (six patients on insulin detemir vs one on glargine). there were no differences in standard safety parameters between treatments.  discussion the results of this first head-to-head comparison of insulin detemir and insulin glargine as add-on for treatment with oral glucose-lowering agents in people with type 2 diabetes using forced insulin titration suggest that clinically significant and similar improvements in glycaemic control can be achieved with both analogues, together with a similarly low risk of hypoglycaemia. insulin doses were higher with insulin detemir overall, partly as a result of the doses used by those taking it twice daily. the withdrawal rate appeared to be higher with insulin detemir (21 vs 13%), which was partly accounted for by adverse events (8 vs 4%), this excess being primarily due to injection site reactions. insulin detemir was associated with a modest relative reduction in weight gain, consistent with observations in previous comparisons of this analogue with nph in type 2 diabetes [12, 13, 19, 20]. in the present study, the betweentreatment difference in weight was primarily accounted for by those patients completing the study on once-daily insulin detemir. it is, however, possible that differences in eating pattern were contributory factors in both the insulin detemir dosing schedule and the different levels of weight gain observed between the two insulin detemir dosing schedules. the mechanism(s) responsible for relatively lower weight gain observed here and previously with insulin detemir remain the object of speculation [14, 15, 21, 22].  \f",
        "diabetologia (2008) 51:408\u2013416  the present study was designed to compare the two basal insulin analogues as they had been used in previous studies and according to label. thus, insulin glargine was given once daily at bedtime regardless of glycaemic profile, while for insulin detemir an option was provided for adding a second dose, primarily based on pre-dinner blood glucose level following a structured insulin titration protocol. the decision to use twice-daily insulin detemir could not be attributed to hypoglycaemia, as patients who were switched to a twice-daily regimen had on average 3.7 hypoglycaemic episodes per patient-year prior to transfer, compared with 4.7 episodes per patient-year in patients completing treatment on once-daily insulin detemir. the frequency of nocturnal hypoglycaemia was also lower in relevant patients before transfer (0.7 vs 0.9 episodes per patient-year). interestingly, the initiation of insulin with once-daily insulin detemir has recently been tested by philis-tsimikas et al. in type 2 diabetes patients on oral glucose-lowering agents, resulting in hba1c reductions of 1.5% (morning injection) and 1.6% (evening injection) from baseline values of 9.1 and 8.9%, respectively [13]. these improvements in glycaemic control approach the magnitude of hba1c reduction shown in the current study and in previous studies of once-daily insulin glargine [9\u201311], although the insulin detemir doses were higher at trial-end and the absolute hba1c values achieved at trial-end were relatively high. the design of the current study does not allow definitive conclusions for comparison of once and twice daily dosing with insulin detemir, although these post hoc observations do suggest that once daily administration can be an appropriate starting regimen for people using insulin detemir as add-on to oral glucose-lowering drug therapy. however, with dose optimisation, a significant proportion of patients may eventually need a twice-daily regimen, guided by structured glucose monitoring. further studies are required to better define the differences between these two basal insulin analogues on the basis of a similar insulin administration regimen, once daily only, for both insulins. alternatively, if the option of adding a second insulin dose is available for both insulins, then a properly designed study protocol should allow addition of this second insulin injection only when a normal or much lower fpg target is achieved. indeed, the use of lower fpg targets (e.g. \u22645.5 mmol/l, as has been used previously) should also enable a higher proportion of patients to reach guideline hba1c targets. in conclusion, the use of insulin detemir or insulin glargine as add-on to oral glucose-lowering therapy resulted in comparable hba1c improvements and a similarly low risk of hypoglycaemia. further comparisons of detemir and glargine are required to fully understand how each may relatively benefit defined groups of patients starting on insulin.  415 acknowledgements the investigators and participants are thanked for their participation. a full list of investigators can be seen in the esm 1. the study was funded and monitored by novo nordisk. the authors and/or their institutions received support from novo nordisk (j. larsen and c. koenen are employees) and aventis (now sanofi aventis) for consultation/research/teaching activities. the authors thank t. rambrand, m. edmunds and c. jones for assistance with manuscript preparation. an abstract based on feasibility of titration data was presented at american diabetes association (ada) meeting in 2004 (rosenstock et al. diabetes 53 (suppl. 2): a145) and another abstract reporting the findings was presented at the ada meeting in 2006 (rosenstock et al. diabetes 55(1): a132).  duality of interest c. koenen and j. larsen are employees of novo nordisk. m. davies has received grants in support of investigator and internal trials from servier, novartis, novo nordisk, pfizer, sanofiaventis and lilly, and has acted as a consultant and/or speaker for novartis, novo nordisk, sanofi-aventis, lilly, merck sharp & dohme, and servier. p. home has received consultancy fees and/or honoraria from novo nordisk and sanofi aventis. j. rosenstock has served on advisory boards and received honoraria/consulting fees from pfizer, sanofi-aventis, novo nordisk, eli lilly, glaxosmithkline, mannkind, takeda, centocor, johnson & johnson, roche and emisphere, and has also received grant support from merck, pfizer, sanofi aventis, novo nordisk, eli lilly, glaxosmithkline, takeda, novartis, astrazeneca, amylin, roche, sankyo and mannkind. g. shernthaner has no relevant conflicts of interest.  references 1. riddle mc (2004) timely initiation of basal insulin. am j med 116:3s\u20139s 2. wright a, burden acf, paisey rb, cull ca, holman rr, for the uk prospective diabetes study group (2002) sulfonylurea inadequacy: efficacy of addition of insulin over 6 years in patients with type 2 diabetes in the uk prospective diabetes study (ukpds 57). diabetes care 25:330\u2013336 3. marre m (2002) before oral agents fail: the case for starting insulin early. int j obes 26(suppl 3):s25\u2013s30 4. korytkowski m (2002) when oral agents fail: practical barriers to starting insulin. int j obes 26:s18\u2013s24 5. davies m (2004) the reality of glycaemic control in insulin treated diabetes: defining the clinical challenges. int j obes relat metab disord 28(suppl 2):s14\u2013s22 6. koro ce, bowlin sj, bourgeois n, fedder do (2004) glycaemic control from 1988 to 2000 among us adults diagnosed with type 2 diabetes. diabetes care 27:17\u201320 7. turner rc, cull ca, frighi v, holman rr, for the uk prospective diabetes study (ukpds) group (1999) glycaemic control with diet, sulfonylurea, metformin, or insulin in patients with type 2 diabetes mellitus: progressive requirement for multiple therapies (ukpds 49). jama 281:2005\u20132012 8. heise t, nosek l, ronn bb et al (2004) lower within-subject variability of insulin detemir in comparison to nph insulin and insulin glargine in people with type 1 diabetes. diabetes 53:1614\u20131620 9. riddle mc, rosenstock j, gerich j, on behalf of the insulin glargine 4002 study investigators (2003) the treat-to-target trial: randomized addition of glargine or human nph insulin to oral therapy of type 2 diabetic patients. diabetes care 26:3080\u20133086 10. eliaschewitz fg, calvo c, valbuena h et al, hoe 901/4013 la study group (2006) therapy in type 2 diabetes: insulin glargine vs  \f",
        "416  11.  12.  13.  14. 15.  16.  diabetologia (2008) 51:408\u2013416 nph insulin both in combination with glimepiride. arch med res 37:495\u2013501 yki-j\u00e4rvinen h, kauppinen-m\u00e4kelin r, tiikkainen m et al (2006) insulin glargine or nph combined with metformin in type 2 diabetes: the lanmet study. diabetologia 49:442\u2013451 hermansen k, davies m, derezinski t, martinez ravn g, clauson p, home p (2006) a 26-week, randomized, parallel, treat-to-target trial comparing insulin detemir with nph insulin as add-on therapy to oral glucose-lowering drugs in insulin-naive people with type 2 diabetes. diabetes care 29:1269\u20131274 philis-tsimikas a, charpentier g, clauson p, martinez ravn g, roberts vl, thorsteinsson b (2006) comparison of once-daily insulin detemir with nph insulin added to a regimen of oral antidiabetic drugs in poorly controlled type 2 diabetes. clin ther 28:1569\u20131581 home p, kurtzhals p (2006) insulin detemir: from concept to clinical experience. expert opin pharmacother 7:325\u2013343 hermansen k, davies m (2007) does insulin detemir have a role in reducing risk of insulin-associated weight gain. diabetes obes metab 9:209\u2013217 klein o, lynge j, endahl l, damholt b, nosek l, heise t (2007) albumin-bound basal insulin analogues (insulin detemir and nn344): comparable time\u2013action profiles but less variability than insulin glargine in type 2 diabetes. diabetes obes metab 9:290\u2013299  17. porcellati f, rossetti p, busciantella ricci n et al (2007) comparison of pharmacokinetics and dynamics of the long-acting insulin analogs glargine and detemir at steady state in type 1 diabetes: a double-blind, randomized, crossover study. diabetes care 30:2447\u20132452 18. sanofi aventis (2005) lantus label information, nda 21-081/s017. available from http://www.fda.gov/cder/foi/label/2005/ 21081s017lbl.pdf, accessed 1 july 2007 19. raslova k, bogoev m, raz i, leth g, gall ma, hancu n (2004) insulin detemir and insulin aspart: a promising basal-bolus regimen for type 2 diabetes. diabetes res clin pract 66:193\u2013201 20. haak t, tiengo a, draeger e, suntum m, waldh\u00e4usl w (2005) lower within-subject variability of fasting blood glucose and reduced weight gain with insulin detemir compared to nph insulin in patients with type 2 diabetes. diabetes obes metab 7:56\u201365 21. raslova k, tamer sc, clauson p, karl d (2007) insulin detemir results in less weight gain than nph insulin when used in basal-bolus therapy for type 2 diabetes mellitus, and this advantage increases with baseline body mass index. clin drug investig 27:279\u201385 22. russell-jones d, khan r (2007) insulin-associated weight gain in diabetes\u2014causes, effects and coping strategies. diabetes obes metab 9:799\u2013812\n"
       ]
      }
     ],
     "prompt_number": 161
    },
    {
     "cell_type": "code",
     "collapsed": false,
     "input": [
      "\n"
     ],
     "language": "python",
     "metadata": {},
     "outputs": [
      {
       "output_type": "stream",
       "stream": "stdout",
       "text": [
        "the randomisation was computerised and c\n"
       ]
      }
     ],
     "prompt_number": 66
    },
    {
     "cell_type": "code",
     "collapsed": false,
     "input": [],
     "language": "python",
     "metadata": {},
     "outputs": [
      {
       "ename": "AttributeError",
       "evalue": "'NoneType' object has no attribute 'span'",
       "output_type": "pyerr",
       "traceback": [
        "\u001b[0;31m---------------------------------------------------------------------------\u001b[0m\n\u001b[0;31mAttributeError\u001b[0m                            Traceback (most recent call last)",
        "\u001b[0;32m<ipython-input-67-5f00de553d99>\u001b[0m in \u001b[0;36m<module>\u001b[0;34m()\u001b[0m\n\u001b[0;32m----> 1\u001b[0;31m \u001b[0mstart\u001b[0m\u001b[0;34m,\u001b[0m \u001b[0mend\u001b[0m \u001b[0;34m=\u001b[0m \u001b[0mlocation\u001b[0m\u001b[0;34m.\u001b[0m\u001b[0mspan\u001b[0m\u001b[0;34m(\u001b[0m\u001b[0;34m)\u001b[0m \u001b[0;31m# get the location of the phrase\u001b[0m\u001b[0;34m\u001b[0m\u001b[0m\n\u001b[0m",
        "\u001b[0;31mAttributeError\u001b[0m: 'NoneType' object has no attribute 'span'"
       ]
      }
     ],
     "prompt_number": 67
    },
    {
     "cell_type": "code",
     "collapsed": false,
     "input": [],
     "language": "python",
     "metadata": {},
     "outputs": [
      {
       "output_type": "stream",
       "stream": "stdout",
       "text": [
        " to maximise allocation\n",
        "concealment and was strati\ufb01ed by centre (Nottingham and\n",
        "Derby).\n",
        "Blinding\n",
        "\n",
        "Owing to the nature of the intervention, it was not possible\n",
        "to blind participants or researchers to allocation, but all\n",
        "analyses were performed blind to allocation.\n",
        "Statistical analysis\n",
        "\n",
        "Data analysis was carried out according to a pre-speci\ufb01ed\n",
        "plan using the intention-to-treat principle. Participants were\n"
       ]
      }
     ],
     "prompt_number": 12
    },
    {
     "cell_type": "code",
     "collapsed": false,
     "input": [],
     "language": "python",
     "metadata": {},
     "outputs": []
    }
   ],
   "metadata": {}
  }
 ]
}