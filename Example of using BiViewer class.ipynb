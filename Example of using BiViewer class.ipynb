{
 "metadata": {
  "name": "Example of using BiViewer class"
 },
 "nbformat": 3,
 "nbformat_minor": 0,
 "worksheets": [
  {
   "cells": [
    {
     "cell_type": "markdown",
     "metadata": {},
     "source": [
      "The `BiViewer` class functions as a list of matching `(cochrane_study_data, pubmed_abstract_data)` tuples, with one tuple per linked study."
     ]
    },
    {
     "cell_type": "code",
     "collapsed": false,
     "input": [
      "import biviewer"
     ],
     "language": "python",
     "metadata": {},
     "outputs": [],
     "prompt_number": 4
    },
    {
     "cell_type": "markdown",
     "metadata": {},
     "source": [
      "By default, data is read from disk as needed (with some caching)."
     ]
    },
    {
     "cell_type": "code",
     "collapsed": false,
     "input": [
      "bv = biviewer.BiViewer() # pass parameter in_memory=True to load all data in advance (takes some time...)\n",
      "\n",
      "len(bv) # how many linked studies are in our corpus"
     ],
     "language": "python",
     "metadata": {},
     "outputs": [
      {
       "output_type": "pyout",
       "prompt_number": 7,
       "text": [
        "52454"
       ]
      }
     ],
     "prompt_number": 7
    },
    {
     "cell_type": "code",
     "collapsed": false,
     "input": [
      "bv[922][0] # access available Cochrane data for study 922 (returns a dict with standard indices)"
     ],
     "language": "python",
     "metadata": {},
     "outputs": [
      {
       "output_type": "pyout",
       "prompt_number": 9,
       "text": [
        "{'AU': ['Connett GJ', 'Warde C', 'Wooler E', 'Lenney W'],\n",
        " 'CHAR_INTERVENTIONS': 'Intervention: 2 mg/kg soluble prednisolone (oral agent). Control: identical oral placebo. Co-interventions: After corticosteroid treatment children were treated with 0.15 mg/kg q 30 min x 3 hrs. Supplemental oxygen was used for nebulisation.',\n",
        " 'CHAR_METHODS': 'Randomisation: Treatments were numbered by a pharmacist in random order before the start of the study using a random numbers table. Blinding: double-blind. Number excluded: documented (26%). Withdrawals: 8 documented.  Baseline characteristics: imbalances demonstrated; no adjusted analyses.',\n",
        " 'CHAR_NOTES': 'Jadad score:',\n",
        " 'CHAR_OUTCOMES': 'Admission: based on history, physical findings, and response to therapy (at 4 hours). Pulmonary functions: PEFR and % predicted PEFR Adverse effects: tremor, hyperactivity, vomiting, headache. Vital signs: pulse rate, saturation,  Symptoms: scale from 0-6.  Lab: not reported. Timing of assessment: 0, q 30 minutes, 4 hours.',\n",
        " 'CHAR_PARTICIPANTS': 'Location: Children\\'s Hospital in Brighton, UK.  Participants: age > 18 mo., with acute asthma requiring admission (after 5 mg nebulised salbutamol and re-assessment in 30 minutes) if study investigator available. Asthma definition and severity: \"severe\". severe asthma requiring admission  Exclusion criteria: Mild asthma, croup, corticosteroids within the past 2 weeks.',\n",
        " 'ID': 'STD-Connett-1994b',\n",
        " 'NO': '',\n",
        " 'PG': ('170', '173'),\n",
        " 'PRIMARY': 'NO',\n",
        " 'QUALITY': [{'DESCRIPTION': 'Treatments were numbered by a pharmacist in random order before the start of the study using a random numbers table.',\n",
        "   'DOMAIN': 'Allocation concealment?',\n",
        "   'RATING': 'YES'}],\n",
        " 'REF_INDEX': 0,\n",
        " 'SO': 'Archives of Disease in Childhood',\n",
        " 'TI': 'Prednisolone and salbutamol in the hospital treatment of acute asthma',\n",
        " 'VL': '70',\n",
        " 'YR': '1994',\n",
        " 'fAU': 'Connett GJ',\n",
        " 'fPG': '170'}"
       ]
      }
     ],
     "prompt_number": 9
    },
    {
     "cell_type": "code",
     "collapsed": false,
     "input": [
      "bv[922][1] # and then show the Pubmed data on the same study"
     ],
     "language": "python",
     "metadata": {},
     "outputs": [
      {
       "output_type": "pyout",
       "prompt_number": 10,
       "text": [
        "{'PMCid': 'PMC1029734',\n",
        " 'abstract': 'The use of oral prednisolone (2 mg/kg) to treat children admitted to hospital with acute asthma was assessed in a placebo controlled study. Children were further randomised to receive either 0.15 mg/kg salbutamol every 30 minutes for the first three hours of admission, or 5 mg salbutamol every one to four hours as needed. Treatment was double blind and the assessor was unaware of the nebuliser regimen given. Children were examined before and after treatment with salbutamol on arrival and reassessed four hours after admission. Seventy children completed the study. Seventeen (46%) of 37 children receiving prednisolone and six (9%) of 33 receiving placebo were fit for discharge after four hours of treatment. There was no significant difference between the two nebuliser regimens. Clinical parameters indicative of asthma severity were improved in all groups. Between group comparisons at reassessment showed higher peak flows in those receiving prednisolone and nebulisers every 30 minutes but differences were not significant for other parameters. Objective parameters indicating steroid efficacy over placebo were minimal. Despite this, those receiving prednisolone were more readily identifiable as being fit for discharge within four hours of treatment.',\n",
        " 'linkedIds': 'PMC1029734',\n",
        " 'mesh': 'Acute Disease',\n",
        " 'pmid': '8135557',\n",
        " 'title': 'Prednisolone and salbutamol in the hospital treatment of acute asthma.'}"
       ]
      }
     ],
     "prompt_number": 10
    },
    {
     "cell_type": "markdown",
     "metadata": {},
     "source": [
      "By default, the BiViewer class opens `'data/biviewer_links_all.pck'`, which contains lists of the filenames of all our Pubmed corpus, together with where to find the relevant Cochrane data on the study.\n",
      "\n",
      "However, it can use different link files, for example to look at a subset of data or another corpus."
     ]
    },
    {
     "cell_type": "code",
     "collapsed": false,
     "input": [
      "bv2 = biviewer.BiViewer(linkfile='data/biviewer_links_pmc.pck')\n",
      "# loads links to the subset of files where the primary reference is available in Pubmed Central"
     ],
     "language": "python",
     "metadata": {},
     "outputs": [],
     "prompt_number": 15
    },
    {
     "cell_type": "code",
     "collapsed": false,
     "input": [
      "len(bv2)"
     ],
     "language": "python",
     "metadata": {},
     "outputs": [
      {
       "output_type": "pyout",
       "prompt_number": 16,
       "text": [
        "4699"
       ]
      }
     ],
     "prompt_number": 16
    },
    {
     "cell_type": "code",
     "collapsed": false,
     "input": [
      "bv2[132][1] # note PMCid is available in the dict returned here"
     ],
     "language": "python",
     "metadata": {},
     "outputs": [
      {
       "output_type": "pyout",
       "prompt_number": 19,
       "text": [
        "{'PMCid': 'PMC1732979',\n",
        " 'abstract': \"Achieving acceptable response rates from health care providers via postal questionnaires is an ongoing challenge. The use of monetary incentives is one of the most effective strategies for increasing response rates. However, the effect and cost of such an incentive on retail pharmacists' response rates has not been well studied. \\n                 A sample of 700 pharmacies was selected at random from the electronic Yellow Pages in NSW Australia and mailed a brief survey regarding pharmacotherapies and advice for smoking cessation. Half of the sample was randomly allocated to receive an offer of an 14 US dollars gift voucher. \\n                 The response rates were 65.9% for the voucher group and 53.5% for the no-voucher group. The odds of response from the voucher group was 1.68 (95%CI = 1.23, 2.30) times greater than for the no-voucher group. The cost per additional respondent was 67.95 US dollars. The incentive also reduced follow up costs by 10%. \\n                 A moderately sized monetary incentive is able to achieve a significant increase in response rates for retail pharmacists, thereby reducing potential bias in the sample.\",\n",
        " 'linkedIds': 'PMC1732979',\n",
        " 'mesh': 'Australia',\n",
        " 'pmid': '16286502',\n",
        " 'title': 'A monetary incentive increases postal survey response rates for pharmacists.'}"
       ]
      }
     ],
     "prompt_number": 19
    },
    {
     "cell_type": "code",
     "collapsed": false,
     "input": [],
     "language": "python",
     "metadata": {},
     "outputs": []
    }
   ],
   "metadata": {}
  }
 ]
}