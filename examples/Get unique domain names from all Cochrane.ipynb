{
 "metadata": {
  "name": ""
 },
 "nbformat": 3,
 "nbformat_minor": 0,
 "worksheets": [
  {
   "cells": [
    {
     "cell_type": "code",
     "collapsed": false,
     "input": [
      "# Some code to generate a list of pubmed IDs\n",
      "# of all studies included in the CDSR\n",
      "# with associated quality scores AND direct quotes\n",
      "\n",
      "import biviewer\n",
      "import re\n",
      "import progressbar"
     ],
     "language": "python",
     "metadata": {},
     "outputs": [],
     "prompt_number": 2
    },
    {
     "cell_type": "code",
     "collapsed": false,
     "input": [
      "bv = biviewer.BiViewer()"
     ],
     "language": "python",
     "metadata": {},
     "outputs": [],
     "prompt_number": 3
    },
    {
     "cell_type": "code",
     "collapsed": false,
     "input": [
      "len(bv)"
     ],
     "language": "python",
     "metadata": {},
     "outputs": [
      {
       "metadata": {},
       "output_type": "pyout",
       "prompt_number": 4,
       "text": [
        "52454"
       ]
      }
     ],
     "prompt_number": 4
    },
    {
     "cell_type": "code",
     "collapsed": false,
     "input": [
      "# search through all the Cochrane data for quality assessments\n",
      "# which the authors have given a direct quote justifying their decision\n",
      "# and add the pubmed id to the search list\n",
      "\n",
      "p = progressbar.ProgressBar(len(bv), timer=True)\n",
      "\n",
      "pmids = []\n",
      "domain_names = []\n",
      "\n",
      "for i, study in enumerate(bv):\n",
      "    p.tap()\n",
      "    quality_data = study.cochrane[\"QUALITY\"]\n",
      "    for domain in quality_data:\n",
      "        pmids.append(study.pubmed[\"pmid\"])\n",
      "        domain_names.append(domain['DOMAIN'])\n",
      "        if re.match(\"Quote\\:\\s*[\\'\\\"](.*?)[\\'\\\"]\\s*[\\'\\\"]\", domain['DESCRIPTION']):\n",
      "            print domain['DESCRIPTION']\n",
      "            "
     ],
     "language": "python",
     "metadata": {},
     "outputs": [
      {
       "output_type": "stream",
       "stream": "stdout",
       "text": [
        "\r",
        "[                    ] 0% - Calculating time"
       ]
      },
      {
       "output_type": "stream",
       "stream": "stdout",
       "text": [
        "Quote: \"Randomisation was conducted by an investigator not involved in assessment or intervention \u2026\" \"Once baseline assessments were completed by the research assistant (RA), participants were then allocated in order of completion from the generated lists by the blinded investigator.\"\n",
        "Quote: \"\u2026 randomized into intervention (n = 1718) and control (n = 1714) groups by an based on simple randomization. \" \"The subjects were informed by letter to which group they were randomized. The letter contained information concerning the trial and the prescription for the intervention.\" Unclear whether person sending letter was blind to allocation.\n",
        "Quote: \"Participants in both group were provided with a log for recording falls and details surrounding them.\" \"All participants received monthly follow-up phone calls from the blinded outcome assessor.\"\n",
        "Quote: \"Computer-generated block randomization stratified for age performed by an independent statistician.\" \"The allocation sequence and group assignment were performed by the Institute of Biometry and Epidemiology. Participants were enrolled by the Institute of Medical Physics.\""
       ]
      },
      {
       "output_type": "stream",
       "stream": "stdout",
       "text": [
        "\n",
        "Quote: \"The study was blinded for the outcome assessors and participants ...\" \"To blind the participants, the control group performed a program that focused on well-being and was designed not to cause physical adaptations\"\u00a0 \"The effectiveness of the blinding in the control group was proven in structured interviews conducted by the primary investigators at the end of the 18 months\"\n",
        "Quote: \"Ascertainment of falls ... documented on monthly calendars that were returned in prepaid preaddressed envelopes at the end of each month.\" \"A research assistant who was not blinded to treatment group but was unaware of the study hypotheses made three attempts by telephone to contact participants at the end of each month. The purpose of each phone call was to inquire about falls (both groups) ... for all participants regardless of whether the calendar was returned.\"\n",
        "Quote: \"When a fall or fracture was indicated, a standardized questionnaire recording details was administered by telephone.\" \"The participants and study staff were blinded to intervention group\"\n",
        "Quote: \"Nonresponders were contacted over the telephone so that the fall history for the missing calendar weeks and underlying reasons for their lack of response could be assessed\" \"The assessors (M.F.R. and M.C.F.) were blinded.\"\n",
        "Quote: \"Participants in all three groups were assessed in their homes for outcomes (see below) at baseline, 2 months, and 5 months by an RA blinded to their group allocation.\" \"Number of falls was recorded using the Falls Record Checklist (Huang & Acton 2004), which has a calendar for participants to circle dates when a fall occurred.\" Unclear whether falls were recorded concurrently or retrospectively at 2-month and 5-month assessments. No regular telephone follow-up described.\n",
        "Quote: \"During the 12-week period, participants sent in postcards weekly with information pertaining to insole comfort, hours of wear, and falls.\" \"There was 100% compliance in completing the weekly reports.\"\n",
        "Quote: \"Falls, fall-related injuries, and hospital readmissions were assessed by monthly telephone calls and a patient diary.\" \"All admission records were reviewed by 3 blinded coinvestigators (H.A.B.-F., A.E., and N.J.M.) to determine the main cause of readmission.\" Hip fracture data used in this review and these participants would have been hospitalised and therefore confirmed by blinded coinvestigators."
       ]
      },
      {
       "output_type": "stream",
       "stream": "stdout",
       "text": [
        "\n",
        "Quote: \"Occurrence of falls and mortality were assessed by self report of patients and family caregivers.\" \"All subjects were assessed at 1, 3, 6, 12, 18, and 24 months after discharge\". No mention of concurrent collection of data and recall appears to be over periods longer than 1 month.\n",
        "Quote: \"For 1 year, the participants recorded each week whether they had fallen.\" \n",
        " \"Once per 3 months the participants return a calendar sheet by mail. When no sheet is received, or when the sheet is completed incorrectly, we inquire by telephone whether, and if yes, when the participant has fallen in the past 3 months.\"\n",
        "Quote: \"Calendars that were not returned within 2 weeks of the end of the month prompted a telephone contact from an independent, blinded interviewer to ascertain whether the participant had fallen.\" \"All reported falls were followed up with a blinded, structured telephone interview to investigate the circumstances and consequences.\" \"Staff of the York Trials Unit inputted questionnaire data which was checked twice for accuracy.\"\n",
        "\r",
        "[                    ] 0%"
       ]
      },
      {
       "output_type": "stream",
       "stream": "stdout",
       "text": [
        " - Calculating time"
       ]
      },
      {
       "output_type": "stream",
       "stream": "stdout",
       "text": [
        "Quote: \"double-blind\"; ''the local project director, field workers, obstetrics, laboratory technologists and pregnant women were all blind to the group assignment\"; and \"placebo tablets were similar in appearance, smell and taste to the mebendazole tablets\". \n",
        " Comment: blinding of participants, study personnel and outcome assessors probably done.\n",
        "\r",
        "[                    ] 1%"
       ]
      },
      {
       "output_type": "stream",
       "stream": "stdout",
       "text": [
        " - Around 5 minutes remaining     "
       ]
      },
      {
       "output_type": "stream",
       "stream": "stdout",
       "text": [
        "Quote: \"We used telephone allocation ... During the trial follow-up, however, we were informed that on at least one occasion the allocation concealment was not maintained by the telephone service because both the leg ulcer clinic and the telephone service were extremely busy; therefore the allocations for two patients were supplied \"in order to save time\"\". \n",
        " Comment: It is unclear how often this occurred.\n",
        "\r",
        "[                    ] 2%"
       ]
      },
      {
       "output_type": "stream",
       "stream": "stdout",
       "text": [
        " - Around 3 minutes remaining     "
       ]
      },
      {
       "output_type": "stream",
       "stream": "stdout",
       "text": [
        "\r",
        "[                    ] 3% - Around 3 minutes remaining     "
       ]
      },
      {
       "output_type": "stream",
       "stream": "stdout",
       "text": [
        "\r",
        "[                    ] 4% - Around 3 minutes remaining     "
       ]
      },
      {
       "output_type": "stream",
       "stream": "stdout",
       "text": [
        "Quote: \"Subjects were randomized via computer-generated lists,\" \"Within each institution \u2026 in blocks of eight.\"\n",
        "Quote: \"The subjects \u2026 were randomly assigned to an exercise group or a control group ... Since the study was carried out in two separate places, the randomization was done in blocks.\" \"Randomisation was carried out by drawing lots.\"\n",
        "Quote: \"We included all patients in study wards during each three month study period.\" \"Randomisation of each matched pair of wards was usually done during the week before the study started for that pair of wards. Randomisation involved sealed, opaque envelopes and was supervised by a study investigator ... unaware of ward characteristics.\"\n",
        "Quote: \"All PCO demographic data were forwarded to the Department of Health Science at the University of York for randomisation and allocation.\" \"The allocation was undertaken by an independent researcher.\"\n",
        "Quote: \"The assessment staff was blinded to participant randomization assignment. Participants were... reminded not to discuss their randomization assignment with assessment staff.\" \n",
        " \"An independent researcher was in charge of auditing all nursing and medical records to record the number of falls in each participant over the study period\"\n",
        "\r",
        "[=                   ] 5%"
       ]
      },
      {
       "output_type": "stream",
       "stream": "stdout",
       "text": [
        " - Around 3 minutes remaining     "
       ]
      },
      {
       "output_type": "stream",
       "stream": "stdout",
       "text": [
        "Quote: \"The solutions were made visibly identical by adding methylene blue to the TLE solution so that it matched the intrinsic blue color of TAC\" \n",
        " \"The vials, with the specific contents unknown to the emergency physician, were forwarded to the ED as requested\" \n",
        " Comment: Probably done\n",
        "Quote: \"Using a prospective, randomized, double-blind design...\" \n",
        " \"Anesthetic agents were sealed in envelopes labelled with a study identification number and stored in a locked cabinet in the emergency department\". \n",
        " Comment: Probably done, assuming topical solutions visually identical.\n",
        "Quote: \"TAC and cocaine solutions were randomly distributed with only a number from 1-150 appearing on each vial\" \n",
        " \"The investigator was blinded as to the identity of the agent. The code was kept in the pharmacy and was available to the investigators only in case of emergency\" \n",
        " Comment: Unlear. There may be allocation concealment if there was a pharmacy controlled randomization process. However, this is not explicitly reported, so we decided upon unclear\n",
        "Quote: \"Both TAC and LET solutions are aqueous and have the same blue tint and viscosity\" \n",
        " \"labelled to ensure appropriate blindness of suture personnel\" \n",
        " \"A double blind topical application using 3ml of the test solutions was performed in study entry\" \n",
        " Comment: Probably done\n",
        "Quote: \"Using a prospective, randomized, double-blind design...\" \n",
        " \"Anesthetics were sealed in envelopes labelled with a study identification number and stored in a locked cabinet in the ED\" \n",
        " Comment: Probably done, assuming solutions visually identical\n",
        "Quote: \"Randomization of anaesthetic treatment was determined by the final digit of the patients medical record number\" \n",
        " \"unblinded study\" \n",
        " Comment: Probably not done\n",
        "Quote: \"hospital pharmacy personnel to label standard amber vials from 1 to 200\" \n",
        " \"it was required that the study medication be applied by a nurse not involved in the suturing\" \n",
        " Comment: Probably done\n",
        "Quote: \"consecutively assigned to receive either conventional intradermal lignocaine or topical AC preparation\" \n",
        " \"groups could not be blinded\" \n",
        " Comment: Probably not done\n",
        "Quote: \"The solutions were prepared by a pharmacist and were available in coded sterile, capped 3ml syringes\" \n",
        " \"Both TAC and LAT were clear solutions...\" \n",
        " \"Patients and physicians performing wound closure were blinded\" \n",
        " Comment: Probably done.\n",
        "Quote: \"The solutions were prepared by a pharmacist and were available in coded sterile, capped 3ml syringes with a cotton ball for application\"  \n",
        " \"Both TAC and LAT were clear solutions mixed from powders\" \n",
        " \"Patients and physicians performing wound closure were blinded\" \n",
        " Comment: Probably done\n",
        "\r",
        "[=                   ] 6%"
       ]
      },
      {
       "output_type": "stream",
       "stream": "stdout",
       "text": [
        " - Around 3 minutes remaining     "
       ]
      },
      {
       "output_type": "stream",
       "stream": "stdout",
       "text": [
        "\r",
        "[=                   ] 7% - Around 3 minutes remaining     "
       ]
      },
      {
       "output_type": "stream",
       "stream": "stdout",
       "text": [
        "\r",
        "[=                   ] 8% - Around 2 minutes remaining     "
       ]
      },
      {
       "output_type": "stream",
       "stream": "stdout",
       "text": [
        "Quote: ''Randomisation to one of the four arms (1:1:1:1) was stratified by age (<32 or \u2265 32 years) and by centre using a fixed block size of four and a minimization algorithm combined with randomly permutated blocks.''\n",
        "Quote: ''Randomisation by using a central remote allocation procedure''\n",
        "Quote: ''Randomisation to one of the two arms (1:1 ratio) was done per centre and stratified by age (<32 or \u2265 32 years) by using randomly permutated blocks with a 'undisclosed' fixed block size of four.''\n",
        "Quote: ''central remote allocation''\n",
        "Quote: ''Randomisation to one of the two treatment groups in a 2:1 ratio (investigational:reference group) was performed at each centre and stratified by age (<32 or \u2265 32 years) and planned fertilisation procedure (IVF or ICSI) by central remote allocation using randomly permutated blocks with an 'undisclosed' fixed block size of three.''\n",
        "Quote: ''Randomisation by central remote allocation''\n",
        "\r",
        "[=                   ] 9%"
       ]
      },
      {
       "output_type": "stream",
       "stream": "stdout",
       "text": [
        " - Around 2 minutes remaining     "
       ]
      },
      {
       "output_type": "stream",
       "stream": "stdout",
       "text": [
        "\r",
        "[==                  ] 10% - Around 2 minutes remaining     "
       ]
      },
      {
       "output_type": "stream",
       "stream": "stdout",
       "text": [
        "\r",
        "[==                  ] 11% - Around 2 minutes remaining     "
       ]
      },
      {
       "output_type": "stream",
       "stream": "stdout",
       "text": [
        "\r",
        "[==                  ] 12% - Around 2 minutes remaining     "
       ]
      },
      {
       "output_type": "stream",
       "stream": "stdout",
       "text": [
        "\r",
        "[==                  ] 13% - Around 2 minutes remaining     "
       ]
      },
      {
       "output_type": "stream",
       "stream": "stdout",
       "text": [
        "Quote:  \"using a computer software routine supplied by the sponsor ...\" \" Within strata subjects were randomly assigned into two groups.\" \n",
        " \n",
        " Comment:  Probably done.\n",
        "\r",
        "[==                  ] 14%"
       ]
      },
      {
       "output_type": "stream",
       "stream": "stdout",
       "text": [
        " - Around 2 minutes remaining     "
       ]
      },
      {
       "output_type": "stream",
       "stream": "stdout",
       "text": [
        "\r",
        "[===                 ] 15% - Around 2 minutes remaining     "
       ]
      },
      {
       "output_type": "stream",
       "stream": "stdout",
       "text": [
        "\r",
        "[===                 ] 16% - Around 2 minutes remaining     "
       ]
      },
      {
       "output_type": "stream",
       "stream": "stdout",
       "text": [
        "\r",
        "[===                 ] 17% - Around 2 minutes remaining     "
       ]
      },
      {
       "output_type": "stream",
       "stream": "stdout",
       "text": [
        "\r",
        "[===                 ] 18% - Around 2 minutes remaining     "
       ]
      },
      {
       "output_type": "stream",
       "stream": "stdout",
       "text": [
        "Quote: \"Subjects were unaware of the group to which they had been assigned\" \"An independent evaluator, who was unaware of the group to which the subject had been assigned, recorded subject performance on various measures before the assigned treatment was initiated, after 4 weeks of treatment, and after 8 weeks of treatment\" Comment: blinding of key study personnel and participants was recorded by the study authors, who stated it was double blind Although the authors stated that participants were unaware of the group to which they were allocated (and later states the study was double blind), it could have been possible for participants to determine which group they were in due to the nature of the interventions Overall the judgement is that key assessment personnel were blind but not necessarily the participants\n",
        "\r",
        "[===                 ] 19%"
       ]
      },
      {
       "output_type": "stream",
       "stream": "stdout",
       "text": [
        " - Around 2 minutes remaining     "
       ]
      },
      {
       "ename": "KeyboardInterrupt",
       "evalue": "",
       "output_type": "pyerr",
       "traceback": [
        "\u001b[0;31m---------------------------------------------------------------------------\u001b[0m\n\u001b[0;31mKeyboardInterrupt\u001b[0m                         Traceback (most recent call last)",
        "\u001b[0;32m<ipython-input-5-10cee94c9752>\u001b[0m in \u001b[0;36m<module>\u001b[0;34m()\u001b[0m\n\u001b[1;32m      8\u001b[0m \u001b[0mdomain_names\u001b[0m \u001b[0;34m=\u001b[0m \u001b[0;34m[\u001b[0m\u001b[0;34m]\u001b[0m\u001b[0;34m\u001b[0m\u001b[0m\n\u001b[1;32m      9\u001b[0m \u001b[0;34m\u001b[0m\u001b[0m\n\u001b[0;32m---> 10\u001b[0;31m \u001b[0;32mfor\u001b[0m \u001b[0mi\u001b[0m\u001b[0;34m,\u001b[0m \u001b[0mstudy\u001b[0m \u001b[0;32min\u001b[0m \u001b[0menumerate\u001b[0m\u001b[0;34m(\u001b[0m\u001b[0mbv\u001b[0m\u001b[0;34m)\u001b[0m\u001b[0;34m:\u001b[0m\u001b[0;34m\u001b[0m\u001b[0m\n\u001b[0m\u001b[1;32m     11\u001b[0m     \u001b[0mp\u001b[0m\u001b[0;34m.\u001b[0m\u001b[0mtap\u001b[0m\u001b[0;34m(\u001b[0m\u001b[0;34m)\u001b[0m\u001b[0;34m\u001b[0m\u001b[0m\n\u001b[1;32m     12\u001b[0m     \u001b[0mquality_data\u001b[0m \u001b[0;34m=\u001b[0m \u001b[0mstudy\u001b[0m\u001b[0;34m.\u001b[0m\u001b[0mcochrane\u001b[0m\u001b[0;34m[\u001b[0m\u001b[0;34m\"QUALITY\"\u001b[0m\u001b[0;34m]\u001b[0m\u001b[0;34m\u001b[0m\u001b[0m\n",
        "\u001b[0;32m/Users/iain/Code/py/cochrane-nlp/cochrane-nlp/biviewer.pyc\u001b[0m in \u001b[0;36m__getitem__\u001b[0;34m(self, key)\u001b[0m\n\u001b[1;32m     97\u001b[0m             \u001b[0;32melse\u001b[0m\u001b[0;34m:\u001b[0m\u001b[0;34m\u001b[0m\u001b[0m\n\u001b[1;32m     98\u001b[0m                 \u001b[0;31m# else load from file, save to end of cache, and delete oldest cached review\u001b[0m\u001b[0;34m\u001b[0m\u001b[0;34m\u001b[0m\u001b[0m\n\u001b[0;32m---> 99\u001b[0;31m                 \u001b[0mcr\u001b[0m \u001b[0;34m=\u001b[0m \u001b[0mRM5\u001b[0m\u001b[0;34m(\u001b[0m\u001b[0mCOCHRANE_REVIEWS_PATH\u001b[0m \u001b[0;34m+\u001b[0m \u001b[0mstudy\u001b[0m\u001b[0;34m[\u001b[0m\u001b[0;34m'cdsr_filename'\u001b[0m\u001b[0;34m]\u001b[0m\u001b[0;34m)\u001b[0m\u001b[0;34m.\u001b[0m\u001b[0mrefs\u001b[0m\u001b[0;34m(\u001b[0m\u001b[0mfull_parse\u001b[0m\u001b[0;34m=\u001b[0m\u001b[0mTrue\u001b[0m\u001b[0;34m,\u001b[0m \u001b[0mreturn_dict\u001b[0m\u001b[0;34m=\u001b[0m\u001b[0mTrue\u001b[0m\u001b[0;34m)\u001b[0m\u001b[0;34m\u001b[0m\u001b[0m\n\u001b[0m\u001b[1;32m    100\u001b[0m                 \u001b[0mself\u001b[0m\u001b[0;34m.\u001b[0m\u001b[0mcdsr_cache_data\u001b[0m\u001b[0;34m[\u001b[0m\u001b[0mstudy\u001b[0m\u001b[0;34m[\u001b[0m\u001b[0;34m'cdsr_filename'\u001b[0m\u001b[0;34m]\u001b[0m\u001b[0;34m]\u001b[0m \u001b[0;34m=\u001b[0m \u001b[0mcr\u001b[0m \u001b[0;31m# save to cache\u001b[0m\u001b[0;34m\u001b[0m\u001b[0m\n\u001b[1;32m    101\u001b[0m                 \u001b[0mself\u001b[0m\u001b[0;34m.\u001b[0m\u001b[0mcdsr_cache_index\u001b[0m\u001b[0;34m.\u001b[0m\u001b[0mappend\u001b[0m\u001b[0;34m(\u001b[0m\u001b[0mstudy\u001b[0m\u001b[0;34m[\u001b[0m\u001b[0;34m'cdsr_filename'\u001b[0m\u001b[0;34m]\u001b[0m\u001b[0;34m)\u001b[0m \u001b[0;31m# and add to index deque\u001b[0m\u001b[0;34m\u001b[0m\u001b[0m\n",
        "\u001b[0;32m/Users/iain/Code/py/cochrane-nlp/cochrane-nlp/rm5reader.pyc\u001b[0m in \u001b[0;36m__init__\u001b[0;34m(self, filename)\u001b[0m\n\u001b[1;32m     13\u001b[0m \u001b[0;34m\u001b[0m\u001b[0m\n\u001b[1;32m     14\u001b[0m     \u001b[0;32mdef\u001b[0m \u001b[0m__init__\u001b[0m\u001b[0;34m(\u001b[0m\u001b[0mself\u001b[0m\u001b[0;34m,\u001b[0m \u001b[0mfilename\u001b[0m\u001b[0;34m)\u001b[0m\u001b[0;34m:\u001b[0m\u001b[0;34m\u001b[0m\u001b[0m\n\u001b[0;32m---> 15\u001b[0;31m         \u001b[0mXMLReader\u001b[0m\u001b[0;34m.\u001b[0m\u001b[0m__init__\u001b[0m\u001b[0;34m(\u001b[0m\u001b[0mself\u001b[0m\u001b[0;34m,\u001b[0m \u001b[0mfilename\u001b[0m\u001b[0;34m)\u001b[0m\u001b[0;34m\u001b[0m\u001b[0m\n\u001b[0m\u001b[1;32m     16\u001b[0m         \u001b[0mself\u001b[0m\u001b[0;34m.\u001b[0m\u001b[0msection_map\u001b[0m\u001b[0;34m[\u001b[0m\u001b[0;34m\"title\"\u001b[0m\u001b[0;34m]\u001b[0m \u001b[0;34m=\u001b[0m \u001b[0;34m\"COVER_SHEET/TITLE\"\u001b[0m\u001b[0;34m\u001b[0m\u001b[0m\n\u001b[1;32m     17\u001b[0m \u001b[0;34m\u001b[0m\u001b[0m\n",
        "\u001b[0;32m/Users/iain/Code/py/cochrane-nlp/cochrane-nlp/xmlbase.pyc\u001b[0m in \u001b[0;36m__init__\u001b[0;34m(self, filename)\u001b[0m\n\u001b[1;32m     16\u001b[0m     \u001b[0;32mdef\u001b[0m \u001b[0m__init__\u001b[0m\u001b[0;34m(\u001b[0m\u001b[0mself\u001b[0m\u001b[0;34m,\u001b[0m \u001b[0mfilename\u001b[0m\u001b[0;34m=\u001b[0m\u001b[0mNone\u001b[0m\u001b[0;34m)\u001b[0m\u001b[0;34m:\u001b[0m\u001b[0;34m\u001b[0m\u001b[0m\n\u001b[1;32m     17\u001b[0m         \u001b[0mself\u001b[0m\u001b[0;34m.\u001b[0m\u001b[0mfilename\u001b[0m \u001b[0;34m=\u001b[0m \u001b[0mfilename\u001b[0m\u001b[0;34m\u001b[0m\u001b[0m\n\u001b[0;32m---> 18\u001b[0;31m         \u001b[0mself\u001b[0m\u001b[0;34m.\u001b[0m\u001b[0mdata\u001b[0m \u001b[0;34m=\u001b[0m \u001b[0mself\u001b[0m\u001b[0;34m.\u001b[0m\u001b[0mload\u001b[0m\u001b[0;34m(\u001b[0m\u001b[0mfilename\u001b[0m\u001b[0;34m)\u001b[0m\u001b[0;34m\u001b[0m\u001b[0m\n\u001b[0m\u001b[1;32m     19\u001b[0m         \u001b[0mself\u001b[0m\u001b[0;34m.\u001b[0m\u001b[0msection_map\u001b[0m \u001b[0;34m=\u001b[0m \u001b[0;34m{\u001b[0m\u001b[0;34m}\u001b[0m\u001b[0;34m\u001b[0m\u001b[0m\n\u001b[1;32m     20\u001b[0m \u001b[0;34m\u001b[0m\u001b[0m\n",
        "\u001b[0;32m/Users/iain/Code/py/cochrane-nlp/cochrane-nlp/xmlbase.pyc\u001b[0m in \u001b[0;36mload\u001b[0;34m(self, filename)\u001b[0m\n\u001b[1;32m     20\u001b[0m \u001b[0;34m\u001b[0m\u001b[0m\n\u001b[1;32m     21\u001b[0m     \u001b[0;32mdef\u001b[0m \u001b[0mload\u001b[0m\u001b[0;34m(\u001b[0m\u001b[0mself\u001b[0m\u001b[0;34m,\u001b[0m \u001b[0mfilename\u001b[0m\u001b[0;34m)\u001b[0m\u001b[0;34m:\u001b[0m\u001b[0;34m\u001b[0m\u001b[0m\n\u001b[0;32m---> 22\u001b[0;31m         \u001b[0;32mreturn\u001b[0m \u001b[0mET\u001b[0m\u001b[0;34m.\u001b[0m\u001b[0mparse\u001b[0m\u001b[0;34m(\u001b[0m\u001b[0mfilename\u001b[0m\u001b[0;34m)\u001b[0m\u001b[0;34m\u001b[0m\u001b[0m\n\u001b[0m\u001b[1;32m     23\u001b[0m \u001b[0;34m\u001b[0m\u001b[0m\n\u001b[1;32m     24\u001b[0m     \u001b[0;32mdef\u001b[0m \u001b[0m_ET2unicode\u001b[0m\u001b[0;34m(\u001b[0m\u001b[0mself\u001b[0m\u001b[0;34m,\u001b[0m \u001b[0mET_instance\u001b[0m\u001b[0;34m)\u001b[0m\u001b[0;34m:\u001b[0m\u001b[0;34m\u001b[0m\u001b[0m\n",
        "\u001b[0;32m<string>\u001b[0m in \u001b[0;36mparse\u001b[0;34m(source, parser)\u001b[0m\n",
        "\u001b[0;32m<string>\u001b[0m in \u001b[0;36mparse\u001b[0;34m(self, source, parser)\u001b[0m\n",
        "\u001b[0;31mKeyboardInterrupt\u001b[0m: "
       ]
      }
     ],
     "prompt_number": 5
    },
    {
     "cell_type": "code",
     "collapsed": false,
     "input": [
      "done = []\n",
      "with open(\"data/domain_names.txt\", \"rb\") as f:\n",
      "    for l in f:\n",
      "        if l:\n",
      "            done.append(l.strip())\n",
      "done = set(done)\n",
      "    \n",
      "    "
     ],
     "language": "python",
     "metadata": {},
     "outputs": [],
     "prompt_number": 5
    },
    {
     "cell_type": "code",
     "collapsed": false,
     "input": [
      "domain_names = list(set(domain_names)-set(done))"
     ],
     "language": "python",
     "metadata": {},
     "outputs": [],
     "prompt_number": 6
    },
    {
     "cell_type": "code",
     "collapsed": false,
     "input": [
      "with open(\"domain_names2.txt\", \"wb\") as f:\n",
      "    f.write('\\n'.join(domain_names))"
     ],
     "language": "python",
     "metadata": {},
     "outputs": [],
     "prompt_number": 7
    },
    {
     "cell_type": "code",
     "collapsed": false,
     "input": [],
     "language": "python",
     "metadata": {},
     "outputs": []
    }
   ],
   "metadata": {}
  }
 ]
}