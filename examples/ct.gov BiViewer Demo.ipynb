{
 "cells": [
  {
   "cell_type": "markdown",
   "metadata": {},
   "source": [
    "# ct.gov BiViewer Demo\n",
    "\n",
    "This notebook attempts to make viewing a ct.gov entry and its full-text PDF easy for the purposes of data exploration. Scroll down to the section *Pop Open XML Files for Both Pubmed and `ct.gov` in a Web Browser* for the functionality.\n",
    "\n",
    "That section's code operates as follows:\n",
    "\n",
    "- Get an instance of `biviewer.ClinicalTrialsBiViewer`\n",
    "- Get a study\n",
    "- Extract the pmid and nct IDs\n",
    "- Pop open a web browser with the following two tabs:\n",
    "    - The `ct.gov` entry\n",
    "    - The pubmed page for the full-text pdf"
   ]
  },
  {
   "cell_type": "markdown",
   "metadata": {},
   "source": [
    "### Play Around with Cochrane"
   ]
  },
  {
   "cell_type": "code",
   "execution_count": 5,
   "metadata": {
    "collapsed": false
   },
   "outputs": [],
   "source": [
    "from cochranenlp.readers import biviewer\n",
    "\n",
    "p = biviewer.PDFBiViewer()"
   ]
  },
  {
   "cell_type": "code",
   "execution_count": 16,
   "metadata": {
    "collapsed": true
   },
   "outputs": [],
   "source": [
    "def cochranes(p):\n",
    "    for i in range(100000):\n",
    "        yield p[i].cochrane['CHARACTERISTICS']\n",
    "        \n",
    "cochrane = cochranes(p)"
   ]
  },
  {
   "cell_type": "code",
   "execution_count": 59,
   "metadata": {
    "collapsed": false
   },
   "outputs": [
    {
     "data": {
      "text/plain": [
       "{'CHAR_INTERVENTIONS': 'Participants were randomly assigned to two groups. \\n Group 1: IPC (n = 50), 10 minutes of clamping. \\n Group 2: No IPC (n = 51).',\n",
       " 'CHAR_METHODS': 'Randomised clinical trial \\n Generation of the allocation sequence: computer generated (adequate). Allocation concealment: sealed envelope technique (adequate). Blinding: inadequate. Incomplete outcome data addressed: yes. Free of selective reporting: yes. Free from baseline imbalance: yes. Free from early stopping bias: yes. Free from bias due to blocked randomisation: yes.',\n",
       " 'CHAR_NOTES': '',\n",
       " 'CHAR_OUTCOMES': 'The outcomes reported were mortality, morbidity, IPF, PGNF, re-transplantation, ITU stay, hospital stay, and liver function tests.',\n",
       " 'CHAR_PARTICIPANTS': 'Country: USA. Number randomised: 101. Donor mean age: 46 years. Recipient mean age: 53 years. Donor females: 41 (40.6%). Recipient females: 24 (23.8%). Living or cadaveric donors: cadaveric. \\n Inclusion criteria \\n \\n Cadaveric donors. \\n Adult recipients ( > 18 years). \\n \\n Exclusion criteria \\n \\n combined liver and intestine donors.  \\n Cardiac non-beating donors. \\n Livers from other organ networks. \\n Reduced size livers.'}"
      ]
     },
     "execution_count": 59,
     "metadata": {},
     "output_type": "execute_result"
    }
   ],
   "source": [
    "next(cochrane)"
   ]
  },
  {
   "cell_type": "markdown",
   "metadata": {},
   "source": [
    "### Pubmed Viewer"
   ]
  },
  {
   "cell_type": "code",
   "execution_count": 79,
   "metadata": {
    "collapsed": false
   },
   "outputs": [],
   "source": [
    "from collections import namedtuple\n",
    "from cochranenlp.readers import biviewer\n",
    "\n",
    "Pubmed_Info = namedtuple('Pubmed_Info', ['abstract', 'language', 'linkedIds', 'mesh', 'pmid', 'title', 'filename'])\n",
    "c = biviewer.ClinicalTrialsBiViewer()\n",
    "\n",
    "def pubmed_sections(study):\n",
    "    \"\"\"Yields all pubmed sections for a particular study\n",
    "    \n",
    "    Study is a BiViewer_View(clinicaltrials, pubmed) tuple\n",
    "    \n",
    "    \"\"\"\n",
    "    for section in dir(study.pubmed):\n",
    "        yield study.pubmed.text_filtered_all(section)\n",
    "        \n",
    "    yield study.pubmed.filename\n",
    "\n",
    "def pubmeds_generator(c, field):\n",
    "    \"\"\"Yields pubmed info for all studies\n",
    "    \n",
    "    c is a biviewer.ClinicalTrialsBiViewer\n",
    "    \n",
    "    This generator is not meant to be exhausted. Rather it is meant to be called one-by-one with next()\n",
    "    \n",
    "    \"\"\"\n",
    "    for i in range(1000):\n",
    "        study = c[i]\n",
    "        \n",
    "        pi = Pubmed_Info(*pubmed_sections(study))\n",
    "        \n",
    "        yield pi._asdict()[field]"
   ]
  },
  {
   "cell_type": "markdown",
   "metadata": {},
   "source": [
    "### `ct.gov` Viewer"
   ]
  },
  {
   "cell_type": "code",
   "execution_count": 105,
   "metadata": {
    "collapsed": true
   },
   "outputs": [],
   "source": [
    "from collections import namedtuple\n",
    "from cochranenlp.readers import biviewer\n",
    "\n",
    "CT_Info = namedtuple('CT_Info',\n",
    "                         ['arms',\n",
    "                          'design',\n",
    "                          'interventions',\n",
    "                          'nct_id',\n",
    "                          'num_arms',\n",
    "                          'outcomes',\n",
    "                          'pmids',\n",
    "                          'population',\n",
    "                          'resultspmids',\n",
    "                          'title',\n",
    "                          'filename'])\n",
    "\n",
    "c = biviewer.ClinicalTrialsBiViewer()\n",
    "\n",
    "def ct_sections(study):\n",
    "    \"\"\"Yields all ct.gov sections for a particular study\n",
    "    \n",
    "    Study is a BiViewer_View(clinicaltrials, pubmed) tuple\n",
    "    \n",
    "    \"\"\"\n",
    "    for section in dir(study.clinicaltrials):\n",
    "        yield study.clinicaltrials.text_filtered_all(section)\n",
    "        \n",
    "    yield study.pubmed.filename\n",
    "\n",
    "def cts_generator(c, field):\n",
    "    \"\"\"Yields ct.gov info for all studies\n",
    "    \n",
    "    c is a biviewer.ClinicalTrialsBiViewer\n",
    "    \n",
    "    This generator is not meant to be exhausted. Rather it is meant to be called one-by-one with next()\n",
    "    \n",
    "    \"\"\"\n",
    "    for i in range(1000):\n",
    "        study = c[i]\n",
    "        \n",
    "        pi = CT_Info(*ct_sections(study))\n",
    "        \n",
    "        yield pi._asdict()[field]"
   ]
  },
  {
   "cell_type": "markdown",
   "metadata": {},
   "source": [
    "### Pop Open XML Files for Both Pubmed and `ct.gov` in a Web Browser"
   ]
  },
  {
   "cell_type": "code",
   "execution_count": 86,
   "metadata": {
    "collapsed": false
   },
   "outputs": [],
   "source": [
    "import random\n",
    "\n",
    "from collections import namedtuple\n",
    "from cochranenlp.readers import biviewer\n",
    "\n",
    "Pubmed_CT = namedtuple('CT_Info', ['pmid', 'outcomes'])\n",
    "\n",
    "c = biviewer.ClinicalTrialsBiViewer()\n",
    "\n",
    "\n",
    "def biviewer_generator(c, start=0, end=1000, rand=False):\n",
    "    \"\"\"Yields pops open Google Chrome on both XML pages for a pubmed and ct.gov study\n",
    "    \n",
    "    c is a biviewer.ClinicalTrialsBiViewer\n",
    "    \n",
    "    This generator is not meant to be exhausted. Rather it is meant to be called one-by-one with next()\n",
    "    \n",
    "    \"\"\"\n",
    "    rand = random.randint(start, end) if not rand else rand\n",
    "    \n",
    "    for i in range(start, end):\n",
    "        study = c[i]\n",
    "        \n",
    "        pubmed, ct = study.pubmed, study.clinicaltrials\n",
    "        pmid = pubmed.text_filtered_all('pmid')[0]\n",
    "        nct_id = ct.text_filtered_all('nct_id')[0]\n",
    "        \n",
    "        pm_url = 'https://www.google.com/search?q=pmid+' + pmid + '&btnI=I' # I'm Feeling Lucky\n",
    "        ct_url = 'https://clinicaltrials.gov/show/' + nct_id\n",
    "        \n",
    "        !google-chrome \"{ct_url}\"\n",
    "        !google-chrome \"{pm_url}\"\n",
    "        \n",
    "        yield ct.text_filtered_all('outcomes')\n",
    "\n",
    "bg = biviewer_generator(c)"
   ]
  },
  {
   "cell_type": "code",
   "execution_count": 89,
   "metadata": {
    "collapsed": false
   },
   "outputs": [
    {
     "name": "stdout",
     "output_type": "stream",
     "text": [
      "Created new window in existing browser session.\n",
      "Created new window in existing browser session.\n"
     ]
    },
    {
     "data": {
      "text/plain": [
       "['Primary ',\n",
       " '         Number of Participants With an Immune Response to Tumor-specific and Non-tumor Specific Peptides During a Period of Immune Reconstitution ',\n",
       " \"         Immune response was defined as a percent specific lysis of >10% following challenge with peptide pulsed targets, or interferon gamma production following challenge with peptide pulsed targets >2-fold that found with no-peptide controls or a proliferation index >3.0. Tumor specific peptides: Ewings sarcoma Type 1: EF-1 (EWS/FLI-1)*SSSYGQQN/PSYDSVRRGA,Ewing's Sarcoma Type 2: EF-2 (EWS/FLI-2)* SSSYGQ/QSSLLAYNT, Alveolar rhabdomyosarcoma: PXFK (PAX3/FKHR)\\xe2\\x80\\xa0 TIGNGLSPQ/NSIRHNLSL. Non-tumor specific peptide:HPV16E7 MLDLQPETT-MET-9-THR. See protocol link module for additional information re: peptides. \",\n",
       " '         20 weeks post vaccination ',\n",
       " '         No ',\n",
       " '         ',\n",
       " '           ',\n",
       " '             Peptide Vaccine/Autologous T Cell Transplant/Indinavir Therapy ',\n",
       " '             Patients receive oral indinavir sulfate 350 mg/m^2 administered every 8 hours; maximum dose i.e. 800 mg every 8 hours; peptide pulsed dendritic cells 1 x 10^6 injection; harvested autologous T cells (minimum dose 1 x 10^6/kg will be thawed rapidly in 37 degree water bath and infused sequentially over 5-15 minutes. ',\n",
       " '           ',\n",
       " '         ',\n",
       " '         ',\n",
       " '           ',\n",
       " '             Number of Participants ',\n",
       " '             participants ',\n",
       " '             Number ',\n",
       " '             ',\n",
       " '               ',\n",
       " '                 ',\n",
       " '                   ',\n",
       " '                 ',\n",
       " '               ',\n",
       " '             ',\n",
       " '           ',\n",
       " '           ',\n",
       " '             Number of Participants With an Immune Response to Tumor-specific and Non-tumor Specific Peptides During a Period of Immune Reconstitution ',\n",
       " \"             Immune response was defined as a percent specific lysis of >10% following challenge with peptide pulsed targets, or interferon gamma production following challenge with peptide pulsed targets >2-fold that found with no-peptide controls or a proliferation index >3.0. Tumor specific peptides: Ewings sarcoma Type 1: EF-1 (EWS/FLI-1)*SSSYGQQN/PSYDSVRRGA,Ewing's Sarcoma Type 2: EF-2 (EWS/FLI-2)* SSSYGQ/QSSLLAYNT, Alveolar rhabdomyosarcoma: PXFK (PAX3/FKHR)\\xe2\\x80\\xa0 TIGNGLSPQ/NSIRHNLSL. Non-tumor specific peptide:HPV16E7 MLDLQPETT-MET-9-THR. See protocol link module for additional information re: peptides. \",\n",
       " '             Participants ',\n",
       " '             Number ',\n",
       " '             ',\n",
       " '               ',\n",
       " '                 Immune response to tumor specific peptides ',\n",
       " '                 ',\n",
       " '                   ',\n",
       " '                 ',\n",
       " '               ',\n",
       " '               ',\n",
       " '                 Immune response to non-tumor specific peptides']"
      ]
     },
     "execution_count": 89,
     "metadata": {},
     "output_type": "execute_result"
    }
   ],
   "source": [
    "outcomes = next(bg)\n",
    "\n",
    "outcomes[0].split('\\n')"
   ]
  }
 ],
 "metadata": {
  "kernelspec": {
   "display_name": "Python 2",
   "language": "python",
   "name": "python2"
  },
  "language_info": {
   "codemirror_mode": {
    "name": "ipython",
    "version": 2
   },
   "file_extension": ".py",
   "mimetype": "text/x-python",
   "name": "python",
   "nbconvert_exporter": "python",
   "pygments_lexer": "ipython2",
   "version": "2.7.10"
  }
 },
 "nbformat": 4,
 "nbformat_minor": 0
}
