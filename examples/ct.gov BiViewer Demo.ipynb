{
 "cells": [
  {
   "cell_type": "markdown",
   "metadata": {},
   "source": [
    "# ct.gov BiViewer Demo"
   ]
  },
  {
   "cell_type": "markdown",
   "metadata": {},
   "source": [
    "### Pop Open XML Files for Both Pubmed and `ct.gov` in a Web Browser"
   ]
  },
  {
   "cell_type": "code",
   "execution_count": 2,
   "metadata": {
    "collapsed": false,
    "scrolled": true
   },
   "outputs": [],
   "source": [
    "import random\n",
    "\n",
    "from collections import namedtuple\n",
    "from cochranenlp.readers import biviewer\n",
    "\n",
    "Pubmed_CT = namedtuple('CT_Info', ['pmid', 'outcomes'])\n",
    "\n",
    "c = biviewer.ClinicalTrialsBiViewer()\n",
    "\n",
    "\n",
    "def biviewer_generator(c, start=0, end=2171, rand=False, browser=False):\n",
    "    \"\"\"Yields pops open Google Chrome on both XML pages for a pubmed and ct.gov study\n",
    "    \n",
    "    c is a biviewer.ClinicalTrialsBiViewer\n",
    "    \n",
    "    This generator is not meant to be exhausted. Rather it is meant to be called one-by-one with next()\n",
    "    \n",
    "    \"\"\"\n",
    "    start = random.randint(start, end) if rand else start\n",
    "    print(start)\n",
    "    \n",
    "    for i in range(start, end):\n",
    "        study = c[i]\n",
    "        \n",
    "        pubmed, ct = study.pubmed, study.clinicaltrials\n",
    "        pmid = pubmed.text_filtered_all('pmid')[0]\n",
    "        nct_id = ct.text_filtered_all('nct_id')[0]\n",
    "        \n",
    "        pm_url = 'https://www.google.com/search?q=pmid+' + pmid + '&btnI=I' # I'm Feeling Lucky\n",
    "        ct_url = 'https://clinicaltrials.gov/show/' + nct_id\n",
    "        \n",
    "        if browser:\n",
    "            !google-chrome \"{ct_url}\"\n",
    "            !google-chrome \"{pm_url}\"\n",
    "            !google-chrome \"{ct.filename}\"\n",
    "        \n",
    "        yield study\n",
    "\n",
    "bg = biviewer_generator(c, rand=True, browser=True)"
   ]
  },
  {
   "cell_type": "code",
   "execution_count": 5,
   "metadata": {
    "collapsed": false
   },
   "outputs": [
    {
     "name": "stdout",
     "output_type": "stream",
     "text": [
      "Created new window in existing browser session.\n",
      "Created new window in existing browser session.\n",
      "Created new window in existing browser session.\n"
     ]
    }
   ],
   "source": [
    "c = biviewer.ClinicalTrialsBiViewer()\n",
    "\n",
    "study = c[1133]\n",
    "        \n",
    "pubmed, ct = study.pubmed, study.clinicaltrials\n",
    "pmid = pubmed.text_filtered_all('pmid')[0]\n",
    "nct_id = ct.text_filtered_all('nct_id')[0]\n",
    "\n",
    "pm_url = 'https://www.google.com/search?q=pmid+' + pmid + '&btnI=I' # I'm Feeling Lucky\n",
    "ct_url = 'https://clinicaltrials.gov/show/' + nct_id\n",
    "\n",
    "!google-chrome \"{ct_url}\"\n",
    "!google-chrome \"{pm_url}\"\n",
    "!google-chrome \"{ct.filename}\""
   ]
  },
  {
   "cell_type": "code",
   "execution_count": 6,
   "metadata": {
    "collapsed": false
   },
   "outputs": [
    {
     "data": {
      "text/plain": [
       "'23343061'"
      ]
     },
     "execution_count": 6,
     "metadata": {},
     "output_type": "execute_result"
    }
   ],
   "source": [
    "pmid"
   ]
  },
  {
   "cell_type": "code",
   "execution_count": 22,
   "metadata": {
    "collapsed": false
   },
   "outputs": [
    {
     "name": "stdout",
     "output_type": "stream",
     "text": [
      "1133\n",
      "Created new window in existing browser session.\n",
      "Created new window in existing browser session.\n",
      "Created new window in existing browser session.\n"
     ]
    },
    {
     "data": {
      "text/plain": [
       "BiViewer_View(clinicaltrials=<cochranenlp.readers.clinicaltrials.Reader instance at 0x7ff5d176b2d8>, pubmed=<cochranenlp.readers.pmreader.PubmedCorpusReader instance at 0x7ff5d0b06a70>)"
      ]
     },
     "execution_count": 22,
     "metadata": {},
     "output_type": "execute_result"
    }
   ],
   "source": [
    "next(bg)"
   ]
  }
 ],
 "metadata": {
  "kernelspec": {
   "display_name": "Python 2",
   "language": "python",
   "name": "python2"
  },
  "language_info": {
   "codemirror_mode": {
    "name": "ipython",
    "version": 2
   },
   "file_extension": ".py",
   "mimetype": "text/x-python",
   "name": "python",
   "nbconvert_exporter": "python",
   "pygments_lexer": "ipython2",
   "version": "2.7.11"
  }
 },
 "nbformat": 4,
 "nbformat_minor": 0
}
